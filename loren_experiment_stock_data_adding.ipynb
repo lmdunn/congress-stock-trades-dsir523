{
 "cells": [
  {
   "cell_type": "code",
   "execution_count": 116,
   "id": "fe0c1a66-2c79-4188-8095-c51369bc27b7",
   "metadata": {},
   "outputs": [],
   "source": [
    "import pandas as pd\n",
    "# import numpy as np\n",
    "import requests as req\n",
    "import sys\n",
    "import time\n",
    "# pip install holidays if you don't have the package already\n",
    "import holidays\n",
    "from datetime import datetime\n",
    "from datetime import timedelta\n",
    "# change the following filepath, file, and key name to your own\n",
    "sys.path.insert(0, '../../API_Keys/')\n",
    "from vantage_api import alpha_vantage_key"
   ]
  },
  {
   "cell_type": "code",
   "execution_count": 2,
   "id": "81d52c77-2a36-4009-bc57-a56cbe818ea3",
   "metadata": {},
   "outputs": [],
   "source": [
    "#below, be sure to change the name of 'apikey' to your key's name\n",
    "def pull_all_stocks(df):\n",
    "    stock_dict = {}\n",
    "    for ticker in list(df['ticker'].unique()):\n",
    "        json = req.get(url = \"https://www.alphavantage.co/query\",\n",
    "                  params = {\n",
    "                      'function': 'TIME_SERIES_DAILY',\n",
    "                      'outputsize': 'full',\n",
    "                      'symbol': ticker,\n",
    "                      'apikey':alpha_vantage_key #change the name of the key to your key name\n",
    "                  }).json()\n",
    "        ticker_df = pd.DataFrame(json['Time Series (Daily)']).T\n",
    "        ticker_df.rename(columns = {'1. open': 'open',\n",
    "                                 '2. high': 'high',\n",
    "                                 '3. low': 'low',\n",
    "                                 '4. close': 'close',\n",
    "                                 '5. volume': 'volume'}, inplace = True)\n",
    "        if ticker_df.shape[0] > 2500:\n",
    "            ticker_df = ticker_df.iloc[range(2500)] #Data beyond 2012 is unnecessary, this helps reduce file size\n",
    "        stock_dict[f'{ticker}'] = ticker_df\n",
    "        time.sleep(2) #Might need to be changed for long list of tickers\n",
    "    return stock_dict\n"
   ]
  },
  {
   "cell_type": "code",
   "execution_count": 5,
   "id": "455a2a55-58ae-41a0-b678-cfa40832c4cf",
   "metadata": {},
   "outputs": [],
   "source": [
    "reps = pd.read_csv('data/cleaned_complete_congress_data.csv')"
   ]
  },
  {
   "cell_type": "code",
   "execution_count": 9,
   "id": "10f310d5-8c96-4e83-aa71-db57cd3225cd",
   "metadata": {},
   "outputs": [
    {
     "data": {
      "text/html": [
       "<div>\n",
       "<style scoped>\n",
       "    .dataframe tbody tr th:only-of-type {\n",
       "        vertical-align: middle;\n",
       "    }\n",
       "\n",
       "    .dataframe tbody tr th {\n",
       "        vertical-align: top;\n",
       "    }\n",
       "\n",
       "    .dataframe thead th {\n",
       "        text-align: right;\n",
       "    }\n",
       "</style>\n",
       "<table border=\"1\" class=\"dataframe\">\n",
       "  <thead>\n",
       "    <tr style=\"text-align: right;\">\n",
       "      <th></th>\n",
       "      <th>transaction_date</th>\n",
       "      <th>ticker</th>\n",
       "      <th>asset_description</th>\n",
       "      <th>type</th>\n",
       "      <th>amount</th>\n",
       "      <th>name</th>\n",
       "      <th>disclosure_date</th>\n",
       "      <th>chamber</th>\n",
       "      <th>first_name</th>\n",
       "      <th>last_name</th>\n",
       "      <th>party</th>\n",
       "      <th>birthday</th>\n",
       "      <th>gender</th>\n",
       "      <th>represents</th>\n",
       "    </tr>\n",
       "  </thead>\n",
       "  <tbody>\n",
       "    <tr>\n",
       "      <th>0</th>\n",
       "      <td>2022-06-03</td>\n",
       "      <td>WFC</td>\n",
       "      <td>Wells Fargo Company</td>\n",
       "      <td>purchase</td>\n",
       "      <td>15000</td>\n",
       "      <td>A. Mitchell Mcconnell</td>\n",
       "      <td>2022-06-13</td>\n",
       "      <td>senate</td>\n",
       "      <td>Mitchell</td>\n",
       "      <td>McConnell</td>\n",
       "      <td>Republican</td>\n",
       "      <td>1942-02-20</td>\n",
       "      <td>M</td>\n",
       "      <td>KY</td>\n",
       "    </tr>\n",
       "    <tr>\n",
       "      <th>1</th>\n",
       "      <td>2022-05-31</td>\n",
       "      <td>X</td>\n",
       "      <td>United States Steel Corporation &lt;div class=\"te...</td>\n",
       "      <td>sale_partial</td>\n",
       "      <td>50000</td>\n",
       "      <td>Thomas H Tuberville</td>\n",
       "      <td>2022-06-13</td>\n",
       "      <td>senate</td>\n",
       "      <td>Thomas</td>\n",
       "      <td>Tuberville</td>\n",
       "      <td>Republican</td>\n",
       "      <td>1954-09-18</td>\n",
       "      <td>M</td>\n",
       "      <td>AL</td>\n",
       "    </tr>\n",
       "    <tr>\n",
       "      <th>2</th>\n",
       "      <td>2022-05-31</td>\n",
       "      <td>X</td>\n",
       "      <td>United States Steel Corporation &lt;div class=\"te...</td>\n",
       "      <td>sale_full</td>\n",
       "      <td>50000</td>\n",
       "      <td>Thomas H Tuberville</td>\n",
       "      <td>2022-06-13</td>\n",
       "      <td>senate</td>\n",
       "      <td>Thomas</td>\n",
       "      <td>Tuberville</td>\n",
       "      <td>Republican</td>\n",
       "      <td>1954-09-18</td>\n",
       "      <td>M</td>\n",
       "      <td>AL</td>\n",
       "    </tr>\n",
       "    <tr>\n",
       "      <th>3</th>\n",
       "      <td>2022-05-31</td>\n",
       "      <td>X</td>\n",
       "      <td>United States Steel Corporation</td>\n",
       "      <td>purchase</td>\n",
       "      <td>250000</td>\n",
       "      <td>Thomas H Tuberville</td>\n",
       "      <td>2022-06-13</td>\n",
       "      <td>senate</td>\n",
       "      <td>Thomas</td>\n",
       "      <td>Tuberville</td>\n",
       "      <td>Republican</td>\n",
       "      <td>1954-09-18</td>\n",
       "      <td>M</td>\n",
       "      <td>AL</td>\n",
       "    </tr>\n",
       "    <tr>\n",
       "      <th>4</th>\n",
       "      <td>2022-05-20</td>\n",
       "      <td>PYPL</td>\n",
       "      <td>PayPal Holdings, Inc. -</td>\n",
       "      <td>purchase</td>\n",
       "      <td>100000</td>\n",
       "      <td>Thomas H Tuberville</td>\n",
       "      <td>2022-06-13</td>\n",
       "      <td>senate</td>\n",
       "      <td>Thomas</td>\n",
       "      <td>Tuberville</td>\n",
       "      <td>Republican</td>\n",
       "      <td>1954-09-18</td>\n",
       "      <td>M</td>\n",
       "      <td>AL</td>\n",
       "    </tr>\n",
       "  </tbody>\n",
       "</table>\n",
       "</div>"
      ],
      "text/plain": [
       "  transaction_date ticker                                  asset_description  \\\n",
       "0       2022-06-03    WFC                                Wells Fargo Company   \n",
       "1       2022-05-31      X  United States Steel Corporation <div class=\"te...   \n",
       "2       2022-05-31      X  United States Steel Corporation <div class=\"te...   \n",
       "3       2022-05-31      X                    United States Steel Corporation   \n",
       "4       2022-05-20   PYPL                            PayPal Holdings, Inc. -   \n",
       "\n",
       "           type  amount                   name disclosure_date chamber  \\\n",
       "0      purchase   15000  A. Mitchell Mcconnell      2022-06-13  senate   \n",
       "1  sale_partial   50000    Thomas H Tuberville      2022-06-13  senate   \n",
       "2     sale_full   50000    Thomas H Tuberville      2022-06-13  senate   \n",
       "3      purchase  250000    Thomas H Tuberville      2022-06-13  senate   \n",
       "4      purchase  100000    Thomas H Tuberville      2022-06-13  senate   \n",
       "\n",
       "  first_name   last_name       party    birthday gender represents  \n",
       "0   Mitchell   McConnell  Republican  1942-02-20      M         KY  \n",
       "1     Thomas  Tuberville  Republican  1954-09-18      M         AL  \n",
       "2     Thomas  Tuberville  Republican  1954-09-18      M         AL  \n",
       "3     Thomas  Tuberville  Republican  1954-09-18      M         AL  \n",
       "4     Thomas  Tuberville  Republican  1954-09-18      M         AL  "
      ]
     },
     "execution_count": 9,
     "metadata": {},
     "output_type": "execute_result"
    }
   ],
   "source": [
    "reps.head()"
   ]
  },
  {
   "cell_type": "code",
   "execution_count": 130,
   "id": "feccd1a4-c3c8-405a-aa2a-a211514054bb",
   "metadata": {},
   "outputs": [
    {
     "data": {
      "text/html": [
       "<div>\n",
       "<style scoped>\n",
       "    .dataframe tbody tr th:only-of-type {\n",
       "        vertical-align: middle;\n",
       "    }\n",
       "\n",
       "    .dataframe tbody tr th {\n",
       "        vertical-align: top;\n",
       "    }\n",
       "\n",
       "    .dataframe thead th {\n",
       "        text-align: right;\n",
       "    }\n",
       "</style>\n",
       "<table border=\"1\" class=\"dataframe\">\n",
       "  <thead>\n",
       "    <tr style=\"text-align: right;\">\n",
       "      <th></th>\n",
       "      <th>transaction_date</th>\n",
       "      <th>ticker</th>\n",
       "      <th>asset_description</th>\n",
       "      <th>type</th>\n",
       "      <th>amount</th>\n",
       "      <th>name</th>\n",
       "      <th>disclosure_date</th>\n",
       "      <th>chamber</th>\n",
       "      <th>first_name</th>\n",
       "      <th>last_name</th>\n",
       "      <th>party</th>\n",
       "      <th>birthday</th>\n",
       "      <th>gender</th>\n",
       "      <th>represents</th>\n",
       "    </tr>\n",
       "  </thead>\n",
       "  <tbody>\n",
       "    <tr>\n",
       "      <th>0</th>\n",
       "      <td>2022-06-03</td>\n",
       "      <td>WFC</td>\n",
       "      <td>Wells Fargo Company</td>\n",
       "      <td>purchase</td>\n",
       "      <td>15000</td>\n",
       "      <td>A. Mitchell Mcconnell</td>\n",
       "      <td>2022-06-13</td>\n",
       "      <td>senate</td>\n",
       "      <td>Mitchell</td>\n",
       "      <td>McConnell</td>\n",
       "      <td>Republican</td>\n",
       "      <td>1942-02-20</td>\n",
       "      <td>M</td>\n",
       "      <td>KY</td>\n",
       "    </tr>\n",
       "    <tr>\n",
       "      <th>111</th>\n",
       "      <td>2022-03-03</td>\n",
       "      <td>WFC</td>\n",
       "      <td>Wells Fargo Company</td>\n",
       "      <td>purchase</td>\n",
       "      <td>15000</td>\n",
       "      <td>A. Mitchell Mcconnell</td>\n",
       "      <td>2022-03-14</td>\n",
       "      <td>senate</td>\n",
       "      <td>Mitchell</td>\n",
       "      <td>McConnell</td>\n",
       "      <td>Republican</td>\n",
       "      <td>1942-02-20</td>\n",
       "      <td>M</td>\n",
       "      <td>KY</td>\n",
       "    </tr>\n",
       "    <tr>\n",
       "      <th>355</th>\n",
       "      <td>2021-12-03</td>\n",
       "      <td>WFC</td>\n",
       "      <td>Wells Fargo Company</td>\n",
       "      <td>purchase</td>\n",
       "      <td>15000</td>\n",
       "      <td>A. Mitchell Mcconnell</td>\n",
       "      <td>2021-12-16</td>\n",
       "      <td>senate</td>\n",
       "      <td>Mitchell</td>\n",
       "      <td>McConnell</td>\n",
       "      <td>Republican</td>\n",
       "      <td>1942-02-20</td>\n",
       "      <td>M</td>\n",
       "      <td>KY</td>\n",
       "    </tr>\n",
       "    <tr>\n",
       "      <th>455</th>\n",
       "      <td>2021-09-03</td>\n",
       "      <td>WFC</td>\n",
       "      <td>WFC - Wells Fargo Company</td>\n",
       "      <td>purchase</td>\n",
       "      <td>15000</td>\n",
       "      <td>A. Mitchell Mcconnell</td>\n",
       "      <td>2021-09-15</td>\n",
       "      <td>senate</td>\n",
       "      <td>Mitchell</td>\n",
       "      <td>McConnell</td>\n",
       "      <td>Republican</td>\n",
       "      <td>1942-02-20</td>\n",
       "      <td>M</td>\n",
       "      <td>KY</td>\n",
       "    </tr>\n",
       "    <tr>\n",
       "      <th>669</th>\n",
       "      <td>2021-06-03</td>\n",
       "      <td>WFC</td>\n",
       "      <td>Wells Fargo Company</td>\n",
       "      <td>purchase</td>\n",
       "      <td>15000</td>\n",
       "      <td>A. Mitchell Mcconnell</td>\n",
       "      <td>2021-06-07</td>\n",
       "      <td>senate</td>\n",
       "      <td>Mitchell</td>\n",
       "      <td>McConnell</td>\n",
       "      <td>Republican</td>\n",
       "      <td>1942-02-20</td>\n",
       "      <td>M</td>\n",
       "      <td>KY</td>\n",
       "    </tr>\n",
       "  </tbody>\n",
       "</table>\n",
       "</div>"
      ],
      "text/plain": [
       "    transaction_date ticker          asset_description      type  amount  \\\n",
       "0         2022-06-03    WFC        Wells Fargo Company  purchase   15000   \n",
       "111       2022-03-03    WFC        Wells Fargo Company  purchase   15000   \n",
       "355       2021-12-03    WFC        Wells Fargo Company  purchase   15000   \n",
       "455       2021-09-03    WFC  WFC - Wells Fargo Company  purchase   15000   \n",
       "669       2021-06-03    WFC        Wells Fargo Company  purchase   15000   \n",
       "\n",
       "                      name disclosure_date chamber first_name  last_name  \\\n",
       "0    A. Mitchell Mcconnell      2022-06-13  senate   Mitchell  McConnell   \n",
       "111  A. Mitchell Mcconnell      2022-03-14  senate   Mitchell  McConnell   \n",
       "355  A. Mitchell Mcconnell      2021-12-16  senate   Mitchell  McConnell   \n",
       "455  A. Mitchell Mcconnell      2021-09-15  senate   Mitchell  McConnell   \n",
       "669  A. Mitchell Mcconnell      2021-06-07  senate   Mitchell  McConnell   \n",
       "\n",
       "          party    birthday gender represents  \n",
       "0    Republican  1942-02-20      M         KY  \n",
       "111  Republican  1942-02-20      M         KY  \n",
       "355  Republican  1942-02-20      M         KY  \n",
       "455  Republican  1942-02-20      M         KY  \n",
       "669  Republican  1942-02-20      M         KY  "
      ]
     },
     "execution_count": 130,
     "metadata": {},
     "output_type": "execute_result"
    }
   ],
   "source": [
    "mcconnell = reps[reps['last_name'] == 'McConnell']\n",
    "mcconnell.head()"
   ]
  },
  {
   "cell_type": "code",
   "execution_count": 110,
   "id": "0942ba7d-f253-4c27-8c19-c19bf10e24e0",
   "metadata": {},
   "outputs": [
    {
     "data": {
      "text/plain": [
       "(23, 14)"
      ]
     },
     "execution_count": 110,
     "metadata": {},
     "output_type": "execute_result"
    }
   ],
   "source": [
    "mcconnell.shape"
   ]
  },
  {
   "cell_type": "code",
   "execution_count": null,
   "id": "fc844830-0e26-4c59-91be-6612754e579f",
   "metadata": {},
   "outputs": [],
   "source": [
    "stocks = pd.DataFrame(columns = ['ticker','daily_time_series'])\n",
    "time_series_df.set_index('ticker', inplace = True)"
   ]
  },
  {
   "cell_type": "code",
   "execution_count": 12,
   "id": "878bf315-922f-4284-bf25-17b2745a72fd",
   "metadata": {},
   "outputs": [],
   "source": [
    "test = pull_all_stocks(mcconnell)"
   ]
  },
  {
   "cell_type": "code",
   "execution_count": 13,
   "id": "0aaa5e1f-5299-4eb1-9989-1f12bcaf166b",
   "metadata": {},
   "outputs": [
    {
     "data": {
      "text/plain": [
       "{'WFC':                open     high      low    close    volume\n",
       " 2022-07-22  43.1700  43.5300  42.6900  43.1700  15965371\n",
       " 2022-07-21  42.4800  43.3700  42.2800  43.2800  17808953\n",
       " 2022-07-20  42.5400  43.0250  42.3550  42.7200  19111193\n",
       " 2022-07-19  41.8800  43.0700  41.7450  42.9000  25724214\n",
       " 2022-07-18  41.9300  42.7900  41.0200  41.1900  17991317\n",
       " ...             ...      ...      ...      ...       ...\n",
       " 2012-08-21  34.2400  34.7600  34.1000  34.3800  25280400\n",
       " 2012-08-20  34.0300  34.2000  33.9800  34.0700  18147600\n",
       " 2012-08-17  34.2500  34.3000  33.9600  34.0300  16927000\n",
       " 2012-08-16  34.1200  34.2000  33.7800  34.1300  19596400\n",
       " 2012-08-15  34.0100  34.1800  33.8300  33.9700  13766800\n",
       " \n",
       " [2500 rows x 5 columns],\n",
       " 'VMC':                 open      high       low     close  volume\n",
       " 2022-07-22  157.1600  157.8200  154.1300  155.6500  480375\n",
       " 2022-07-21  153.8600  156.6500  153.1450  156.4600  592335\n",
       " 2022-07-20  151.5200  154.7800  151.5200  154.5800  632510\n",
       " 2022-07-19  150.6100  152.8500  149.5700  152.5700  414225\n",
       " 2022-07-18  149.4800  150.5200  147.8050  148.4000  406038\n",
       " ...              ...       ...       ...       ...     ...\n",
       " 2012-08-21   40.4500   40.7900   39.8700   40.0800  415100\n",
       " 2012-08-20   40.2700   40.5700   39.6000   40.4000  432700\n",
       " 2012-08-17   40.0200   41.2000   39.9800   40.4000  631500\n",
       " 2012-08-16   39.1800   40.0000   39.1400   39.8200  344100\n",
       " 2012-08-15   39.1300   39.2200   38.3900   39.1400  410400\n",
       " \n",
       " [2500 rows x 5 columns],\n",
       " 'IR':                open     high      low    close    volume\n",
       " 2022-07-22  45.0000  45.1900  44.1800  44.5400   2200156\n",
       " 2022-07-21  44.0700  44.9900  43.7300  44.9600   1633376\n",
       " 2022-07-20  43.2900  44.2400  43.1400  44.0700   2715744\n",
       " 2022-07-19  41.8300  43.8100  41.8300  43.2700   4499483\n",
       " 2022-07-18  41.5000  42.1600  40.9200  41.2200   3052687\n",
       " ...             ...      ...      ...      ...       ...\n",
       " 2017-05-18  22.1900  23.6300  21.9800  22.5000   4075173\n",
       " 2017-05-17  22.1500  22.5100  21.6700  22.1000   1583699\n",
       " 2017-05-16  22.1900  22.4100  22.0500  22.1000   1289339\n",
       " 2017-05-15  21.0100  22.3000  21.0100  22.0200   3487278\n",
       " 2017-05-12  21.2500  21.3000  20.2700  21.1000  10933718\n",
       " \n",
       " [1308 rows x 5 columns]}"
      ]
     },
     "execution_count": 13,
     "metadata": {},
     "output_type": "execute_result"
    }
   ],
   "source": [
    "test"
   ]
  },
  {
   "cell_type": "code",
   "execution_count": 48,
   "id": "5dbac919-886f-4495-9753-d6521203dd07",
   "metadata": {},
   "outputs": [
    {
     "data": {
      "text/plain": [
       "open           45.00\n",
       "high           45.19\n",
       "low            44.18\n",
       "close          44.54\n",
       "volume    2200156.00\n",
       "Name: 2022-07-22, dtype: float64"
      ]
     },
     "execution_count": 48,
     "metadata": {},
     "output_type": "execute_result"
    }
   ],
   "source": [
    "test['IR'].loc['2022-07-22'].astype(float)"
   ]
  },
  {
   "cell_type": "code",
   "execution_count": 57,
   "id": "20083339-d378-41e9-8032-40d5c8adf2b3",
   "metadata": {},
   "outputs": [
    {
     "data": {
      "text/html": [
       "<div>\n",
       "<style scoped>\n",
       "    .dataframe tbody tr th:only-of-type {\n",
       "        vertical-align: middle;\n",
       "    }\n",
       "\n",
       "    .dataframe tbody tr th {\n",
       "        vertical-align: top;\n",
       "    }\n",
       "\n",
       "    .dataframe thead th {\n",
       "        text-align: right;\n",
       "    }\n",
       "</style>\n",
       "<table border=\"1\" class=\"dataframe\">\n",
       "  <thead>\n",
       "    <tr style=\"text-align: right;\">\n",
       "      <th></th>\n",
       "      <th>transaction_date</th>\n",
       "      <th>ticker</th>\n",
       "      <th>asset_description</th>\n",
       "      <th>type</th>\n",
       "      <th>amount</th>\n",
       "      <th>name</th>\n",
       "      <th>disclosure_date</th>\n",
       "      <th>chamber</th>\n",
       "      <th>first_name</th>\n",
       "      <th>last_name</th>\n",
       "      <th>party</th>\n",
       "      <th>birthday</th>\n",
       "      <th>gender</th>\n",
       "      <th>represents</th>\n",
       "      <th>price</th>\n",
       "    </tr>\n",
       "  </thead>\n",
       "  <tbody>\n",
       "    <tr>\n",
       "      <th>2388</th>\n",
       "      <td>2019-09-01</td>\n",
       "      <td>WFC</td>\n",
       "      <td>Wells Fargo Company</td>\n",
       "      <td>purchase</td>\n",
       "      <td>15000</td>\n",
       "      <td>A. Mitchell Mcconnell</td>\n",
       "      <td>2019-09-16</td>\n",
       "      <td>senate</td>\n",
       "      <td>Mitchell</td>\n",
       "      <td>McConnell</td>\n",
       "      <td>Republican</td>\n",
       "      <td>1942-02-20</td>\n",
       "      <td>M</td>\n",
       "      <td>KY</td>\n",
       "      <td>NaN</td>\n",
       "    </tr>\n",
       "  </tbody>\n",
       "</table>\n",
       "</div>"
      ],
      "text/plain": [
       "     transaction_date ticker    asset_description      type  amount  \\\n",
       "2388       2019-09-01    WFC  Wells Fargo Company  purchase   15000   \n",
       "\n",
       "                       name disclosure_date chamber first_name  last_name  \\\n",
       "2388  A. Mitchell Mcconnell      2019-09-16  senate   Mitchell  McConnell   \n",
       "\n",
       "           party    birthday gender represents  price  \n",
       "2388  Republican  1942-02-20      M         KY    NaN  "
      ]
     },
     "execution_count": 57,
     "metadata": {},
     "output_type": "execute_result"
    }
   ],
   "source": [
    "mcconnell[mcconnell['transaction_date'] == '2019-09-01']"
   ]
  },
  {
   "cell_type": "code",
   "execution_count": 60,
   "id": "a43f3263-af96-42dd-996b-212b8b972b2e",
   "metadata": {},
   "outputs": [
    {
     "data": {
      "text/plain": [
       "open       34.2400\n",
       "high       34.7600\n",
       "low        34.1000\n",
       "close      34.3800\n",
       "volume    25280400\n",
       "Name: 2012-08-21, dtype: object"
      ]
     },
     "execution_count": 60,
     "metadata": {},
     "output_type": "execute_result"
    }
   ],
   "source": [
    "test['WFC'].loc['2012-08-21']"
   ]
  },
  {
   "cell_type": "markdown",
   "id": "0873793a-2f82-4f44-b689-c2d8b4b547e1",
   "metadata": {},
   "source": [
    "# Transaction Date = Day Market Was Closed\n",
    "I discovered there are dates that are in the DF that the market wasn't open, specifically 2019-09-01. building a try except now. [This stackoverflow](https://stackoverflow.com/a/61964191) helped with setting up the try/except. [This medium article](https://medium.com/analytics-vidhya/python-how-to-automate-bank-holidays-767de0d42d44) showed how us the holidays module. [This article](https://www.geeksforgeeks.org/python-holidays-library/) helped understand how to use it. [This](https://pynative.com/python-get-the-day-of-week/) showed how to get day of week to check if saturday or sunday so we can adjust day of transaction accordingly.\n",
    "\n",
    "WRINKLE --> long weekends. gotta write for that eventuality.\n",
    "\n",
    "We presume the holiday transaction date means that the orders were executed the next market day."
   ]
  },
  {
   "cell_type": "code",
   "execution_count": null,
   "id": "930ade29-5279-4a54-8f47-955a04a7650f",
   "metadata": {},
   "outputs": [],
   "source": [
    "#for example, this doesn't exist because 2019-09-1 was a Sunday so the market wasn't open\n",
    "#test['WFC'].loc['2019-09-01']"
   ]
  },
  {
   "cell_type": "code",
   "execution_count": 88,
   "id": "0d6a8ae2-60a5-4576-b6c8-a2aeba9cd578",
   "metadata": {},
   "outputs": [
    {
     "data": {
      "text/plain": [
       "module"
      ]
     },
     "execution_count": 88,
     "metadata": {},
     "output_type": "execute_result"
    }
   ],
   "source": [
    "us_holidays = holidays.UnitedStates()\n",
    "type(holidays)"
   ]
  },
  {
   "cell_type": "code",
   "execution_count": 91,
   "id": "4226996d-69d3-46fc-8394-56d42b8b86c0",
   "metadata": {},
   "outputs": [
    {
     "data": {
      "text/plain": [
       "True"
      ]
     },
     "execution_count": 91,
     "metadata": {},
     "output_type": "execute_result"
    }
   ],
   "source": [
    "'2019-01-01' in us_holidays"
   ]
  },
  {
   "cell_type": "code",
   "execution_count": null,
   "id": "6b1e2fd9-c7a6-4c4b-96c2-d5ae26ba84e1",
   "metadata": {},
   "outputs": [],
   "source": []
  },
  {
   "cell_type": "code",
   "execution_count": 87,
   "id": "cb75dfba-f345-4a68-8e72-02fe41b7e318",
   "metadata": {},
   "outputs": [
    {
     "data": {
      "text/plain": [
       "dict_items([(datetime.date(2019, 1, 1), \"New Year's Day\"), (datetime.date(2019, 1, 21), 'Martin Luther King Jr. Day'), (datetime.date(2019, 2, 18), \"Washington's Birthday\"), (datetime.date(2019, 5, 27), 'Memorial Day'), (datetime.date(2019, 7, 4), 'Independence Day'), (datetime.date(2019, 9, 2), 'Labor Day'), (datetime.date(2019, 10, 14), 'Columbus Day'), (datetime.date(2019, 11, 11), 'Veterans Day'), (datetime.date(2019, 11, 28), 'Thanksgiving'), (datetime.date(2019, 12, 25), 'Christmas Day')])"
      ]
     },
     "execution_count": 87,
     "metadata": {},
     "output_type": "execute_result"
    }
   ],
   "source": [
    "us_holidays.items()"
   ]
  },
  {
   "cell_type": "code",
   "execution_count": 78,
   "id": "bc9a8411-1778-4461-b7c8-b210b90af6ec",
   "metadata": {},
   "outputs": [
    {
     "data": {
      "text/html": [
       "<div>\n",
       "<style scoped>\n",
       "    .dataframe tbody tr th:only-of-type {\n",
       "        vertical-align: middle;\n",
       "    }\n",
       "\n",
       "    .dataframe tbody tr th {\n",
       "        vertical-align: top;\n",
       "    }\n",
       "\n",
       "    .dataframe thead th {\n",
       "        text-align: right;\n",
       "    }\n",
       "</style>\n",
       "<table border=\"1\" class=\"dataframe\">\n",
       "  <thead>\n",
       "    <tr style=\"text-align: right;\">\n",
       "      <th></th>\n",
       "    </tr>\n",
       "  </thead>\n",
       "  <tbody>\n",
       "  </tbody>\n",
       "</table>\n",
       "</div>"
      ],
      "text/plain": [
       "Empty DataFrame\n",
       "Columns: []\n",
       "Index: []"
      ]
     },
     "execution_count": 78,
     "metadata": {},
     "output_type": "execute_result"
    }
   ],
   "source": [
    "pd.DataFrame(usholidays)"
   ]
  },
  {
   "cell_type": "code",
   "execution_count": 105,
   "id": "19b5cb69-04c2-4c71-a4ba-f2f59ee9cfe0",
   "metadata": {},
   "outputs": [
    {
     "name": "stderr",
     "output_type": "stream",
     "text": [
      "/var/folders/5_/498w081d1837cc82dmb4hwmc0000gn/T/ipykernel_17438/267470481.py:1: SettingWithCopyWarning: \n",
      "A value is trying to be set on a copy of a slice from a DataFrame.\n",
      "Try using .loc[row_indexer,col_indexer] = value instead\n",
      "\n",
      "See the caveats in the documentation: https://pandas.pydata.org/pandas-docs/stable/user_guide/indexing.html#returning-a-view-versus-a-copy\n",
      "  mcconnell['transaction_date'] = mcconnell['transaction_date'].map(pd.to_datetime(mcconnell['transaction_date']))\n"
     ]
    }
   ],
   "source": [
    "# mcconnell['transaction_date'] = mcconnell['transaction_date'].map(pd.to_datetime(mcconnell['transaction_date']))\n",
    "                                          "
   ]
  },
  {
   "cell_type": "code",
   "execution_count": 111,
   "id": "f4587d79-2ead-45db-835e-e2dab83ed401",
   "metadata": {},
   "outputs": [
    {
     "data": {
      "text/plain": [
       "transaction_date     object\n",
       "ticker               object\n",
       "asset_description    object\n",
       "type                 object\n",
       "amount                int64\n",
       "name                 object\n",
       "disclosure_date      object\n",
       "chamber              object\n",
       "first_name           object\n",
       "last_name            object\n",
       "party                object\n",
       "birthday             object\n",
       "gender               object\n",
       "represents           object\n",
       "dtype: object"
      ]
     },
     "execution_count": 111,
     "metadata": {},
     "output_type": "execute_result"
    }
   ],
   "source": [
    "mcconnell.dtypes"
   ]
  },
  {
   "cell_type": "code",
   "execution_count": 135,
   "id": "2b45496e-300a-485d-8990-72e187c7e9fa",
   "metadata": {},
   "outputs": [
    {
     "name": "stderr",
     "output_type": "stream",
     "text": [
      "/var/folders/5_/498w081d1837cc82dmb4hwmc0000gn/T/ipykernel_17438/913815542.py:7: SettingWithCopyWarning: \n",
      "A value is trying to be set on a copy of a slice from a DataFrame.\n",
      "Try using .loc[row_indexer,col_indexer] = value instead\n",
      "\n",
      "See the caveats in the documentation: https://pandas.pydata.org/pandas-docs/stable/user_guide/indexing.html#returning-a-view-versus-a-copy\n",
      "  mcconnell['trading_day'] = 1\n"
     ]
    },
    {
     "ename": "ValueError",
     "evalue": "invalid literal for int() with base 10: '2019-09-01'",
     "output_type": "error",
     "traceback": [
      "\u001b[0;31m---------------------------------------------------------------------------\u001b[0m",
      "\u001b[0;31mKeyError\u001b[0m                                  Traceback (most recent call last)",
      "File \u001b[0;32m~/opt/anaconda3/lib/python3.9/site-packages/pandas/core/indexes/base.py:3621\u001b[0m, in \u001b[0;36mIndex.get_loc\u001b[0;34m(self, key, method, tolerance)\u001b[0m\n\u001b[1;32m   3620\u001b[0m \u001b[38;5;28;01mtry\u001b[39;00m:\n\u001b[0;32m-> 3621\u001b[0m     \u001b[38;5;28;01mreturn\u001b[39;00m \u001b[38;5;28;43mself\u001b[39;49m\u001b[38;5;241;43m.\u001b[39;49m\u001b[43m_engine\u001b[49m\u001b[38;5;241;43m.\u001b[39;49m\u001b[43mget_loc\u001b[49m\u001b[43m(\u001b[49m\u001b[43mcasted_key\u001b[49m\u001b[43m)\u001b[49m\n\u001b[1;32m   3622\u001b[0m \u001b[38;5;28;01mexcept\u001b[39;00m \u001b[38;5;167;01mKeyError\u001b[39;00m \u001b[38;5;28;01mas\u001b[39;00m err:\n",
      "File \u001b[0;32m~/opt/anaconda3/lib/python3.9/site-packages/pandas/_libs/index.pyx:136\u001b[0m, in \u001b[0;36mpandas._libs.index.IndexEngine.get_loc\u001b[0;34m()\u001b[0m\n",
      "File \u001b[0;32m~/opt/anaconda3/lib/python3.9/site-packages/pandas/_libs/index.pyx:163\u001b[0m, in \u001b[0;36mpandas._libs.index.IndexEngine.get_loc\u001b[0;34m()\u001b[0m\n",
      "File \u001b[0;32mpandas/_libs/hashtable_class_helper.pxi:5198\u001b[0m, in \u001b[0;36mpandas._libs.hashtable.PyObjectHashTable.get_item\u001b[0;34m()\u001b[0m\n",
      "File \u001b[0;32mpandas/_libs/hashtable_class_helper.pxi:5206\u001b[0m, in \u001b[0;36mpandas._libs.hashtable.PyObjectHashTable.get_item\u001b[0;34m()\u001b[0m\n",
      "\u001b[0;31mKeyError\u001b[0m: '2019-09-01'",
      "\nThe above exception was the direct cause of the following exception:\n",
      "\u001b[0;31mKeyError\u001b[0m                                  Traceback (most recent call last)",
      "Input \u001b[0;32mIn [136]\u001b[0m, in \u001b[0;36m<cell line: 8>\u001b[0;34m()\u001b[0m\n\u001b[1;32m      9\u001b[0m \u001b[38;5;28;01mtry\u001b[39;00m:\n\u001b[0;32m---> 10\u001b[0m     mcconnell\u001b[38;5;241m.\u001b[39mloc[i, \u001b[38;5;124m'\u001b[39m\u001b[38;5;124mprice\u001b[39m\u001b[38;5;124m'\u001b[39m] \u001b[38;5;241m=\u001b[39m \u001b[43mtest\u001b[49m\u001b[43m[\u001b[49m\u001b[43mmcconnell\u001b[49m\u001b[38;5;241;43m.\u001b[39;49m\u001b[43mloc\u001b[49m\u001b[43m[\u001b[49m\u001b[43mi\u001b[49m\u001b[43m,\u001b[49m\u001b[43m \u001b[49m\u001b[38;5;124;43m'\u001b[39;49m\u001b[38;5;124;43mticker\u001b[39;49m\u001b[38;5;124;43m'\u001b[39;49m\u001b[43m]\u001b[49m\u001b[43m]\u001b[49m\u001b[38;5;241;43m.\u001b[39;49m\u001b[43mloc\u001b[49m\u001b[43m[\u001b[49m\u001b[43mmcconnell\u001b[49m\u001b[38;5;241;43m.\u001b[39;49m\u001b[43mloc\u001b[49m\u001b[43m[\u001b[49m\u001b[43mi\u001b[49m\u001b[43m,\u001b[49m\u001b[43m \u001b[49m\u001b[38;5;124;43m'\u001b[39;49m\u001b[38;5;124;43mtransaction_date\u001b[39;49m\u001b[38;5;124;43m'\u001b[39;49m\u001b[43m]\u001b[49m\u001b[43m]\u001b[49m\u001b[38;5;241m.\u001b[39mdrop(\u001b[38;5;124m'\u001b[39m\u001b[38;5;124mvolume\u001b[39m\u001b[38;5;124m'\u001b[39m)\u001b[38;5;241m.\u001b[39mastype(\u001b[38;5;28mfloat\u001b[39m)\u001b[38;5;241m.\u001b[39mmean()\n\u001b[1;32m     11\u001b[0m \u001b[38;5;28;01mexcept\u001b[39;00m:\n\u001b[1;32m     12\u001b[0m     \u001b[38;5;66;03m#trans_date = pd.to_datetime(mcconnell.loc[i, 'transaction_date'])\u001b[39;00m\n",
      "File \u001b[0;32m~/opt/anaconda3/lib/python3.9/site-packages/pandas/core/indexing.py:967\u001b[0m, in \u001b[0;36m_LocationIndexer.__getitem__\u001b[0;34m(self, key)\u001b[0m\n\u001b[1;32m    966\u001b[0m maybe_callable \u001b[38;5;241m=\u001b[39m com\u001b[38;5;241m.\u001b[39mapply_if_callable(key, \u001b[38;5;28mself\u001b[39m\u001b[38;5;241m.\u001b[39mobj)\n\u001b[0;32m--> 967\u001b[0m \u001b[38;5;28;01mreturn\u001b[39;00m \u001b[38;5;28;43mself\u001b[39;49m\u001b[38;5;241;43m.\u001b[39;49m\u001b[43m_getitem_axis\u001b[49m\u001b[43m(\u001b[49m\u001b[43mmaybe_callable\u001b[49m\u001b[43m,\u001b[49m\u001b[43m \u001b[49m\u001b[43maxis\u001b[49m\u001b[38;5;241;43m=\u001b[39;49m\u001b[43maxis\u001b[49m\u001b[43m)\u001b[49m\n",
      "File \u001b[0;32m~/opt/anaconda3/lib/python3.9/site-packages/pandas/core/indexing.py:1202\u001b[0m, in \u001b[0;36m_LocIndexer._getitem_axis\u001b[0;34m(self, key, axis)\u001b[0m\n\u001b[1;32m   1201\u001b[0m \u001b[38;5;28mself\u001b[39m\u001b[38;5;241m.\u001b[39m_validate_key(key, axis)\n\u001b[0;32m-> 1202\u001b[0m \u001b[38;5;28;01mreturn\u001b[39;00m \u001b[38;5;28;43mself\u001b[39;49m\u001b[38;5;241;43m.\u001b[39;49m\u001b[43m_get_label\u001b[49m\u001b[43m(\u001b[49m\u001b[43mkey\u001b[49m\u001b[43m,\u001b[49m\u001b[43m \u001b[49m\u001b[43maxis\u001b[49m\u001b[38;5;241;43m=\u001b[39;49m\u001b[43maxis\u001b[49m\u001b[43m)\u001b[49m\n",
      "File \u001b[0;32m~/opt/anaconda3/lib/python3.9/site-packages/pandas/core/indexing.py:1153\u001b[0m, in \u001b[0;36m_LocIndexer._get_label\u001b[0;34m(self, label, axis)\u001b[0m\n\u001b[1;32m   1151\u001b[0m \u001b[38;5;28;01mdef\u001b[39;00m \u001b[38;5;21m_get_label\u001b[39m(\u001b[38;5;28mself\u001b[39m, label, axis: \u001b[38;5;28mint\u001b[39m):\n\u001b[1;32m   1152\u001b[0m     \u001b[38;5;66;03m# GH#5667 this will fail if the label is not present in the axis.\u001b[39;00m\n\u001b[0;32m-> 1153\u001b[0m     \u001b[38;5;28;01mreturn\u001b[39;00m \u001b[38;5;28;43mself\u001b[39;49m\u001b[38;5;241;43m.\u001b[39;49m\u001b[43mobj\u001b[49m\u001b[38;5;241;43m.\u001b[39;49m\u001b[43mxs\u001b[49m\u001b[43m(\u001b[49m\u001b[43mlabel\u001b[49m\u001b[43m,\u001b[49m\u001b[43m \u001b[49m\u001b[43maxis\u001b[49m\u001b[38;5;241;43m=\u001b[39;49m\u001b[43maxis\u001b[49m\u001b[43m)\u001b[49m\n",
      "File \u001b[0;32m~/opt/anaconda3/lib/python3.9/site-packages/pandas/core/generic.py:3864\u001b[0m, in \u001b[0;36mNDFrame.xs\u001b[0;34m(self, key, axis, level, drop_level)\u001b[0m\n\u001b[1;32m   3863\u001b[0m \u001b[38;5;28;01melse\u001b[39;00m:\n\u001b[0;32m-> 3864\u001b[0m     loc \u001b[38;5;241m=\u001b[39m \u001b[43mindex\u001b[49m\u001b[38;5;241;43m.\u001b[39;49m\u001b[43mget_loc\u001b[49m\u001b[43m(\u001b[49m\u001b[43mkey\u001b[49m\u001b[43m)\u001b[49m\n\u001b[1;32m   3866\u001b[0m     \u001b[38;5;28;01mif\u001b[39;00m \u001b[38;5;28misinstance\u001b[39m(loc, np\u001b[38;5;241m.\u001b[39mndarray):\n",
      "File \u001b[0;32m~/opt/anaconda3/lib/python3.9/site-packages/pandas/core/indexes/base.py:3623\u001b[0m, in \u001b[0;36mIndex.get_loc\u001b[0;34m(self, key, method, tolerance)\u001b[0m\n\u001b[1;32m   3622\u001b[0m \u001b[38;5;28;01mexcept\u001b[39;00m \u001b[38;5;167;01mKeyError\u001b[39;00m \u001b[38;5;28;01mas\u001b[39;00m err:\n\u001b[0;32m-> 3623\u001b[0m     \u001b[38;5;28;01mraise\u001b[39;00m \u001b[38;5;167;01mKeyError\u001b[39;00m(key) \u001b[38;5;28;01mfrom\u001b[39;00m \u001b[38;5;21;01merr\u001b[39;00m\n\u001b[1;32m   3624\u001b[0m \u001b[38;5;28;01mexcept\u001b[39;00m \u001b[38;5;167;01mTypeError\u001b[39;00m:\n\u001b[1;32m   3625\u001b[0m     \u001b[38;5;66;03m# If we have a listlike key, _check_indexing_error will raise\u001b[39;00m\n\u001b[1;32m   3626\u001b[0m     \u001b[38;5;66;03m#  InvalidIndexError. Otherwise we fall through and re-raise\u001b[39;00m\n\u001b[1;32m   3627\u001b[0m     \u001b[38;5;66;03m#  the TypeError.\u001b[39;00m\n",
      "\u001b[0;31mKeyError\u001b[0m: '2019-09-01'",
      "\nDuring handling of the above exception, another exception occurred:\n",
      "\u001b[0;31mValueError\u001b[0m                                Traceback (most recent call last)",
      "Input \u001b[0;32mIn [136]\u001b[0m, in \u001b[0;36m<cell line: 8>\u001b[0;34m()\u001b[0m\n\u001b[1;32m     10\u001b[0m     mcconnell\u001b[38;5;241m.\u001b[39mloc[i, \u001b[38;5;124m'\u001b[39m\u001b[38;5;124mprice\u001b[39m\u001b[38;5;124m'\u001b[39m] \u001b[38;5;241m=\u001b[39m test[mcconnell\u001b[38;5;241m.\u001b[39mloc[i, \u001b[38;5;124m'\u001b[39m\u001b[38;5;124mticker\u001b[39m\u001b[38;5;124m'\u001b[39m]]\u001b[38;5;241m.\u001b[39mloc[mcconnell\u001b[38;5;241m.\u001b[39mloc[i, \u001b[38;5;124m'\u001b[39m\u001b[38;5;124mtransaction_date\u001b[39m\u001b[38;5;124m'\u001b[39m]]\u001b[38;5;241m.\u001b[39mdrop(\u001b[38;5;124m'\u001b[39m\u001b[38;5;124mvolume\u001b[39m\u001b[38;5;124m'\u001b[39m)\u001b[38;5;241m.\u001b[39mastype(\u001b[38;5;28mfloat\u001b[39m)\u001b[38;5;241m.\u001b[39mmean()\n\u001b[1;32m     11\u001b[0m \u001b[38;5;28;01mexcept\u001b[39;00m:\n\u001b[1;32m     12\u001b[0m     \u001b[38;5;66;03m#trans_date = pd.to_datetime(mcconnell.loc[i, 'transaction_date'])\u001b[39;00m\n\u001b[0;32m---> 13\u001b[0m     trans_date \u001b[38;5;241m=\u001b[39m datetime(\u001b[38;5;28;43mint\u001b[39;49m\u001b[43m(\u001b[49m\u001b[43mmcconnell\u001b[49m\u001b[38;5;241;43m.\u001b[39;49m\u001b[43mloc\u001b[49m\u001b[43m[\u001b[49m\u001b[43mi\u001b[49m\u001b[43m,\u001b[49m\u001b[43m \u001b[49m\u001b[38;5;124;43m'\u001b[39;49m\u001b[38;5;124;43mtransaction_date\u001b[39;49m\u001b[38;5;124;43m'\u001b[39;49m\u001b[43m]\u001b[49m\u001b[43m)\u001b[49m, \u001b[38;5;28mformat\u001b[39m \u001b[38;5;241m=\u001b[39m \u001b[38;5;124m'\u001b[39m\u001b[38;5;124m%\u001b[39m\u001b[38;5;124mY-\u001b[39m\u001b[38;5;124m%\u001b[39m\u001b[38;5;124mm-\u001b[39m\u001b[38;5;132;01m%d\u001b[39;00m\u001b[38;5;124m'\u001b[39m)\n\u001b[1;32m     14\u001b[0m     \u001b[38;5;28mprint\u001b[39m(trans_date)\n\u001b[1;32m     15\u001b[0m     error_dates\u001b[38;5;241m.\u001b[39mappend(trans_date)\n",
      "\u001b[0;31mValueError\u001b[0m: invalid literal for int() with base 10: '2019-09-01'"
     ]
    }
   ],
   "source": [
    "us_holidays = holidays.UnitedStates()\n",
    "error_dates = []\n",
    "holiday_dates = []\n",
    "weird_holidays = [] #holidays for which market wasn't open the next day\n",
    "saturdays = []\n",
    "sundays = []\n",
    "mcconnell['trading_day'] = 1\n",
    "for i in mcconnell.index:\n",
    "    try:\n",
    "        mcconnell.loc[i, 'price'] = test[mcconnell.loc[i, 'ticker']].loc[mcconnell.loc[i, 'transaction_date']].drop('volume').astype(float).mean()\n",
    "    except:\n",
    "        trans_date = mcconnell.loc[i, 'transaction_date']\n",
    "        trans_date_datetime = pd.to_datetime(mcconnell.loc[i, 'transaction_date'])\n",
    "        trans_date = datetime(mcconnell.loc[i, 'transaction_date'], format = '%Y-%m-%d')\n",
    "        print(trans_date)\n",
    "        error_dates.append(trans_date)\n",
    "        mcconnell.loc[i, 'trading_day'] = 0\n",
    "        print(trans_date)\n",
    "#BELOW HERE I NEED TO WORK OUT GETTING THE NEW DATE TO USE TO CALL UP THE PRICE I WANT\n",
    "#THE ISSUE IS THAT THE DICTIONARY KEYS ARE STRINGS, SO I HAVE TO GET THE NEW DATE,\n",
    "#THEN TURN IT INTO A YEAR-MO-DAY STRINGS\n",
    "# MAYBE DO A DATE + TIMEDELTA AS A NEW VARIABLE WITHIN IF STATEMENT, THEN CONVERT/CALL THAT\n",
    "        \n",
    "        if trans_date in us_holidays:\n",
    "            holiday_dates.append(trans_date)\n",
    "            try:\n",
    "                #trying the following day.\n",
    "                mcconnell.loc[i, 'price'] = test[mcconnell.loc[i, 'ticker']].loc[mcconnell.loc[i, 'transaction_date']+ timedelta(days = 1)].drop('volume').astype(float).mean()\n",
    "            except:\n",
    "                weird_holidays.append(trans_date)\n",
    "        else:\n",
    "            #check day of week, if saturday add 2 days, if sunday add 1 day\n",
    "            if datetime.weekday(trans_date) == 5:\n",
    "                saturdays.append(trans_date)\n",
    "                if trans_date + timedelta(days = 2) not in us_holidays:\n",
    "                    mcconnell.loc[i, 'price'] = test[mcconnell.loc[i, 'ticker']].loc[trans_date + timedelta(days = 2)].drop('volume').astype(float).mean()\n",
    "                else:\n",
    "                    mcconnell.loc[i, 'price'] = test[mcconnell.loc[i, 'ticker']].loc[trans_date + timedelta(days = 3)].drop('volume').astype(float).mean()\n",
    "            # was here turing transaction to datetime in line before switching strategy\n",
    "            elif datetime.weekday(trans_date) == 6:\n",
    "                sundays.append(trans_date)\n",
    "                if trans_date + timedelta(days = 1) not in us_holidays:\n",
    "                    mcconnell.loc[i, 'price'] = test[mcconnell.loc[i, 'ticker']].loc[trans_date+ timedelta(days = 1)].drop('volume').astype(float).mean()\n",
    "                else:\n",
    "                    mcconnell.loc[i, 'price'] = test[mcconnell.loc[i, 'ticker']].loc[trans_date + timedelta(days = 2)].drop('volume').astype(float).mean()\n",
    "    pass"
   ]
  },
  {
   "cell_type": "code",
   "execution_count": 118,
   "id": "46f76449-e3a8-4d49-8f86-280fa3386b48",
   "metadata": {},
   "outputs": [
    {
     "name": "stdout",
     "output_type": "stream",
     "text": [
      "2019-09-01 00:00:00\n"
     ]
    },
    {
     "name": "stderr",
     "output_type": "stream",
     "text": [
      "/var/folders/5_/498w081d1837cc82dmb4hwmc0000gn/T/ipykernel_17438/3781565328.py:7: SettingWithCopyWarning: \n",
      "A value is trying to be set on a copy of a slice from a DataFrame.\n",
      "Try using .loc[row_indexer,col_indexer] = value instead\n",
      "\n",
      "See the caveats in the documentation: https://pandas.pydata.org/pandas-docs/stable/user_guide/indexing.html#returning-a-view-versus-a-copy\n",
      "  mcconnell['trading_day'] = 1\n"
     ]
    },
    {
     "ename": "TypeError",
     "evalue": "can only concatenate str (not \"datetime.timedelta\") to str",
     "output_type": "error",
     "traceback": [
      "\u001b[0;31m---------------------------------------------------------------------------\u001b[0m",
      "\u001b[0;31mKeyError\u001b[0m                                  Traceback (most recent call last)",
      "File \u001b[0;32m~/opt/anaconda3/lib/python3.9/site-packages/pandas/core/indexes/base.py:3621\u001b[0m, in \u001b[0;36mIndex.get_loc\u001b[0;34m(self, key, method, tolerance)\u001b[0m\n\u001b[1;32m   3620\u001b[0m \u001b[38;5;28;01mtry\u001b[39;00m:\n\u001b[0;32m-> 3621\u001b[0m     \u001b[38;5;28;01mreturn\u001b[39;00m \u001b[38;5;28;43mself\u001b[39;49m\u001b[38;5;241;43m.\u001b[39;49m\u001b[43m_engine\u001b[49m\u001b[38;5;241;43m.\u001b[39;49m\u001b[43mget_loc\u001b[49m\u001b[43m(\u001b[49m\u001b[43mcasted_key\u001b[49m\u001b[43m)\u001b[49m\n\u001b[1;32m   3622\u001b[0m \u001b[38;5;28;01mexcept\u001b[39;00m \u001b[38;5;167;01mKeyError\u001b[39;00m \u001b[38;5;28;01mas\u001b[39;00m err:\n",
      "File \u001b[0;32m~/opt/anaconda3/lib/python3.9/site-packages/pandas/_libs/index.pyx:136\u001b[0m, in \u001b[0;36mpandas._libs.index.IndexEngine.get_loc\u001b[0;34m()\u001b[0m\n",
      "File \u001b[0;32m~/opt/anaconda3/lib/python3.9/site-packages/pandas/_libs/index.pyx:163\u001b[0m, in \u001b[0;36mpandas._libs.index.IndexEngine.get_loc\u001b[0;34m()\u001b[0m\n",
      "File \u001b[0;32mpandas/_libs/hashtable_class_helper.pxi:5198\u001b[0m, in \u001b[0;36mpandas._libs.hashtable.PyObjectHashTable.get_item\u001b[0;34m()\u001b[0m\n",
      "File \u001b[0;32mpandas/_libs/hashtable_class_helper.pxi:5206\u001b[0m, in \u001b[0;36mpandas._libs.hashtable.PyObjectHashTable.get_item\u001b[0;34m()\u001b[0m\n",
      "\u001b[0;31mKeyError\u001b[0m: '2019-09-01'",
      "\nThe above exception was the direct cause of the following exception:\n",
      "\u001b[0;31mKeyError\u001b[0m                                  Traceback (most recent call last)",
      "Input \u001b[0;32mIn [118]\u001b[0m, in \u001b[0;36m<cell line: 8>\u001b[0;34m()\u001b[0m\n\u001b[1;32m      9\u001b[0m \u001b[38;5;28;01mtry\u001b[39;00m:\n\u001b[0;32m---> 10\u001b[0m     mcconnell\u001b[38;5;241m.\u001b[39mloc[i, \u001b[38;5;124m'\u001b[39m\u001b[38;5;124mprice\u001b[39m\u001b[38;5;124m'\u001b[39m] \u001b[38;5;241m=\u001b[39m \u001b[43mtest\u001b[49m\u001b[43m[\u001b[49m\u001b[43mmcconnell\u001b[49m\u001b[38;5;241;43m.\u001b[39;49m\u001b[43mloc\u001b[49m\u001b[43m[\u001b[49m\u001b[43mi\u001b[49m\u001b[43m,\u001b[49m\u001b[43m \u001b[49m\u001b[38;5;124;43m'\u001b[39;49m\u001b[38;5;124;43mticker\u001b[39;49m\u001b[38;5;124;43m'\u001b[39;49m\u001b[43m]\u001b[49m\u001b[43m]\u001b[49m\u001b[38;5;241;43m.\u001b[39;49m\u001b[43mloc\u001b[49m\u001b[43m[\u001b[49m\u001b[43mmcconnell\u001b[49m\u001b[38;5;241;43m.\u001b[39;49m\u001b[43mloc\u001b[49m\u001b[43m[\u001b[49m\u001b[43mi\u001b[49m\u001b[43m,\u001b[49m\u001b[43m \u001b[49m\u001b[38;5;124;43m'\u001b[39;49m\u001b[38;5;124;43mtransaction_date\u001b[39;49m\u001b[38;5;124;43m'\u001b[39;49m\u001b[43m]\u001b[49m\u001b[43m]\u001b[49m\u001b[38;5;241m.\u001b[39mdrop(\u001b[38;5;124m'\u001b[39m\u001b[38;5;124mvolume\u001b[39m\u001b[38;5;124m'\u001b[39m)\u001b[38;5;241m.\u001b[39mastype(\u001b[38;5;28mfloat\u001b[39m)\u001b[38;5;241m.\u001b[39mmean()\n\u001b[1;32m     11\u001b[0m \u001b[38;5;28;01mexcept\u001b[39;00m:\n",
      "File \u001b[0;32m~/opt/anaconda3/lib/python3.9/site-packages/pandas/core/indexing.py:967\u001b[0m, in \u001b[0;36m_LocationIndexer.__getitem__\u001b[0;34m(self, key)\u001b[0m\n\u001b[1;32m    966\u001b[0m maybe_callable \u001b[38;5;241m=\u001b[39m com\u001b[38;5;241m.\u001b[39mapply_if_callable(key, \u001b[38;5;28mself\u001b[39m\u001b[38;5;241m.\u001b[39mobj)\n\u001b[0;32m--> 967\u001b[0m \u001b[38;5;28;01mreturn\u001b[39;00m \u001b[38;5;28;43mself\u001b[39;49m\u001b[38;5;241;43m.\u001b[39;49m\u001b[43m_getitem_axis\u001b[49m\u001b[43m(\u001b[49m\u001b[43mmaybe_callable\u001b[49m\u001b[43m,\u001b[49m\u001b[43m \u001b[49m\u001b[43maxis\u001b[49m\u001b[38;5;241;43m=\u001b[39;49m\u001b[43maxis\u001b[49m\u001b[43m)\u001b[49m\n",
      "File \u001b[0;32m~/opt/anaconda3/lib/python3.9/site-packages/pandas/core/indexing.py:1202\u001b[0m, in \u001b[0;36m_LocIndexer._getitem_axis\u001b[0;34m(self, key, axis)\u001b[0m\n\u001b[1;32m   1201\u001b[0m \u001b[38;5;28mself\u001b[39m\u001b[38;5;241m.\u001b[39m_validate_key(key, axis)\n\u001b[0;32m-> 1202\u001b[0m \u001b[38;5;28;01mreturn\u001b[39;00m \u001b[38;5;28;43mself\u001b[39;49m\u001b[38;5;241;43m.\u001b[39;49m\u001b[43m_get_label\u001b[49m\u001b[43m(\u001b[49m\u001b[43mkey\u001b[49m\u001b[43m,\u001b[49m\u001b[43m \u001b[49m\u001b[43maxis\u001b[49m\u001b[38;5;241;43m=\u001b[39;49m\u001b[43maxis\u001b[49m\u001b[43m)\u001b[49m\n",
      "File \u001b[0;32m~/opt/anaconda3/lib/python3.9/site-packages/pandas/core/indexing.py:1153\u001b[0m, in \u001b[0;36m_LocIndexer._get_label\u001b[0;34m(self, label, axis)\u001b[0m\n\u001b[1;32m   1151\u001b[0m \u001b[38;5;28;01mdef\u001b[39;00m \u001b[38;5;21m_get_label\u001b[39m(\u001b[38;5;28mself\u001b[39m, label, axis: \u001b[38;5;28mint\u001b[39m):\n\u001b[1;32m   1152\u001b[0m     \u001b[38;5;66;03m# GH#5667 this will fail if the label is not present in the axis.\u001b[39;00m\n\u001b[0;32m-> 1153\u001b[0m     \u001b[38;5;28;01mreturn\u001b[39;00m \u001b[38;5;28;43mself\u001b[39;49m\u001b[38;5;241;43m.\u001b[39;49m\u001b[43mobj\u001b[49m\u001b[38;5;241;43m.\u001b[39;49m\u001b[43mxs\u001b[49m\u001b[43m(\u001b[49m\u001b[43mlabel\u001b[49m\u001b[43m,\u001b[49m\u001b[43m \u001b[49m\u001b[43maxis\u001b[49m\u001b[38;5;241;43m=\u001b[39;49m\u001b[43maxis\u001b[49m\u001b[43m)\u001b[49m\n",
      "File \u001b[0;32m~/opt/anaconda3/lib/python3.9/site-packages/pandas/core/generic.py:3864\u001b[0m, in \u001b[0;36mNDFrame.xs\u001b[0;34m(self, key, axis, level, drop_level)\u001b[0m\n\u001b[1;32m   3863\u001b[0m \u001b[38;5;28;01melse\u001b[39;00m:\n\u001b[0;32m-> 3864\u001b[0m     loc \u001b[38;5;241m=\u001b[39m \u001b[43mindex\u001b[49m\u001b[38;5;241;43m.\u001b[39;49m\u001b[43mget_loc\u001b[49m\u001b[43m(\u001b[49m\u001b[43mkey\u001b[49m\u001b[43m)\u001b[49m\n\u001b[1;32m   3866\u001b[0m     \u001b[38;5;28;01mif\u001b[39;00m \u001b[38;5;28misinstance\u001b[39m(loc, np\u001b[38;5;241m.\u001b[39mndarray):\n",
      "File \u001b[0;32m~/opt/anaconda3/lib/python3.9/site-packages/pandas/core/indexes/base.py:3623\u001b[0m, in \u001b[0;36mIndex.get_loc\u001b[0;34m(self, key, method, tolerance)\u001b[0m\n\u001b[1;32m   3622\u001b[0m \u001b[38;5;28;01mexcept\u001b[39;00m \u001b[38;5;167;01mKeyError\u001b[39;00m \u001b[38;5;28;01mas\u001b[39;00m err:\n\u001b[0;32m-> 3623\u001b[0m     \u001b[38;5;28;01mraise\u001b[39;00m \u001b[38;5;167;01mKeyError\u001b[39;00m(key) \u001b[38;5;28;01mfrom\u001b[39;00m \u001b[38;5;21;01merr\u001b[39;00m\n\u001b[1;32m   3624\u001b[0m \u001b[38;5;28;01mexcept\u001b[39;00m \u001b[38;5;167;01mTypeError\u001b[39;00m:\n\u001b[1;32m   3625\u001b[0m     \u001b[38;5;66;03m# If we have a listlike key, _check_indexing_error will raise\u001b[39;00m\n\u001b[1;32m   3626\u001b[0m     \u001b[38;5;66;03m#  InvalidIndexError. Otherwise we fall through and re-raise\u001b[39;00m\n\u001b[1;32m   3627\u001b[0m     \u001b[38;5;66;03m#  the TypeError.\u001b[39;00m\n",
      "\u001b[0;31mKeyError\u001b[0m: '2019-09-01'",
      "\nDuring handling of the above exception, another exception occurred:\n",
      "\u001b[0;31mTypeError\u001b[0m                                 Traceback (most recent call last)",
      "Input \u001b[0;32mIn [118]\u001b[0m, in \u001b[0;36m<cell line: 8>\u001b[0;34m()\u001b[0m\n\u001b[1;32m     34\u001b[0m                 mcconnell\u001b[38;5;241m.\u001b[39mloc[i, \u001b[38;5;124m'\u001b[39m\u001b[38;5;124mprice\u001b[39m\u001b[38;5;124m'\u001b[39m] \u001b[38;5;241m=\u001b[39m test[mcconnell\u001b[38;5;241m.\u001b[39mloc[i, \u001b[38;5;124m'\u001b[39m\u001b[38;5;124mticker\u001b[39m\u001b[38;5;124m'\u001b[39m]]\u001b[38;5;241m.\u001b[39mloc[mcconnell\u001b[38;5;241m.\u001b[39mloc[i, \u001b[38;5;124m'\u001b[39m\u001b[38;5;124mtransaction_date\u001b[39m\u001b[38;5;124m'\u001b[39m]\u001b[38;5;241m+\u001b[39m timedelta(days \u001b[38;5;241m=\u001b[39m \u001b[38;5;241m1\u001b[39m)]\u001b[38;5;241m.\u001b[39mdrop(\u001b[38;5;124m'\u001b[39m\u001b[38;5;124mvolume\u001b[39m\u001b[38;5;124m'\u001b[39m)\u001b[38;5;241m.\u001b[39mastype(\u001b[38;5;28mfloat\u001b[39m)\u001b[38;5;241m.\u001b[39mmean()\n\u001b[1;32m     35\u001b[0m             \u001b[38;5;28;01melse\u001b[39;00m:\n\u001b[0;32m---> 36\u001b[0m                 mcconnell\u001b[38;5;241m.\u001b[39mloc[i, \u001b[38;5;124m'\u001b[39m\u001b[38;5;124mprice\u001b[39m\u001b[38;5;124m'\u001b[39m] \u001b[38;5;241m=\u001b[39m test[mcconnell\u001b[38;5;241m.\u001b[39mloc[i, \u001b[38;5;124m'\u001b[39m\u001b[38;5;124mticker\u001b[39m\u001b[38;5;124m'\u001b[39m]]\u001b[38;5;241m.\u001b[39mloc[\u001b[43mmcconnell\u001b[49m\u001b[38;5;241;43m.\u001b[39;49m\u001b[43mloc\u001b[49m\u001b[43m[\u001b[49m\u001b[43mi\u001b[49m\u001b[43m,\u001b[49m\u001b[43m \u001b[49m\u001b[38;5;124;43m'\u001b[39;49m\u001b[38;5;124;43mtransaction_date\u001b[39;49m\u001b[38;5;124;43m'\u001b[39;49m\u001b[43m]\u001b[49m\u001b[43m \u001b[49m\u001b[38;5;241;43m+\u001b[39;49m\u001b[43m \u001b[49m\u001b[43mtimedelta\u001b[49m\u001b[43m(\u001b[49m\u001b[43mdays\u001b[49m\u001b[43m \u001b[49m\u001b[38;5;241;43m=\u001b[39;49m\u001b[43m \u001b[49m\u001b[38;5;241;43m2\u001b[39;49m\u001b[43m)\u001b[49m]\u001b[38;5;241m.\u001b[39mdrop(\u001b[38;5;124m'\u001b[39m\u001b[38;5;124mvolume\u001b[39m\u001b[38;5;124m'\u001b[39m)\u001b[38;5;241m.\u001b[39mastype(\u001b[38;5;28mfloat\u001b[39m)\u001b[38;5;241m.\u001b[39mmean()\n\u001b[1;32m     37\u001b[0m \u001b[38;5;28;01mpass\u001b[39;00m\n",
      "\u001b[0;31mTypeError\u001b[0m: can only concatenate str (not \"datetime.timedelta\") to str"
     ]
    }
   ],
   "source": [
    "us_holidays = holidays.UnitedStates()\n",
    "error_dates = []\n",
    "holiday_dates = []\n",
    "weird_holidays = [] #holidays for which market wasn't open the next day\n",
    "saturdays = []\n",
    "sundays = []\n",
    "mcconnell['trading_day'] = 1\n",
    "for i in mcconnell.index:\n",
    "    try:\n",
    "        mcconnell.loc[i, 'price'] = test[mcconnell.loc[i, 'ticker']].loc[mcconnell.loc[i, 'transaction_date']].drop('volume').astype(float).mean()\n",
    "    except:\n",
    "        trans_date = pd.to_datetime(mcconnell.loc[i, 'transaction_date'])\n",
    "        error_dates.append(trans_date)\n",
    "        mcconnell.loc[i, 'trading_day'] = 0\n",
    "        print(trans_date)\n",
    "        if trans_date in us_holidays:\n",
    "            holiday_dates.append(trans_date)\n",
    "            try:\n",
    "                #trying the following day.\n",
    "                mcconnell.loc[i, 'price'] = test[mcconnell.loc[i, 'ticker']].loc[mcconnell.loc[i, 'transaction_date']+ timedelta(days = 1)].drop('volume').astype(float).mean()\n",
    "            except:\n",
    "                weird_holidays.append(trans_date)\n",
    "        else:\n",
    "            #check day of week, if saturday add 2 days, if sunday add 1 day\n",
    "            if datetime.weekday(trans_date) == 5:\n",
    "                saturdays.append(trans_date)\n",
    "                if trans_date + timedelta(days = 2) not in us_holidays:\n",
    "                    mcconnell.loc[i, 'price'] = test[mcconnell.loc[i, 'ticker']].loc[pd.to_datetime(mcconnell.loc[i, 'transaction_date']) + timedelta(days = 2)].drop('volume').astype(float).mean()\n",
    "                else:\n",
    "                    mcconnell.loc[i, 'price'] = test[mcconnell.loc[i, 'ticker']].loc[pd.to_datetime(mcconnell.loc[i, 'transaction_date']) + timedelta(days = 3)].drop('volume').astype(float).mean()\n",
    "            # was here turing transaction to datetime in line before switching strategy\n",
    "            elif datetime.weekday(trans_date) == 6:\n",
    "                sundays.append(trans_date)\n",
    "                if trans_date + timedelta(days = 1) not in us_holidays:\n",
    "                    mcconnell.loc[i, 'price'] = test[mcconnell.loc[i, 'ticker']].loc[mcconnell.loc[i, 'transaction_date']+ timedelta(days = 1)].drop('volume').astype(float).mean()\n",
    "                else:\n",
    "                    mcconnell.loc[i, 'price'] = test[mcconnell.loc[i, 'ticker']].loc[mcconnell.loc[i, 'transaction_date'] + timedelta(days = 2)].drop('volume').astype(float).mean()\n",
    "    pass"
   ]
  },
  {
   "cell_type": "code",
   "execution_count": 108,
   "id": "8f88b866-b104-49ef-9de3-91f25cc1cf77",
   "metadata": {},
   "outputs": [
    {
     "data": {
      "text/plain": [
       "[NaT,\n",
       " NaT,\n",
       " NaT,\n",
       " NaT,\n",
       " NaT,\n",
       " NaT,\n",
       " NaT,\n",
       " NaT,\n",
       " NaT,\n",
       " NaT,\n",
       " NaT,\n",
       " NaT,\n",
       " NaT,\n",
       " NaT,\n",
       " NaT,\n",
       " NaT,\n",
       " NaT,\n",
       " NaT,\n",
       " NaT,\n",
       " NaT,\n",
       " NaT,\n",
       " NaT,\n",
       " NaT]"
      ]
     },
     "execution_count": 108,
     "metadata": {},
     "output_type": "execute_result"
    }
   ],
   "source": [
    "error_dates"
   ]
  },
  {
   "cell_type": "code",
   "execution_count": 97,
   "id": "e7415259-3fc6-47d2-816f-7adce9975cd6",
   "metadata": {},
   "outputs": [
    {
     "name": "stdout",
     "output_type": "stream",
     "text": [
      "2019-09-01\n"
     ]
    },
    {
     "name": "stderr",
     "output_type": "stream",
     "text": [
      "/var/folders/5_/498w081d1837cc82dmb4hwmc0000gn/T/ipykernel_17438/1450084766.py:7: SettingWithCopyWarning: \n",
      "A value is trying to be set on a copy of a slice from a DataFrame.\n",
      "Try using .loc[row_indexer,col_indexer] = value instead\n",
      "\n",
      "See the caveats in the documentation: https://pandas.pydata.org/pandas-docs/stable/user_guide/indexing.html#returning-a-view-versus-a-copy\n",
      "  mcconnell['trading_day'] = 1\n"
     ]
    },
    {
     "ename": "TypeError",
     "evalue": "can only concatenate str (not \"int\") to str",
     "output_type": "error",
     "traceback": [
      "\u001b[0;31m---------------------------------------------------------------------------\u001b[0m",
      "\u001b[0;31mKeyError\u001b[0m                                  Traceback (most recent call last)",
      "File \u001b[0;32m~/opt/anaconda3/lib/python3.9/site-packages/pandas/core/indexes/base.py:3621\u001b[0m, in \u001b[0;36mIndex.get_loc\u001b[0;34m(self, key, method, tolerance)\u001b[0m\n\u001b[1;32m   3620\u001b[0m \u001b[38;5;28;01mtry\u001b[39;00m:\n\u001b[0;32m-> 3621\u001b[0m     \u001b[38;5;28;01mreturn\u001b[39;00m \u001b[38;5;28;43mself\u001b[39;49m\u001b[38;5;241;43m.\u001b[39;49m\u001b[43m_engine\u001b[49m\u001b[38;5;241;43m.\u001b[39;49m\u001b[43mget_loc\u001b[49m\u001b[43m(\u001b[49m\u001b[43mcasted_key\u001b[49m\u001b[43m)\u001b[49m\n\u001b[1;32m   3622\u001b[0m \u001b[38;5;28;01mexcept\u001b[39;00m \u001b[38;5;167;01mKeyError\u001b[39;00m \u001b[38;5;28;01mas\u001b[39;00m err:\n",
      "File \u001b[0;32m~/opt/anaconda3/lib/python3.9/site-packages/pandas/_libs/index.pyx:136\u001b[0m, in \u001b[0;36mpandas._libs.index.IndexEngine.get_loc\u001b[0;34m()\u001b[0m\n",
      "File \u001b[0;32m~/opt/anaconda3/lib/python3.9/site-packages/pandas/_libs/index.pyx:163\u001b[0m, in \u001b[0;36mpandas._libs.index.IndexEngine.get_loc\u001b[0;34m()\u001b[0m\n",
      "File \u001b[0;32mpandas/_libs/hashtable_class_helper.pxi:5198\u001b[0m, in \u001b[0;36mpandas._libs.hashtable.PyObjectHashTable.get_item\u001b[0;34m()\u001b[0m\n",
      "File \u001b[0;32mpandas/_libs/hashtable_class_helper.pxi:5206\u001b[0m, in \u001b[0;36mpandas._libs.hashtable.PyObjectHashTable.get_item\u001b[0;34m()\u001b[0m\n",
      "\u001b[0;31mKeyError\u001b[0m: '2019-09-01'",
      "\nThe above exception was the direct cause of the following exception:\n",
      "\u001b[0;31mKeyError\u001b[0m                                  Traceback (most recent call last)",
      "Input \u001b[0;32mIn [97]\u001b[0m, in \u001b[0;36m<cell line: 8>\u001b[0;34m()\u001b[0m\n\u001b[1;32m      9\u001b[0m \u001b[38;5;28;01mtry\u001b[39;00m:\n\u001b[0;32m---> 10\u001b[0m     mcconnell\u001b[38;5;241m.\u001b[39mloc[i, \u001b[38;5;124m'\u001b[39m\u001b[38;5;124mprice\u001b[39m\u001b[38;5;124m'\u001b[39m] \u001b[38;5;241m=\u001b[39m \u001b[43mtest\u001b[49m\u001b[43m[\u001b[49m\u001b[43mmcconnell\u001b[49m\u001b[38;5;241;43m.\u001b[39;49m\u001b[43mloc\u001b[49m\u001b[43m[\u001b[49m\u001b[43mi\u001b[49m\u001b[43m,\u001b[49m\u001b[43m \u001b[49m\u001b[38;5;124;43m'\u001b[39;49m\u001b[38;5;124;43mticker\u001b[39;49m\u001b[38;5;124;43m'\u001b[39;49m\u001b[43m]\u001b[49m\u001b[43m]\u001b[49m\u001b[38;5;241;43m.\u001b[39;49m\u001b[43mloc\u001b[49m\u001b[43m[\u001b[49m\u001b[43mmcconnell\u001b[49m\u001b[38;5;241;43m.\u001b[39;49m\u001b[43mloc\u001b[49m\u001b[43m[\u001b[49m\u001b[43mi\u001b[49m\u001b[43m,\u001b[49m\u001b[43m \u001b[49m\u001b[38;5;124;43m'\u001b[39;49m\u001b[38;5;124;43mtransaction_date\u001b[39;49m\u001b[38;5;124;43m'\u001b[39;49m\u001b[43m]\u001b[49m\u001b[43m]\u001b[49m\u001b[38;5;241m.\u001b[39mdrop(\u001b[38;5;124m'\u001b[39m\u001b[38;5;124mvolume\u001b[39m\u001b[38;5;124m'\u001b[39m)\u001b[38;5;241m.\u001b[39mastype(\u001b[38;5;28mfloat\u001b[39m)\u001b[38;5;241m.\u001b[39mmean()\n\u001b[1;32m     11\u001b[0m \u001b[38;5;28;01mexcept\u001b[39;00m:\n",
      "File \u001b[0;32m~/opt/anaconda3/lib/python3.9/site-packages/pandas/core/indexing.py:967\u001b[0m, in \u001b[0;36m_LocationIndexer.__getitem__\u001b[0;34m(self, key)\u001b[0m\n\u001b[1;32m    966\u001b[0m maybe_callable \u001b[38;5;241m=\u001b[39m com\u001b[38;5;241m.\u001b[39mapply_if_callable(key, \u001b[38;5;28mself\u001b[39m\u001b[38;5;241m.\u001b[39mobj)\n\u001b[0;32m--> 967\u001b[0m \u001b[38;5;28;01mreturn\u001b[39;00m \u001b[38;5;28;43mself\u001b[39;49m\u001b[38;5;241;43m.\u001b[39;49m\u001b[43m_getitem_axis\u001b[49m\u001b[43m(\u001b[49m\u001b[43mmaybe_callable\u001b[49m\u001b[43m,\u001b[49m\u001b[43m \u001b[49m\u001b[43maxis\u001b[49m\u001b[38;5;241;43m=\u001b[39;49m\u001b[43maxis\u001b[49m\u001b[43m)\u001b[49m\n",
      "File \u001b[0;32m~/opt/anaconda3/lib/python3.9/site-packages/pandas/core/indexing.py:1202\u001b[0m, in \u001b[0;36m_LocIndexer._getitem_axis\u001b[0;34m(self, key, axis)\u001b[0m\n\u001b[1;32m   1201\u001b[0m \u001b[38;5;28mself\u001b[39m\u001b[38;5;241m.\u001b[39m_validate_key(key, axis)\n\u001b[0;32m-> 1202\u001b[0m \u001b[38;5;28;01mreturn\u001b[39;00m \u001b[38;5;28;43mself\u001b[39;49m\u001b[38;5;241;43m.\u001b[39;49m\u001b[43m_get_label\u001b[49m\u001b[43m(\u001b[49m\u001b[43mkey\u001b[49m\u001b[43m,\u001b[49m\u001b[43m \u001b[49m\u001b[43maxis\u001b[49m\u001b[38;5;241;43m=\u001b[39;49m\u001b[43maxis\u001b[49m\u001b[43m)\u001b[49m\n",
      "File \u001b[0;32m~/opt/anaconda3/lib/python3.9/site-packages/pandas/core/indexing.py:1153\u001b[0m, in \u001b[0;36m_LocIndexer._get_label\u001b[0;34m(self, label, axis)\u001b[0m\n\u001b[1;32m   1151\u001b[0m \u001b[38;5;28;01mdef\u001b[39;00m \u001b[38;5;21m_get_label\u001b[39m(\u001b[38;5;28mself\u001b[39m, label, axis: \u001b[38;5;28mint\u001b[39m):\n\u001b[1;32m   1152\u001b[0m     \u001b[38;5;66;03m# GH#5667 this will fail if the label is not present in the axis.\u001b[39;00m\n\u001b[0;32m-> 1153\u001b[0m     \u001b[38;5;28;01mreturn\u001b[39;00m \u001b[38;5;28;43mself\u001b[39;49m\u001b[38;5;241;43m.\u001b[39;49m\u001b[43mobj\u001b[49m\u001b[38;5;241;43m.\u001b[39;49m\u001b[43mxs\u001b[49m\u001b[43m(\u001b[49m\u001b[43mlabel\u001b[49m\u001b[43m,\u001b[49m\u001b[43m \u001b[49m\u001b[43maxis\u001b[49m\u001b[38;5;241;43m=\u001b[39;49m\u001b[43maxis\u001b[49m\u001b[43m)\u001b[49m\n",
      "File \u001b[0;32m~/opt/anaconda3/lib/python3.9/site-packages/pandas/core/generic.py:3864\u001b[0m, in \u001b[0;36mNDFrame.xs\u001b[0;34m(self, key, axis, level, drop_level)\u001b[0m\n\u001b[1;32m   3863\u001b[0m \u001b[38;5;28;01melse\u001b[39;00m:\n\u001b[0;32m-> 3864\u001b[0m     loc \u001b[38;5;241m=\u001b[39m \u001b[43mindex\u001b[49m\u001b[38;5;241;43m.\u001b[39;49m\u001b[43mget_loc\u001b[49m\u001b[43m(\u001b[49m\u001b[43mkey\u001b[49m\u001b[43m)\u001b[49m\n\u001b[1;32m   3866\u001b[0m     \u001b[38;5;28;01mif\u001b[39;00m \u001b[38;5;28misinstance\u001b[39m(loc, np\u001b[38;5;241m.\u001b[39mndarray):\n",
      "File \u001b[0;32m~/opt/anaconda3/lib/python3.9/site-packages/pandas/core/indexes/base.py:3623\u001b[0m, in \u001b[0;36mIndex.get_loc\u001b[0;34m(self, key, method, tolerance)\u001b[0m\n\u001b[1;32m   3622\u001b[0m \u001b[38;5;28;01mexcept\u001b[39;00m \u001b[38;5;167;01mKeyError\u001b[39;00m \u001b[38;5;28;01mas\u001b[39;00m err:\n\u001b[0;32m-> 3623\u001b[0m     \u001b[38;5;28;01mraise\u001b[39;00m \u001b[38;5;167;01mKeyError\u001b[39;00m(key) \u001b[38;5;28;01mfrom\u001b[39;00m \u001b[38;5;21;01merr\u001b[39;00m\n\u001b[1;32m   3624\u001b[0m \u001b[38;5;28;01mexcept\u001b[39;00m \u001b[38;5;167;01mTypeError\u001b[39;00m:\n\u001b[1;32m   3625\u001b[0m     \u001b[38;5;66;03m# If we have a listlike key, _check_indexing_error will raise\u001b[39;00m\n\u001b[1;32m   3626\u001b[0m     \u001b[38;5;66;03m#  InvalidIndexError. Otherwise we fall through and re-raise\u001b[39;00m\n\u001b[1;32m   3627\u001b[0m     \u001b[38;5;66;03m#  the TypeError.\u001b[39;00m\n",
      "\u001b[0;31mKeyError\u001b[0m: '2019-09-01'",
      "\nDuring handling of the above exception, another exception occurred:\n",
      "\u001b[0;31mTypeError\u001b[0m                                 Traceback (most recent call last)",
      "Input \u001b[0;32mIn [97]\u001b[0m, in \u001b[0;36m<cell line: 8>\u001b[0;34m()\u001b[0m\n\u001b[1;32m     31\u001b[0m \u001b[38;5;28;01melif\u001b[39;00m datetime\u001b[38;5;241m.\u001b[39mweekday(pd\u001b[38;5;241m.\u001b[39mto_datetime(trans_date)) \u001b[38;5;241m==\u001b[39m \u001b[38;5;241m6\u001b[39m:\n\u001b[1;32m     32\u001b[0m     sundays\u001b[38;5;241m.\u001b[39mappend(trans_date)\n\u001b[0;32m---> 33\u001b[0m     \u001b[38;5;28;01mif\u001b[39;00m \u001b[43mtrans_date\u001b[49m\u001b[38;5;241;43m+\u001b[39;49m\u001b[38;5;241;43m1\u001b[39;49m \u001b[38;5;129;01mnot\u001b[39;00m \u001b[38;5;129;01min\u001b[39;00m us_holidays:\n\u001b[1;32m     34\u001b[0m         mcconnell\u001b[38;5;241m.\u001b[39mloc[i, \u001b[38;5;124m'\u001b[39m\u001b[38;5;124mprice\u001b[39m\u001b[38;5;124m'\u001b[39m] \u001b[38;5;241m=\u001b[39m test[mcconnell\u001b[38;5;241m.\u001b[39mloc[i, \u001b[38;5;124m'\u001b[39m\u001b[38;5;124mticker\u001b[39m\u001b[38;5;124m'\u001b[39m]]\u001b[38;5;241m.\u001b[39mloc[mcconnell\u001b[38;5;241m.\u001b[39mloc[i, \u001b[38;5;124m'\u001b[39m\u001b[38;5;124mtransaction_date\u001b[39m\u001b[38;5;124m'\u001b[39m]\u001b[38;5;241m+\u001b[39m\u001b[38;5;241m1\u001b[39m]\u001b[38;5;241m.\u001b[39mdrop(\u001b[38;5;124m'\u001b[39m\u001b[38;5;124mvolume\u001b[39m\u001b[38;5;124m'\u001b[39m)\u001b[38;5;241m.\u001b[39mastype(\u001b[38;5;28mfloat\u001b[39m)\u001b[38;5;241m.\u001b[39mmean()\n\u001b[1;32m     35\u001b[0m     \u001b[38;5;28;01melse\u001b[39;00m:\n",
      "\u001b[0;31mTypeError\u001b[0m: can only concatenate str (not \"int\") to str"
     ]
    }
   ],
   "source": [
    "us_holidays = holidays.UnitedStates()\n",
    "error_dates = []\n",
    "holiday_dates = []\n",
    "weird_holidays = [] #holidays for which market wasn't open the next day\n",
    "saturdays = []\n",
    "sundays = []\n",
    "mcconnell['trading_day'] = 1\n",
    "for i in mcconnell.index:\n",
    "    try:\n",
    "        mcconnell.loc[i, 'price'] = test[mcconnell.loc[i, 'ticker']].loc[mcconnell.loc[i, 'transaction_date']].drop('volume').astype(float).mean()\n",
    "    except:\n",
    "        trans_date = mcconnell.loc[i, 'transaction_date']\n",
    "        error_dates.append(trans_date)\n",
    "        mcconnell.loc[i, 'trading_day'] = 0\n",
    "        print(trans_date)\n",
    "        if trans_date in us_holidays:\n",
    "            holiday_dates.append(trans_date)\n",
    "            try:\n",
    "                #trying the following day.\n",
    "                mcconnell.loc[i, 'price'] = test[mcconnell.loc[i, 'ticker']].loc[mcconnell.loc[i, 'transaction_date']+1].drop('volume').astype(float).mean()\n",
    "            except:\n",
    "                weird_holidays.append(trans_date)\n",
    "        else:\n",
    "            #check day of week, if saturday add 2 days, if sunday add 1 day\n",
    "            if datetime.weekday(pd.to_datetime(trans_date)) == 5:\n",
    "                saturdays.append(trans_date)\n",
    "                if trans_date+2 not in us_holidays:\n",
    "                    mcconnell.loc[i, 'price'] = test[mcconnell.loc[i, 'ticker']].loc[mcconnell.loc[i, 'transaction_date']+2].drop('volume').astype(float).mean()\n",
    "                else:\n",
    "                    mcconnell.loc[i, 'price'] = test[mcconnell.loc[i, 'ticker']].loc[mcconnell.loc[i, 'transaction_date']+3].drop('volume').astype(float).mean()\n",
    "            elif datetime.weekday(pd.to_datetime(trans_date)) == 6:\n",
    "                sundays.append(trans_date)\n",
    "                if trans_date+1 not in us_holidays:\n",
    "                    mcconnell.loc[i, 'price'] = test[mcconnell.loc[i, 'ticker']].loc[mcconnell.loc[i, 'transaction_date']+1].drop('volume').astype(float).mean()\n",
    "                else:\n",
    "                    mcconnell.loc[i, 'price'] = test[mcconnell.loc[i, 'ticker']].loc[mcconnell.loc[i, 'transaction_date']+2].drop('volume').astype(float).mean()\n",
    "    pass"
   ]
  },
  {
   "cell_type": "code",
   "execution_count": 65,
   "id": "1d169fde-f2dd-40fa-b5a0-0028e2bdf2b7",
   "metadata": {},
   "outputs": [
    {
     "data": {
      "text/plain": [
       "['2019-09-01', '2019-06-01', '2018-12-05', '2017-02-02', '2016-06-09']"
      ]
     },
     "execution_count": 65,
     "metadata": {},
     "output_type": "execute_result"
    }
   ],
   "source": [
    "error_dates"
   ]
  },
  {
   "cell_type": "markdown",
   "id": "dbf421b0-2858-4333-84e7-9f2a6190b8d0",
   "metadata": {},
   "source": [
    "[Stackoverflow](https://stackoverflow.com/a/61426301) on mean in multipe columns"
   ]
  },
  {
   "cell_type": "code",
   "execution_count": 31,
   "id": "63f1831e-279d-4e63-81ed-2eade5ac641f",
   "metadata": {},
   "outputs": [
    {
     "data": {
      "text/plain": [
       "open       44.8300\n",
       "high       45.3299\n",
       "low        44.6100\n",
       "close      44.8200\n",
       "volume    12572421\n",
       "Name: 2022-06-03, dtype: object"
      ]
     },
     "execution_count": 31,
     "metadata": {},
     "output_type": "execute_result"
    }
   ],
   "source": [
    "test[mcconnell.loc[0, 'ticker']].loc[mcconnell.loc[0, 'transaction_date']]"
   ]
  },
  {
   "cell_type": "code",
   "execution_count": 49,
   "id": "3080999c-230c-4abb-8171-bd34fcabf367",
   "metadata": {},
   "outputs": [
    {
     "data": {
      "text/plain": [
       "open     44.8300\n",
       "high     45.3299\n",
       "low      44.6100\n",
       "close    44.8200\n",
       "Name: 2022-06-03, dtype: float64"
      ]
     },
     "execution_count": 49,
     "metadata": {},
     "output_type": "execute_result"
    }
   ],
   "source": [
    "test[mcconnell.loc[0, 'ticker']].loc[mcconnell.loc[0, 'transaction_date']].drop('volume').astype(float)"
   ]
  },
  {
   "cell_type": "markdown",
   "id": "9485e41a-fb25-41b9-9311-e4df23afdb04",
   "metadata": {},
   "source": [
    "This pulls the average of open, high, low, and close. Using this because we have no idea when in the day the purchase was made."
   ]
  },
  {
   "cell_type": "code",
   "execution_count": 55,
   "id": "1d807eba-d12c-4f79-99c7-2e3a8680a188",
   "metadata": {},
   "outputs": [
    {
     "data": {
      "text/plain": [
       "44.897475"
      ]
     },
     "execution_count": 55,
     "metadata": {},
     "output_type": "execute_result"
    }
   ],
   "source": [
    "test[mcconnell.loc[0, 'ticker']].loc[mcconnell.loc[0, 'transaction_date']].drop('volume').astype(float).mean()"
   ]
  },
  {
   "cell_type": "code",
   "execution_count": null,
   "id": "7ace40a5-b19d-43a4-b71b-4e0fbade1ca8",
   "metadata": {},
   "outputs": [],
   "source": []
  }
 ],
 "metadata": {
  "kernelspec": {
   "display_name": "Python 3 (ipykernel)",
   "language": "python",
   "name": "python3"
  },
  "language_info": {
   "codemirror_mode": {
    "name": "ipython",
    "version": 3
   },
   "file_extension": ".py",
   "mimetype": "text/x-python",
   "name": "python",
   "nbconvert_exporter": "python",
   "pygments_lexer": "ipython3",
   "version": "3.9.12"
  }
 },
 "nbformat": 4,
 "nbformat_minor": 5
}
