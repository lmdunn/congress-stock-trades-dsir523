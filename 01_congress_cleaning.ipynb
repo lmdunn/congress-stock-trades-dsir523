{
 "cells": [
  {
   "cell_type": "code",
   "execution_count": 1,
   "id": "8b500dc3-9d63-4396-94d7-63a1d5a013d6",
   "metadata": {},
   "outputs": [],
   "source": [
    "import pandas as pd\n",
    "from datetime import datetime\n",
    "import re"
   ]
  },
  {
   "cell_type": "code",
   "execution_count": 232,
   "id": "d685f237-a4c7-4f1e-925b-d30f6622c877",
   "metadata": {},
   "outputs": [],
   "source": [
    "#a team member needs this on their computer to get this to run, so we included it here\n",
    "proxies = {'https': 'http://127.0.0.1:7769'}"
   ]
  },
  {
   "cell_type": "code",
   "execution_count": 233,
   "id": "08f67cbb-7f3b-47c4-9930-e813f9c3f7dd",
   "metadata": {},
   "outputs": [],
   "source": [
    "pd.options.display.max_rows = None"
   ]
  },
  {
   "cell_type": "markdown",
   "id": "c5f21252-b934-474e-8598-febc49e3beba",
   "metadata": {},
   "source": [
    "# Importing Data\n",
    "\n",
    "The data we use throughout our analysis is available at [this link](https://drive.google.com/drive/folders/1LG5bKuLBJXHF2HL9jAuEtyCQbmk8m3lS?usp=sharing). \n",
    "\n",
    "To replicate the analysis, please download the files from the `'data'` folder at the above link and put it into the `'data'` folder in this repository on your computer."
   ]
  },
  {
   "cell_type": "code",
   "execution_count": 2,
   "id": "38b2b329-75ea-4583-ac30-a81aae6ccb39",
   "metadata": {},
   "outputs": [
    {
     "data": {
      "text/html": [
       "<div>\n",
       "<style scoped>\n",
       "    .dataframe tbody tr th:only-of-type {\n",
       "        vertical-align: middle;\n",
       "    }\n",
       "\n",
       "    .dataframe tbody tr th {\n",
       "        vertical-align: top;\n",
       "    }\n",
       "\n",
       "    .dataframe thead th {\n",
       "        text-align: right;\n",
       "    }\n",
       "</style>\n",
       "<table border=\"1\" class=\"dataframe\">\n",
       "  <thead>\n",
       "    <tr style=\"text-align: right;\">\n",
       "      <th></th>\n",
       "      <th>disclosure_year</th>\n",
       "      <th>disclosure_date</th>\n",
       "      <th>transaction_date</th>\n",
       "      <th>owner</th>\n",
       "      <th>ticker</th>\n",
       "      <th>asset_description</th>\n",
       "      <th>type</th>\n",
       "      <th>amount</th>\n",
       "      <th>representative</th>\n",
       "      <th>district</th>\n",
       "      <th>ptr_link</th>\n",
       "      <th>cap_gains_over_200_usd</th>\n",
       "    </tr>\n",
       "  </thead>\n",
       "  <tbody>\n",
       "    <tr>\n",
       "      <th>0</th>\n",
       "      <td>2021</td>\n",
       "      <td>10/04/2021</td>\n",
       "      <td>2021-09-27</td>\n",
       "      <td>joint</td>\n",
       "      <td>BP</td>\n",
       "      <td>BP plc</td>\n",
       "      <td>purchase</td>\n",
       "      <td>$1,001 - $15,000</td>\n",
       "      <td>Hon. Virginia Foxx</td>\n",
       "      <td>NC05</td>\n",
       "      <td>https://disclosures-clerk.house.gov/public_dis...</td>\n",
       "      <td>False</td>\n",
       "    </tr>\n",
       "    <tr>\n",
       "      <th>1</th>\n",
       "      <td>2021</td>\n",
       "      <td>10/04/2021</td>\n",
       "      <td>2021-09-13</td>\n",
       "      <td>joint</td>\n",
       "      <td>XOM</td>\n",
       "      <td>Exxon Mobil Corporation</td>\n",
       "      <td>purchase</td>\n",
       "      <td>$1,001 - $15,000</td>\n",
       "      <td>Hon. Virginia Foxx</td>\n",
       "      <td>NC05</td>\n",
       "      <td>https://disclosures-clerk.house.gov/public_dis...</td>\n",
       "      <td>False</td>\n",
       "    </tr>\n",
       "    <tr>\n",
       "      <th>2</th>\n",
       "      <td>2021</td>\n",
       "      <td>10/04/2021</td>\n",
       "      <td>2021-09-10</td>\n",
       "      <td>joint</td>\n",
       "      <td>ILPT</td>\n",
       "      <td>Industrial Logistics Properties Trust - Common...</td>\n",
       "      <td>purchase</td>\n",
       "      <td>$15,001 - $50,000</td>\n",
       "      <td>Hon. Virginia Foxx</td>\n",
       "      <td>NC05</td>\n",
       "      <td>https://disclosures-clerk.house.gov/public_dis...</td>\n",
       "      <td>False</td>\n",
       "    </tr>\n",
       "    <tr>\n",
       "      <th>3</th>\n",
       "      <td>2021</td>\n",
       "      <td>10/04/2021</td>\n",
       "      <td>2021-09-28</td>\n",
       "      <td>joint</td>\n",
       "      <td>PM</td>\n",
       "      <td>Phillip Morris International Inc</td>\n",
       "      <td>purchase</td>\n",
       "      <td>$15,001 - $50,000</td>\n",
       "      <td>Hon. Virginia Foxx</td>\n",
       "      <td>NC05</td>\n",
       "      <td>https://disclosures-clerk.house.gov/public_dis...</td>\n",
       "      <td>False</td>\n",
       "    </tr>\n",
       "    <tr>\n",
       "      <th>4</th>\n",
       "      <td>2021</td>\n",
       "      <td>10/04/2021</td>\n",
       "      <td>2021-09-17</td>\n",
       "      <td>self</td>\n",
       "      <td>BLK</td>\n",
       "      <td>BlackRock Inc</td>\n",
       "      <td>sale_partial</td>\n",
       "      <td>$1,001 - $15,000</td>\n",
       "      <td>Hon. Alan S. Lowenthal</td>\n",
       "      <td>CA47</td>\n",
       "      <td>https://disclosures-clerk.house.gov/public_dis...</td>\n",
       "      <td>False</td>\n",
       "    </tr>\n",
       "  </tbody>\n",
       "</table>\n",
       "</div>"
      ],
      "text/plain": [
       "   disclosure_year disclosure_date transaction_date  owner ticker  \\\n",
       "0             2021      10/04/2021       2021-09-27  joint     BP   \n",
       "1             2021      10/04/2021       2021-09-13  joint    XOM   \n",
       "2             2021      10/04/2021       2021-09-10  joint   ILPT   \n",
       "3             2021      10/04/2021       2021-09-28  joint     PM   \n",
       "4             2021      10/04/2021       2021-09-17   self    BLK   \n",
       "\n",
       "                                   asset_description          type  \\\n",
       "0                                             BP plc      purchase   \n",
       "1                            Exxon Mobil Corporation      purchase   \n",
       "2  Industrial Logistics Properties Trust - Common...      purchase   \n",
       "3                   Phillip Morris International Inc      purchase   \n",
       "4                                      BlackRock Inc  sale_partial   \n",
       "\n",
       "              amount          representative district  \\\n",
       "0   $1,001 - $15,000      Hon. Virginia Foxx     NC05   \n",
       "1   $1,001 - $15,000      Hon. Virginia Foxx     NC05   \n",
       "2  $15,001 - $50,000      Hon. Virginia Foxx     NC05   \n",
       "3  $15,001 - $50,000      Hon. Virginia Foxx     NC05   \n",
       "4   $1,001 - $15,000  Hon. Alan S. Lowenthal     CA47   \n",
       "\n",
       "                                            ptr_link  cap_gains_over_200_usd  \n",
       "0  https://disclosures-clerk.house.gov/public_dis...                   False  \n",
       "1  https://disclosures-clerk.house.gov/public_dis...                   False  \n",
       "2  https://disclosures-clerk.house.gov/public_dis...                   False  \n",
       "3  https://disclosures-clerk.house.gov/public_dis...                   False  \n",
       "4  https://disclosures-clerk.house.gov/public_dis...                   False  "
      ]
     },
     "execution_count": 2,
     "metadata": {},
     "output_type": "execute_result"
    }
   ],
   "source": [
    "house = pd.read_csv(\"data/house_2022-07-15.csv\")\n",
    "house.head()"
   ]
  },
  {
   "cell_type": "code",
   "execution_count": 3,
   "id": "43dcb615-9e8c-4c6a-85fa-edbd2b159ac1",
   "metadata": {},
   "outputs": [
    {
     "data": {
      "text/plain": [
       "disclosure_year            int64\n",
       "disclosure_date           object\n",
       "transaction_date          object\n",
       "owner                     object\n",
       "ticker                    object\n",
       "asset_description         object\n",
       "type                      object\n",
       "amount                    object\n",
       "representative            object\n",
       "district                  object\n",
       "ptr_link                  object\n",
       "cap_gains_over_200_usd      bool\n",
       "dtype: object"
      ]
     },
     "execution_count": 3,
     "metadata": {},
     "output_type": "execute_result"
    }
   ],
   "source": [
    "house.dtypes"
   ]
  },
  {
   "cell_type": "markdown",
   "id": "517140ef-6959-4b35-9473-41e1b578f043",
   "metadata": {},
   "source": [
    "# Nulls"
   ]
  },
  {
   "cell_type": "code",
   "execution_count": 4,
   "id": "07891735-90b1-4a31-9a47-78b0a9e0abaf",
   "metadata": {},
   "outputs": [
    {
     "data": {
      "text/plain": [
       "disclosure_year              0\n",
       "disclosure_date              0\n",
       "transaction_date             0\n",
       "owner                     5614\n",
       "ticker                       0\n",
       "asset_description            4\n",
       "type                         0\n",
       "amount                       0\n",
       "representative               0\n",
       "district                     0\n",
       "ptr_link                     0\n",
       "cap_gains_over_200_usd       0\n",
       "dtype: int64"
      ]
     },
     "execution_count": 4,
     "metadata": {},
     "output_type": "execute_result"
    }
   ],
   "source": [
    "house.isnull().sum()"
   ]
  },
  {
   "cell_type": "markdown",
   "id": "aa399e57-3dd1-4d90-99b3-31350622ae05",
   "metadata": {},
   "source": [
    "## Null Owners"
   ]
  },
  {
   "cell_type": "code",
   "execution_count": 5,
   "id": "a01c12bc-d2f4-4285-ab0c-220a3d8947d6",
   "metadata": {},
   "outputs": [
    {
     "data": {
      "text/html": [
       "<div>\n",
       "<style scoped>\n",
       "    .dataframe tbody tr th:only-of-type {\n",
       "        vertical-align: middle;\n",
       "    }\n",
       "\n",
       "    .dataframe tbody tr th {\n",
       "        vertical-align: top;\n",
       "    }\n",
       "\n",
       "    .dataframe thead th {\n",
       "        text-align: right;\n",
       "    }\n",
       "</style>\n",
       "<table border=\"1\" class=\"dataframe\">\n",
       "  <thead>\n",
       "    <tr style=\"text-align: right;\">\n",
       "      <th></th>\n",
       "      <th>disclosure_year</th>\n",
       "      <th>disclosure_date</th>\n",
       "      <th>transaction_date</th>\n",
       "      <th>owner</th>\n",
       "      <th>ticker</th>\n",
       "      <th>asset_description</th>\n",
       "      <th>type</th>\n",
       "      <th>amount</th>\n",
       "      <th>representative</th>\n",
       "      <th>district</th>\n",
       "      <th>ptr_link</th>\n",
       "      <th>cap_gains_over_200_usd</th>\n",
       "    </tr>\n",
       "  </thead>\n",
       "  <tbody>\n",
       "    <tr>\n",
       "      <th>6</th>\n",
       "      <td>2021</td>\n",
       "      <td>12/01/2021</td>\n",
       "      <td>2021-11-30</td>\n",
       "      <td>NaN</td>\n",
       "      <td>KPLTW</td>\n",
       "      <td>Katapult Holdings Inc - Warrant</td>\n",
       "      <td>purchase</td>\n",
       "      <td>$1,001 - $15,000</td>\n",
       "      <td>Hon. Austin Scott</td>\n",
       "      <td>GA08</td>\n",
       "      <td>https://disclosures-clerk.house.gov/public_dis...</td>\n",
       "      <td>False</td>\n",
       "    </tr>\n",
       "    <tr>\n",
       "      <th>7</th>\n",
       "      <td>2021</td>\n",
       "      <td>12/01/2021</td>\n",
       "      <td>2021-11-18</td>\n",
       "      <td>NaN</td>\n",
       "      <td>AMD</td>\n",
       "      <td>Advanced Micro Devices Inc</td>\n",
       "      <td>sale_full</td>\n",
       "      <td>$50,001 - $100,000</td>\n",
       "      <td>Hon. Thomas Suozzi</td>\n",
       "      <td>NY03</td>\n",
       "      <td>https://disclosures-clerk.house.gov/public_dis...</td>\n",
       "      <td>False</td>\n",
       "    </tr>\n",
       "    <tr>\n",
       "      <th>8</th>\n",
       "      <td>2021</td>\n",
       "      <td>12/01/2021</td>\n",
       "      <td>2021-11-18</td>\n",
       "      <td>NaN</td>\n",
       "      <td>AAPL</td>\n",
       "      <td>Apple Inc</td>\n",
       "      <td>sale_full</td>\n",
       "      <td>$50,001 - $100,000</td>\n",
       "      <td>Hon. Thomas Suozzi</td>\n",
       "      <td>NY03</td>\n",
       "      <td>https://disclosures-clerk.house.gov/public_dis...</td>\n",
       "      <td>False</td>\n",
       "    </tr>\n",
       "    <tr>\n",
       "      <th>9</th>\n",
       "      <td>2021</td>\n",
       "      <td>12/01/2021</td>\n",
       "      <td>2021-11-24</td>\n",
       "      <td>NaN</td>\n",
       "      <td>MSFT</td>\n",
       "      <td>Microsoft Corporation</td>\n",
       "      <td>purchase</td>\n",
       "      <td>$50,001 - $100,000</td>\n",
       "      <td>Hon. Thomas Suozzi</td>\n",
       "      <td>NY03</td>\n",
       "      <td>https://disclosures-clerk.house.gov/public_dis...</td>\n",
       "      <td>False</td>\n",
       "    </tr>\n",
       "    <tr>\n",
       "      <th>10</th>\n",
       "      <td>2021</td>\n",
       "      <td>12/01/2021</td>\n",
       "      <td>2021-11-24</td>\n",
       "      <td>NaN</td>\n",
       "      <td>MS</td>\n",
       "      <td>Morgan Stanley</td>\n",
       "      <td>purchase</td>\n",
       "      <td>$100,001 - $250,000</td>\n",
       "      <td>Hon. Thomas Suozzi</td>\n",
       "      <td>NY03</td>\n",
       "      <td>https://disclosures-clerk.house.gov/public_dis...</td>\n",
       "      <td>False</td>\n",
       "    </tr>\n",
       "  </tbody>\n",
       "</table>\n",
       "</div>"
      ],
      "text/plain": [
       "    disclosure_year disclosure_date transaction_date owner ticker  \\\n",
       "6              2021      12/01/2021       2021-11-30   NaN  KPLTW   \n",
       "7              2021      12/01/2021       2021-11-18   NaN    AMD   \n",
       "8              2021      12/01/2021       2021-11-18   NaN   AAPL   \n",
       "9              2021      12/01/2021       2021-11-24   NaN   MSFT   \n",
       "10             2021      12/01/2021       2021-11-24   NaN     MS   \n",
       "\n",
       "                  asset_description       type               amount  \\\n",
       "6   Katapult Holdings Inc - Warrant   purchase     $1,001 - $15,000   \n",
       "7        Advanced Micro Devices Inc  sale_full   $50,001 - $100,000   \n",
       "8                         Apple Inc  sale_full   $50,001 - $100,000   \n",
       "9             Microsoft Corporation   purchase   $50,001 - $100,000   \n",
       "10                   Morgan Stanley   purchase  $100,001 - $250,000   \n",
       "\n",
       "        representative district  \\\n",
       "6    Hon. Austin Scott     GA08   \n",
       "7   Hon. Thomas Suozzi     NY03   \n",
       "8   Hon. Thomas Suozzi     NY03   \n",
       "9   Hon. Thomas Suozzi     NY03   \n",
       "10  Hon. Thomas Suozzi     NY03   \n",
       "\n",
       "                                             ptr_link  cap_gains_over_200_usd  \n",
       "6   https://disclosures-clerk.house.gov/public_dis...                   False  \n",
       "7   https://disclosures-clerk.house.gov/public_dis...                   False  \n",
       "8   https://disclosures-clerk.house.gov/public_dis...                   False  \n",
       "9   https://disclosures-clerk.house.gov/public_dis...                   False  \n",
       "10  https://disclosures-clerk.house.gov/public_dis...                   False  "
      ]
     },
     "execution_count": 5,
     "metadata": {},
     "output_type": "execute_result"
    }
   ],
   "source": [
    "house[house['owner'].isnull()].head()"
   ]
  },
  {
   "cell_type": "code",
   "execution_count": 6,
   "id": "13411617-bdfe-4677-a1d9-cfb8ef358f46",
   "metadata": {},
   "outputs": [
    {
     "data": {
      "text/plain": [
       "0.3779198922921575"
      ]
     },
     "execution_count": 6,
     "metadata": {},
     "output_type": "execute_result"
    }
   ],
   "source": [
    "percent_null = house.owner.isnull().sum()/len(house)\n",
    "percent_null"
   ]
  },
  {
   "cell_type": "code",
   "execution_count": 7,
   "id": "ef1ded55-b6fe-4887-a1ec-28a7d7e149a3",
   "metadata": {},
   "outputs": [
    {
     "data": {
      "text/plain": [
       "NaN          5614\n",
       "joint        4635\n",
       "self         2897\n",
       "--           1315\n",
       "dependent     394\n",
       "Name: owner, dtype: int64"
      ]
     },
     "execution_count": 7,
     "metadata": {},
     "output_type": "execute_result"
    }
   ],
   "source": [
    "house['owner'].value_counts(dropna = False)"
   ]
  },
  {
   "cell_type": "markdown",
   "id": "6774bc83-9357-4503-94dc-44d4eae19af9",
   "metadata": {},
   "source": [
    "We decided to drop the `'owner'` column because there were so many nulls and '--'. For our purposes, to see if congresspeople are taking advantage of insider trading, the distinction of who in the congressperson's family technically owns the equity is unimportant. It would be interesting to explore ownership, but there's just too many nulls."
   ]
  },
  {
   "cell_type": "code",
   "execution_count": 8,
   "id": "955137c1-5a95-462f-83f7-69130f06df07",
   "metadata": {},
   "outputs": [],
   "source": [
    "house.drop(columns = ['owner'], inplace = True)"
   ]
  },
  {
   "cell_type": "markdown",
   "id": "9bc3a187-5bdc-4688-9395-8f7dec146d28",
   "metadata": {},
   "source": [
    "## Null Asset Descriptions"
   ]
  },
  {
   "cell_type": "code",
   "execution_count": 9,
   "id": "f0fda02d-00ba-47d6-ad72-f0ecca1b6315",
   "metadata": {},
   "outputs": [],
   "source": [
    "pd.set_option('max_colwidth', 1000)"
   ]
  },
  {
   "cell_type": "code",
   "execution_count": 10,
   "id": "940601be-1ad6-48a4-b24d-df002f8a1fe7",
   "metadata": {},
   "outputs": [
    {
     "data": {
      "text/html": [
       "<div>\n",
       "<style scoped>\n",
       "    .dataframe tbody tr th:only-of-type {\n",
       "        vertical-align: middle;\n",
       "    }\n",
       "\n",
       "    .dataframe tbody tr th {\n",
       "        vertical-align: top;\n",
       "    }\n",
       "\n",
       "    .dataframe thead th {\n",
       "        text-align: right;\n",
       "    }\n",
       "</style>\n",
       "<table border=\"1\" class=\"dataframe\">\n",
       "  <thead>\n",
       "    <tr style=\"text-align: right;\">\n",
       "      <th></th>\n",
       "      <th>disclosure_year</th>\n",
       "      <th>disclosure_date</th>\n",
       "      <th>transaction_date</th>\n",
       "      <th>ticker</th>\n",
       "      <th>asset_description</th>\n",
       "      <th>type</th>\n",
       "      <th>amount</th>\n",
       "      <th>representative</th>\n",
       "      <th>district</th>\n",
       "      <th>ptr_link</th>\n",
       "      <th>cap_gains_over_200_usd</th>\n",
       "    </tr>\n",
       "  </thead>\n",
       "  <tbody>\n",
       "    <tr>\n",
       "      <th>801</th>\n",
       "      <td>2021</td>\n",
       "      <td>02/10/2021</td>\n",
       "      <td>2021-01-12</td>\n",
       "      <td>BLL</td>\n",
       "      <td>NaN</td>\n",
       "      <td>sale_partial</td>\n",
       "      <td>$1,001 - $15,000</td>\n",
       "      <td>Hon. Susie Lee</td>\n",
       "      <td>NV03</td>\n",
       "      <td>https://disclosures-clerk.house.gov/public_disc/ptr-pdfs/2021/20018168.pdf</td>\n",
       "      <td>True</td>\n",
       "    </tr>\n",
       "    <tr>\n",
       "      <th>3933</th>\n",
       "      <td>2021</td>\n",
       "      <td>03/28/2021</td>\n",
       "      <td>2021-03-16</td>\n",
       "      <td>CELO</td>\n",
       "      <td>NaN</td>\n",
       "      <td>purchase</td>\n",
       "      <td>$1,001 - $15,000</td>\n",
       "      <td>Hon. Mark Dr Green</td>\n",
       "      <td>TN07</td>\n",
       "      <td>https://disclosures-clerk.house.gov/public_disc/ptr-pdfs/2021/20018471.pdf</td>\n",
       "      <td>False</td>\n",
       "    </tr>\n",
       "    <tr>\n",
       "      <th>12597</th>\n",
       "      <td>2021</td>\n",
       "      <td>03/18/2021</td>\n",
       "      <td>2021-02-16</td>\n",
       "      <td>URGO</td>\n",
       "      <td>NaN</td>\n",
       "      <td>purchase</td>\n",
       "      <td>$15,001 - $50,000</td>\n",
       "      <td>Hon. Brian Mast</td>\n",
       "      <td>FL18</td>\n",
       "      <td>https://disclosures-clerk.house.gov/public_disc/ptr-pdfs/2021/20018421.pdf</td>\n",
       "      <td>False</td>\n",
       "    </tr>\n",
       "    <tr>\n",
       "      <th>12598</th>\n",
       "      <td>2021</td>\n",
       "      <td>03/18/2021</td>\n",
       "      <td>2021-02-18</td>\n",
       "      <td>URGO</td>\n",
       "      <td>NaN</td>\n",
       "      <td>purchase</td>\n",
       "      <td>$1,001 - $15,000</td>\n",
       "      <td>Hon. Brian Mast</td>\n",
       "      <td>FL18</td>\n",
       "      <td>https://disclosures-clerk.house.gov/public_disc/ptr-pdfs/2021/20018421.pdf</td>\n",
       "      <td>False</td>\n",
       "    </tr>\n",
       "  </tbody>\n",
       "</table>\n",
       "</div>"
      ],
      "text/plain": [
       "       disclosure_year disclosure_date transaction_date ticker  \\\n",
       "801               2021      02/10/2021       2021-01-12    BLL   \n",
       "3933              2021      03/28/2021       2021-03-16   CELO   \n",
       "12597             2021      03/18/2021       2021-02-16   URGO   \n",
       "12598             2021      03/18/2021       2021-02-18   URGO   \n",
       "\n",
       "      asset_description          type             amount      representative  \\\n",
       "801                 NaN  sale_partial   $1,001 - $15,000      Hon. Susie Lee   \n",
       "3933                NaN      purchase   $1,001 - $15,000  Hon. Mark Dr Green   \n",
       "12597               NaN      purchase  $15,001 - $50,000     Hon. Brian Mast   \n",
       "12598               NaN      purchase   $1,001 - $15,000     Hon. Brian Mast   \n",
       "\n",
       "      district  \\\n",
       "801       NV03   \n",
       "3933      TN07   \n",
       "12597     FL18   \n",
       "12598     FL18   \n",
       "\n",
       "                                                                         ptr_link  \\\n",
       "801    https://disclosures-clerk.house.gov/public_disc/ptr-pdfs/2021/20018168.pdf   \n",
       "3933   https://disclosures-clerk.house.gov/public_disc/ptr-pdfs/2021/20018471.pdf   \n",
       "12597  https://disclosures-clerk.house.gov/public_disc/ptr-pdfs/2021/20018421.pdf   \n",
       "12598  https://disclosures-clerk.house.gov/public_disc/ptr-pdfs/2021/20018421.pdf   \n",
       "\n",
       "       cap_gains_over_200_usd  \n",
       "801                      True  \n",
       "3933                    False  \n",
       "12597                   False  \n",
       "12598                   False  "
      ]
     },
     "execution_count": 10,
     "metadata": {},
     "output_type": "execute_result"
    }
   ],
   "source": [
    "house[house['asset_description'].isnull()]"
   ]
  },
  {
   "cell_type": "markdown",
   "id": "00e4bb25-37b1-4866-a95a-5c6a23c98047",
   "metadata": {},
   "source": [
    "It's unclear what these are. We'll drop them, as a result.\n",
    "\n",
    "BLL appears to be the Ball Corporation, which trades in Vienna as BLL but on the NYSE as BALL. It's not clear which it is.\n",
    "\n",
    "CELO also appears to be a blockchain currency.\n",
    "\n",
    "URGO could be UGRO or it could be an (apparently small) blockchain currency. If that's the case, it's possible Brian Mast owns a very signicant chunk of it ([see here](https://thebittimes.com/token-URGO-BSC-0x06b1927e40F04b5b6EBc353842B678011b766B8A.html))."
   ]
  },
  {
   "cell_type": "code",
   "execution_count": 11,
   "id": "1d9d5afe-52b1-4b07-88b7-f6bda5b91165",
   "metadata": {},
   "outputs": [
    {
     "data": {
      "text/plain": [
       "disclosure_year           0\n",
       "disclosure_date           0\n",
       "transaction_date          0\n",
       "ticker                    0\n",
       "asset_description         4\n",
       "type                      0\n",
       "amount                    0\n",
       "representative            0\n",
       "district                  0\n",
       "ptr_link                  0\n",
       "cap_gains_over_200_usd    0\n",
       "dtype: int64"
      ]
     },
     "execution_count": 11,
     "metadata": {},
     "output_type": "execute_result"
    }
   ],
   "source": [
    "house.isnull().sum()"
   ]
  },
  {
   "cell_type": "code",
   "execution_count": 12,
   "id": "0996a608-69d9-4b6d-b25b-7f8d80c97672",
   "metadata": {},
   "outputs": [],
   "source": [
    "house.dropna(inplace = True)"
   ]
  },
  {
   "cell_type": "code",
   "execution_count": 13,
   "id": "b8fe90dd-7317-45d1-894f-9868573867b1",
   "metadata": {},
   "outputs": [
    {
     "data": {
      "text/plain": [
       "disclosure_year           0\n",
       "disclosure_date           0\n",
       "transaction_date          0\n",
       "ticker                    0\n",
       "asset_description         0\n",
       "type                      0\n",
       "amount                    0\n",
       "representative            0\n",
       "district                  0\n",
       "ptr_link                  0\n",
       "cap_gains_over_200_usd    0\n",
       "dtype: int64"
      ]
     },
     "execution_count": 13,
     "metadata": {},
     "output_type": "execute_result"
    }
   ],
   "source": [
    "house.isnull().sum()"
   ]
  },
  {
   "cell_type": "markdown",
   "id": "dbb7df92-277f-41c5-8445-b38848f6e7e1",
   "metadata": {},
   "source": [
    "# Datetimes"
   ]
  },
  {
   "cell_type": "code",
   "execution_count": 14,
   "id": "ffc06285-e5a3-4a34-b2d2-a0472dbe28a5",
   "metadata": {},
   "outputs": [],
   "source": [
    "house['disclosure_date'] = pd.to_datetime(house['disclosure_date'], yearfirst=True)"
   ]
  },
  {
   "cell_type": "markdown",
   "id": "2fb47003-11c5-44bb-83fa-8410ad4cf35b",
   "metadata": {},
   "source": [
    "We discovered some wonky years in the transaction dates. Fortunately, it was highly likely the disclosure year was the year of the transaction, so we substituted that for the year in the transaction date, which enabled us to convert to datetimes."
   ]
  },
  {
   "cell_type": "markdown",
   "id": "f16401d1-9b3f-4c80-ba53-451a303cb5f3",
   "metadata": {},
   "source": [
    "This [stackoverflow answer](https://stackoverflow.com/a/56968849) helped to understand how to pull the first item from within the list."
   ]
  },
  {
   "cell_type": "code",
   "execution_count": 15,
   "id": "a64d494a-66a6-43c7-b4aa-51036c04a0ed",
   "metadata": {},
   "outputs": [],
   "source": [
    "house['transaction_date'] = house['transaction_date'].str.split('-')\n",
    "\n",
    "weird_years = house[(house['transaction_date'].str[0] != '2017') &\n",
    "      (house['transaction_date'].str[0] != '2018') &\n",
    "      (house['transaction_date'].str[0] != '2019') &\n",
    "      (house['transaction_date'].str[0] != '2020') &\n",
    "      (house['transaction_date'].str[0] != '2021') &\n",
    "      (house['transaction_date'].str[0] != '2022')]\n",
    "\n",
    "for i in weird_years.index:\n",
    "    house.loc[i, 'transaction_date'][0] = str(house.loc[i, 'disclosure_year'])"
   ]
  },
  {
   "cell_type": "code",
   "execution_count": 16,
   "id": "ba08ca24-3015-4413-9a5b-f1dbeec85b80",
   "metadata": {},
   "outputs": [
    {
     "data": {
      "text/html": [
       "<div>\n",
       "<style scoped>\n",
       "    .dataframe tbody tr th:only-of-type {\n",
       "        vertical-align: middle;\n",
       "    }\n",
       "\n",
       "    .dataframe tbody tr th {\n",
       "        vertical-align: top;\n",
       "    }\n",
       "\n",
       "    .dataframe thead th {\n",
       "        text-align: right;\n",
       "    }\n",
       "</style>\n",
       "<table border=\"1\" class=\"dataframe\">\n",
       "  <thead>\n",
       "    <tr style=\"text-align: right;\">\n",
       "      <th></th>\n",
       "      <th>disclosure_year</th>\n",
       "      <th>disclosure_date</th>\n",
       "      <th>transaction_date</th>\n",
       "      <th>ticker</th>\n",
       "      <th>asset_description</th>\n",
       "      <th>type</th>\n",
       "      <th>amount</th>\n",
       "      <th>representative</th>\n",
       "      <th>district</th>\n",
       "      <th>ptr_link</th>\n",
       "      <th>cap_gains_over_200_usd</th>\n",
       "    </tr>\n",
       "  </thead>\n",
       "  <tbody>\n",
       "  </tbody>\n",
       "</table>\n",
       "</div>"
      ],
      "text/plain": [
       "Empty DataFrame\n",
       "Columns: [disclosure_year, disclosure_date, transaction_date, ticker, asset_description, type, amount, representative, district, ptr_link, cap_gains_over_200_usd]\n",
       "Index: []"
      ]
     },
     "execution_count": 16,
     "metadata": {},
     "output_type": "execute_result"
    }
   ],
   "source": [
    "#verifying the years have been fixed\n",
    "house[(house['transaction_date'].str[0] != '2017') &\n",
    "      (house['transaction_date'].str[0] != '2018') &\n",
    "      (house['transaction_date'].str[0] != '2019') &\n",
    "      (house['transaction_date'].str[0] != '2020') &\n",
    "      (house['transaction_date'].str[0] != '2021') &\n",
    "      (house['transaction_date'].str[0] != '2022')]"
   ]
  },
  {
   "cell_type": "code",
   "execution_count": 17,
   "id": "ef471957-3be2-4713-a5c1-4368e52cb90a",
   "metadata": {},
   "outputs": [
    {
     "data": {
      "text/plain": [
       "disclosure_year                    int64\n",
       "disclosure_date           datetime64[ns]\n",
       "transaction_date          datetime64[ns]\n",
       "ticker                            object\n",
       "asset_description                 object\n",
       "type                              object\n",
       "amount                            object\n",
       "representative                    object\n",
       "district                          object\n",
       "ptr_link                          object\n",
       "cap_gains_over_200_usd              bool\n",
       "dtype: object"
      ]
     },
     "execution_count": 17,
     "metadata": {},
     "output_type": "execute_result"
    }
   ],
   "source": [
    "house['transaction_date'] = house['transaction_date'].str.join('-')\n",
    "house['transaction_date'] = pd.to_datetime(house['transaction_date'])\n",
    "house.dtypes"
   ]
  },
  {
   "cell_type": "code",
   "execution_count": 18,
   "id": "c6e1813d-3ee7-4877-9491-e67c48df51f1",
   "metadata": {},
   "outputs": [
    {
     "data": {
      "text/plain": [
       "count                            14851\n",
       "mean     2020-11-29 16:54:54.808430336\n",
       "min                2017-09-05 00:00:00\n",
       "25%                2020-04-21 12:00:00\n",
       "50%                2020-11-19 00:00:00\n",
       "75%                2021-06-08 00:00:00\n",
       "max                2022-12-31 00:00:00\n",
       "Name: transaction_date, dtype: object"
      ]
     },
     "execution_count": 18,
     "metadata": {},
     "output_type": "execute_result"
    }
   ],
   "source": [
    "#verifying the range of dates is what we expect\n",
    "house['transaction_date'].describe(datetime_is_numeric=True)"
   ]
  },
  {
   "cell_type": "markdown",
   "id": "e6eb0f2e-a906-40cb-8883-541e632a1ffe",
   "metadata": {},
   "source": [
    "# Amounts"
   ]
  },
  {
   "cell_type": "code",
   "execution_count": 19,
   "id": "10397ad7-57b5-4555-bde5-00b55f492b5a",
   "metadata": {},
   "outputs": [
    {
     "data": {
      "text/plain": [
       "$1,001 - $15,000            10444\n",
       "$15,001 - $50,000            2361\n",
       "$50,001 - $100,000            750\n",
       "$100,001 - $250,000           572\n",
       "$250,001 - $500,000           243\n",
       "$1,001 -                      242\n",
       "$500,001 - $1,000,000         150\n",
       "$1,000,001 - $5,000,000        41\n",
       "$1,000,000 +                   30\n",
       "$5,000,001 - $25,000,000        9\n",
       "$1,000 - $15,000                4\n",
       "$15,000 - $50,000               3\n",
       "$50,000,000 +                   1\n",
       "$1,000,000 - $5,000,000         1\n",
       "Name: amount, dtype: int64"
      ]
     },
     "execution_count": 19,
     "metadata": {},
     "output_type": "execute_result"
    }
   ],
   "source": [
    "house['amount'].value_counts()"
   ]
  },
  {
   "cell_type": "markdown",
   "id": "5929a366-ee80-439a-8259-e2f6eda9694a",
   "metadata": {},
   "source": [
    "Review of .replace() from [here](https://www.symbiosisacademy.org/tutorial-index/pandas-search-replace-values-columns/)"
   ]
  },
  {
   "cell_type": "code",
   "execution_count": 20,
   "id": "7c8a312b-06da-4efa-809d-7e5fcd8026e0",
   "metadata": {},
   "outputs": [
    {
     "data": {
      "text/plain": [
       "$1,001 - $15,000            10690\n",
       "$15,001 - $50,000            2364\n",
       "$50,001 - $100,000            750\n",
       "$100,001 - $250,000           572\n",
       "$250,001 - $500,000           243\n",
       "$500,001 - $1,000,000         150\n",
       "$1,000,001 - $5,000,000        72\n",
       "$5,000,001 - $25,000,000        9\n",
       "$50,000,000 +                   1\n",
       "Name: amount, dtype: int64"
      ]
     },
     "execution_count": 20,
     "metadata": {},
     "output_type": "execute_result"
    }
   ],
   "source": [
    "house = house.replace(to_replace={'amount':['$1,001 -', '$1,000 - $15,000']}, value= '$1,001 - $15,000')\n",
    "house = house.replace(to_replace={'amount':['$1,000,000 +', '$1,000,000 - $5,000,000']}, value= '$1,000,001 - $5,000,000')\n",
    "house = house.replace(to_replace={'amount':['$15,000 - $50,000']}, value= '$15,001 - $50,000')\n",
    "house['amount'].value_counts()"
   ]
  },
  {
   "cell_type": "code",
   "execution_count": 21,
   "id": "5dd8d043-60fe-45e6-801b-97474600279b",
   "metadata": {},
   "outputs": [
    {
     "data": {
      "text/plain": [
       "15000       10690\n",
       "50000        2364\n",
       "100000        750\n",
       "250000        572\n",
       "500000        243\n",
       "1000000       150\n",
       "5000000        72\n",
       "25000000        9\n",
       "50000000        1\n",
       "Name: amount, dtype: int64"
      ]
     },
     "execution_count": 21,
     "metadata": {},
     "output_type": "execute_result"
    }
   ],
   "source": [
    "house['amount'] = house['amount'].str.split(' ') \n",
    "\n",
    "for i in house.index:\n",
    "    if len(house.loc[i, 'amount']) == 3:\n",
    "        house.loc[i, 'amount'] = house.loc[i, 'amount'][2]\n",
    "    else:\n",
    "        house.loc[i, 'amount'] = house.loc[i, 'amount'][0]\n",
    "        \n",
    "house['amount'] = house['amount'].map(lambda x: x.replace('$', '').replace(',', ''))\n",
    "house['amount'] = house['amount'].astype(int)\n",
    "house['amount'].value_counts()"
   ]
  },
  {
   "cell_type": "markdown",
   "id": "4e65e7f8-6275-443c-b855-45291e5e20c0",
   "metadata": {},
   "source": [
    "## Double Checking Data Types"
   ]
  },
  {
   "cell_type": "code",
   "execution_count": 22,
   "id": "9035f082-af54-4339-9823-c2a5f38bcaa0",
   "metadata": {},
   "outputs": [
    {
     "data": {
      "text/plain": [
       "disclosure_year                    int64\n",
       "disclosure_date           datetime64[ns]\n",
       "transaction_date          datetime64[ns]\n",
       "ticker                            object\n",
       "asset_description                 object\n",
       "type                              object\n",
       "amount                             int64\n",
       "representative                    object\n",
       "district                          object\n",
       "ptr_link                          object\n",
       "cap_gains_over_200_usd              bool\n",
       "dtype: object"
      ]
     },
     "execution_count": 22,
     "metadata": {},
     "output_type": "execute_result"
    }
   ],
   "source": [
    "house.dtypes"
   ]
  },
  {
   "cell_type": "markdown",
   "id": "c95755c2-2f6e-4d5d-b360-271b859cc924",
   "metadata": {
    "tags": []
   },
   "source": [
    "# Ticker Symbols"
   ]
  },
  {
   "cell_type": "code",
   "execution_count": 23,
   "id": "afb12a8b-b2b7-49b6-93f4-3af022eeeda8",
   "metadata": {
    "scrolled": true,
    "tags": []
   },
   "outputs": [
    {
     "data": {
      "text/plain": [
       "--       1208\n",
       "MSFT      244\n",
       "AAPL      181\n",
       "NTAP      130\n",
       "TDDXX     122\n",
       "         ... \n",
       "MGPI        1\n",
       "MSTR        1\n",
       "MC          1\n",
       "MPWR        1\n",
       "FLCO        1\n",
       "Name: ticker, Length: 2121, dtype: int64"
      ]
     },
     "execution_count": 23,
     "metadata": {},
     "output_type": "execute_result"
    }
   ],
   "source": [
    "house['ticker'].value_counts(dropna=False)"
   ]
  },
  {
   "cell_type": "code",
   "execution_count": 24,
   "id": "9fa1346a-61b9-4ba7-baef-83b1d95e6b59",
   "metadata": {},
   "outputs": [
    {
     "data": {
      "text/html": [
       "<div>\n",
       "<style scoped>\n",
       "    .dataframe tbody tr th:only-of-type {\n",
       "        vertical-align: middle;\n",
       "    }\n",
       "\n",
       "    .dataframe tbody tr th {\n",
       "        vertical-align: top;\n",
       "    }\n",
       "\n",
       "    .dataframe thead th {\n",
       "        text-align: right;\n",
       "    }\n",
       "</style>\n",
       "<table border=\"1\" class=\"dataframe\">\n",
       "  <thead>\n",
       "    <tr style=\"text-align: right;\">\n",
       "      <th></th>\n",
       "      <th>disclosure_year</th>\n",
       "      <th>disclosure_date</th>\n",
       "      <th>transaction_date</th>\n",
       "      <th>ticker</th>\n",
       "      <th>asset_description</th>\n",
       "      <th>type</th>\n",
       "      <th>amount</th>\n",
       "      <th>representative</th>\n",
       "      <th>district</th>\n",
       "      <th>ptr_link</th>\n",
       "      <th>cap_gains_over_200_usd</th>\n",
       "    </tr>\n",
       "  </thead>\n",
       "  <tbody>\n",
       "  </tbody>\n",
       "</table>\n",
       "</div>"
      ],
      "text/plain": [
       "Empty DataFrame\n",
       "Columns: [disclosure_year, disclosure_date, transaction_date, ticker, asset_description, type, amount, representative, district, ptr_link, cap_gains_over_200_usd]\n",
       "Index: []"
      ]
     },
     "execution_count": 24,
     "metadata": {},
     "output_type": "execute_result"
    }
   ],
   "source": [
    "house[house['ticker'].isna()]"
   ]
  },
  {
   "cell_type": "markdown",
   "id": "cb12cfba-0d15-4c75-8359-380aa47a8c7a",
   "metadata": {},
   "source": [
    "## '--' Tickers\n",
    "'ticker' == '--' is about 8% of our data"
   ]
  },
  {
   "cell_type": "code",
   "execution_count": 25,
   "id": "7093d24f-453a-4ab8-8505-4a06a14508f2",
   "metadata": {},
   "outputs": [
    {
     "data": {
      "text/plain": [
       "0.081341323816578"
      ]
     },
     "execution_count": 25,
     "metadata": {},
     "output_type": "execute_result"
    }
   ],
   "source": [
    "house['ticker'].value_counts().values[0]/len(house)"
   ]
  },
  {
   "cell_type": "code",
   "execution_count": 26,
   "id": "86600684-51b6-448a-9a72-0a02d102a6a9",
   "metadata": {},
   "outputs": [
    {
     "data": {
      "text/html": [
       "<div>\n",
       "<style scoped>\n",
       "    .dataframe tbody tr th:only-of-type {\n",
       "        vertical-align: middle;\n",
       "    }\n",
       "\n",
       "    .dataframe tbody tr th {\n",
       "        vertical-align: top;\n",
       "    }\n",
       "\n",
       "    .dataframe thead th {\n",
       "        text-align: right;\n",
       "    }\n",
       "</style>\n",
       "<table border=\"1\" class=\"dataframe\">\n",
       "  <thead>\n",
       "    <tr style=\"text-align: right;\">\n",
       "      <th></th>\n",
       "      <th>disclosure_year</th>\n",
       "      <th>disclosure_date</th>\n",
       "      <th>transaction_date</th>\n",
       "      <th>ticker</th>\n",
       "      <th>asset_description</th>\n",
       "      <th>type</th>\n",
       "      <th>amount</th>\n",
       "      <th>representative</th>\n",
       "      <th>district</th>\n",
       "      <th>ptr_link</th>\n",
       "      <th>cap_gains_over_200_usd</th>\n",
       "    </tr>\n",
       "  </thead>\n",
       "  <tbody>\n",
       "    <tr>\n",
       "      <th>56</th>\n",
       "      <td>2020</td>\n",
       "      <td>2020-09-22</td>\n",
       "      <td>2020-08-17</td>\n",
       "      <td>--</td>\n",
       "      <td>Metallic Minerals Corp.</td>\n",
       "      <td>sale_partial</td>\n",
       "      <td>250000</td>\n",
       "      <td>Mr. TJ John (Tj) Cox</td>\n",
       "      <td>CA21</td>\n",
       "      <td>https://disclosures-clerk.house.gov/public_disc/ptr-pdfs/2020/20017403.pdf</td>\n",
       "      <td>True</td>\n",
       "    </tr>\n",
       "    <tr>\n",
       "      <th>57</th>\n",
       "      <td>2021</td>\n",
       "      <td>2021-03-23</td>\n",
       "      <td>2021-01-27</td>\n",
       "      <td>--</td>\n",
       "      <td>Zimmer Biomet Holdings</td>\n",
       "      <td>sale_partial</td>\n",
       "      <td>15000</td>\n",
       "      <td>Hon. Alan S. Lowenthal</td>\n",
       "      <td>CA47</td>\n",
       "      <td>https://disclosures-clerk.house.gov/public_disc/ptr-pdfs/2021/20018447.pdf</td>\n",
       "      <td>False</td>\n",
       "    </tr>\n",
       "    <tr>\n",
       "      <th>58</th>\n",
       "      <td>2021</td>\n",
       "      <td>2021-03-23</td>\n",
       "      <td>2021-02-08</td>\n",
       "      <td>--</td>\n",
       "      <td>Zimmer Biomet Holdings</td>\n",
       "      <td>sale_full</td>\n",
       "      <td>15000</td>\n",
       "      <td>Hon. Alan S. Lowenthal</td>\n",
       "      <td>CA47</td>\n",
       "      <td>https://disclosures-clerk.house.gov/public_disc/ptr-pdfs/2021/20018447.pdf</td>\n",
       "      <td>False</td>\n",
       "    </tr>\n",
       "    <tr>\n",
       "      <th>59</th>\n",
       "      <td>2021</td>\n",
       "      <td>2021-03-23</td>\n",
       "      <td>2021-02-08</td>\n",
       "      <td>--</td>\n",
       "      <td>Zimmer Biomet Holdings</td>\n",
       "      <td>purchase</td>\n",
       "      <td>15000</td>\n",
       "      <td>Hon. Alan S. Lowenthal</td>\n",
       "      <td>CA47</td>\n",
       "      <td>https://disclosures-clerk.house.gov/public_disc/ptr-pdfs/2021/20018448.pdf</td>\n",
       "      <td>False</td>\n",
       "    </tr>\n",
       "    <tr>\n",
       "      <th>61</th>\n",
       "      <td>2021</td>\n",
       "      <td>2021-03-23</td>\n",
       "      <td>2021-02-19</td>\n",
       "      <td>--</td>\n",
       "      <td>Celegene Corp</td>\n",
       "      <td>sale_full</td>\n",
       "      <td>50000</td>\n",
       "      <td>Hon. Alan S. Lowenthal</td>\n",
       "      <td>CA47</td>\n",
       "      <td>https://disclosures-clerk.house.gov/public_disc/ptr-pdfs/2021/20018450.pdf</td>\n",
       "      <td>False</td>\n",
       "    </tr>\n",
       "  </tbody>\n",
       "</table>\n",
       "</div>"
      ],
      "text/plain": [
       "    disclosure_year disclosure_date transaction_date ticker  \\\n",
       "56             2020      2020-09-22       2020-08-17     --   \n",
       "57             2021      2021-03-23       2021-01-27     --   \n",
       "58             2021      2021-03-23       2021-02-08     --   \n",
       "59             2021      2021-03-23       2021-02-08     --   \n",
       "61             2021      2021-03-23       2021-02-19     --   \n",
       "\n",
       "          asset_description          type  amount          representative  \\\n",
       "56  Metallic Minerals Corp.  sale_partial  250000    Mr. TJ John (Tj) Cox   \n",
       "57   Zimmer Biomet Holdings  sale_partial   15000  Hon. Alan S. Lowenthal   \n",
       "58   Zimmer Biomet Holdings     sale_full   15000  Hon. Alan S. Lowenthal   \n",
       "59   Zimmer Biomet Holdings      purchase   15000  Hon. Alan S. Lowenthal   \n",
       "61            Celegene Corp     sale_full   50000  Hon. Alan S. Lowenthal   \n",
       "\n",
       "   district  \\\n",
       "56     CA21   \n",
       "57     CA47   \n",
       "58     CA47   \n",
       "59     CA47   \n",
       "61     CA47   \n",
       "\n",
       "                                                                      ptr_link  \\\n",
       "56  https://disclosures-clerk.house.gov/public_disc/ptr-pdfs/2020/20017403.pdf   \n",
       "57  https://disclosures-clerk.house.gov/public_disc/ptr-pdfs/2021/20018447.pdf   \n",
       "58  https://disclosures-clerk.house.gov/public_disc/ptr-pdfs/2021/20018447.pdf   \n",
       "59  https://disclosures-clerk.house.gov/public_disc/ptr-pdfs/2021/20018448.pdf   \n",
       "61  https://disclosures-clerk.house.gov/public_disc/ptr-pdfs/2021/20018450.pdf   \n",
       "\n",
       "    cap_gains_over_200_usd  \n",
       "56                    True  \n",
       "57                   False  \n",
       "58                   False  \n",
       "59                   False  \n",
       "61                   False  "
      ]
     },
     "execution_count": 26,
     "metadata": {},
     "output_type": "execute_result"
    }
   ],
   "source": [
    "house[house['ticker'] == '--'].head()"
   ]
  },
  {
   "cell_type": "markdown",
   "id": "1d08d8fb-bc46-4b19-8dc0-66678b13e742",
   "metadata": {},
   "source": [
    "## This is where we fill in as many of the '--' as we can"
   ]
  },
  {
   "cell_type": "code",
   "execution_count": 27,
   "id": "b68133cf-709c-4f05-a4c9-3d629e2fc30f",
   "metadata": {},
   "outputs": [
    {
     "data": {
      "text/html": [
       "<div>\n",
       "<style scoped>\n",
       "    .dataframe tbody tr th:only-of-type {\n",
       "        vertical-align: middle;\n",
       "    }\n",
       "\n",
       "    .dataframe tbody tr th {\n",
       "        vertical-align: top;\n",
       "    }\n",
       "\n",
       "    .dataframe thead th {\n",
       "        text-align: right;\n",
       "    }\n",
       "</style>\n",
       "<table border=\"1\" class=\"dataframe\">\n",
       "  <thead>\n",
       "    <tr style=\"text-align: right;\">\n",
       "      <th></th>\n",
       "      <th>symbol</th>\n",
       "      <th>name</th>\n",
       "    </tr>\n",
       "  </thead>\n",
       "  <tbody>\n",
       "    <tr>\n",
       "      <th>0</th>\n",
       "      <td>AAPL</td>\n",
       "      <td>Apple Inc.</td>\n",
       "    </tr>\n",
       "    <tr>\n",
       "      <th>1</th>\n",
       "      <td>XOM</td>\n",
       "      <td>Exxon Mobil Corporation</td>\n",
       "    </tr>\n",
       "    <tr>\n",
       "      <th>2</th>\n",
       "      <td>MSFT</td>\n",
       "      <td>Microsoft Corporation</td>\n",
       "    </tr>\n",
       "    <tr>\n",
       "      <th>3</th>\n",
       "      <td>BAC^I</td>\n",
       "      <td>Bank of America Corporation</td>\n",
       "    </tr>\n",
       "    <tr>\n",
       "      <th>4</th>\n",
       "      <td>IBM</td>\n",
       "      <td>International Business Machines Corporation</td>\n",
       "    </tr>\n",
       "  </tbody>\n",
       "</table>\n",
       "</div>"
      ],
      "text/plain": [
       "  symbol                                         name\n",
       "0   AAPL                                   Apple Inc.\n",
       "1    XOM                      Exxon Mobil Corporation\n",
       "2   MSFT                        Microsoft Corporation\n",
       "3  BAC^I                  Bank of America Corporation\n",
       "4    IBM  International Business Machines Corporation"
      ]
     },
     "execution_count": 27,
     "metadata": {},
     "output_type": "execute_result"
    }
   ],
   "source": [
    "tickers = pd.read_excel('data/US-Stock-Symbols.xlsx')\n",
    "tickers = tickers[['Symbol', 'Name']]\n",
    "tickers.columns = tickers.columns.map(lambda x: x.lower())\n",
    "\n",
    "tickers.head()"
   ]
  },
  {
   "cell_type": "markdown",
   "id": "b1826f94-c449-493a-9c6c-8c9834eeb45e",
   "metadata": {},
   "source": [
    "## this code in Senate helped with cleanup, so trying it out in the house."
   ]
  },
  {
   "cell_type": "code",
   "execution_count": 28,
   "id": "c1542ef4-aafb-4b17-a16e-2612dfb3f15b",
   "metadata": {},
   "outputs": [],
   "source": [
    "house['asset_description'] = house['asset_description'].str.replace(' &amp;', '')\n",
    "house['asset_description'] = house['asset_description'].str.replace(' Common Stock', '')\n",
    "house['asset_description'] = house['asset_description'].str.replace(' CMN', '')\n",
    "house['asset_description'] = house['asset_description'].str.replace(' ETF', '')"
   ]
  },
  {
   "cell_type": "markdown",
   "id": "ed69144f-f4fa-4d76-ba5c-78381412488f",
   "metadata": {
    "tags": []
   },
   "source": [
    "## Adding Missing Names to the DataFrame\n",
    "We found a number of asset descriptions that don't match exactly with items in the tickers dataframe, so we added those based on research. We have near 100% certainty on almost all of them. The one slight exception is \"West Fargo N D\", which appears 3 times. This appears to be Wells Fargo, the bank. That was a judgment call.\n",
    "\n",
    "The second set of names is from cleaning the Senate dataframe."
   ]
  },
  {
   "cell_type": "code",
   "execution_count": 29,
   "id": "338997ff-d3ef-43d2-a75e-afb85c567663",
   "metadata": {},
   "outputs": [],
   "source": [
    "df2 = pd.DataFrame({\n",
    "    'symbol': ['FLX', 'TDDXX', 'NFG', 'PM', 'LIN', 'GPN', 'EQIX', 'PYPL', 'TDDXX', 'FSEN', 'TDDXX', 'ZBH', 'ORCL', 'UNH', 'EXPE',\n",
    "              'ADYEY', 'WFC'],\n",
    "    'name': ['Netflix Inc', 'BLF FedFund TDDXX', 'National Fuel Gas Company', 'Philip Morris International Inc', \n",
    "             'Linde plc Ordinary Share', 'Global Payments Inc', 'Equinix Inc', 'Paypal Holdings Inc', 'BLF FedFund TDD XX', \n",
    "             'FS Energy & Power Fund Common', 'BLF FedFun TDDXX', 'Zimmer Biomet Holdings', 'Oracle Corp', 'United Health',\n",
    "             'Expedia Group Inc', 'ADYEN N V ADR', 'West Fargo N D']\n",
    "})\n",
    "\n",
    "df3 = pd.DataFrame({\n",
    "    'symbol': ['CAB', 'PFE', 'AAPL', 'AMZN', 'NKE', 'PCP', 'UAA', 'LIT', 'NFLX', 'FEZ', 'CIT', 'LNT', 'WW', 'UAA', 'PHLD'],\n",
    "    'name': [\"Cabela's Inc\", 'Pfizer Inc', 'aapl', 'Amazon', 'Nike Inc B', 'Precision Castparts Corp', \n",
    "             'Under Armour Inc', 'Global X Lithium Battery', 'nflx', 'SPDR Euro Stoxx 50', 'CIT Group Inc (CIT)',\n",
    "            'Alliant Energy Corp', 'Weight Watchers Intl Inc', 'Under Armour Inc Cl A', 'PHLD - Phillips Edison Grocery Center REIT I']\n",
    "})\n",
    "\n",
    "tickers = pd.concat([tickers, df2, df3])"
   ]
  },
  {
   "cell_type": "code",
   "execution_count": 30,
   "id": "8a2c9f4e-4a27-4800-9f88-f3f44df0b6b3",
   "metadata": {},
   "outputs": [],
   "source": [
    "for i in house.loc[house['ticker'] == '--']['asset_description']:\n",
    "    symbol = tickers.loc[tickers['name'] == i, 'symbol'].values\n",
    "    if len(symbol) != 0:\n",
    "        house.loc[house['asset_description'] == i, 'ticker'] = symbol[0]"
   ]
  },
  {
   "cell_type": "code",
   "execution_count": 31,
   "id": "66da8a28-aa86-4222-a270-ff22fbfaed4b",
   "metadata": {},
   "outputs": [
    {
     "data": {
      "text/plain": [
       "disclosure_year           0\n",
       "disclosure_date           0\n",
       "transaction_date          0\n",
       "ticker                    0\n",
       "asset_description         0\n",
       "type                      0\n",
       "amount                    0\n",
       "representative            0\n",
       "district                  0\n",
       "ptr_link                  0\n",
       "cap_gains_over_200_usd    0\n",
       "dtype: int64"
      ]
     },
     "execution_count": 31,
     "metadata": {},
     "output_type": "execute_result"
    }
   ],
   "source": [
    "house.isnull().sum()"
   ]
  },
  {
   "cell_type": "code",
   "execution_count": 32,
   "id": "6f8790f6-54ee-42f9-bd75-cbcc278d7c26",
   "metadata": {
    "scrolled": true,
    "tags": []
   },
   "outputs": [
    {
     "data": {
      "text/plain": [
       "--       1138\n",
       "MSFT      244\n",
       "AAPL      181\n",
       "TDDXX     161\n",
       "NTAP      130\n",
       "         ... \n",
       "MGPI        1\n",
       "MSTR        1\n",
       "MC          1\n",
       "MPWR        1\n",
       "FLCB        1\n",
       "Name: ticker, Length: 2122, dtype: int64"
      ]
     },
     "execution_count": 32,
     "metadata": {},
     "output_type": "execute_result"
    }
   ],
   "source": [
    "house['ticker'].value_counts(dropna = False)"
   ]
  },
  {
   "cell_type": "code",
   "execution_count": 33,
   "id": "3d6ed046-6d23-43dd-912f-e66662a01013",
   "metadata": {},
   "outputs": [
    {
     "data": {
      "text/html": [
       "<div>\n",
       "<style scoped>\n",
       "    .dataframe tbody tr th:only-of-type {\n",
       "        vertical-align: middle;\n",
       "    }\n",
       "\n",
       "    .dataframe tbody tr th {\n",
       "        vertical-align: top;\n",
       "    }\n",
       "\n",
       "    .dataframe thead th {\n",
       "        text-align: right;\n",
       "    }\n",
       "</style>\n",
       "<table border=\"1\" class=\"dataframe\">\n",
       "  <thead>\n",
       "    <tr style=\"text-align: right;\">\n",
       "      <th></th>\n",
       "      <th>disclosure_year</th>\n",
       "      <th>disclosure_date</th>\n",
       "      <th>transaction_date</th>\n",
       "      <th>ticker</th>\n",
       "      <th>asset_description</th>\n",
       "      <th>type</th>\n",
       "      <th>amount</th>\n",
       "      <th>representative</th>\n",
       "      <th>district</th>\n",
       "      <th>ptr_link</th>\n",
       "      <th>cap_gains_over_200_usd</th>\n",
       "    </tr>\n",
       "  </thead>\n",
       "  <tbody>\n",
       "    <tr>\n",
       "      <th>56</th>\n",
       "      <td>2020</td>\n",
       "      <td>2020-09-22</td>\n",
       "      <td>2020-08-17</td>\n",
       "      <td>--</td>\n",
       "      <td>Metallic Minerals Corp.</td>\n",
       "      <td>sale_partial</td>\n",
       "      <td>250000</td>\n",
       "      <td>Mr. TJ John (Tj) Cox</td>\n",
       "      <td>CA21</td>\n",
       "      <td>https://disclosures-clerk.house.gov/public_disc/ptr-pdfs/2020/20017403.pdf</td>\n",
       "      <td>True</td>\n",
       "    </tr>\n",
       "    <tr>\n",
       "      <th>61</th>\n",
       "      <td>2021</td>\n",
       "      <td>2021-03-23</td>\n",
       "      <td>2021-02-19</td>\n",
       "      <td>--</td>\n",
       "      <td>Celegene Corp</td>\n",
       "      <td>sale_full</td>\n",
       "      <td>50000</td>\n",
       "      <td>Hon. Alan S. Lowenthal</td>\n",
       "      <td>CA47</td>\n",
       "      <td>https://disclosures-clerk.house.gov/public_disc/ptr-pdfs/2021/20018450.pdf</td>\n",
       "      <td>False</td>\n",
       "    </tr>\n",
       "    <tr>\n",
       "      <th>62</th>\n",
       "      <td>2021</td>\n",
       "      <td>2021-03-23</td>\n",
       "      <td>2021-02-16</td>\n",
       "      <td>--</td>\n",
       "      <td>Outfront Media</td>\n",
       "      <td>sale_full</td>\n",
       "      <td>50000</td>\n",
       "      <td>Hon. Alan S. Lowenthal</td>\n",
       "      <td>CA47</td>\n",
       "      <td>https://disclosures-clerk.house.gov/public_disc/ptr-pdfs/2021/20018450.pdf</td>\n",
       "      <td>False</td>\n",
       "    </tr>\n",
       "    <tr>\n",
       "      <th>73</th>\n",
       "      <td>2021</td>\n",
       "      <td>2021-01-26</td>\n",
       "      <td>2021-01-21</td>\n",
       "      <td>--</td>\n",
       "      <td>Spectra Energy Capital LLC</td>\n",
       "      <td>sale_full</td>\n",
       "      <td>15000</td>\n",
       "      <td>Hon. Mo Brooks</td>\n",
       "      <td>AL05</td>\n",
       "      <td>https://disclosures-clerk.house.gov/public_disc/ptr-pdfs/2021/20018077.pdf</td>\n",
       "      <td>True</td>\n",
       "    </tr>\n",
       "    <tr>\n",
       "      <th>94</th>\n",
       "      <td>2021</td>\n",
       "      <td>2021-02-25</td>\n",
       "      <td>2021-01-14</td>\n",
       "      <td>--</td>\n",
       "      <td>Oregon State Health and Science University</td>\n",
       "      <td>purchase</td>\n",
       "      <td>50000</td>\n",
       "      <td>Hon. Vern Buchanan</td>\n",
       "      <td>FL16</td>\n",
       "      <td>https://disclosures-clerk.house.gov/public_disc/ptr-pdfs/2021/20018280.pdf</td>\n",
       "      <td>False</td>\n",
       "    </tr>\n",
       "  </tbody>\n",
       "</table>\n",
       "</div>"
      ],
      "text/plain": [
       "    disclosure_year disclosure_date transaction_date ticker  \\\n",
       "56             2020      2020-09-22       2020-08-17     --   \n",
       "61             2021      2021-03-23       2021-02-19     --   \n",
       "62             2021      2021-03-23       2021-02-16     --   \n",
       "73             2021      2021-01-26       2021-01-21     --   \n",
       "94             2021      2021-02-25       2021-01-14     --   \n",
       "\n",
       "                             asset_description          type  amount  \\\n",
       "56                     Metallic Minerals Corp.  sale_partial  250000   \n",
       "61                               Celegene Corp     sale_full   50000   \n",
       "62                              Outfront Media     sale_full   50000   \n",
       "73                  Spectra Energy Capital LLC     sale_full   15000   \n",
       "94  Oregon State Health and Science University      purchase   50000   \n",
       "\n",
       "            representative district  \\\n",
       "56    Mr. TJ John (Tj) Cox     CA21   \n",
       "61  Hon. Alan S. Lowenthal     CA47   \n",
       "62  Hon. Alan S. Lowenthal     CA47   \n",
       "73          Hon. Mo Brooks     AL05   \n",
       "94      Hon. Vern Buchanan     FL16   \n",
       "\n",
       "                                                                      ptr_link  \\\n",
       "56  https://disclosures-clerk.house.gov/public_disc/ptr-pdfs/2020/20017403.pdf   \n",
       "61  https://disclosures-clerk.house.gov/public_disc/ptr-pdfs/2021/20018450.pdf   \n",
       "62  https://disclosures-clerk.house.gov/public_disc/ptr-pdfs/2021/20018450.pdf   \n",
       "73  https://disclosures-clerk.house.gov/public_disc/ptr-pdfs/2021/20018077.pdf   \n",
       "94  https://disclosures-clerk.house.gov/public_disc/ptr-pdfs/2021/20018280.pdf   \n",
       "\n",
       "    cap_gains_over_200_usd  \n",
       "56                    True  \n",
       "61                   False  \n",
       "62                   False  \n",
       "73                    True  \n",
       "94                   False  "
      ]
     },
     "execution_count": 33,
     "metadata": {},
     "output_type": "execute_result"
    }
   ],
   "source": [
    "house[house['ticker'] == '--'].head()"
   ]
  },
  {
   "cell_type": "code",
   "execution_count": 34,
   "id": "04059da2-3afe-4b33-ba2a-b43b9c8763b5",
   "metadata": {
    "tags": []
   },
   "outputs": [
    {
     "data": {
      "text/plain": [
       "US Treasury Notes                                 8\n",
       "United States Treasury Notes                      8\n",
       "U.S. Treasury Bills                               6\n",
       "Indiana Bd Bk Rev                                 6\n",
       "JPMORGAN FEDERAL MONEY MARKET FUND                5\n",
       "                                                 ..\n",
       "Berkeley Heights TWP NJ BD NTD 2% Due 07/08/22    1\n",
       "New York NY Go BDS Fiscal 2008 5% Due 08/01/26    1\n",
       "Nevada Irrigation District Municipal Bonds        1\n",
       "Met Govt Nashville TN 5%                          1\n",
       "MAIN STREET FINANCIAl SERVICES CORPORATIoN        1\n",
       "Name: asset_description, Length: 990, dtype: int64"
      ]
     },
     "execution_count": 34,
     "metadata": {},
     "output_type": "execute_result"
    }
   ],
   "source": [
    "house[house['ticker'] == '--']['asset_description'].value_counts(dropna=False)"
   ]
  },
  {
   "cell_type": "markdown",
   "id": "9784ae05-dfb2-438c-a4e9-a38c6c5a0d6d",
   "metadata": {},
   "source": [
    "While there are certainly equities in the remaining '--' tickers, the vast majority appear to be bonds or other non-equity holdings. As there's no way to scale the search for additional equities at this point, we decided to drop the '--' rows."
   ]
  },
  {
   "cell_type": "code",
   "execution_count": 35,
   "id": "d03fc994-0d5e-4b2c-aeba-f543e009ae86",
   "metadata": {},
   "outputs": [
    {
     "data": {
      "text/plain": [
       "14851"
      ]
     },
     "execution_count": 35,
     "metadata": {},
     "output_type": "execute_result"
    }
   ],
   "source": [
    "len(house)"
   ]
  },
  {
   "cell_type": "code",
   "execution_count": 36,
   "id": "b5d61451-8c62-43fe-87b3-c350103b1783",
   "metadata": {},
   "outputs": [
    {
     "data": {
      "text/plain": [
       "1138"
      ]
     },
     "execution_count": 36,
     "metadata": {},
     "output_type": "execute_result"
    }
   ],
   "source": [
    "len(house[house['ticker'] == '--'])"
   ]
  },
  {
   "cell_type": "code",
   "execution_count": 37,
   "id": "77877f9c-2bf2-406a-92f3-8e978377f74f",
   "metadata": {},
   "outputs": [
    {
     "data": {
      "text/plain": [
       "13713"
      ]
     },
     "execution_count": 37,
     "metadata": {},
     "output_type": "execute_result"
    }
   ],
   "source": [
    "house = house[house['ticker'] != '--']\n",
    "len(house)"
   ]
  },
  {
   "cell_type": "code",
   "execution_count": 38,
   "id": "fa50b312-0f72-43a6-bdfb-e4c52de5253b",
   "metadata": {},
   "outputs": [
    {
     "data": {
      "text/plain": [
       "13713"
      ]
     },
     "execution_count": 38,
     "metadata": {},
     "output_type": "execute_result"
    }
   ],
   "source": [
    "14851- 1138"
   ]
  },
  {
   "cell_type": "markdown",
   "id": "168d7598-7737-4d60-a5dc-238756696507",
   "metadata": {},
   "source": [
    "# 'type'\n",
    "We examined the 'exchanges' in both this data set and in our Senate dataset and determined we should eliminate the 'exchanges' because it was impossible to know what the exchange was for these values and incorporating the Senate information (which included both items in the exchange) would be too difficult. Given that it's only ~100 items in each data set, we decided we could afford to remove these data points.\n",
    "\n",
    "We decided to convert the one 'sale' to a 'sale_full' because the majority of sales are full."
   ]
  },
  {
   "cell_type": "code",
   "execution_count": 39,
   "id": "44735f8a-a469-41e4-8652-16f5bd426b99",
   "metadata": {},
   "outputs": [
    {
     "data": {
      "text/plain": [
       "purchase        7109\n",
       "sale_full       4355\n",
       "sale_partial    2146\n",
       "exchange         102\n",
       "sale               1\n",
       "Name: type, dtype: int64"
      ]
     },
     "execution_count": 39,
     "metadata": {},
     "output_type": "execute_result"
    }
   ],
   "source": [
    "house['type'].value_counts()"
   ]
  },
  {
   "cell_type": "code",
   "execution_count": 40,
   "id": "5970d91c-7336-48d6-b177-9d6a001c4dcf",
   "metadata": {
    "tags": []
   },
   "outputs": [
    {
     "data": {
      "text/html": [
       "<div>\n",
       "<style scoped>\n",
       "    .dataframe tbody tr th:only-of-type {\n",
       "        vertical-align: middle;\n",
       "    }\n",
       "\n",
       "    .dataframe tbody tr th {\n",
       "        vertical-align: top;\n",
       "    }\n",
       "\n",
       "    .dataframe thead th {\n",
       "        text-align: right;\n",
       "    }\n",
       "</style>\n",
       "<table border=\"1\" class=\"dataframe\">\n",
       "  <thead>\n",
       "    <tr style=\"text-align: right;\">\n",
       "      <th></th>\n",
       "      <th>disclosure_year</th>\n",
       "      <th>disclosure_date</th>\n",
       "      <th>transaction_date</th>\n",
       "      <th>ticker</th>\n",
       "      <th>asset_description</th>\n",
       "      <th>type</th>\n",
       "      <th>amount</th>\n",
       "      <th>representative</th>\n",
       "      <th>district</th>\n",
       "      <th>ptr_link</th>\n",
       "      <th>cap_gains_over_200_usd</th>\n",
       "    </tr>\n",
       "  </thead>\n",
       "  <tbody>\n",
       "    <tr>\n",
       "      <th>250</th>\n",
       "      <td>2021</td>\n",
       "      <td>2021-04-23</td>\n",
       "      <td>2021-03-16</td>\n",
       "      <td>SON</td>\n",
       "      <td>Sonoco Products Company</td>\n",
       "      <td>exchange</td>\n",
       "      <td>15000</td>\n",
       "      <td>Hon. Lois Frankel</td>\n",
       "      <td>FL21</td>\n",
       "      <td>https://disclosures-clerk.house.gov/public_disc/ptr-pdfs/2021/20018606.pdf</td>\n",
       "      <td>False</td>\n",
       "    </tr>\n",
       "    <tr>\n",
       "      <th>675</th>\n",
       "      <td>2021</td>\n",
       "      <td>2021-05-10</td>\n",
       "      <td>2021-04-21</td>\n",
       "      <td>MRVL</td>\n",
       "      <td>Marvell Technology Inc</td>\n",
       "      <td>exchange</td>\n",
       "      <td>15000</td>\n",
       "      <td>Hon. Susie Lee</td>\n",
       "      <td>NV03</td>\n",
       "      <td>https://disclosures-clerk.house.gov/public_disc/ptr-pdfs/2021/20018701.pdf</td>\n",
       "      <td>False</td>\n",
       "    </tr>\n",
       "    <tr>\n",
       "      <th>892</th>\n",
       "      <td>2020</td>\n",
       "      <td>2020-08-11</td>\n",
       "      <td>2019-07-01</td>\n",
       "      <td>LHX</td>\n",
       "      <td>L3Harris Technologies, Inc.</td>\n",
       "      <td>exchange</td>\n",
       "      <td>15000</td>\n",
       "      <td>Hon. Grace Meng</td>\n",
       "      <td>NY06</td>\n",
       "      <td>https://disclosures-clerk.house.gov/public_disc/ptr-pdfs/2020/20017020.pdf</td>\n",
       "      <td>False</td>\n",
       "    </tr>\n",
       "    <tr>\n",
       "      <th>1353</th>\n",
       "      <td>2020</td>\n",
       "      <td>2020-04-10</td>\n",
       "      <td>2020-03-02</td>\n",
       "      <td>IR</td>\n",
       "      <td>Ingersoll Rand Inc.</td>\n",
       "      <td>exchange</td>\n",
       "      <td>15000</td>\n",
       "      <td>Hon. Dean Phillips</td>\n",
       "      <td>MN03</td>\n",
       "      <td>https://disclosures-clerk.house.gov/public_disc/ptr-pdfs/2020/20016369.pdf</td>\n",
       "      <td>False</td>\n",
       "    </tr>\n",
       "    <tr>\n",
       "      <th>1723</th>\n",
       "      <td>2020</td>\n",
       "      <td>2020-03-10</td>\n",
       "      <td>2020-02-04</td>\n",
       "      <td>PLD</td>\n",
       "      <td>ProLogis, Inc.</td>\n",
       "      <td>exchange</td>\n",
       "      <td>15000</td>\n",
       "      <td>Hon. Zoe Lofgren</td>\n",
       "      <td>CA19</td>\n",
       "      <td>https://disclosures-clerk.house.gov/public_disc/ptr-pdfs/2020/20016162.pdf</td>\n",
       "      <td>False</td>\n",
       "    </tr>\n",
       "    <tr>\n",
       "      <th>...</th>\n",
       "      <td>...</td>\n",
       "      <td>...</td>\n",
       "      <td>...</td>\n",
       "      <td>...</td>\n",
       "      <td>...</td>\n",
       "      <td>...</td>\n",
       "      <td>...</td>\n",
       "      <td>...</td>\n",
       "      <td>...</td>\n",
       "      <td>...</td>\n",
       "      <td>...</td>\n",
       "    </tr>\n",
       "    <tr>\n",
       "      <th>14577</th>\n",
       "      <td>2020</td>\n",
       "      <td>2020-05-13</td>\n",
       "      <td>2020-04-01</td>\n",
       "      <td>AON</td>\n",
       "      <td>Aon plc Class A Ordinary Shares</td>\n",
       "      <td>exchange</td>\n",
       "      <td>50000</td>\n",
       "      <td>Hon. Gilbert Cisneros</td>\n",
       "      <td>CA39</td>\n",
       "      <td>https://disclosures-clerk.house.gov/public_disc/ptr-pdfs/2020/20016567.pdf</td>\n",
       "      <td>False</td>\n",
       "    </tr>\n",
       "    <tr>\n",
       "      <th>14585</th>\n",
       "      <td>2020</td>\n",
       "      <td>2020-05-13</td>\n",
       "      <td>2020-04-03</td>\n",
       "      <td>CARR</td>\n",
       "      <td>Carrier Global Corporation</td>\n",
       "      <td>exchange</td>\n",
       "      <td>15000</td>\n",
       "      <td>Hon. Gilbert Cisneros</td>\n",
       "      <td>CA39</td>\n",
       "      <td>https://disclosures-clerk.house.gov/public_disc/ptr-pdfs/2020/20016567.pdf</td>\n",
       "      <td>False</td>\n",
       "    </tr>\n",
       "    <tr>\n",
       "      <th>14624</th>\n",
       "      <td>2020</td>\n",
       "      <td>2020-05-13</td>\n",
       "      <td>2020-04-03</td>\n",
       "      <td>OTIS</td>\n",
       "      <td>Otis Worldwide Corporation</td>\n",
       "      <td>exchange</td>\n",
       "      <td>15000</td>\n",
       "      <td>Hon. Gilbert Cisneros</td>\n",
       "      <td>CA39</td>\n",
       "      <td>https://disclosures-clerk.house.gov/public_disc/ptr-pdfs/2020/20016567.pdf</td>\n",
       "      <td>False</td>\n",
       "    </tr>\n",
       "    <tr>\n",
       "      <th>14628</th>\n",
       "      <td>2020</td>\n",
       "      <td>2020-05-13</td>\n",
       "      <td>2020-04-03</td>\n",
       "      <td>RTX</td>\n",
       "      <td>Raytheon Technologies Corporation</td>\n",
       "      <td>exchange</td>\n",
       "      <td>15000</td>\n",
       "      <td>Hon. Gilbert Cisneros</td>\n",
       "      <td>CA39</td>\n",
       "      <td>https://disclosures-clerk.house.gov/public_disc/ptr-pdfs/2020/20016567.pdf</td>\n",
       "      <td>False</td>\n",
       "    </tr>\n",
       "    <tr>\n",
       "      <th>14629</th>\n",
       "      <td>2020</td>\n",
       "      <td>2020-05-13</td>\n",
       "      <td>2020-04-07</td>\n",
       "      <td>RTX</td>\n",
       "      <td>Raytheon Technologies Corporation</td>\n",
       "      <td>exchange</td>\n",
       "      <td>15000</td>\n",
       "      <td>Hon. Gilbert Cisneros</td>\n",
       "      <td>CA39</td>\n",
       "      <td>https://disclosures-clerk.house.gov/public_disc/ptr-pdfs/2020/20016567.pdf</td>\n",
       "      <td>False</td>\n",
       "    </tr>\n",
       "  </tbody>\n",
       "</table>\n",
       "<p>102 rows × 11 columns</p>\n",
       "</div>"
      ],
      "text/plain": [
       "       disclosure_year disclosure_date transaction_date ticker  \\\n",
       "250               2021      2021-04-23       2021-03-16    SON   \n",
       "675               2021      2021-05-10       2021-04-21   MRVL   \n",
       "892               2020      2020-08-11       2019-07-01    LHX   \n",
       "1353              2020      2020-04-10       2020-03-02     IR   \n",
       "1723              2020      2020-03-10       2020-02-04    PLD   \n",
       "...                ...             ...              ...    ...   \n",
       "14577             2020      2020-05-13       2020-04-01    AON   \n",
       "14585             2020      2020-05-13       2020-04-03   CARR   \n",
       "14624             2020      2020-05-13       2020-04-03   OTIS   \n",
       "14628             2020      2020-05-13       2020-04-03    RTX   \n",
       "14629             2020      2020-05-13       2020-04-07    RTX   \n",
       "\n",
       "                       asset_description      type  amount  \\\n",
       "250              Sonoco Products Company  exchange   15000   \n",
       "675               Marvell Technology Inc  exchange   15000   \n",
       "892          L3Harris Technologies, Inc.  exchange   15000   \n",
       "1353                 Ingersoll Rand Inc.  exchange   15000   \n",
       "1723                      ProLogis, Inc.  exchange   15000   \n",
       "...                                  ...       ...     ...   \n",
       "14577    Aon plc Class A Ordinary Shares  exchange   50000   \n",
       "14585         Carrier Global Corporation  exchange   15000   \n",
       "14624         Otis Worldwide Corporation  exchange   15000   \n",
       "14628  Raytheon Technologies Corporation  exchange   15000   \n",
       "14629  Raytheon Technologies Corporation  exchange   15000   \n",
       "\n",
       "              representative district  \\\n",
       "250        Hon. Lois Frankel     FL21   \n",
       "675           Hon. Susie Lee     NV03   \n",
       "892          Hon. Grace Meng     NY06   \n",
       "1353      Hon. Dean Phillips     MN03   \n",
       "1723        Hon. Zoe Lofgren     CA19   \n",
       "...                      ...      ...   \n",
       "14577  Hon. Gilbert Cisneros     CA39   \n",
       "14585  Hon. Gilbert Cisneros     CA39   \n",
       "14624  Hon. Gilbert Cisneros     CA39   \n",
       "14628  Hon. Gilbert Cisneros     CA39   \n",
       "14629  Hon. Gilbert Cisneros     CA39   \n",
       "\n",
       "                                                                         ptr_link  \\\n",
       "250    https://disclosures-clerk.house.gov/public_disc/ptr-pdfs/2021/20018606.pdf   \n",
       "675    https://disclosures-clerk.house.gov/public_disc/ptr-pdfs/2021/20018701.pdf   \n",
       "892    https://disclosures-clerk.house.gov/public_disc/ptr-pdfs/2020/20017020.pdf   \n",
       "1353   https://disclosures-clerk.house.gov/public_disc/ptr-pdfs/2020/20016369.pdf   \n",
       "1723   https://disclosures-clerk.house.gov/public_disc/ptr-pdfs/2020/20016162.pdf   \n",
       "...                                                                           ...   \n",
       "14577  https://disclosures-clerk.house.gov/public_disc/ptr-pdfs/2020/20016567.pdf   \n",
       "14585  https://disclosures-clerk.house.gov/public_disc/ptr-pdfs/2020/20016567.pdf   \n",
       "14624  https://disclosures-clerk.house.gov/public_disc/ptr-pdfs/2020/20016567.pdf   \n",
       "14628  https://disclosures-clerk.house.gov/public_disc/ptr-pdfs/2020/20016567.pdf   \n",
       "14629  https://disclosures-clerk.house.gov/public_disc/ptr-pdfs/2020/20016567.pdf   \n",
       "\n",
       "       cap_gains_over_200_usd  \n",
       "250                     False  \n",
       "675                     False  \n",
       "892                     False  \n",
       "1353                    False  \n",
       "1723                    False  \n",
       "...                       ...  \n",
       "14577                   False  \n",
       "14585                   False  \n",
       "14624                   False  \n",
       "14628                   False  \n",
       "14629                   False  \n",
       "\n",
       "[102 rows x 11 columns]"
      ]
     },
     "execution_count": 40,
     "metadata": {},
     "output_type": "execute_result"
    }
   ],
   "source": [
    "house[house['type'] == 'exchange']"
   ]
  },
  {
   "cell_type": "code",
   "execution_count": 41,
   "id": "5bb19c2a-77e6-4f6b-b924-d3dc2ecc3525",
   "metadata": {},
   "outputs": [
    {
     "data": {
      "text/plain": [
       "13713"
      ]
     },
     "execution_count": 41,
     "metadata": {},
     "output_type": "execute_result"
    }
   ],
   "source": [
    "len(house)"
   ]
  },
  {
   "cell_type": "code",
   "execution_count": 42,
   "id": "5030e29d-6b4b-442f-b00e-4d9caf434fcb",
   "metadata": {},
   "outputs": [],
   "source": [
    "house = house[house['type'] != 'exchange']"
   ]
  },
  {
   "cell_type": "code",
   "execution_count": 43,
   "id": "6cb90387-a865-4285-bba8-6efa5d31d31a",
   "metadata": {},
   "outputs": [
    {
     "data": {
      "text/plain": [
       "13611"
      ]
     },
     "execution_count": 43,
     "metadata": {},
     "output_type": "execute_result"
    }
   ],
   "source": [
    "len(house)"
   ]
  },
  {
   "cell_type": "code",
   "execution_count": 44,
   "id": "a6b06b9e-b2b6-4eb4-b039-2b786d4c9838",
   "metadata": {},
   "outputs": [
    {
     "data": {
      "text/html": [
       "<div>\n",
       "<style scoped>\n",
       "    .dataframe tbody tr th:only-of-type {\n",
       "        vertical-align: middle;\n",
       "    }\n",
       "\n",
       "    .dataframe tbody tr th {\n",
       "        vertical-align: top;\n",
       "    }\n",
       "\n",
       "    .dataframe thead th {\n",
       "        text-align: right;\n",
       "    }\n",
       "</style>\n",
       "<table border=\"1\" class=\"dataframe\">\n",
       "  <thead>\n",
       "    <tr style=\"text-align: right;\">\n",
       "      <th></th>\n",
       "      <th>disclosure_year</th>\n",
       "      <th>disclosure_date</th>\n",
       "      <th>transaction_date</th>\n",
       "      <th>ticker</th>\n",
       "      <th>asset_description</th>\n",
       "      <th>type</th>\n",
       "      <th>amount</th>\n",
       "      <th>representative</th>\n",
       "      <th>district</th>\n",
       "      <th>ptr_link</th>\n",
       "      <th>cap_gains_over_200_usd</th>\n",
       "    </tr>\n",
       "  </thead>\n",
       "  <tbody>\n",
       "    <tr>\n",
       "      <th>9565</th>\n",
       "      <td>2021</td>\n",
       "      <td>2021-10-14</td>\n",
       "      <td>2021-10-12</td>\n",
       "      <td>T</td>\n",
       "      <td>AT&amp;T Inc</td>\n",
       "      <td>sale</td>\n",
       "      <td>15000</td>\n",
       "      <td>Hon. Mo Brooks</td>\n",
       "      <td>AL05</td>\n",
       "      <td>https://disclosures-clerk.house.gov/public_disc/ptr-pdfs/2021/20019626.pdf</td>\n",
       "      <td>False</td>\n",
       "    </tr>\n",
       "  </tbody>\n",
       "</table>\n",
       "</div>"
      ],
      "text/plain": [
       "      disclosure_year disclosure_date transaction_date ticker  \\\n",
       "9565             2021      2021-10-14       2021-10-12      T   \n",
       "\n",
       "     asset_description  type  amount  representative district  \\\n",
       "9565          AT&T Inc  sale   15000  Hon. Mo Brooks     AL05   \n",
       "\n",
       "                                                                        ptr_link  \\\n",
       "9565  https://disclosures-clerk.house.gov/public_disc/ptr-pdfs/2021/20019626.pdf   \n",
       "\n",
       "      cap_gains_over_200_usd  \n",
       "9565                   False  "
      ]
     },
     "execution_count": 44,
     "metadata": {},
     "output_type": "execute_result"
    }
   ],
   "source": [
    "house[house['type'] == 'sale']"
   ]
  },
  {
   "cell_type": "code",
   "execution_count": 45,
   "id": "9e5ea6b4-47a7-48bf-ba5c-080b294c888c",
   "metadata": {},
   "outputs": [],
   "source": [
    "house.loc[house['type'] == 'sale', 'type'] = 'sale_full'"
   ]
  },
  {
   "cell_type": "code",
   "execution_count": 46,
   "id": "bd11f4b9-4280-4121-b2b8-0ea8ff087340",
   "metadata": {},
   "outputs": [
    {
     "data": {
      "text/plain": [
       "purchase        7109\n",
       "sale_full       4356\n",
       "sale_partial    2146\n",
       "Name: type, dtype: int64"
      ]
     },
     "execution_count": 46,
     "metadata": {},
     "output_type": "execute_result"
    }
   ],
   "source": [
    "house['type'].value_counts()"
   ]
  },
  {
   "cell_type": "markdown",
   "id": "800e3a23-a4b4-42a9-b71a-ab76b2ad8791",
   "metadata": {},
   "source": [
    "# Looking at .describe() as a sanity check"
   ]
  },
  {
   "cell_type": "code",
   "execution_count": 47,
   "id": "c1458565-3012-43fe-8133-d66541173cd5",
   "metadata": {},
   "outputs": [
    {
     "data": {
      "text/html": [
       "<div>\n",
       "<style scoped>\n",
       "    .dataframe tbody tr th:only-of-type {\n",
       "        vertical-align: middle;\n",
       "    }\n",
       "\n",
       "    .dataframe tbody tr th {\n",
       "        vertical-align: top;\n",
       "    }\n",
       "\n",
       "    .dataframe thead th {\n",
       "        text-align: right;\n",
       "    }\n",
       "</style>\n",
       "<table border=\"1\" class=\"dataframe\">\n",
       "  <thead>\n",
       "    <tr style=\"text-align: right;\">\n",
       "      <th></th>\n",
       "      <th>disclosure_year</th>\n",
       "      <th>amount</th>\n",
       "    </tr>\n",
       "  </thead>\n",
       "  <tbody>\n",
       "    <tr>\n",
       "      <th>count</th>\n",
       "      <td>13611.000000</td>\n",
       "      <td>1.361100e+04</td>\n",
       "    </tr>\n",
       "    <tr>\n",
       "      <th>mean</th>\n",
       "      <td>2020.630593</td>\n",
       "      <td>7.073323e+04</td>\n",
       "    </tr>\n",
       "    <tr>\n",
       "      <th>std</th>\n",
       "      <td>0.703754</td>\n",
       "      <td>6.662690e+05</td>\n",
       "    </tr>\n",
       "    <tr>\n",
       "      <th>min</th>\n",
       "      <td>2020.000000</td>\n",
       "      <td>1.500000e+04</td>\n",
       "    </tr>\n",
       "    <tr>\n",
       "      <th>25%</th>\n",
       "      <td>2020.000000</td>\n",
       "      <td>1.500000e+04</td>\n",
       "    </tr>\n",
       "    <tr>\n",
       "      <th>50%</th>\n",
       "      <td>2020.000000</td>\n",
       "      <td>1.500000e+04</td>\n",
       "    </tr>\n",
       "    <tr>\n",
       "      <th>75%</th>\n",
       "      <td>2021.000000</td>\n",
       "      <td>1.500000e+04</td>\n",
       "    </tr>\n",
       "    <tr>\n",
       "      <th>max</th>\n",
       "      <td>2022.000000</td>\n",
       "      <td>2.500000e+07</td>\n",
       "    </tr>\n",
       "  </tbody>\n",
       "</table>\n",
       "</div>"
      ],
      "text/plain": [
       "       disclosure_year        amount\n",
       "count     13611.000000  1.361100e+04\n",
       "mean       2020.630593  7.073323e+04\n",
       "std           0.703754  6.662690e+05\n",
       "min        2020.000000  1.500000e+04\n",
       "25%        2020.000000  1.500000e+04\n",
       "50%        2020.000000  1.500000e+04\n",
       "75%        2021.000000  1.500000e+04\n",
       "max        2022.000000  2.500000e+07"
      ]
     },
     "execution_count": 47,
     "metadata": {},
     "output_type": "execute_result"
    }
   ],
   "source": [
    "house.describe()"
   ]
  },
  {
   "cell_type": "markdown",
   "id": "c866ed89-6767-4138-86c6-90b28dee8f87",
   "metadata": {},
   "source": [
    "It appears our $50,000,000 transaction disappeared -- it presumably didn't have a ticker."
   ]
  },
  {
   "cell_type": "markdown",
   "id": "ff41067b-e299-4180-9b0b-b506e50385c8",
   "metadata": {},
   "source": [
    "We need our columns to agree with the Senate dataframe columns, so we made the following changes. While we erred on the side of keeping information for now, we dropped the 'ptr_link' because we don't anticipate doing any analysis on it. If we need it, we'll come back and reference it from the csv or from prior to this point.\n",
    "\n",
    "This [stackoverflow answer](https://stackoverflow.com/a/54195568) helped us to find the differences between the lists of columns "
   ]
  },
  {
   "cell_type": "code",
   "execution_count": 48,
   "id": "d7898236-1e9d-4e7c-a60f-649d143c5b76",
   "metadata": {},
   "outputs": [
    {
     "name": "stdout",
     "output_type": "stream",
     "text": [
      "In House, not in Senate: ['cap_gains_over_200_usd', 'district', 'disclosure_year', 'representative']\n",
      "In Senate, not in House: ['senator', 'owner', 'asset_type', 'comment', 'year']\n"
     ]
    }
   ],
   "source": [
    "house_cols = list(house.columns)\n",
    "\n",
    "senate_cols = ['transaction_date', 'owner', 'ticker', 'asset_description',\n",
    "       'asset_type', 'type', 'amount', 'comment', 'senator', 'ptr_link',\n",
    "       'disclosure_date', 'year'] \n",
    "\n",
    "house_different_cols = list(set(house_cols).difference(senate_cols))\n",
    "print(f'In House, not in Senate: {house_different_cols}')\n",
    "\n",
    "senate_different_cols = list(set(senate_cols).difference(house_cols))\n",
    "print(f'In Senate, not in House: {senate_different_cols}')"
   ]
  },
  {
   "cell_type": "code",
   "execution_count": 49,
   "id": "47d98d88-6d4b-47fd-84fb-19580b4f2f97",
   "metadata": {},
   "outputs": [],
   "source": [
    "house['chamber'] = 'house'\n",
    "house.drop(columns = ['ptr_link', 'cap_gains_over_200_usd', 'disclosure_year'], inplace = True)\n",
    "house.rename(columns = {'representative': 'name', 'district': 'represents'}, inplace = True)"
   ]
  },
  {
   "cell_type": "code",
   "execution_count": 50,
   "id": "f680d890-d644-4174-9530-f62b7991ae94",
   "metadata": {},
   "outputs": [
    {
     "name": "stdout",
     "output_type": "stream",
     "text": [
      "In House, not in Senate: ['chamber', 'represents', 'name']\n",
      "In Senate, not in House: ['senator', 'owner', 'asset_type', 'comment', 'year', 'ptr_link']\n"
     ]
    }
   ],
   "source": [
    "house_cols = list(house.columns)\n",
    "\n",
    "senate_cols = ['transaction_date', 'owner', 'ticker', 'asset_description',\n",
    "       'asset_type', 'type', 'amount', 'comment', 'senator', 'ptr_link',\n",
    "       'disclosure_date', 'year'] \n",
    "\n",
    "house_different_cols = list(set(house_cols).difference(senate_cols))\n",
    "print(f'In House, not in Senate: {house_different_cols}')\n",
    "\n",
    "senate_different_cols = list(set(senate_cols).difference(house_cols))\n",
    "print(f'In Senate, not in House: {senate_different_cols}')"
   ]
  },
  {
   "cell_type": "markdown",
   "id": "6c9616b3-e4a0-4e6a-a0d8-e8d8add8e97c",
   "metadata": {},
   "source": [
    "The following two data sets came from [this github](https://github.com/unitedstates/congress-legislators/)."
   ]
  },
  {
   "cell_type": "code",
   "execution_count": 51,
   "id": "36929940-7954-433c-a61a-f78119445893",
   "metadata": {},
   "outputs": [
    {
     "data": {
      "text/plain": [
       "(537, 34)"
      ]
     },
     "execution_count": 51,
     "metadata": {},
     "output_type": "execute_result"
    }
   ],
   "source": [
    "current_legislators = pd.read_csv('./data/legislators-current.csv')\n",
    "current_legislators.shape"
   ]
  },
  {
   "cell_type": "code",
   "execution_count": 52,
   "id": "82dd159b-ea57-4607-bab6-5e5bb4c07017",
   "metadata": {},
   "outputs": [
    {
     "data": {
      "text/plain": [
       "['last_name',\n",
       " 'first_name',\n",
       " 'middle_name',\n",
       " 'suffix',\n",
       " 'nickname',\n",
       " 'full_name',\n",
       " 'birthday',\n",
       " 'gender',\n",
       " 'type',\n",
       " 'state',\n",
       " 'district',\n",
       " 'senate_class',\n",
       " 'party',\n",
       " 'url',\n",
       " 'address',\n",
       " 'phone',\n",
       " 'contact_form',\n",
       " 'rss_url',\n",
       " 'twitter',\n",
       " 'facebook',\n",
       " 'youtube',\n",
       " 'youtube_id',\n",
       " 'bioguide_id',\n",
       " 'thomas_id',\n",
       " 'opensecrets_id',\n",
       " 'lis_id',\n",
       " 'fec_ids',\n",
       " 'cspan_id',\n",
       " 'govtrack_id',\n",
       " 'votesmart_id',\n",
       " 'ballotpedia_id',\n",
       " 'washington_post_id',\n",
       " 'icpsr_id',\n",
       " 'wikipedia_id']"
      ]
     },
     "execution_count": 52,
     "metadata": {},
     "output_type": "execute_result"
    }
   ],
   "source": [
    "current_leg_cols = list(current_legislators.columns)\n",
    "current_leg_cols"
   ]
  },
  {
   "cell_type": "code",
   "execution_count": 53,
   "id": "9a307d1c-6b68-486e-9e18-cf5a96e28414",
   "metadata": {},
   "outputs": [
    {
     "data": {
      "text/plain": [
       "(12056, 34)"
      ]
     },
     "execution_count": 53,
     "metadata": {},
     "output_type": "execute_result"
    }
   ],
   "source": [
    "historical_legislators = pd.read_csv('./data/legislators-historical.csv')\n",
    "historical_legislators.shape"
   ]
  },
  {
   "cell_type": "code",
   "execution_count": 54,
   "id": "ae346a47-0370-4a0e-8f8d-dd4a0b0b1a46",
   "metadata": {},
   "outputs": [
    {
     "data": {
      "text/plain": [
       "['last_name',\n",
       " 'first_name',\n",
       " 'middle_name',\n",
       " 'suffix',\n",
       " 'nickname',\n",
       " 'full_name',\n",
       " 'birthday',\n",
       " 'gender',\n",
       " 'type',\n",
       " 'state',\n",
       " 'district',\n",
       " 'senate_class',\n",
       " 'party',\n",
       " 'url',\n",
       " 'address',\n",
       " 'phone',\n",
       " 'contact_form',\n",
       " 'rss_url',\n",
       " 'twitter',\n",
       " 'facebook',\n",
       " 'youtube',\n",
       " 'youtube_id',\n",
       " 'bioguide_id',\n",
       " 'thomas_id',\n",
       " 'opensecrets_id',\n",
       " 'lis_id',\n",
       " 'fec_ids',\n",
       " 'cspan_id',\n",
       " 'govtrack_id',\n",
       " 'votesmart_id',\n",
       " 'ballotpedia_id',\n",
       " 'washington_post_id',\n",
       " 'icpsr_id',\n",
       " 'wikipedia_id']"
      ]
     },
     "execution_count": 54,
     "metadata": {},
     "output_type": "execute_result"
    }
   ],
   "source": [
    "historical_leg_cols = list(historical_legislators.columns)\n",
    "historical_leg_cols"
   ]
  },
  {
   "cell_type": "code",
   "execution_count": 55,
   "id": "770bccc0-b169-4bfc-b559-853032364633",
   "metadata": {},
   "outputs": [
    {
     "data": {
      "text/plain": [
       "[]"
      ]
     },
     "execution_count": 55,
     "metadata": {},
     "output_type": "execute_result"
    }
   ],
   "source": [
    "current_diff_cols = list(set(current_leg_cols).difference(historical_leg_cols))\n",
    "current_diff_cols"
   ]
  },
  {
   "cell_type": "markdown",
   "id": "092b1be0-e5c3-4613-aa69-9803bb7dafd2",
   "metadata": {},
   "source": [
    "The above determines the columns are the same. We shrank the historical ones to eliminate irrelevant entries. Making birthdays datetime. Referenced [this site](https://www.w3schools.com/python/python_datetime.asp)."
   ]
  },
  {
   "cell_type": "code",
   "execution_count": 56,
   "id": "f64f0caa-b7ce-458d-8d3a-9bfa7125118f",
   "metadata": {},
   "outputs": [],
   "source": [
    "historical_legislators['birthday'] = pd.to_datetime(historical_legislators['birthday'], format = '%Y-%m-%d')\n",
    "current_legislators['birthday'] = pd.to_datetime(current_legislators['birthday'], format = '%Y-%m-%d')\n",
    "historical_legislators = historical_legislators[historical_legislators['birthday'] > datetime(1922,1, 1)]\n",
    "\n",
    "legislators = pd.concat([current_legislators, historical_legislators])\n",
    "legislators = legislators[['last_name', 'first_name', 'middle_name', 'suffix',\n",
    "                                             'full_name', 'birthday', 'gender', 'type', 'state', 'party', 'district']]"
   ]
  },
  {
   "cell_type": "code",
   "execution_count": 57,
   "id": "66f4d246-7022-41b1-954c-edf0d4872a3f",
   "metadata": {},
   "outputs": [
    {
     "data": {
      "text/plain": [
       "last_name              object\n",
       "first_name             object\n",
       "middle_name            object\n",
       "suffix                 object\n",
       "full_name              object\n",
       "birthday       datetime64[ns]\n",
       "gender                 object\n",
       "type                   object\n",
       "state                  object\n",
       "party                  object\n",
       "district              float64\n",
       "dtype: object"
      ]
     },
     "execution_count": 57,
     "metadata": {},
     "output_type": "execute_result"
    }
   ],
   "source": [
    "legislators.dtypes"
   ]
  },
  {
   "cell_type": "markdown",
   "id": "18bd344d-7bd2-4434-9c9e-e6686684b0c7",
   "metadata": {},
   "source": [
    "The following is to build a first_name and last_name column in the house dataframe to make it easier to search for the representative in the legislators dataframe. This worked for the fast majority of representatives/instances, but there were a few representatives for whom it identified the incorrect first and/or last name, as well as some dirty data (i.e. 'None' at the start of the name, which became the first name). That's cleaned below."
   ]
  },
  {
   "cell_type": "code",
   "execution_count": 58,
   "id": "d43135a1-5896-4027-8171-e4c639d755dd",
   "metadata": {},
   "outputs": [
    {
     "data": {
      "text/plain": [
       "Index(['disclosure_date', 'transaction_date', 'ticker', 'asset_description',\n",
       "       'type', 'amount', 'name', 'represents', 'chamber'],\n",
       "      dtype='object')"
      ]
     },
     "execution_count": 58,
     "metadata": {},
     "output_type": "execute_result"
    }
   ],
   "source": [
    "house.columns"
   ]
  },
  {
   "cell_type": "code",
   "execution_count": 59,
   "id": "135887ed-bcf7-43c0-a5ee-05ff57352d0c",
   "metadata": {},
   "outputs": [],
   "source": [
    "house['name'] = house['name'].map(lambda x: x.replace(\"Hon. \", \"\"))\n",
    "house['first_name'] = house['name'].map(lambda x: x.split()[0])\n",
    "house['last_name'] = house['name'].map(lambda x: x.split()[-1])"
   ]
  },
  {
   "cell_type": "markdown",
   "id": "0b4eb3cb-9791-438a-a873-1d43ae4e695d",
   "metadata": {},
   "source": [
    "There were quite a number of representatives that needed special treatment to get the data from the relevant_representatives dataframe into the house dataframe. \n",
    "\n",
    "They were: {'Aston McEachin', 'Christopher Jacobs', 'Cindy Axne', 'Daniel Crenshaw', 'David Cawthorn', 'Debbie Schultz', 'Felix Moore', 'Greg Murphy','Greg Steube','James Banks','James Costa','James Hagedorn', 'James Hill', 'Kenneth Buck', 'Linda Sanchez', 'Michael Gallagher', 'Michael Garcia', 'Mr. Cox', 'Mr. Franklin', 'Mr. Meijer', 'Mrs. Greene', 'Neal FACS', 'Nicholas Taylor', 'None Arenholz', 'None Jacobs', 'None Manning', 'None Newman', 'None Ross', 'None Spartz', 'Richard Allen', 'Rohit Khanna', 'S. Krishnamoorthi', 'Scott Franklin', \"Tom O'Halleran\"}\n",
    "\n",
    "We added the second 'if' statement within the for-loop to use last name and district number if first and last name didn't work. For several of the reps this still didn't work. The rewrites to the two dataframes that appear before the for-loop were necessary to address those errors.\n",
    "\n",
    "Ben Peck was instrumental to solving the error that the for-loop threw when those names were incorrect, and helped with finding and fixing the specific errors at office hours 7/19/22."
   ]
  },
  {
   "cell_type": "code",
   "execution_count": 60,
   "id": "ec2dfd3b-0a6d-4ab3-89bf-efd0ca1f32ba",
   "metadata": {},
   "outputs": [],
   "source": [
    "house.loc[house['last_name'] == 'FACS', 'last_name'] = 'Dunn'\n",
    "house.loc[house['last_name'] == 'Arenholz', 'last_name'] = 'Hinson'\n",
    "\n",
    "legislators.loc[legislators['last_name'].str.contains('Halleran'), 'last_name'] = \"O'Halleran\"\n",
    "legislators.loc[legislators['last_name'] == 'Sánchez', 'last_name'] = 'Sanchez'"
   ]
  },
  {
   "cell_type": "code",
   "execution_count": 61,
   "id": "25ae3af5-c487-47f4-8834-7f2896c5a0f7",
   "metadata": {},
   "outputs": [
    {
     "name": "stdout",
     "output_type": "stream",
     "text": [
      "0\n"
     ]
    }
   ],
   "source": [
    "house['party'] = ''\n",
    "house['birthday'] = ''\n",
    "house['gender'] = ''\n",
    "\n",
    "name = set()\n",
    "for i in house.index:\n",
    "    first_name = house.loc[i, 'first_name']\n",
    "    last_name = house.loc[i, 'last_name']\n",
    "    party = legislators[(legislators['first_name'] == first_name) & (legislators['last_name'].map(lambda x: x.split()[-1]) == last_name)]['party'].values\n",
    "    birthday = legislators[(legislators['first_name'] == first_name) & (legislators['last_name'].map(lambda x: x.split()[-1]) == last_name)]['birthday'].values\n",
    "    gender = legislators[(legislators['first_name'] == first_name) & (legislators['last_name'].map(lambda x: x.split()[-1]) == last_name)]['gender'].values\n",
    "    if len(party) == 0:\n",
    "        party = legislators[(legislators['district'] == float(house.loc[i, 'represents'][-2:])) & (legislators['last_name'].map(lambda x: x.split()[-1]) == last_name)]['party'].values\n",
    "        birthday = legislators[(legislators['district'] == float(house.loc[i, 'represents'][-2:])) & (legislators['last_name'].map(lambda x: x.split()[-1]) == last_name)]['birthday'].values\n",
    "        gender = legislators[(legislators['district'] == float(house.loc[i, 'represents'][-2:])) & (legislators['last_name'].map(lambda x: x.split()[-1]) == last_name)]['gender'].values\n",
    "    if len(party) == 0:\n",
    "        name.add(str(first_name) + ' ' + str(last_name))\n",
    "    house.loc[i, 'party'] = party[0]\n",
    "    house.loc[i, 'birthday'] = birthday[0]\n",
    "    house.loc[i, 'gender'] = gender[0]\n",
    "print(len(name))    "
   ]
  },
  {
   "cell_type": "code",
   "execution_count": 62,
   "id": "fe76ca71-d361-4db3-b6f3-8d83f762b70d",
   "metadata": {},
   "outputs": [],
   "source": [
    "house['birthday'] = pd.to_datetime(house['birthday'], format = '%Y-%m-%d')"
   ]
  },
  {
   "cell_type": "markdown",
   "id": "448b7c50-7909-4186-96dd-5cd1c6269e29",
   "metadata": {},
   "source": [
    "# Senate"
   ]
  },
  {
   "cell_type": "code",
   "execution_count": 63,
   "id": "a19458c9-ac12-4986-9b95-4c9f6443fa13",
   "metadata": {},
   "outputs": [],
   "source": [
    "senate = pd.read_csv('data/all_transactions_senate.csv')"
   ]
  },
  {
   "cell_type": "markdown",
   "id": "375a961b-be92-4997-aa81-ee0363b191cc",
   "metadata": {},
   "source": [
    "# Datetimes"
   ]
  },
  {
   "cell_type": "code",
   "execution_count": 64,
   "id": "60fe9a33-0222-4e8b-b8c7-3aaf749e1e1f",
   "metadata": {},
   "outputs": [
    {
     "data": {
      "text/plain": [
       "transaction_date     datetime64[ns]\n",
       "owner                        object\n",
       "ticker                       object\n",
       "asset_description            object\n",
       "asset_type                   object\n",
       "type                         object\n",
       "amount                       object\n",
       "comment                      object\n",
       "senator                      object\n",
       "ptr_link                     object\n",
       "disclosure_date      datetime64[ns]\n",
       "dtype: object"
      ]
     },
     "execution_count": 64,
     "metadata": {},
     "output_type": "execute_result"
    }
   ],
   "source": [
    "senate['transaction_date'] = pd.to_datetime(senate['transaction_date'])\n",
    "senate['disclosure_date'] = pd.to_datetime(senate['disclosure_date'])\n",
    "senate['transaction_date'] = pd.to_datetime(senate['transaction_date'], format = '%Y-%m-%d')\n",
    "senate['disclosure_date'] = pd.to_datetime(senate['disclosure_date'], format = '%Y-%m-%d')\n",
    "senate.dtypes"
   ]
  },
  {
   "cell_type": "markdown",
   "id": "f7087c92-8ab3-4102-8237-a9747828a749",
   "metadata": {},
   "source": [
    "# Checking Years\n",
    "Now let's create a year column"
   ]
  },
  {
   "cell_type": "code",
   "execution_count": 65,
   "id": "007145a5-89a1-4efc-aaf0-e479d8d70dbe",
   "metadata": {},
   "outputs": [
    {
     "data": {
      "text/html": [
       "<div>\n",
       "<style scoped>\n",
       "    .dataframe tbody tr th:only-of-type {\n",
       "        vertical-align: middle;\n",
       "    }\n",
       "\n",
       "    .dataframe tbody tr th {\n",
       "        vertical-align: top;\n",
       "    }\n",
       "\n",
       "    .dataframe thead th {\n",
       "        text-align: right;\n",
       "    }\n",
       "</style>\n",
       "<table border=\"1\" class=\"dataframe\">\n",
       "  <thead>\n",
       "    <tr style=\"text-align: right;\">\n",
       "      <th></th>\n",
       "      <th>transaction_date</th>\n",
       "      <th>owner</th>\n",
       "      <th>ticker</th>\n",
       "      <th>asset_description</th>\n",
       "      <th>asset_type</th>\n",
       "      <th>type</th>\n",
       "      <th>amount</th>\n",
       "      <th>comment</th>\n",
       "      <th>senator</th>\n",
       "      <th>ptr_link</th>\n",
       "      <th>disclosure_date</th>\n",
       "      <th>year</th>\n",
       "    </tr>\n",
       "  </thead>\n",
       "  <tbody>\n",
       "    <tr>\n",
       "      <th>0</th>\n",
       "      <td>2022-06-21</td>\n",
       "      <td>Spouse</td>\n",
       "      <td>--</td>\n",
       "      <td>Broadcom Corp &lt;div class=\"text-muted\"&gt;&lt;em&gt;Rate/Coupon:&lt;/em&gt; 3.625%&lt;br&gt; &lt;em&gt;Matures:&lt;/em&gt; 01/15/2024&lt;/div&gt;</td>\n",
       "      <td>Corporate Bond</td>\n",
       "      <td>Purchase</td>\n",
       "      <td>$15,001 - $50,000</td>\n",
       "      <td>--</td>\n",
       "      <td>Thomas R Carper</td>\n",
       "      <td>https://efdsearch.senate.gov/search/view/ptr/a6ce1670-29e5-4b70-bc24-f77d4ce7dff5/</td>\n",
       "      <td>2022-07-05</td>\n",
       "      <td>2022</td>\n",
       "    </tr>\n",
       "    <tr>\n",
       "      <th>1</th>\n",
       "      <td>2022-06-15</td>\n",
       "      <td>Spouse</td>\n",
       "      <td>--</td>\n",
       "      <td>Office Properties Income Trust &lt;div class=\"text-muted\"&gt;&lt;em&gt;Rate/Coupon:&lt;/em&gt; 4.0%&lt;br&gt; &lt;em&gt;Matures:&lt;/em&gt; 07/15/2022&lt;/div&gt;</td>\n",
       "      <td>Corporate Bond</td>\n",
       "      <td>Sale (Full)</td>\n",
       "      <td>$1,001 - $15,000</td>\n",
       "      <td>--</td>\n",
       "      <td>Thomas R Carper</td>\n",
       "      <td>https://efdsearch.senate.gov/search/view/ptr/a6ce1670-29e5-4b70-bc24-f77d4ce7dff5/</td>\n",
       "      <td>2022-07-05</td>\n",
       "      <td>2022</td>\n",
       "    </tr>\n",
       "    <tr>\n",
       "      <th>2</th>\n",
       "      <td>2022-05-17</td>\n",
       "      <td>Spouse</td>\n",
       "      <td>--</td>\n",
       "      <td>Lee County Florida Health Care Facilities Revenue Bond &lt;div class=\"text-muted\"&gt;&lt;em&gt;Rate/Coupon:&lt;/em&gt; 5.75%&lt;br&gt; &lt;em&gt;Matures:&lt;/em&gt; 10/01/2042&lt;/div&gt;</td>\n",
       "      <td>Municipal Security</td>\n",
       "      <td>Purchase</td>\n",
       "      <td>$500,001 - $1,000,000</td>\n",
       "      <td>--</td>\n",
       "      <td>Rick Scott</td>\n",
       "      <td>https://efdsearch.senate.gov/search/view/ptr/8ddf0001-ba8d-4c25-b970-556e8d44149c/</td>\n",
       "      <td>2022-06-16</td>\n",
       "      <td>2022</td>\n",
       "    </tr>\n",
       "    <tr>\n",
       "      <th>3</th>\n",
       "      <td>2022-06-03</td>\n",
       "      <td>Spouse</td>\n",
       "      <td>WFC</td>\n",
       "      <td>Wells Fargo &amp;amp; Company Common Stock</td>\n",
       "      <td>Stock</td>\n",
       "      <td>Purchase</td>\n",
       "      <td>$1,001 - $15,000</td>\n",
       "      <td>Dividend Reinvestment</td>\n",
       "      <td>A. Mitchell Mcconnell, Jr.</td>\n",
       "      <td>https://efdsearch.senate.gov/search/view/ptr/5ed49813-1cfe-42fc-8235-9da7d7a21051/</td>\n",
       "      <td>2022-06-13</td>\n",
       "      <td>2022</td>\n",
       "    </tr>\n",
       "    <tr>\n",
       "      <th>4</th>\n",
       "      <td>2022-05-31</td>\n",
       "      <td>Joint</td>\n",
       "      <td>X</td>\n",
       "      <td>United States Steel Corporation Common Stock &lt;div class=\"text-muted\"&gt;Option Type: Put &lt;br&gt;&lt;em&gt;Strike price:&lt;/em&gt; $23.00 &lt;br&gt; &lt;em&gt;Expires:&lt;/em&gt; 01/20/2023 &lt;/div&gt;</td>\n",
       "      <td>Stock Option</td>\n",
       "      <td>Sale (Partial)</td>\n",
       "      <td>$15,001 - $50,000</td>\n",
       "      <td>--</td>\n",
       "      <td>Thomas H Tuberville</td>\n",
       "      <td>https://efdsearch.senate.gov/search/view/ptr/40602988-914b-49a7-b7d7-e82d7b0364b2/</td>\n",
       "      <td>2022-06-13</td>\n",
       "      <td>2022</td>\n",
       "    </tr>\n",
       "  </tbody>\n",
       "</table>\n",
       "</div>"
      ],
      "text/plain": [
       "  transaction_date   owner ticker  \\\n",
       "0       2022-06-21  Spouse     --   \n",
       "1       2022-06-15  Spouse     --   \n",
       "2       2022-05-17  Spouse     --   \n",
       "3       2022-06-03  Spouse    WFC   \n",
       "4       2022-05-31   Joint      X   \n",
       "\n",
       "                                                                                                                                                  asset_description  \\\n",
       "0                                                         Broadcom Corp <div class=\"text-muted\"><em>Rate/Coupon:</em> 3.625%<br> <em>Matures:</em> 01/15/2024</div>   \n",
       "1                                          Office Properties Income Trust <div class=\"text-muted\"><em>Rate/Coupon:</em> 4.0%<br> <em>Matures:</em> 07/15/2022</div>   \n",
       "2                 Lee County Florida Health Care Facilities Revenue Bond <div class=\"text-muted\"><em>Rate/Coupon:</em> 5.75%<br> <em>Matures:</em> 10/01/2042</div>   \n",
       "3                                                                                                                            Wells Fargo &amp; Company Common Stock   \n",
       "4  United States Steel Corporation Common Stock <div class=\"text-muted\">Option Type: Put <br><em>Strike price:</em> $23.00 <br> <em>Expires:</em> 01/20/2023 </div>   \n",
       "\n",
       "           asset_type            type                 amount  \\\n",
       "0      Corporate Bond        Purchase      $15,001 - $50,000   \n",
       "1      Corporate Bond     Sale (Full)       $1,001 - $15,000   \n",
       "2  Municipal Security        Purchase  $500,001 - $1,000,000   \n",
       "3               Stock        Purchase       $1,001 - $15,000   \n",
       "4        Stock Option  Sale (Partial)      $15,001 - $50,000   \n",
       "\n",
       "                 comment                     senator  \\\n",
       "0                     --             Thomas R Carper   \n",
       "1                     --             Thomas R Carper   \n",
       "2                     --                  Rick Scott   \n",
       "3  Dividend Reinvestment  A. Mitchell Mcconnell, Jr.   \n",
       "4                     --         Thomas H Tuberville   \n",
       "\n",
       "                                                                             ptr_link  \\\n",
       "0  https://efdsearch.senate.gov/search/view/ptr/a6ce1670-29e5-4b70-bc24-f77d4ce7dff5/   \n",
       "1  https://efdsearch.senate.gov/search/view/ptr/a6ce1670-29e5-4b70-bc24-f77d4ce7dff5/   \n",
       "2  https://efdsearch.senate.gov/search/view/ptr/8ddf0001-ba8d-4c25-b970-556e8d44149c/   \n",
       "3  https://efdsearch.senate.gov/search/view/ptr/5ed49813-1cfe-42fc-8235-9da7d7a21051/   \n",
       "4  https://efdsearch.senate.gov/search/view/ptr/40602988-914b-49a7-b7d7-e82d7b0364b2/   \n",
       "\n",
       "  disclosure_date  year  \n",
       "0      2022-07-05  2022  \n",
       "1      2022-07-05  2022  \n",
       "2      2022-06-16  2022  \n",
       "3      2022-06-13  2022  \n",
       "4      2022-06-13  2022  "
      ]
     },
     "execution_count": 65,
     "metadata": {},
     "output_type": "execute_result"
    }
   ],
   "source": [
    "senate['year'] = senate['transaction_date'].map(lambda x: x.year)\n",
    "senate.head()"
   ]
  },
  {
   "cell_type": "code",
   "execution_count": 66,
   "id": "d2273a3c-22cd-4048-8249-d5741faf7f34",
   "metadata": {},
   "outputs": [
    {
     "data": {
      "text/plain": [
       "2020    1535\n",
       "2018    1395\n",
       "2017    1372\n",
       "2015    1152\n",
       "2019    1037\n",
       "2016     977\n",
       "2014     727\n",
       "2021     612\n",
       "2022     347\n",
       "2013     184\n",
       "2012      60\n",
       "Name: year, dtype: int64"
      ]
     },
     "execution_count": 66,
     "metadata": {},
     "output_type": "execute_result"
    }
   ],
   "source": [
    "senate['year'].value_counts()"
   ]
  },
  {
   "cell_type": "code",
   "execution_count": 67,
   "id": "ccd5e107-eae5-4fcc-9fe6-62bdaafd6c51",
   "metadata": {},
   "outputs": [
    {
     "data": {
      "text/html": [
       "<div>\n",
       "<style scoped>\n",
       "    .dataframe tbody tr th:only-of-type {\n",
       "        vertical-align: middle;\n",
       "    }\n",
       "\n",
       "    .dataframe tbody tr th {\n",
       "        vertical-align: top;\n",
       "    }\n",
       "\n",
       "    .dataframe thead th {\n",
       "        text-align: right;\n",
       "    }\n",
       "</style>\n",
       "<table border=\"1\" class=\"dataframe\">\n",
       "  <thead>\n",
       "    <tr style=\"text-align: right;\">\n",
       "      <th></th>\n",
       "      <th>transaction_date</th>\n",
       "      <th>owner</th>\n",
       "      <th>ticker</th>\n",
       "      <th>asset_description</th>\n",
       "      <th>asset_type</th>\n",
       "      <th>type</th>\n",
       "      <th>amount</th>\n",
       "      <th>comment</th>\n",
       "      <th>senator</th>\n",
       "      <th>ptr_link</th>\n",
       "      <th>disclosure_date</th>\n",
       "    </tr>\n",
       "  </thead>\n",
       "  <tbody>\n",
       "    <tr>\n",
       "      <th>0</th>\n",
       "      <td>2022-06-21</td>\n",
       "      <td>Spouse</td>\n",
       "      <td>--</td>\n",
       "      <td>Broadcom Corp &lt;div class=\"text-muted\"&gt;&lt;em&gt;Rate/Coupon:&lt;/em&gt; 3.625%&lt;br&gt; &lt;em&gt;Matures:&lt;/em&gt; 01/15/2024&lt;/div&gt;</td>\n",
       "      <td>Corporate Bond</td>\n",
       "      <td>Purchase</td>\n",
       "      <td>$15,001 - $50,000</td>\n",
       "      <td>--</td>\n",
       "      <td>Thomas R Carper</td>\n",
       "      <td>https://efdsearch.senate.gov/search/view/ptr/a6ce1670-29e5-4b70-bc24-f77d4ce7dff5/</td>\n",
       "      <td>2022-07-05</td>\n",
       "    </tr>\n",
       "    <tr>\n",
       "      <th>1</th>\n",
       "      <td>2022-06-15</td>\n",
       "      <td>Spouse</td>\n",
       "      <td>--</td>\n",
       "      <td>Office Properties Income Trust &lt;div class=\"text-muted\"&gt;&lt;em&gt;Rate/Coupon:&lt;/em&gt; 4.0%&lt;br&gt; &lt;em&gt;Matures:&lt;/em&gt; 07/15/2022&lt;/div&gt;</td>\n",
       "      <td>Corporate Bond</td>\n",
       "      <td>Sale (Full)</td>\n",
       "      <td>$1,001 - $15,000</td>\n",
       "      <td>--</td>\n",
       "      <td>Thomas R Carper</td>\n",
       "      <td>https://efdsearch.senate.gov/search/view/ptr/a6ce1670-29e5-4b70-bc24-f77d4ce7dff5/</td>\n",
       "      <td>2022-07-05</td>\n",
       "    </tr>\n",
       "    <tr>\n",
       "      <th>2</th>\n",
       "      <td>2022-05-17</td>\n",
       "      <td>Spouse</td>\n",
       "      <td>--</td>\n",
       "      <td>Lee County Florida Health Care Facilities Revenue Bond &lt;div class=\"text-muted\"&gt;&lt;em&gt;Rate/Coupon:&lt;/em&gt; 5.75%&lt;br&gt; &lt;em&gt;Matures:&lt;/em&gt; 10/01/2042&lt;/div&gt;</td>\n",
       "      <td>Municipal Security</td>\n",
       "      <td>Purchase</td>\n",
       "      <td>$500,001 - $1,000,000</td>\n",
       "      <td>--</td>\n",
       "      <td>Rick Scott</td>\n",
       "      <td>https://efdsearch.senate.gov/search/view/ptr/8ddf0001-ba8d-4c25-b970-556e8d44149c/</td>\n",
       "      <td>2022-06-16</td>\n",
       "    </tr>\n",
       "    <tr>\n",
       "      <th>3</th>\n",
       "      <td>2022-06-03</td>\n",
       "      <td>Spouse</td>\n",
       "      <td>WFC</td>\n",
       "      <td>Wells Fargo &amp;amp; Company Common Stock</td>\n",
       "      <td>Stock</td>\n",
       "      <td>Purchase</td>\n",
       "      <td>$1,001 - $15,000</td>\n",
       "      <td>Dividend Reinvestment</td>\n",
       "      <td>A. Mitchell Mcconnell, Jr.</td>\n",
       "      <td>https://efdsearch.senate.gov/search/view/ptr/5ed49813-1cfe-42fc-8235-9da7d7a21051/</td>\n",
       "      <td>2022-06-13</td>\n",
       "    </tr>\n",
       "    <tr>\n",
       "      <th>4</th>\n",
       "      <td>2022-05-31</td>\n",
       "      <td>Joint</td>\n",
       "      <td>X</td>\n",
       "      <td>United States Steel Corporation Common Stock &lt;div class=\"text-muted\"&gt;Option Type: Put &lt;br&gt;&lt;em&gt;Strike price:&lt;/em&gt; $23.00 &lt;br&gt; &lt;em&gt;Expires:&lt;/em&gt; 01/20/2023 &lt;/div&gt;</td>\n",
       "      <td>Stock Option</td>\n",
       "      <td>Sale (Partial)</td>\n",
       "      <td>$15,001 - $50,000</td>\n",
       "      <td>--</td>\n",
       "      <td>Thomas H Tuberville</td>\n",
       "      <td>https://efdsearch.senate.gov/search/view/ptr/40602988-914b-49a7-b7d7-e82d7b0364b2/</td>\n",
       "      <td>2022-06-13</td>\n",
       "    </tr>\n",
       "  </tbody>\n",
       "</table>\n",
       "</div>"
      ],
      "text/plain": [
       "  transaction_date   owner ticker  \\\n",
       "0       2022-06-21  Spouse     --   \n",
       "1       2022-06-15  Spouse     --   \n",
       "2       2022-05-17  Spouse     --   \n",
       "3       2022-06-03  Spouse    WFC   \n",
       "4       2022-05-31   Joint      X   \n",
       "\n",
       "                                                                                                                                                  asset_description  \\\n",
       "0                                                         Broadcom Corp <div class=\"text-muted\"><em>Rate/Coupon:</em> 3.625%<br> <em>Matures:</em> 01/15/2024</div>   \n",
       "1                                          Office Properties Income Trust <div class=\"text-muted\"><em>Rate/Coupon:</em> 4.0%<br> <em>Matures:</em> 07/15/2022</div>   \n",
       "2                 Lee County Florida Health Care Facilities Revenue Bond <div class=\"text-muted\"><em>Rate/Coupon:</em> 5.75%<br> <em>Matures:</em> 10/01/2042</div>   \n",
       "3                                                                                                                            Wells Fargo &amp; Company Common Stock   \n",
       "4  United States Steel Corporation Common Stock <div class=\"text-muted\">Option Type: Put <br><em>Strike price:</em> $23.00 <br> <em>Expires:</em> 01/20/2023 </div>   \n",
       "\n",
       "           asset_type            type                 amount  \\\n",
       "0      Corporate Bond        Purchase      $15,001 - $50,000   \n",
       "1      Corporate Bond     Sale (Full)       $1,001 - $15,000   \n",
       "2  Municipal Security        Purchase  $500,001 - $1,000,000   \n",
       "3               Stock        Purchase       $1,001 - $15,000   \n",
       "4        Stock Option  Sale (Partial)      $15,001 - $50,000   \n",
       "\n",
       "                 comment                     senator  \\\n",
       "0                     --             Thomas R Carper   \n",
       "1                     --             Thomas R Carper   \n",
       "2                     --                  Rick Scott   \n",
       "3  Dividend Reinvestment  A. Mitchell Mcconnell, Jr.   \n",
       "4                     --         Thomas H Tuberville   \n",
       "\n",
       "                                                                             ptr_link  \\\n",
       "0  https://efdsearch.senate.gov/search/view/ptr/a6ce1670-29e5-4b70-bc24-f77d4ce7dff5/   \n",
       "1  https://efdsearch.senate.gov/search/view/ptr/a6ce1670-29e5-4b70-bc24-f77d4ce7dff5/   \n",
       "2  https://efdsearch.senate.gov/search/view/ptr/8ddf0001-ba8d-4c25-b970-556e8d44149c/   \n",
       "3  https://efdsearch.senate.gov/search/view/ptr/5ed49813-1cfe-42fc-8235-9da7d7a21051/   \n",
       "4  https://efdsearch.senate.gov/search/view/ptr/40602988-914b-49a7-b7d7-e82d7b0364b2/   \n",
       "\n",
       "  disclosure_date  \n",
       "0      2022-07-05  \n",
       "1      2022-07-05  \n",
       "2      2022-06-16  \n",
       "3      2022-06-13  \n",
       "4      2022-06-13  "
      ]
     },
     "execution_count": 67,
     "metadata": {},
     "output_type": "execute_result"
    }
   ],
   "source": [
    "senate = senate.drop(columns=['year'])\n",
    "senate.head()"
   ]
  },
  {
   "cell_type": "markdown",
   "id": "963dab4a-77ce-45a1-80c6-bec4d74813d0",
   "metadata": {
    "tags": []
   },
   "source": [
    "# Nulls\n",
    "Let's look at null values"
   ]
  },
  {
   "cell_type": "code",
   "execution_count": 68,
   "id": "67c63851-ff2a-4fc2-9732-53305244b3f8",
   "metadata": {},
   "outputs": [
    {
     "data": {
      "text/plain": [
       "transaction_date       0\n",
       "owner                465\n",
       "ticker               465\n",
       "asset_description      0\n",
       "asset_type           666\n",
       "type                 465\n",
       "amount                 0\n",
       "comment              465\n",
       "senator                0\n",
       "ptr_link               0\n",
       "disclosure_date        0\n",
       "dtype: int64"
      ]
     },
     "execution_count": 68,
     "metadata": {},
     "output_type": "execute_result"
    }
   ],
   "source": [
    "senate.isnull().sum()"
   ]
  },
  {
   "cell_type": "markdown",
   "id": "4e287510-e8bf-4ab0-88bf-72af0183dd2d",
   "metadata": {
    "tags": []
   },
   "source": [
    "# Owner\n",
    "\n",
    "We determined we don't need owner because for our purposes whether the congressperson, spouse, etc., own the asset is irrelevant to whether or not insider invformation was used"
   ]
  },
  {
   "cell_type": "code",
   "execution_count": 69,
   "id": "7ec4eb1a-0f98-4a87-81e9-cef0d45c86ec",
   "metadata": {},
   "outputs": [
    {
     "data": {
      "text/plain": [
       "transaction_date       0\n",
       "ticker               465\n",
       "asset_description      0\n",
       "asset_type           666\n",
       "type                 465\n",
       "amount                 0\n",
       "comment              465\n",
       "senator                0\n",
       "ptr_link               0\n",
       "disclosure_date        0\n",
       "dtype: int64"
      ]
     },
     "execution_count": 69,
     "metadata": {},
     "output_type": "execute_result"
    }
   ],
   "source": [
    "senate.drop(columns = ['owner'], inplace = True)\n",
    "senate.isnull().sum()"
   ]
  },
  {
   "cell_type": "markdown",
   "id": "08d1eb6e-fbea-4e07-8200-9b2a219828b6",
   "metadata": {},
   "source": [
    "## Asset Type Nulls\n",
    "A number of the nulls actually have the information we need in other columns. That said, some asset types aren't helpful to our analysis and eliminating them here removes some other NaNs."
   ]
  },
  {
   "cell_type": "code",
   "execution_count": 70,
   "id": "3facc5c7-ee85-4565-a932-fe2b757b3864",
   "metadata": {},
   "outputs": [
    {
     "data": {
      "text/html": [
       "<div>\n",
       "<style scoped>\n",
       "    .dataframe tbody tr th:only-of-type {\n",
       "        vertical-align: middle;\n",
       "    }\n",
       "\n",
       "    .dataframe tbody tr th {\n",
       "        vertical-align: top;\n",
       "    }\n",
       "\n",
       "    .dataframe thead th {\n",
       "        text-align: right;\n",
       "    }\n",
       "</style>\n",
       "<table border=\"1\" class=\"dataframe\">\n",
       "  <thead>\n",
       "    <tr style=\"text-align: right;\">\n",
       "      <th></th>\n",
       "      <th>transaction_date</th>\n",
       "      <th>ticker</th>\n",
       "      <th>asset_description</th>\n",
       "      <th>asset_type</th>\n",
       "      <th>type</th>\n",
       "      <th>amount</th>\n",
       "      <th>comment</th>\n",
       "      <th>senator</th>\n",
       "      <th>ptr_link</th>\n",
       "      <th>disclosure_date</th>\n",
       "    </tr>\n",
       "  </thead>\n",
       "  <tbody>\n",
       "    <tr>\n",
       "      <th>7370</th>\n",
       "      <td>2014-12-30</td>\n",
       "      <td>--</td>\n",
       "      <td>MDLZ (stock option)</td>\n",
       "      <td>NaN</td>\n",
       "      <td>Sale (Full)</td>\n",
       "      <td>$50,001 - $100,000</td>\n",
       "      <td>--</td>\n",
       "      <td>Roy Blunt</td>\n",
       "      <td>https://efdsearch.senate.gov/search/view/ptr/f24dd495-dcee-45a7-9138-a29d7c72f4f8/</td>\n",
       "      <td>2015-12-24</td>\n",
       "    </tr>\n",
       "    <tr>\n",
       "      <th>8479</th>\n",
       "      <td>2014-12-18</td>\n",
       "      <td>TJX</td>\n",
       "      <td>The TJX Companies, Inc. (NYSE)</td>\n",
       "      <td>NaN</td>\n",
       "      <td>Purchase</td>\n",
       "      <td>$1,001 - $15,000</td>\n",
       "      <td>--</td>\n",
       "      <td>Sheldon Whitehouse</td>\n",
       "      <td>https://efdsearch.senate.gov/search/view/ptr/332020b5-647b-49c1-afa2-7be502f72c34/</td>\n",
       "      <td>2015-01-05</td>\n",
       "    </tr>\n",
       "    <tr>\n",
       "      <th>8480</th>\n",
       "      <td>2014-12-18</td>\n",
       "      <td>ORCL</td>\n",
       "      <td>Oracle Corporation (NYSE)</td>\n",
       "      <td>NaN</td>\n",
       "      <td>Purchase</td>\n",
       "      <td>$1,001 - $15,000</td>\n",
       "      <td>--</td>\n",
       "      <td>Sheldon Whitehouse</td>\n",
       "      <td>https://efdsearch.senate.gov/search/view/ptr/332020b5-647b-49c1-afa2-7be502f72c34/</td>\n",
       "      <td>2015-01-05</td>\n",
       "    </tr>\n",
       "    <tr>\n",
       "      <th>8481</th>\n",
       "      <td>2014-12-18</td>\n",
       "      <td>T</td>\n",
       "      <td>AT&amp;amp;T, Inc. (NYSE)</td>\n",
       "      <td>NaN</td>\n",
       "      <td>Purchase</td>\n",
       "      <td>$1,001 - $15,000</td>\n",
       "      <td>--</td>\n",
       "      <td>Sheldon Whitehouse</td>\n",
       "      <td>https://efdsearch.senate.gov/search/view/ptr/332020b5-647b-49c1-afa2-7be502f72c34/</td>\n",
       "      <td>2015-01-05</td>\n",
       "    </tr>\n",
       "    <tr>\n",
       "      <th>8482</th>\n",
       "      <td>2014-12-18</td>\n",
       "      <td>KORS</td>\n",
       "      <td>Michael Kors Holdings Limited (NYSE)</td>\n",
       "      <td>NaN</td>\n",
       "      <td>Sale (Partial)</td>\n",
       "      <td>$1,001 - $15,000</td>\n",
       "      <td>--</td>\n",
       "      <td>Sheldon Whitehouse</td>\n",
       "      <td>https://efdsearch.senate.gov/search/view/ptr/332020b5-647b-49c1-afa2-7be502f72c34/</td>\n",
       "      <td>2015-01-05</td>\n",
       "    </tr>\n",
       "    <tr>\n",
       "      <th>8483</th>\n",
       "      <td>2014-11-25</td>\n",
       "      <td>PCAR</td>\n",
       "      <td>PACCAR Inc. (NASDAQ)</td>\n",
       "      <td>NaN</td>\n",
       "      <td>Purchase</td>\n",
       "      <td>$1,001 - $15,000</td>\n",
       "      <td>--</td>\n",
       "      <td>Sheldon Whitehouse</td>\n",
       "      <td>https://efdsearch.senate.gov/search/view/ptr/332020b5-647b-49c1-afa2-7be502f72c34/</td>\n",
       "      <td>2015-01-05</td>\n",
       "    </tr>\n",
       "    <tr>\n",
       "      <th>8484</th>\n",
       "      <td>2014-11-25</td>\n",
       "      <td>IBM</td>\n",
       "      <td>International Business Machines Corporation (NYSE)</td>\n",
       "      <td>NaN</td>\n",
       "      <td>Sale (Partial)</td>\n",
       "      <td>$1,001 - $15,000</td>\n",
       "      <td>--</td>\n",
       "      <td>Sheldon Whitehouse</td>\n",
       "      <td>https://efdsearch.senate.gov/search/view/ptr/332020b5-647b-49c1-afa2-7be502f72c34/</td>\n",
       "      <td>2015-01-05</td>\n",
       "    </tr>\n",
       "    <tr>\n",
       "      <th>8485</th>\n",
       "      <td>2014-12-18</td>\n",
       "      <td>CMRE</td>\n",
       "      <td>Costamare Inc. (NYSE)</td>\n",
       "      <td>NaN</td>\n",
       "      <td>Purchase</td>\n",
       "      <td>$1,001 - $15,000</td>\n",
       "      <td>--</td>\n",
       "      <td>Sheldon Whitehouse</td>\n",
       "      <td>https://efdsearch.senate.gov/search/view/ptr/332020b5-647b-49c1-afa2-7be502f72c34/</td>\n",
       "      <td>2015-01-05</td>\n",
       "    </tr>\n",
       "    <tr>\n",
       "      <th>8486</th>\n",
       "      <td>2014-11-25</td>\n",
       "      <td>PCAR</td>\n",
       "      <td>PACCAR Inc. (NASDAQ)</td>\n",
       "      <td>NaN</td>\n",
       "      <td>Purchase</td>\n",
       "      <td>$1,001 - $15,000</td>\n",
       "      <td>--</td>\n",
       "      <td>Sheldon Whitehouse</td>\n",
       "      <td>https://efdsearch.senate.gov/search/view/ptr/332020b5-647b-49c1-afa2-7be502f72c34/</td>\n",
       "      <td>2015-01-05</td>\n",
       "    </tr>\n",
       "    <tr>\n",
       "      <th>8487</th>\n",
       "      <td>2014-11-25</td>\n",
       "      <td>PRU</td>\n",
       "      <td>Prudential Financial, Inc. (NYSE)</td>\n",
       "      <td>NaN</td>\n",
       "      <td>Purchase</td>\n",
       "      <td>$1,001 - $15,000</td>\n",
       "      <td>--</td>\n",
       "      <td>Sheldon Whitehouse</td>\n",
       "      <td>https://efdsearch.senate.gov/search/view/ptr/332020b5-647b-49c1-afa2-7be502f72c34/</td>\n",
       "      <td>2015-01-05</td>\n",
       "    </tr>\n",
       "  </tbody>\n",
       "</table>\n",
       "</div>"
      ],
      "text/plain": [
       "     transaction_date ticker  \\\n",
       "7370       2014-12-30     --   \n",
       "8479       2014-12-18    TJX   \n",
       "8480       2014-12-18   ORCL   \n",
       "8481       2014-12-18      T   \n",
       "8482       2014-12-18   KORS   \n",
       "8483       2014-11-25   PCAR   \n",
       "8484       2014-11-25    IBM   \n",
       "8485       2014-12-18   CMRE   \n",
       "8486       2014-11-25   PCAR   \n",
       "8487       2014-11-25    PRU   \n",
       "\n",
       "                                       asset_description asset_type  \\\n",
       "7370                                 MDLZ (stock option)        NaN   \n",
       "8479                      The TJX Companies, Inc. (NYSE)        NaN   \n",
       "8480                           Oracle Corporation (NYSE)        NaN   \n",
       "8481                               AT&amp;T, Inc. (NYSE)        NaN   \n",
       "8482                Michael Kors Holdings Limited (NYSE)        NaN   \n",
       "8483                                PACCAR Inc. (NASDAQ)        NaN   \n",
       "8484  International Business Machines Corporation (NYSE)        NaN   \n",
       "8485                               Costamare Inc. (NYSE)        NaN   \n",
       "8486                                PACCAR Inc. (NASDAQ)        NaN   \n",
       "8487                   Prudential Financial, Inc. (NYSE)        NaN   \n",
       "\n",
       "                type              amount comment             senator  \\\n",
       "7370     Sale (Full)  $50,001 - $100,000      --           Roy Blunt   \n",
       "8479        Purchase    $1,001 - $15,000      --  Sheldon Whitehouse   \n",
       "8480        Purchase    $1,001 - $15,000      --  Sheldon Whitehouse   \n",
       "8481        Purchase    $1,001 - $15,000      --  Sheldon Whitehouse   \n",
       "8482  Sale (Partial)    $1,001 - $15,000      --  Sheldon Whitehouse   \n",
       "8483        Purchase    $1,001 - $15,000      --  Sheldon Whitehouse   \n",
       "8484  Sale (Partial)    $1,001 - $15,000      --  Sheldon Whitehouse   \n",
       "8485        Purchase    $1,001 - $15,000      --  Sheldon Whitehouse   \n",
       "8486        Purchase    $1,001 - $15,000      --  Sheldon Whitehouse   \n",
       "8487        Purchase    $1,001 - $15,000      --  Sheldon Whitehouse   \n",
       "\n",
       "                                                                                ptr_link  \\\n",
       "7370  https://efdsearch.senate.gov/search/view/ptr/f24dd495-dcee-45a7-9138-a29d7c72f4f8/   \n",
       "8479  https://efdsearch.senate.gov/search/view/ptr/332020b5-647b-49c1-afa2-7be502f72c34/   \n",
       "8480  https://efdsearch.senate.gov/search/view/ptr/332020b5-647b-49c1-afa2-7be502f72c34/   \n",
       "8481  https://efdsearch.senate.gov/search/view/ptr/332020b5-647b-49c1-afa2-7be502f72c34/   \n",
       "8482  https://efdsearch.senate.gov/search/view/ptr/332020b5-647b-49c1-afa2-7be502f72c34/   \n",
       "8483  https://efdsearch.senate.gov/search/view/ptr/332020b5-647b-49c1-afa2-7be502f72c34/   \n",
       "8484  https://efdsearch.senate.gov/search/view/ptr/332020b5-647b-49c1-afa2-7be502f72c34/   \n",
       "8485  https://efdsearch.senate.gov/search/view/ptr/332020b5-647b-49c1-afa2-7be502f72c34/   \n",
       "8486  https://efdsearch.senate.gov/search/view/ptr/332020b5-647b-49c1-afa2-7be502f72c34/   \n",
       "8487  https://efdsearch.senate.gov/search/view/ptr/332020b5-647b-49c1-afa2-7be502f72c34/   \n",
       "\n",
       "     disclosure_date  \n",
       "7370      2015-12-24  \n",
       "8479      2015-01-05  \n",
       "8480      2015-01-05  \n",
       "8481      2015-01-05  \n",
       "8482      2015-01-05  \n",
       "8483      2015-01-05  \n",
       "8484      2015-01-05  \n",
       "8485      2015-01-05  \n",
       "8486      2015-01-05  \n",
       "8487      2015-01-05  "
      ]
     },
     "execution_count": 70,
     "metadata": {},
     "output_type": "execute_result"
    }
   ],
   "source": [
    "senate[senate['asset_type'].isnull()].head(10)"
   ]
  },
  {
   "cell_type": "code",
   "execution_count": 71,
   "id": "c48616bc-9dcb-4eed-86a0-f6e6821d3a33",
   "metadata": {},
   "outputs": [
    {
     "data": {
      "text/plain": [
       "Stock                           6756\n",
       "NaN                              666\n",
       "PDF Disclosed Filing             465\n",
       "Other Securities                 454\n",
       "Municipal Security               407\n",
       "Stock Option                     253\n",
       "Corporate Bond                   246\n",
       "Non-Public Stock                 100\n",
       "Commodities/Futures Contract      48\n",
       "Cryptocurrency                     3\n",
       "Name: asset_type, dtype: int64"
      ]
     },
     "execution_count": 71,
     "metadata": {},
     "output_type": "execute_result"
    }
   ],
   "source": [
    "senate['asset_type'].value_counts(dropna = False)"
   ]
  },
  {
   "cell_type": "code",
   "execution_count": 72,
   "id": "fe7e4661-a2d4-48d2-8960-4c60b1d6749d",
   "metadata": {
    "tags": []
   },
   "outputs": [
    {
     "data": {
      "text/html": [
       "<div>\n",
       "<style scoped>\n",
       "    .dataframe tbody tr th:only-of-type {\n",
       "        vertical-align: middle;\n",
       "    }\n",
       "\n",
       "    .dataframe tbody tr th {\n",
       "        vertical-align: top;\n",
       "    }\n",
       "\n",
       "    .dataframe thead th {\n",
       "        text-align: right;\n",
       "    }\n",
       "</style>\n",
       "<table border=\"1\" class=\"dataframe\">\n",
       "  <thead>\n",
       "    <tr style=\"text-align: right;\">\n",
       "      <th></th>\n",
       "      <th>transaction_date</th>\n",
       "      <th>ticker</th>\n",
       "      <th>asset_description</th>\n",
       "      <th>asset_type</th>\n",
       "      <th>type</th>\n",
       "      <th>amount</th>\n",
       "      <th>comment</th>\n",
       "      <th>senator</th>\n",
       "      <th>ptr_link</th>\n",
       "      <th>disclosure_date</th>\n",
       "    </tr>\n",
       "  </thead>\n",
       "  <tbody>\n",
       "    <tr>\n",
       "      <th>2</th>\n",
       "      <td>2022-05-17</td>\n",
       "      <td>--</td>\n",
       "      <td>Lee County Florida Health Care Facilities Revenue Bond &lt;div class=\"text-muted\"&gt;&lt;em&gt;Rate/Coupon:&lt;/em&gt; 5.75%&lt;br&gt; &lt;em&gt;Matures:&lt;/em&gt; 10/01/2042&lt;/div&gt;</td>\n",
       "      <td>Municipal Security</td>\n",
       "      <td>Purchase</td>\n",
       "      <td>$500,001 - $1,000,000</td>\n",
       "      <td>--</td>\n",
       "      <td>Rick Scott</td>\n",
       "      <td>https://efdsearch.senate.gov/search/view/ptr/8ddf0001-ba8d-4c25-b970-556e8d44149c/</td>\n",
       "      <td>2022-06-16</td>\n",
       "    </tr>\n",
       "    <tr>\n",
       "      <th>30</th>\n",
       "      <td>2022-04-21</td>\n",
       "      <td>--</td>\n",
       "      <td>Portland ME 736560TV5 &lt;div class=\"text-muted\"&gt;&lt;em&gt;Rate/Coupon:&lt;/em&gt; 5.000%&lt;br&gt; &lt;em&gt;Matures:&lt;/em&gt; 05/01/2025&lt;/div&gt;</td>\n",
       "      <td>Municipal Security</td>\n",
       "      <td>Purchase</td>\n",
       "      <td>$50,001 - $100,000</td>\n",
       "      <td>--</td>\n",
       "      <td>Susan M Collins</td>\n",
       "      <td>https://efdsearch.senate.gov/search/view/ptr/6c81e400-b184-4eb3-80e7-eb91f8b5a609/</td>\n",
       "      <td>2022-05-16</td>\n",
       "    </tr>\n",
       "    <tr>\n",
       "      <th>54</th>\n",
       "      <td>2022-04-12</td>\n",
       "      <td>--</td>\n",
       "      <td>Jacksonville Florida Transportation Revenue Bond &lt;div class=\"text-muted\"&gt;&lt;em&gt;Rate/Coupon:&lt;/em&gt; 5.0%&lt;br&gt; &lt;em&gt;Matures:&lt;/em&gt; 10/01/2027&lt;/div&gt;</td>\n",
       "      <td>Municipal Security</td>\n",
       "      <td>Purchase</td>\n",
       "      <td>$500,001 - $1,000,000</td>\n",
       "      <td>--</td>\n",
       "      <td>Rick Scott</td>\n",
       "      <td>https://efdsearch.senate.gov/search/view/ptr/5409750e-79c5-48c6-9015-b3d7523c2f18/</td>\n",
       "      <td>2022-05-05</td>\n",
       "    </tr>\n",
       "    <tr>\n",
       "      <th>55</th>\n",
       "      <td>2022-04-06</td>\n",
       "      <td>--</td>\n",
       "      <td>Broward County Florida Airport System Revenue Bond &lt;div class=\"text-muted\"&gt;&lt;em&gt;Rate/Coupon:&lt;/em&gt; 5.0%&lt;br&gt; &lt;em&gt;Matures:&lt;/em&gt; 10/01/2026&lt;/div&gt;</td>\n",
       "      <td>Municipal Security</td>\n",
       "      <td>Purchase</td>\n",
       "      <td>$250,001 - $500,000</td>\n",
       "      <td>--</td>\n",
       "      <td>Rick Scott</td>\n",
       "      <td>https://efdsearch.senate.gov/search/view/ptr/5409750e-79c5-48c6-9015-b3d7523c2f18/</td>\n",
       "      <td>2022-05-05</td>\n",
       "    </tr>\n",
       "    <tr>\n",
       "      <th>56</th>\n",
       "      <td>2022-04-06</td>\n",
       "      <td>--</td>\n",
       "      <td>Broward County Florida Airport System Revenue Bond &lt;div class=\"text-muted\"&gt;&lt;em&gt;Rate/Coupon:&lt;/em&gt; 5.0%&lt;br&gt; &lt;em&gt;Matures:&lt;/em&gt; 10/01/2026&lt;/div&gt;</td>\n",
       "      <td>Municipal Security</td>\n",
       "      <td>Purchase</td>\n",
       "      <td>$500,001 - $1,000,000</td>\n",
       "      <td>--</td>\n",
       "      <td>Rick Scott</td>\n",
       "      <td>https://efdsearch.senate.gov/search/view/ptr/5409750e-79c5-48c6-9015-b3d7523c2f18/</td>\n",
       "      <td>2022-05-05</td>\n",
       "    </tr>\n",
       "  </tbody>\n",
       "</table>\n",
       "</div>"
      ],
      "text/plain": [
       "   transaction_date ticker  \\\n",
       "2        2022-05-17     --   \n",
       "30       2022-04-21     --   \n",
       "54       2022-04-12     --   \n",
       "55       2022-04-06     --   \n",
       "56       2022-04-06     --   \n",
       "\n",
       "                                                                                                                                    asset_description  \\\n",
       "2   Lee County Florida Health Care Facilities Revenue Bond <div class=\"text-muted\"><em>Rate/Coupon:</em> 5.75%<br> <em>Matures:</em> 10/01/2042</div>   \n",
       "30                                  Portland ME 736560TV5 <div class=\"text-muted\"><em>Rate/Coupon:</em> 5.000%<br> <em>Matures:</em> 05/01/2025</div>   \n",
       "54         Jacksonville Florida Transportation Revenue Bond <div class=\"text-muted\"><em>Rate/Coupon:</em> 5.0%<br> <em>Matures:</em> 10/01/2027</div>   \n",
       "55       Broward County Florida Airport System Revenue Bond <div class=\"text-muted\"><em>Rate/Coupon:</em> 5.0%<br> <em>Matures:</em> 10/01/2026</div>   \n",
       "56       Broward County Florida Airport System Revenue Bond <div class=\"text-muted\"><em>Rate/Coupon:</em> 5.0%<br> <em>Matures:</em> 10/01/2026</div>   \n",
       "\n",
       "            asset_type      type                 amount comment  \\\n",
       "2   Municipal Security  Purchase  $500,001 - $1,000,000      --   \n",
       "30  Municipal Security  Purchase     $50,001 - $100,000      --   \n",
       "54  Municipal Security  Purchase  $500,001 - $1,000,000      --   \n",
       "55  Municipal Security  Purchase    $250,001 - $500,000      --   \n",
       "56  Municipal Security  Purchase  $500,001 - $1,000,000      --   \n",
       "\n",
       "            senator  \\\n",
       "2        Rick Scott   \n",
       "30  Susan M Collins   \n",
       "54       Rick Scott   \n",
       "55       Rick Scott   \n",
       "56       Rick Scott   \n",
       "\n",
       "                                                                              ptr_link  \\\n",
       "2   https://efdsearch.senate.gov/search/view/ptr/8ddf0001-ba8d-4c25-b970-556e8d44149c/   \n",
       "30  https://efdsearch.senate.gov/search/view/ptr/6c81e400-b184-4eb3-80e7-eb91f8b5a609/   \n",
       "54  https://efdsearch.senate.gov/search/view/ptr/5409750e-79c5-48c6-9015-b3d7523c2f18/   \n",
       "55  https://efdsearch.senate.gov/search/view/ptr/5409750e-79c5-48c6-9015-b3d7523c2f18/   \n",
       "56  https://efdsearch.senate.gov/search/view/ptr/5409750e-79c5-48c6-9015-b3d7523c2f18/   \n",
       "\n",
       "   disclosure_date  \n",
       "2       2022-06-16  \n",
       "30      2022-05-16  \n",
       "54      2022-05-05  \n",
       "55      2022-05-05  \n",
       "56      2022-05-05  "
      ]
     },
     "execution_count": 72,
     "metadata": {},
     "output_type": "execute_result"
    }
   ],
   "source": [
    "senate[senate['asset_type'] == 'Municipal Security'].head()"
   ]
  },
  {
   "cell_type": "code",
   "execution_count": 73,
   "id": "62476df9-1289-4e28-983a-fbd3a2c92f58",
   "metadata": {},
   "outputs": [
    {
     "data": {
      "text/plain": [
       "465"
      ]
     },
     "execution_count": 73,
     "metadata": {},
     "output_type": "execute_result"
    }
   ],
   "source": [
    "len(senate[ senate['asset_description'] == 'This filing was disclosed via scanned PDF. Use link in ptr_link column to view the PDF.'])"
   ]
  },
  {
   "cell_type": "code",
   "execution_count": 74,
   "id": "bcb0de61-c6f3-474b-8a99-a001b252e715",
   "metadata": {
    "tags": []
   },
   "outputs": [
    {
     "data": {
      "text/html": [
       "<div>\n",
       "<style scoped>\n",
       "    .dataframe tbody tr th:only-of-type {\n",
       "        vertical-align: middle;\n",
       "    }\n",
       "\n",
       "    .dataframe tbody tr th {\n",
       "        vertical-align: top;\n",
       "    }\n",
       "\n",
       "    .dataframe thead th {\n",
       "        text-align: right;\n",
       "    }\n",
       "</style>\n",
       "<table border=\"1\" class=\"dataframe\">\n",
       "  <thead>\n",
       "    <tr style=\"text-align: right;\">\n",
       "      <th></th>\n",
       "      <th>transaction_date</th>\n",
       "      <th>ticker</th>\n",
       "      <th>asset_description</th>\n",
       "      <th>asset_type</th>\n",
       "      <th>type</th>\n",
       "      <th>amount</th>\n",
       "      <th>comment</th>\n",
       "      <th>senator</th>\n",
       "      <th>ptr_link</th>\n",
       "      <th>disclosure_date</th>\n",
       "    </tr>\n",
       "  </thead>\n",
       "  <tbody>\n",
       "    <tr>\n",
       "      <th>13</th>\n",
       "      <td>2022-05-16</td>\n",
       "      <td>ABYIX</td>\n",
       "      <td>Abbey Capital Futures Strategy Fund- Class I Sha</td>\n",
       "      <td>Other Securities</td>\n",
       "      <td>Purchase</td>\n",
       "      <td>$1,001 - $15,000</td>\n",
       "      <td>--</td>\n",
       "      <td>Thomas R Carper</td>\n",
       "      <td>https://efdsearch.senate.gov/search/view/ptr/1faaea57-05b9-4b83-872b-7e6d806c5c56/</td>\n",
       "      <td>2022-06-03</td>\n",
       "    </tr>\n",
       "    <tr>\n",
       "      <th>14</th>\n",
       "      <td>2022-05-16</td>\n",
       "      <td>GSMYX</td>\n",
       "      <td>Goldman Sachs Small/Mid-Cap Growth Fund Inst Cl</td>\n",
       "      <td>Other Securities</td>\n",
       "      <td>Sale (Partial)</td>\n",
       "      <td>$1,001 - $15,000</td>\n",
       "      <td>--</td>\n",
       "      <td>Thomas R Carper</td>\n",
       "      <td>https://efdsearch.senate.gov/search/view/ptr/1faaea57-05b9-4b83-872b-7e6d806c5c56/</td>\n",
       "      <td>2022-06-03</td>\n",
       "    </tr>\n",
       "    <tr>\n",
       "      <th>15</th>\n",
       "      <td>2022-05-16</td>\n",
       "      <td>--</td>\n",
       "      <td>FIMKX - Fidelity Advisor Focused Emerging Markets I</td>\n",
       "      <td>Other Securities</td>\n",
       "      <td>Sale (Partial)</td>\n",
       "      <td>$1,001 - $15,000</td>\n",
       "      <td>--</td>\n",
       "      <td>Thomas R Carper</td>\n",
       "      <td>https://efdsearch.senate.gov/search/view/ptr/1faaea57-05b9-4b83-872b-7e6d806c5c56/</td>\n",
       "      <td>2022-06-03</td>\n",
       "    </tr>\n",
       "    <tr>\n",
       "      <th>16</th>\n",
       "      <td>2022-05-16</td>\n",
       "      <td>FCPIX</td>\n",
       "      <td>Fidelity Advisor International Capital Appreciat</td>\n",
       "      <td>Other Securities</td>\n",
       "      <td>Sale (Partial)</td>\n",
       "      <td>$1,001 - $15,000</td>\n",
       "      <td>--</td>\n",
       "      <td>Thomas R Carper</td>\n",
       "      <td>https://efdsearch.senate.gov/search/view/ptr/1faaea57-05b9-4b83-872b-7e6d806c5c56/</td>\n",
       "      <td>2022-06-03</td>\n",
       "    </tr>\n",
       "    <tr>\n",
       "      <th>18</th>\n",
       "      <td>2022-05-10</td>\n",
       "      <td>LUBYX</td>\n",
       "      <td>Lord Abbett Ultra Short Bond Fund - Class I</td>\n",
       "      <td>Other Securities</td>\n",
       "      <td>Sale (Partial)</td>\n",
       "      <td>$1,001 - $15,000</td>\n",
       "      <td>--</td>\n",
       "      <td>Thomas R Carper</td>\n",
       "      <td>https://efdsearch.senate.gov/search/view/ptr/1faaea57-05b9-4b83-872b-7e6d806c5c56/</td>\n",
       "      <td>2022-06-03</td>\n",
       "    </tr>\n",
       "  </tbody>\n",
       "</table>\n",
       "</div>"
      ],
      "text/plain": [
       "   transaction_date ticker  \\\n",
       "13       2022-05-16  ABYIX   \n",
       "14       2022-05-16  GSMYX   \n",
       "15       2022-05-16     --   \n",
       "16       2022-05-16  FCPIX   \n",
       "18       2022-05-10  LUBYX   \n",
       "\n",
       "                                      asset_description        asset_type  \\\n",
       "13     Abbey Capital Futures Strategy Fund- Class I Sha  Other Securities   \n",
       "14      Goldman Sachs Small/Mid-Cap Growth Fund Inst Cl  Other Securities   \n",
       "15  FIMKX - Fidelity Advisor Focused Emerging Markets I  Other Securities   \n",
       "16     Fidelity Advisor International Capital Appreciat  Other Securities   \n",
       "18          Lord Abbett Ultra Short Bond Fund - Class I  Other Securities   \n",
       "\n",
       "              type            amount comment          senator  \\\n",
       "13        Purchase  $1,001 - $15,000      --  Thomas R Carper   \n",
       "14  Sale (Partial)  $1,001 - $15,000      --  Thomas R Carper   \n",
       "15  Sale (Partial)  $1,001 - $15,000      --  Thomas R Carper   \n",
       "16  Sale (Partial)  $1,001 - $15,000      --  Thomas R Carper   \n",
       "18  Sale (Partial)  $1,001 - $15,000      --  Thomas R Carper   \n",
       "\n",
       "                                                                              ptr_link  \\\n",
       "13  https://efdsearch.senate.gov/search/view/ptr/1faaea57-05b9-4b83-872b-7e6d806c5c56/   \n",
       "14  https://efdsearch.senate.gov/search/view/ptr/1faaea57-05b9-4b83-872b-7e6d806c5c56/   \n",
       "15  https://efdsearch.senate.gov/search/view/ptr/1faaea57-05b9-4b83-872b-7e6d806c5c56/   \n",
       "16  https://efdsearch.senate.gov/search/view/ptr/1faaea57-05b9-4b83-872b-7e6d806c5c56/   \n",
       "18  https://efdsearch.senate.gov/search/view/ptr/1faaea57-05b9-4b83-872b-7e6d806c5c56/   \n",
       "\n",
       "   disclosure_date  \n",
       "13      2022-06-03  \n",
       "14      2022-06-03  \n",
       "15      2022-06-03  \n",
       "16      2022-06-03  \n",
       "18      2022-06-03  "
      ]
     },
     "execution_count": 74,
     "metadata": {},
     "output_type": "execute_result"
    }
   ],
   "source": [
    "senate[senate['asset_type'] == 'Other Securities'].head()"
   ]
  },
  {
   "cell_type": "code",
   "execution_count": 75,
   "id": "a23ed5da-24ff-410d-9bf5-238eb2ceaec0",
   "metadata": {
    "tags": []
   },
   "outputs": [
    {
     "data": {
      "text/html": [
       "<div>\n",
       "<style scoped>\n",
       "    .dataframe tbody tr th:only-of-type {\n",
       "        vertical-align: middle;\n",
       "    }\n",
       "\n",
       "    .dataframe tbody tr th {\n",
       "        vertical-align: top;\n",
       "    }\n",
       "\n",
       "    .dataframe thead th {\n",
       "        text-align: right;\n",
       "    }\n",
       "</style>\n",
       "<table border=\"1\" class=\"dataframe\">\n",
       "  <thead>\n",
       "    <tr style=\"text-align: right;\">\n",
       "      <th></th>\n",
       "      <th>transaction_date</th>\n",
       "      <th>ticker</th>\n",
       "      <th>asset_description</th>\n",
       "      <th>asset_type</th>\n",
       "      <th>type</th>\n",
       "      <th>amount</th>\n",
       "      <th>comment</th>\n",
       "      <th>senator</th>\n",
       "      <th>ptr_link</th>\n",
       "      <th>disclosure_date</th>\n",
       "    </tr>\n",
       "  </thead>\n",
       "  <tbody>\n",
       "    <tr>\n",
       "      <th>9393</th>\n",
       "      <td>2012-08-17</td>\n",
       "      <td>NaN</td>\n",
       "      <td>This filing was disclosed via scanned PDF. Use link in ptr_link column to view the PDF.</td>\n",
       "      <td>PDF Disclosed Filing</td>\n",
       "      <td>NaN</td>\n",
       "      <td>Unknown</td>\n",
       "      <td>NaN</td>\n",
       "      <td>Sheldon Whitehouse</td>\n",
       "      <td>https://efdsearch.senate.gov/search/view/paper/5221D7D8-15D0-40FE-A64C-DD242311F0AE/</td>\n",
       "      <td>2012-08-17</td>\n",
       "    </tr>\n",
       "    <tr>\n",
       "      <th>9394</th>\n",
       "      <td>2012-08-16</td>\n",
       "      <td>NaN</td>\n",
       "      <td>This filing was disclosed via scanned PDF. Use link in ptr_link column to view the PDF.</td>\n",
       "      <td>PDF Disclosed Filing</td>\n",
       "      <td>NaN</td>\n",
       "      <td>Unknown</td>\n",
       "      <td>NaN</td>\n",
       "      <td>Pat Roberts</td>\n",
       "      <td>https://efdsearch.senate.gov/search/view/paper/5C666F29-7055-461D-B4F7-5EA73AFCD860/</td>\n",
       "      <td>2012-08-16</td>\n",
       "    </tr>\n",
       "    <tr>\n",
       "      <th>9395</th>\n",
       "      <td>2012-08-15</td>\n",
       "      <td>NaN</td>\n",
       "      <td>This filing was disclosed via scanned PDF. Use link in ptr_link column to view the PDF.</td>\n",
       "      <td>PDF Disclosed Filing</td>\n",
       "      <td>NaN</td>\n",
       "      <td>Unknown</td>\n",
       "      <td>NaN</td>\n",
       "      <td>Robert J Portman</td>\n",
       "      <td>https://efdsearch.senate.gov/search/view/paper/0D78FC31-D28A-440A-8E2D-65C4D9861EAB/</td>\n",
       "      <td>2012-08-15</td>\n",
       "    </tr>\n",
       "    <tr>\n",
       "      <th>9396</th>\n",
       "      <td>2012-08-02</td>\n",
       "      <td>NaN</td>\n",
       "      <td>This filing was disclosed via scanned PDF. Use link in ptr_link column to view the PDF.</td>\n",
       "      <td>PDF Disclosed Filing</td>\n",
       "      <td>NaN</td>\n",
       "      <td>Unknown</td>\n",
       "      <td>NaN</td>\n",
       "      <td>Thomas R Carper</td>\n",
       "      <td>https://efdsearch.senate.gov/search/view/paper/CFDE3B80-E8BD-4F2D-9D64-E892C5EFB32A/</td>\n",
       "      <td>2012-08-02</td>\n",
       "    </tr>\n",
       "    <tr>\n",
       "      <th>9397</th>\n",
       "      <td>2012-07-25</td>\n",
       "      <td>NaN</td>\n",
       "      <td>This filing was disclosed via scanned PDF. Use link in ptr_link column to view the PDF.</td>\n",
       "      <td>PDF Disclosed Filing</td>\n",
       "      <td>NaN</td>\n",
       "      <td>Unknown</td>\n",
       "      <td>NaN</td>\n",
       "      <td>Benjamin L Cardin</td>\n",
       "      <td>https://efdsearch.senate.gov/search/view/paper/CDFDAF62-18EA-4298-B0C5-62085A6EC3CD/</td>\n",
       "      <td>2012-07-25</td>\n",
       "    </tr>\n",
       "  </tbody>\n",
       "</table>\n",
       "</div>"
      ],
      "text/plain": [
       "     transaction_date ticker  \\\n",
       "9393       2012-08-17    NaN   \n",
       "9394       2012-08-16    NaN   \n",
       "9395       2012-08-15    NaN   \n",
       "9396       2012-08-02    NaN   \n",
       "9397       2012-07-25    NaN   \n",
       "\n",
       "                                                                            asset_description  \\\n",
       "9393  This filing was disclosed via scanned PDF. Use link in ptr_link column to view the PDF.   \n",
       "9394  This filing was disclosed via scanned PDF. Use link in ptr_link column to view the PDF.   \n",
       "9395  This filing was disclosed via scanned PDF. Use link in ptr_link column to view the PDF.   \n",
       "9396  This filing was disclosed via scanned PDF. Use link in ptr_link column to view the PDF.   \n",
       "9397  This filing was disclosed via scanned PDF. Use link in ptr_link column to view the PDF.   \n",
       "\n",
       "                asset_type type   amount comment             senator  \\\n",
       "9393  PDF Disclosed Filing  NaN  Unknown     NaN  Sheldon Whitehouse   \n",
       "9394  PDF Disclosed Filing  NaN  Unknown     NaN         Pat Roberts   \n",
       "9395  PDF Disclosed Filing  NaN  Unknown     NaN    Robert J Portman   \n",
       "9396  PDF Disclosed Filing  NaN  Unknown     NaN     Thomas R Carper   \n",
       "9397  PDF Disclosed Filing  NaN  Unknown     NaN   Benjamin L Cardin   \n",
       "\n",
       "                                                                                  ptr_link  \\\n",
       "9393  https://efdsearch.senate.gov/search/view/paper/5221D7D8-15D0-40FE-A64C-DD242311F0AE/   \n",
       "9394  https://efdsearch.senate.gov/search/view/paper/5C666F29-7055-461D-B4F7-5EA73AFCD860/   \n",
       "9395  https://efdsearch.senate.gov/search/view/paper/0D78FC31-D28A-440A-8E2D-65C4D9861EAB/   \n",
       "9396  https://efdsearch.senate.gov/search/view/paper/CFDE3B80-E8BD-4F2D-9D64-E892C5EFB32A/   \n",
       "9397  https://efdsearch.senate.gov/search/view/paper/CDFDAF62-18EA-4298-B0C5-62085A6EC3CD/   \n",
       "\n",
       "     disclosure_date  \n",
       "9393      2012-08-17  \n",
       "9394      2012-08-16  \n",
       "9395      2012-08-15  \n",
       "9396      2012-08-02  \n",
       "9397      2012-07-25  "
      ]
     },
     "execution_count": 75,
     "metadata": {},
     "output_type": "execute_result"
    }
   ],
   "source": [
    "senate[senate['asset_type'] == 'PDF Disclosed Filing'].tail()"
   ]
  },
  {
   "cell_type": "markdown",
   "id": "83fb836e-4d4d-4c5a-af6f-f26befe00d04",
   "metadata": {},
   "source": [
    "We know right now that Municipal Security, Corporate Bond, Non-Public Stock, Commodities/Futures Contract, and Cryptocurrency represent transactions that don't provide information that's helpful to our model/planned analysis. PDF Disclosed Filing are basically null, and while it's possible to look at the PDFs and enter the data, we don't have the time for that on this project, unfortunately, and the fraction of instances that represents is small."
   ]
  },
  {
   "cell_type": "code",
   "execution_count": 76,
   "id": "12e0bfc2-bf5f-4765-b354-a8072682fb6c",
   "metadata": {},
   "outputs": [
    {
     "data": {
      "text/plain": [
       "9398"
      ]
     },
     "execution_count": 76,
     "metadata": {},
     "output_type": "execute_result"
    }
   ],
   "source": [
    "len(senate)"
   ]
  },
  {
   "cell_type": "markdown",
   "id": "ce6fc309-7c9f-4270-9f60-9c02ce715fd4",
   "metadata": {},
   "source": [
    "We found this repeat approach to be best because of the difficulties of continuing to include the NaNs."
   ]
  },
  {
   "cell_type": "code",
   "execution_count": 77,
   "id": "c157263b-3353-4b56-b2af-def11454bdd5",
   "metadata": {
    "tags": []
   },
   "outputs": [
    {
     "data": {
      "text/plain": [
       "8129"
      ]
     },
     "execution_count": 77,
     "metadata": {},
     "output_type": "execute_result"
    }
   ],
   "source": [
    "senate = senate[senate['asset_type'] != 'Municipal Security']\n",
    "senate = senate[senate['asset_type'] != 'Corporate Bond']\n",
    "senate = senate[senate['asset_type'] != 'Non-Public Stock']\n",
    "senate = senate[senate['asset_type'] != 'Commodities/Futures Contract']\n",
    "senate = senate[senate['asset_type'] != 'Cryptocurrency']\n",
    "senate = senate[senate['asset_type'] != 'PDF Disclosed Filing']\n",
    "len(senate)"
   ]
  },
  {
   "cell_type": "code",
   "execution_count": 78,
   "id": "f6aa259e-2589-4747-b43f-a457a84ac49f",
   "metadata": {},
   "outputs": [
    {
     "data": {
      "text/plain": [
       "Stock               6756\n",
       "NaN                  666\n",
       "Other Securities     454\n",
       "Stock Option         253\n",
       "Name: asset_type, dtype: int64"
      ]
     },
     "execution_count": 78,
     "metadata": {},
     "output_type": "execute_result"
    }
   ],
   "source": [
    "senate['asset_type'].value_counts(dropna = False)"
   ]
  },
  {
   "cell_type": "code",
   "execution_count": 79,
   "id": "630f0df6-da79-40d5-b452-e8c49a7ff89e",
   "metadata": {},
   "outputs": [
    {
     "data": {
      "text/plain": [
       "transaction_date       0\n",
       "ticker                 0\n",
       "asset_description      0\n",
       "asset_type           666\n",
       "type                   0\n",
       "amount                 0\n",
       "comment                0\n",
       "senator                0\n",
       "ptr_link               0\n",
       "disclosure_date        0\n",
       "dtype: int64"
      ]
     },
     "execution_count": 79,
     "metadata": {},
     "output_type": "execute_result"
    }
   ],
   "source": [
    "senate.isnull().sum()"
   ]
  },
  {
   "cell_type": "markdown",
   "id": "542beb43-ffab-4b30-9b12-3141a5778298",
   "metadata": {
    "tags": []
   },
   "source": [
    "This method results in all other NaNs being removed -- this is largely if not entirely because of the 'PDF' asset type."
   ]
  },
  {
   "cell_type": "markdown",
   "id": "c01fae8d-a019-46e6-baab-90d8e58385eb",
   "metadata": {},
   "source": [
    "# Type\n",
    "We're dropping Exchanges because we can't work with them for our analysis. We also made the values here match the values from the House database in formate."
   ]
  },
  {
   "cell_type": "code",
   "execution_count": 80,
   "id": "cd3364c8-ca41-417a-bb35-8578adc7d642",
   "metadata": {},
   "outputs": [
    {
     "data": {
      "text/plain": [
       "Purchase          4033\n",
       "Sale (Full)       2180\n",
       "Sale (Partial)    1824\n",
       "Exchange            92\n",
       "Name: type, dtype: int64"
      ]
     },
     "execution_count": 80,
     "metadata": {},
     "output_type": "execute_result"
    }
   ],
   "source": [
    "senate['type'].value_counts()"
   ]
  },
  {
   "cell_type": "code",
   "execution_count": 81,
   "id": "9e903782-a673-49de-8f6c-a727d6aae33f",
   "metadata": {},
   "outputs": [
    {
     "data": {
      "text/plain": [
       "Purchase          4033\n",
       "Sale (Full)       2180\n",
       "Sale (Partial)    1824\n",
       "Name: type, dtype: int64"
      ]
     },
     "execution_count": 81,
     "metadata": {},
     "output_type": "execute_result"
    }
   ],
   "source": [
    "senate = senate[senate['type'] != 'Exchange']\n",
    "senate['type'].value_counts()"
   ]
  },
  {
   "cell_type": "code",
   "execution_count": 82,
   "id": "67cb0bd7-9d80-4ed6-81b8-a490b21689ed",
   "metadata": {},
   "outputs": [
    {
     "data": {
      "text/plain": [
       "purchase        4033\n",
       "sale_full       2180\n",
       "sale_partial    1824\n",
       "Name: type, dtype: int64"
      ]
     },
     "execution_count": 82,
     "metadata": {},
     "output_type": "execute_result"
    }
   ],
   "source": [
    "senate['type'] = senate['type'].map({\n",
    "    'Purchase': 'purchase',\n",
    "    'Sale (Full)': 'sale_full',\n",
    "    'Sale (Partial)': 'sale_partial'\n",
    "                                    })\n",
    "senate['type'].value_counts()"
   ]
  },
  {
   "cell_type": "markdown",
   "id": "e0fb5e1f-270e-4185-b474-91927be6c740",
   "metadata": {
    "tags": []
   },
   "source": [
    "# Ticker"
   ]
  },
  {
   "cell_type": "code",
   "execution_count": 83,
   "id": "9b1ac360-56c2-4452-a9c0-44d19b89aac4",
   "metadata": {
    "scrolled": true,
    "tags": []
   },
   "outputs": [
    {
     "data": {
      "text/plain": [
       "--      1047\n",
       "AAPL     177\n",
       "BAC       86\n",
       "MSFT      85\n",
       "NFLX      79\n",
       "        ... \n",
       "PHLD       1\n",
       "BBL        1\n",
       "VFH        1\n",
       "ENTL       1\n",
       "SYMC       1\n",
       "Name: ticker, Length: 1124, dtype: int64"
      ]
     },
     "execution_count": 83,
     "metadata": {},
     "output_type": "execute_result"
    }
   ],
   "source": [
    "senate['ticker'].value_counts()"
   ]
  },
  {
   "cell_type": "markdown",
   "id": "758078ab-acc7-4794-8ab5-fcab6f2212ee",
   "metadata": {},
   "source": [
    "The following removes a few items that cause errors in finding the symbol from the ticker dataframe."
   ]
  },
  {
   "cell_type": "code",
   "execution_count": 84,
   "id": "4c0479f2-254f-4bb0-815f-c0ce8fec2608",
   "metadata": {},
   "outputs": [],
   "source": [
    "senate['asset_description'] = senate['asset_description'].str.replace(' &amp;', '')\n",
    "senate['asset_description'] = senate['asset_description'].str.replace(' Common Stock', '')\n",
    "senate['asset_description'] = senate['asset_description'].str.replace(' CMN', '')\n",
    "senate['asset_description'] = senate['asset_description'].str.replace(' ETF', '')"
   ]
  },
  {
   "cell_type": "code",
   "execution_count": 85,
   "id": "9d1ff1c0-f393-4db4-9904-28e4d63a2f23",
   "metadata": {},
   "outputs": [
    {
     "data": {
      "text/plain": [
       "1047"
      ]
     },
     "execution_count": 85,
     "metadata": {},
     "output_type": "execute_result"
    }
   ],
   "source": [
    "senate['ticker'].value_counts()[0]"
   ]
  },
  {
   "cell_type": "code",
   "execution_count": 86,
   "id": "addfeb7a-f8d6-41d9-b2f1-5a4ef848b6a8",
   "metadata": {
    "tags": []
   },
   "outputs": [
    {
     "name": "stdout",
     "output_type": "stream",
     "text": [
      "101\n",
      "{'Costco Wholesale Corporation', 'Amazon.com, Inc.', \"Cabela's Inc\", 'Precision Castparts Corp', 'Verizon Communications Inc.', 'Wal-Mart Stores, Inc.', 'aapl', 'SPDR Euro Stoxx 50', 'Altria Group', 'ConocoPhillips', 'Weight Watchers Intl Inc', 'General Electric Company', 'Alliant Energy Corp', 'Amazon', 'Under Armour Inc Cl A', 'Under Armour Inc', 'Lincoln National Corporation', 'Vector Group Ltd.', 'Global X Lithium Battery', 'nflx', 'Tesoro Logistics LP', 'Fifth Third Bancorp', 'CIT Group Inc (CIT)', 'Apple Inc.', 'Phillips 66', 'Zimmer Holdings, Inc.', 'Pfizer Inc', 'Nike Inc B', 'Target Corporation', 'Bristol-Myers Squibb Company', 'Quest Diagnostics Incorporated', 'PHLD - Phillips Edison Grocery Center REIT I', '3M Company'}\n",
      "{'COP', 'WMT', 'GE', 'AAPL', 'DGX', 'LIT', 'PCP', 'MMM', 'AMZN', 'PSX', 'VZ', 'NFLX', 'NKE', 'BMY', 'CIT', 'UAA', 'LNC', 'COST', 'TGT', 'PFE', 'VGR', 'TLLP', 'FITB', 'PHLD', 'LNT', 'WW', 'MO', 'ZMH', 'CAB', 'FEZ'}\n"
     ]
    }
   ],
   "source": [
    "count = 0\n",
    "name_set = set()\n",
    "symbol_set = set()\n",
    "for i in senate.loc[senate['ticker'] == '--']['asset_description']:\n",
    "    if i in tickers['name'].unique():\n",
    "        count +=1\n",
    "        name_set.add(i)\n",
    "        symbol = tickers.loc[tickers['name'] == i, 'symbol'].values\n",
    "        #print(symbol)\n",
    "        symbol_set.add(symbol[0])\n",
    "        senate.loc[((senate['ticker'] == '--') & (senate['asset_description'] == i)), 'ticker'] = symbol[0]\n",
    "print(count)\n",
    "print(name_set)\n",
    "print(symbol_set)"
   ]
  },
  {
   "cell_type": "code",
   "execution_count": 87,
   "id": "eed547a9-f658-4c62-9c21-175f088d896c",
   "metadata": {
    "scrolled": true,
    "tags": []
   },
   "outputs": [
    {
     "data": {
      "text/plain": [
       "--       946\n",
       "AAPL     185\n",
       "BAC       86\n",
       "MSFT      85\n",
       "PFE       83\n",
       "        ... \n",
       "WCMIX      1\n",
       "ABQCX      1\n",
       "FUN        1\n",
       "VEVIX      1\n",
       "SYMC       1\n",
       "Name: ticker, Length: 1126, dtype: int64"
      ]
     },
     "execution_count": 87,
     "metadata": {},
     "output_type": "execute_result"
    }
   ],
   "source": [
    "senate['ticker'].value_counts()"
   ]
  },
  {
   "cell_type": "code",
   "execution_count": 88,
   "id": "55a8b64c-3c3a-449f-8360-7c07afd06205",
   "metadata": {
    "tags": []
   },
   "outputs": [
    {
     "data": {
      "text/plain": [
       "        7570\n",
       "JPM       18\n",
       "SPDR      17\n",
       "WMT       12\n",
       "WFM       11\n",
       "        ... \n",
       "DJ         1\n",
       "HD         1\n",
       "AGN        1\n",
       "AQFH       1\n",
       "RBC        1\n",
       "Name: possible_ticker, Length: 199, dtype: int64"
      ]
     },
     "execution_count": 88,
     "metadata": {},
     "output_type": "execute_result"
    }
   ],
   "source": [
    "senate['possible_ticker'] = ''\n",
    "\n",
    "for i in senate[senate['ticker'] == '--']['asset_description'].index:\n",
    "    asset_descr = senate.loc[i, 'asset_description']\n",
    "    #print(asset_descr)\n",
    "    ticker = re.findall('[A-Z]{2,6}', asset_descr)\n",
    "    #print(ticker)\n",
    "    if len(ticker) == 1 and ticker != 'LLC' and ticker != 'ETF':\n",
    "        senate.loc[i, 'possible_ticker'] = ticker[0]\n",
    "\n",
    "senate['possible_ticker'].value_counts(dropna = False)"
   ]
  },
  {
   "cell_type": "code",
   "execution_count": 89,
   "id": "4757be6c-2aa7-49ce-9ffe-9721f6ca128f",
   "metadata": {},
   "outputs": [],
   "source": [
    "#ticker['possible_in_tickers_df'] = 0\n",
    "\n",
    "for i in senate.loc[senate['ticker'] == '--']['possible_ticker']:\n",
    "    if i in tickers['symbol'].unique():\n",
    "        #count +=1\n",
    "        #name_set.add(i)\n",
    "        symbol = tickers.loc[tickers['symbol'] == i, 'symbol'].values\n",
    "        #print(symbol)\n",
    "        #symbol_set.add(symbol[0])\n",
    "        senate.loc[((senate['ticker'] == '--') & (senate['possible_ticker'] == i)), 'ticker'] = symbol[0]"
   ]
  },
  {
   "cell_type": "code",
   "execution_count": 90,
   "id": "5f42f2db-7faf-4dd3-ae4f-fb403a70fa80",
   "metadata": {
    "tags": []
   },
   "outputs": [
    {
     "data": {
      "text/plain": [
       "--      601\n",
       "AAPL    191\n",
       "NFLX     89\n",
       "Name: ticker, dtype: int64"
      ]
     },
     "execution_count": 90,
     "metadata": {},
     "output_type": "execute_result"
    }
   ],
   "source": [
    "senate['ticker'].value_counts(dropna = False)[:3]"
   ]
  },
  {
   "cell_type": "code",
   "execution_count": 91,
   "id": "9a8b5a66-e887-4070-82a5-712705070a09",
   "metadata": {
    "tags": []
   },
   "outputs": [
    {
     "data": {
      "text/plain": [
       "Israel Bond                                                                                                                                                                                                                                       7\n",
       "Revival LOC, LLC <div class=\"text-muted\"> <em>Company:</em> Revival LOC, LLC &nbsp;(Springfield, NJ) </div> <div class=\"text-muted\"><em>Description:</em>&nbsp;Line of Credit - Manufacturer</div>                                                5\n",
       "Ishares China Large Cap                                                                                                                                                                                                                           4\n",
       "Liberty Partners, LLC <div class=\"text-muted\"> <em>Company:</em> Liberty Partners, LLC &nbsp;(Nashville, TN) </div> <div class=\"text-muted\"><em>Description:</em>&nbsp;LLC for the purpose of holding sports and entertainment interests</div>    4\n",
       "Aaron Rents Inc                                                                                                                                                                                                                                   4\n",
       "                                                                                                                                                                                                                                                 ..\n",
       "Visa Inc                                                                                                                                                                                                                                          1\n",
       "NVDA-NVIDIA Corporation                                                                                                                                                                                                                           1\n",
       "Mantech Intl Corp Cl A                                                                                                                                                                                                                            1\n",
       "Hexcel Corp New                                                                                                                                                                                                                                   1\n",
       "8.6% due 1/8/15 HSBC Autocall Broadcom                                                                                                                                                                                                            1\n",
       "Name: asset_description, Length: 490, dtype: int64"
      ]
     },
     "execution_count": 91,
     "metadata": {},
     "output_type": "execute_result"
    }
   ],
   "source": [
    "senate[senate['ticker'] == '--']['asset_description'].value_counts(dropna = False)"
   ]
  },
  {
   "cell_type": "code",
   "execution_count": 92,
   "id": "68cd3895-f170-409a-a3a4-1a63e038d53b",
   "metadata": {},
   "outputs": [
    {
     "data": {
      "text/html": [
       "<div>\n",
       "<style scoped>\n",
       "    .dataframe tbody tr th:only-of-type {\n",
       "        vertical-align: middle;\n",
       "    }\n",
       "\n",
       "    .dataframe tbody tr th {\n",
       "        vertical-align: top;\n",
       "    }\n",
       "\n",
       "    .dataframe thead th {\n",
       "        text-align: right;\n",
       "    }\n",
       "</style>\n",
       "<table border=\"1\" class=\"dataframe\">\n",
       "  <thead>\n",
       "    <tr style=\"text-align: right;\">\n",
       "      <th></th>\n",
       "      <th>transaction_date</th>\n",
       "      <th>ticker</th>\n",
       "      <th>asset_description</th>\n",
       "      <th>asset_type</th>\n",
       "      <th>type</th>\n",
       "      <th>amount</th>\n",
       "      <th>comment</th>\n",
       "      <th>senator</th>\n",
       "      <th>ptr_link</th>\n",
       "      <th>disclosure_date</th>\n",
       "    </tr>\n",
       "  </thead>\n",
       "  <tbody>\n",
       "    <tr>\n",
       "      <th>3</th>\n",
       "      <td>2022-06-03</td>\n",
       "      <td>WFC</td>\n",
       "      <td>Wells Fargo Company</td>\n",
       "      <td>Stock</td>\n",
       "      <td>purchase</td>\n",
       "      <td>$1,001 - $15,000</td>\n",
       "      <td>Dividend Reinvestment</td>\n",
       "      <td>A. Mitchell Mcconnell, Jr.</td>\n",
       "      <td>https://efdsearch.senate.gov/search/view/ptr/5ed49813-1cfe-42fc-8235-9da7d7a21051/</td>\n",
       "      <td>2022-06-13</td>\n",
       "    </tr>\n",
       "    <tr>\n",
       "      <th>4</th>\n",
       "      <td>2022-05-31</td>\n",
       "      <td>X</td>\n",
       "      <td>United States Steel Corporation &lt;div class=\"text-muted\"&gt;Option Type: Put &lt;br&gt;&lt;em&gt;Strike price:&lt;/em&gt; $23.00 &lt;br&gt; &lt;em&gt;Expires:&lt;/em&gt; 01/20/2023 &lt;/div&gt;</td>\n",
       "      <td>Stock Option</td>\n",
       "      <td>sale_partial</td>\n",
       "      <td>$15,001 - $50,000</td>\n",
       "      <td>--</td>\n",
       "      <td>Thomas H Tuberville</td>\n",
       "      <td>https://efdsearch.senate.gov/search/view/ptr/40602988-914b-49a7-b7d7-e82d7b0364b2/</td>\n",
       "      <td>2022-06-13</td>\n",
       "    </tr>\n",
       "    <tr>\n",
       "      <th>5</th>\n",
       "      <td>2022-05-31</td>\n",
       "      <td>X</td>\n",
       "      <td>United States Steel Corporation &lt;div class=\"text-muted\"&gt;Option Type: Call &lt;br&gt;&lt;em&gt;Strike price:&lt;/em&gt; $30.00 &lt;br&gt; &lt;em&gt;Expires:&lt;/em&gt; 01/20/2023 &lt;/div&gt;</td>\n",
       "      <td>Stock Option</td>\n",
       "      <td>sale_full</td>\n",
       "      <td>$15,001 - $50,000</td>\n",
       "      <td>--</td>\n",
       "      <td>Thomas H Tuberville</td>\n",
       "      <td>https://efdsearch.senate.gov/search/view/ptr/40602988-914b-49a7-b7d7-e82d7b0364b2/</td>\n",
       "      <td>2022-06-13</td>\n",
       "    </tr>\n",
       "    <tr>\n",
       "      <th>6</th>\n",
       "      <td>2022-05-31</td>\n",
       "      <td>X</td>\n",
       "      <td>United States Steel Corporation</td>\n",
       "      <td>Stock</td>\n",
       "      <td>purchase</td>\n",
       "      <td>$100,001 - $250,000</td>\n",
       "      <td>--</td>\n",
       "      <td>Thomas H Tuberville</td>\n",
       "      <td>https://efdsearch.senate.gov/search/view/ptr/40602988-914b-49a7-b7d7-e82d7b0364b2/</td>\n",
       "      <td>2022-06-13</td>\n",
       "    </tr>\n",
       "    <tr>\n",
       "      <th>7</th>\n",
       "      <td>2022-05-20</td>\n",
       "      <td>PYPL</td>\n",
       "      <td>PayPal Holdings, Inc. -</td>\n",
       "      <td>Stock</td>\n",
       "      <td>purchase</td>\n",
       "      <td>$50,001 - $100,000</td>\n",
       "      <td>--</td>\n",
       "      <td>Thomas H Tuberville</td>\n",
       "      <td>https://efdsearch.senate.gov/search/view/ptr/40602988-914b-49a7-b7d7-e82d7b0364b2/</td>\n",
       "      <td>2022-06-13</td>\n",
       "    </tr>\n",
       "  </tbody>\n",
       "</table>\n",
       "</div>"
      ],
      "text/plain": [
       "  transaction_date ticker  \\\n",
       "3       2022-06-03    WFC   \n",
       "4       2022-05-31      X   \n",
       "5       2022-05-31      X   \n",
       "6       2022-05-31      X   \n",
       "7       2022-05-20   PYPL   \n",
       "\n",
       "                                                                                                                                      asset_description  \\\n",
       "3                                                                                                                                   Wells Fargo Company   \n",
       "4   United States Steel Corporation <div class=\"text-muted\">Option Type: Put <br><em>Strike price:</em> $23.00 <br> <em>Expires:</em> 01/20/2023 </div>   \n",
       "5  United States Steel Corporation <div class=\"text-muted\">Option Type: Call <br><em>Strike price:</em> $30.00 <br> <em>Expires:</em> 01/20/2023 </div>   \n",
       "6                                                                                                                       United States Steel Corporation   \n",
       "7                                                                                                                               PayPal Holdings, Inc. -   \n",
       "\n",
       "     asset_type          type               amount                comment  \\\n",
       "3         Stock      purchase     $1,001 - $15,000  Dividend Reinvestment   \n",
       "4  Stock Option  sale_partial    $15,001 - $50,000                     --   \n",
       "5  Stock Option     sale_full    $15,001 - $50,000                     --   \n",
       "6         Stock      purchase  $100,001 - $250,000                     --   \n",
       "7         Stock      purchase   $50,001 - $100,000                     --   \n",
       "\n",
       "                      senator  \\\n",
       "3  A. Mitchell Mcconnell, Jr.   \n",
       "4         Thomas H Tuberville   \n",
       "5         Thomas H Tuberville   \n",
       "6         Thomas H Tuberville   \n",
       "7         Thomas H Tuberville   \n",
       "\n",
       "                                                                             ptr_link  \\\n",
       "3  https://efdsearch.senate.gov/search/view/ptr/5ed49813-1cfe-42fc-8235-9da7d7a21051/   \n",
       "4  https://efdsearch.senate.gov/search/view/ptr/40602988-914b-49a7-b7d7-e82d7b0364b2/   \n",
       "5  https://efdsearch.senate.gov/search/view/ptr/40602988-914b-49a7-b7d7-e82d7b0364b2/   \n",
       "6  https://efdsearch.senate.gov/search/view/ptr/40602988-914b-49a7-b7d7-e82d7b0364b2/   \n",
       "7  https://efdsearch.senate.gov/search/view/ptr/40602988-914b-49a7-b7d7-e82d7b0364b2/   \n",
       "\n",
       "  disclosure_date  \n",
       "3      2022-06-13  \n",
       "4      2022-06-13  \n",
       "5      2022-06-13  \n",
       "6      2022-06-13  \n",
       "7      2022-06-13  "
      ]
     },
     "execution_count": 92,
     "metadata": {},
     "output_type": "execute_result"
    }
   ],
   "source": [
    "#dropping 'possible_ticker'\n",
    "\n",
    "senate.drop(columns = 'possible_ticker', inplace = True)\n",
    "senate.head()"
   ]
  },
  {
   "cell_type": "code",
   "execution_count": 93,
   "id": "501752e1-69a2-463f-b9e7-317fd80a8f52",
   "metadata": {},
   "outputs": [
    {
     "data": {
      "text/plain": [
       "8037"
      ]
     },
     "execution_count": 93,
     "metadata": {},
     "output_type": "execute_result"
    }
   ],
   "source": [
    "senate['ticker'].value_counts().sum()"
   ]
  },
  {
   "cell_type": "markdown",
   "id": "8cb31737-cac8-4f2f-a798-857ed8d7735e",
   "metadata": {},
   "source": [
    "We have 8037 rows"
   ]
  },
  {
   "cell_type": "code",
   "execution_count": 94,
   "id": "87126c6a-f4e1-41ab-80a9-358b5a229350",
   "metadata": {},
   "outputs": [
    {
     "data": {
      "text/plain": [
       "6.727862979961939"
      ]
     },
     "execution_count": 94,
     "metadata": {},
     "output_type": "execute_result"
    }
   ],
   "source": [
    "(601/8933) * 100"
   ]
  },
  {
   "cell_type": "markdown",
   "id": "451c4888-b98f-44f4-aafa-3a92700d851f",
   "metadata": {},
   "source": [
    "At this point, about 7% of data has no ticker. We accept the loss of that data because there's nothing left we can do without getting even more time intensive."
   ]
  },
  {
   "cell_type": "code",
   "execution_count": 95,
   "id": "18a71e6a-f28a-4933-8aa5-9ae69118b98f",
   "metadata": {},
   "outputs": [
    {
     "data": {
      "text/plain": [
       "AAPL     191\n",
       "NFLX      89\n",
       "MSFT      88\n",
       "BAC       87\n",
       "PFE       84\n",
       "DISCA     77\n",
       "DIS       75\n",
       "T         70\n",
       "FEYE      67\n",
       "FDC       66\n",
       "Name: ticker, dtype: int64"
      ]
     },
     "execution_count": 95,
     "metadata": {},
     "output_type": "execute_result"
    }
   ],
   "source": [
    "senate = senate[senate['ticker'] != '--']\n",
    "\n",
    "senate['ticker'].value_counts(dropna = False)[:10]"
   ]
  },
  {
   "cell_type": "markdown",
   "id": "7fa3b635-fd4b-4609-a3af-9fcce012cba0",
   "metadata": {
    "tags": []
   },
   "source": [
    "# Null Asset Type"
   ]
  },
  {
   "cell_type": "code",
   "execution_count": 96,
   "id": "232fe217-6fcc-41e5-810e-654e2cb00b14",
   "metadata": {},
   "outputs": [
    {
     "data": {
      "text/plain": [
       "Stock               6354\n",
       "NaN                  577\n",
       "Other Securities     254\n",
       "Stock Option         251\n",
       "Name: asset_type, dtype: int64"
      ]
     },
     "execution_count": 96,
     "metadata": {},
     "output_type": "execute_result"
    }
   ],
   "source": [
    "senate['asset_type'].value_counts(dropna = False)"
   ]
  },
  {
   "cell_type": "code",
   "execution_count": 97,
   "id": "2442080f-9f06-4735-9697-20657345fbd7",
   "metadata": {},
   "outputs": [
    {
     "data": {
      "text/html": [
       "<div>\n",
       "<style scoped>\n",
       "    .dataframe tbody tr th:only-of-type {\n",
       "        vertical-align: middle;\n",
       "    }\n",
       "\n",
       "    .dataframe tbody tr th {\n",
       "        vertical-align: top;\n",
       "    }\n",
       "\n",
       "    .dataframe thead th {\n",
       "        text-align: right;\n",
       "    }\n",
       "</style>\n",
       "<table border=\"1\" class=\"dataframe\">\n",
       "  <thead>\n",
       "    <tr style=\"text-align: right;\">\n",
       "      <th></th>\n",
       "      <th>transaction_date</th>\n",
       "      <th>ticker</th>\n",
       "      <th>asset_description</th>\n",
       "      <th>asset_type</th>\n",
       "      <th>type</th>\n",
       "      <th>amount</th>\n",
       "      <th>comment</th>\n",
       "      <th>senator</th>\n",
       "      <th>ptr_link</th>\n",
       "      <th>disclosure_date</th>\n",
       "    </tr>\n",
       "  </thead>\n",
       "  <tbody>\n",
       "    <tr>\n",
       "      <th>8479</th>\n",
       "      <td>2014-12-18</td>\n",
       "      <td>TJX</td>\n",
       "      <td>The TJX Companies, Inc. (NYSE)</td>\n",
       "      <td>NaN</td>\n",
       "      <td>purchase</td>\n",
       "      <td>$1,001 - $15,000</td>\n",
       "      <td>--</td>\n",
       "      <td>Sheldon Whitehouse</td>\n",
       "      <td>https://efdsearch.senate.gov/search/view/ptr/332020b5-647b-49c1-afa2-7be502f72c34/</td>\n",
       "      <td>2015-01-05</td>\n",
       "    </tr>\n",
       "    <tr>\n",
       "      <th>8480</th>\n",
       "      <td>2014-12-18</td>\n",
       "      <td>ORCL</td>\n",
       "      <td>Oracle Corporation (NYSE)</td>\n",
       "      <td>NaN</td>\n",
       "      <td>purchase</td>\n",
       "      <td>$1,001 - $15,000</td>\n",
       "      <td>--</td>\n",
       "      <td>Sheldon Whitehouse</td>\n",
       "      <td>https://efdsearch.senate.gov/search/view/ptr/332020b5-647b-49c1-afa2-7be502f72c34/</td>\n",
       "      <td>2015-01-05</td>\n",
       "    </tr>\n",
       "    <tr>\n",
       "      <th>8481</th>\n",
       "      <td>2014-12-18</td>\n",
       "      <td>T</td>\n",
       "      <td>AT&amp;amp;T, Inc. (NYSE)</td>\n",
       "      <td>NaN</td>\n",
       "      <td>purchase</td>\n",
       "      <td>$1,001 - $15,000</td>\n",
       "      <td>--</td>\n",
       "      <td>Sheldon Whitehouse</td>\n",
       "      <td>https://efdsearch.senate.gov/search/view/ptr/332020b5-647b-49c1-afa2-7be502f72c34/</td>\n",
       "      <td>2015-01-05</td>\n",
       "    </tr>\n",
       "    <tr>\n",
       "      <th>8482</th>\n",
       "      <td>2014-12-18</td>\n",
       "      <td>KORS</td>\n",
       "      <td>Michael Kors Holdings Limited (NYSE)</td>\n",
       "      <td>NaN</td>\n",
       "      <td>sale_partial</td>\n",
       "      <td>$1,001 - $15,000</td>\n",
       "      <td>--</td>\n",
       "      <td>Sheldon Whitehouse</td>\n",
       "      <td>https://efdsearch.senate.gov/search/view/ptr/332020b5-647b-49c1-afa2-7be502f72c34/</td>\n",
       "      <td>2015-01-05</td>\n",
       "    </tr>\n",
       "    <tr>\n",
       "      <th>8483</th>\n",
       "      <td>2014-11-25</td>\n",
       "      <td>PCAR</td>\n",
       "      <td>PACCAR Inc. (NASDAQ)</td>\n",
       "      <td>NaN</td>\n",
       "      <td>purchase</td>\n",
       "      <td>$1,001 - $15,000</td>\n",
       "      <td>--</td>\n",
       "      <td>Sheldon Whitehouse</td>\n",
       "      <td>https://efdsearch.senate.gov/search/view/ptr/332020b5-647b-49c1-afa2-7be502f72c34/</td>\n",
       "      <td>2015-01-05</td>\n",
       "    </tr>\n",
       "  </tbody>\n",
       "</table>\n",
       "</div>"
      ],
      "text/plain": [
       "     transaction_date ticker                     asset_description asset_type  \\\n",
       "8479       2014-12-18    TJX        The TJX Companies, Inc. (NYSE)        NaN   \n",
       "8480       2014-12-18   ORCL             Oracle Corporation (NYSE)        NaN   \n",
       "8481       2014-12-18      T                 AT&amp;T, Inc. (NYSE)        NaN   \n",
       "8482       2014-12-18   KORS  Michael Kors Holdings Limited (NYSE)        NaN   \n",
       "8483       2014-11-25   PCAR                  PACCAR Inc. (NASDAQ)        NaN   \n",
       "\n",
       "              type            amount comment             senator  \\\n",
       "8479      purchase  $1,001 - $15,000      --  Sheldon Whitehouse   \n",
       "8480      purchase  $1,001 - $15,000      --  Sheldon Whitehouse   \n",
       "8481      purchase  $1,001 - $15,000      --  Sheldon Whitehouse   \n",
       "8482  sale_partial  $1,001 - $15,000      --  Sheldon Whitehouse   \n",
       "8483      purchase  $1,001 - $15,000      --  Sheldon Whitehouse   \n",
       "\n",
       "                                                                                ptr_link  \\\n",
       "8479  https://efdsearch.senate.gov/search/view/ptr/332020b5-647b-49c1-afa2-7be502f72c34/   \n",
       "8480  https://efdsearch.senate.gov/search/view/ptr/332020b5-647b-49c1-afa2-7be502f72c34/   \n",
       "8481  https://efdsearch.senate.gov/search/view/ptr/332020b5-647b-49c1-afa2-7be502f72c34/   \n",
       "8482  https://efdsearch.senate.gov/search/view/ptr/332020b5-647b-49c1-afa2-7be502f72c34/   \n",
       "8483  https://efdsearch.senate.gov/search/view/ptr/332020b5-647b-49c1-afa2-7be502f72c34/   \n",
       "\n",
       "     disclosure_date  \n",
       "8479      2015-01-05  \n",
       "8480      2015-01-05  \n",
       "8481      2015-01-05  \n",
       "8482      2015-01-05  \n",
       "8483      2015-01-05  "
      ]
     },
     "execution_count": 97,
     "metadata": {},
     "output_type": "execute_result"
    }
   ],
   "source": [
    "senate[senate['asset_type'].isnull()].head()"
   ]
  },
  {
   "cell_type": "markdown",
   "id": "276ead94-ce7b-4b8e-b3a5-50654b0b2c56",
   "metadata": {},
   "source": [
    "## Eliminating Remaining Columns\n",
    "At this point it appears the remaining nulls in asset_type correspond to otherwise good columns, so we eliminated that and other columns we don't need."
   ]
  },
  {
   "cell_type": "code",
   "execution_count": 98,
   "id": "fc539fe7-5538-4719-8773-96500911c846",
   "metadata": {},
   "outputs": [
    {
     "data": {
      "text/plain": [
       "transaction_date     0\n",
       "ticker               0\n",
       "asset_description    0\n",
       "type                 0\n",
       "amount               0\n",
       "senator              0\n",
       "disclosure_date      0\n",
       "dtype: int64"
      ]
     },
     "execution_count": 98,
     "metadata": {},
     "output_type": "execute_result"
    }
   ],
   "source": [
    "senate = senate.drop(columns=['asset_type', 'comment', 'ptr_link'])\n",
    "senate.isnull().sum()"
   ]
  },
  {
   "cell_type": "markdown",
   "id": "d80a644a-2f01-4261-832b-fe1619a042be",
   "metadata": {},
   "source": [
    "Let's drop any null rows"
   ]
  },
  {
   "cell_type": "code",
   "execution_count": 99,
   "id": "bd77dd46-9888-4d46-8114-dc2e6213e5be",
   "metadata": {},
   "outputs": [
    {
     "name": "stdout",
     "output_type": "stream",
     "text": [
      "<class 'pandas.core.frame.DataFrame'>\n",
      "Int64Index: 7436 entries, 3 to 9170\n",
      "Data columns (total 7 columns):\n",
      " #   Column             Non-Null Count  Dtype         \n",
      "---  ------             --------------  -----         \n",
      " 0   transaction_date   7436 non-null   datetime64[ns]\n",
      " 1   ticker             7436 non-null   object        \n",
      " 2   asset_description  7436 non-null   object        \n",
      " 3   type               7436 non-null   object        \n",
      " 4   amount             7436 non-null   object        \n",
      " 5   senator            7436 non-null   object        \n",
      " 6   disclosure_date    7436 non-null   datetime64[ns]\n",
      "dtypes: datetime64[ns](2), object(5)\n",
      "memory usage: 464.8+ KB\n"
     ]
    }
   ],
   "source": [
    "senate.info()"
   ]
  },
  {
   "cell_type": "markdown",
   "id": "efa18180-efbc-4606-bc30-d50352910ed7",
   "metadata": {
    "tags": []
   },
   "source": [
    "# `'amount'`"
   ]
  },
  {
   "cell_type": "code",
   "execution_count": 100,
   "id": "e46e6c1d-665b-4110-8ebb-79c6d233fc95",
   "metadata": {},
   "outputs": [
    {
     "data": {
      "text/plain": [
       "$1,001 - $15,000             5347\n",
       "$15,001 - $50,000            1314\n",
       "$50,001 - $100,000            456\n",
       "$100,001 - $250,000           249\n",
       "$250,001 - $500,000            40\n",
       "$500,001 - $1,000,000          11\n",
       "$1,000,001 - $5,000,000        11\n",
       "$5,000,001 - $25,000,000        6\n",
       "Over $50,000,000                1\n",
       "$25,000,001 - $50,000,000       1\n",
       "Name: amount, dtype: int64"
      ]
     },
     "execution_count": 100,
     "metadata": {},
     "output_type": "execute_result"
    }
   ],
   "source": [
    "senate['amount'].value_counts()"
   ]
  },
  {
   "cell_type": "markdown",
   "id": "8269af68-d596-4628-86d0-c385efda0489",
   "metadata": {},
   "source": [
    "We see that one of the Senators invested over 50 million dollars in 1 trade! Let's see who it was"
   ]
  },
  {
   "cell_type": "code",
   "execution_count": 101,
   "id": "db5aea87-a7c6-4929-a0b2-f4eead15521e",
   "metadata": {},
   "outputs": [
    {
     "data": {
      "text/plain": [
       "7606    James M Inhofe\n",
       "Name: senator, dtype: object"
      ]
     },
     "execution_count": 101,
     "metadata": {},
     "output_type": "execute_result"
    }
   ],
   "source": [
    "senate[senate['amount'] == \"Over $50,000,000\"]['senator']"
   ]
  },
  {
   "cell_type": "markdown",
   "id": "33b66567-3a0b-48ed-af16-dd40567820b2",
   "metadata": {},
   "source": [
    "## Making the Amounts into the High End and Integers"
   ]
  },
  {
   "cell_type": "code",
   "execution_count": 102,
   "id": "2c3b4efd-e8e8-4170-9154-9615ed6e2a52",
   "metadata": {},
   "outputs": [
    {
     "data": {
      "text/plain": [
       "15000       5347\n",
       "50000       1314\n",
       "100000       456\n",
       "250000       249\n",
       "500000        40\n",
       "1000000       11\n",
       "5000000       11\n",
       "25000000       6\n",
       "50000000       2\n",
       "Name: amount, dtype: int64"
      ]
     },
     "execution_count": 102,
     "metadata": {},
     "output_type": "execute_result"
    }
   ],
   "source": [
    "senate['amount'] = senate['amount'].str.split(' ') \n",
    "\n",
    "for i in senate.index:\n",
    "    if len(senate.loc[i, 'amount']) == 3:\n",
    "        senate.loc[i, 'amount'] = senate.loc[i, 'amount'][2]\n",
    "    else:\n",
    "        senate.loc[i, 'amount'] = senate.loc[i, 'amount'][1]\n",
    "        \n",
    "senate['amount'] = senate['amount'].map(lambda x: x.replace('$', '').replace(',', ''))\n",
    "senate['amount'] = senate['amount'].astype(int)\n",
    "senate['amount'].value_counts()"
   ]
  },
  {
   "cell_type": "markdown",
   "id": "0736a97e-2dd8-4a62-94aa-ed83da66ffb8",
   "metadata": {},
   "source": [
    "For some reason that didn't change all the values. We will change the rest manually"
   ]
  },
  {
   "cell_type": "code",
   "execution_count": 103,
   "id": "daa3b479-80d1-41c2-9d56-a4ef43ea8137",
   "metadata": {},
   "outputs": [
    {
     "data": {
      "text/html": [
       "<div>\n",
       "<style scoped>\n",
       "    .dataframe tbody tr th:only-of-type {\n",
       "        vertical-align: middle;\n",
       "    }\n",
       "\n",
       "    .dataframe tbody tr th {\n",
       "        vertical-align: top;\n",
       "    }\n",
       "\n",
       "    .dataframe thead th {\n",
       "        text-align: right;\n",
       "    }\n",
       "</style>\n",
       "<table border=\"1\" class=\"dataframe\">\n",
       "  <thead>\n",
       "    <tr style=\"text-align: right;\">\n",
       "      <th></th>\n",
       "      <th>transaction_date</th>\n",
       "      <th>ticker</th>\n",
       "      <th>asset_description</th>\n",
       "      <th>type</th>\n",
       "      <th>amount</th>\n",
       "      <th>senator</th>\n",
       "      <th>disclosure_date</th>\n",
       "    </tr>\n",
       "  </thead>\n",
       "  <tbody>\n",
       "    <tr>\n",
       "      <th>3</th>\n",
       "      <td>2022-06-03</td>\n",
       "      <td>WFC</td>\n",
       "      <td>Wells Fargo Company</td>\n",
       "      <td>purchase</td>\n",
       "      <td>15000</td>\n",
       "      <td>A. Mitchell Mcconnell, Jr.</td>\n",
       "      <td>2022-06-13</td>\n",
       "    </tr>\n",
       "    <tr>\n",
       "      <th>4</th>\n",
       "      <td>2022-05-31</td>\n",
       "      <td>X</td>\n",
       "      <td>United States Steel Corporation &lt;div class=\"text-muted\"&gt;Option Type: Put &lt;br&gt;&lt;em&gt;Strike price:&lt;/em&gt; $23.00 &lt;br&gt; &lt;em&gt;Expires:&lt;/em&gt; 01/20/2023 &lt;/div&gt;</td>\n",
       "      <td>sale_partial</td>\n",
       "      <td>50000</td>\n",
       "      <td>Thomas H Tuberville</td>\n",
       "      <td>2022-06-13</td>\n",
       "    </tr>\n",
       "    <tr>\n",
       "      <th>5</th>\n",
       "      <td>2022-05-31</td>\n",
       "      <td>X</td>\n",
       "      <td>United States Steel Corporation &lt;div class=\"text-muted\"&gt;Option Type: Call &lt;br&gt;&lt;em&gt;Strike price:&lt;/em&gt; $30.00 &lt;br&gt; &lt;em&gt;Expires:&lt;/em&gt; 01/20/2023 &lt;/div&gt;</td>\n",
       "      <td>sale_full</td>\n",
       "      <td>50000</td>\n",
       "      <td>Thomas H Tuberville</td>\n",
       "      <td>2022-06-13</td>\n",
       "    </tr>\n",
       "    <tr>\n",
       "      <th>6</th>\n",
       "      <td>2022-05-31</td>\n",
       "      <td>X</td>\n",
       "      <td>United States Steel Corporation</td>\n",
       "      <td>purchase</td>\n",
       "      <td>250000</td>\n",
       "      <td>Thomas H Tuberville</td>\n",
       "      <td>2022-06-13</td>\n",
       "    </tr>\n",
       "    <tr>\n",
       "      <th>7</th>\n",
       "      <td>2022-05-20</td>\n",
       "      <td>PYPL</td>\n",
       "      <td>PayPal Holdings, Inc. -</td>\n",
       "      <td>purchase</td>\n",
       "      <td>100000</td>\n",
       "      <td>Thomas H Tuberville</td>\n",
       "      <td>2022-06-13</td>\n",
       "    </tr>\n",
       "  </tbody>\n",
       "</table>\n",
       "</div>"
      ],
      "text/plain": [
       "  transaction_date ticker  \\\n",
       "3       2022-06-03    WFC   \n",
       "4       2022-05-31      X   \n",
       "5       2022-05-31      X   \n",
       "6       2022-05-31      X   \n",
       "7       2022-05-20   PYPL   \n",
       "\n",
       "                                                                                                                                      asset_description  \\\n",
       "3                                                                                                                                   Wells Fargo Company   \n",
       "4   United States Steel Corporation <div class=\"text-muted\">Option Type: Put <br><em>Strike price:</em> $23.00 <br> <em>Expires:</em> 01/20/2023 </div>   \n",
       "5  United States Steel Corporation <div class=\"text-muted\">Option Type: Call <br><em>Strike price:</em> $30.00 <br> <em>Expires:</em> 01/20/2023 </div>   \n",
       "6                                                                                                                       United States Steel Corporation   \n",
       "7                                                                                                                               PayPal Holdings, Inc. -   \n",
       "\n",
       "           type  amount                     senator disclosure_date  \n",
       "3      purchase   15000  A. Mitchell Mcconnell, Jr.      2022-06-13  \n",
       "4  sale_partial   50000         Thomas H Tuberville      2022-06-13  \n",
       "5     sale_full   50000         Thomas H Tuberville      2022-06-13  \n",
       "6      purchase  250000         Thomas H Tuberville      2022-06-13  \n",
       "7      purchase  100000         Thomas H Tuberville      2022-06-13  "
      ]
     },
     "execution_count": 103,
     "metadata": {},
     "output_type": "execute_result"
    }
   ],
   "source": [
    "senate.head()"
   ]
  },
  {
   "cell_type": "code",
   "execution_count": 104,
   "id": "bae24ab8-fea4-444b-aee7-af6f97b0083c",
   "metadata": {},
   "outputs": [
    {
     "name": "stdout",
     "output_type": "stream",
     "text": [
      "<class 'pandas.core.frame.DataFrame'>\n",
      "Int64Index: 7436 entries, 3 to 9170\n",
      "Data columns (total 7 columns):\n",
      " #   Column             Non-Null Count  Dtype         \n",
      "---  ------             --------------  -----         \n",
      " 0   transaction_date   7436 non-null   datetime64[ns]\n",
      " 1   ticker             7436 non-null   object        \n",
      " 2   asset_description  7436 non-null   object        \n",
      " 3   type               7436 non-null   object        \n",
      " 4   amount             7436 non-null   int64         \n",
      " 5   senator            7436 non-null   object        \n",
      " 6   disclosure_date    7436 non-null   datetime64[ns]\n",
      "dtypes: datetime64[ns](2), int64(1), object(4)\n",
      "memory usage: 722.8+ KB\n"
     ]
    }
   ],
   "source": [
    "senate.info()"
   ]
  },
  {
   "cell_type": "markdown",
   "id": "b9c8c4a9-9a74-46cc-bef0-5dc63de4d18f",
   "metadata": {},
   "source": [
    "# Column Names and Chamber Column\n",
    "Now I will rename the senator column to be 'name' and make a column named 'chamber' where the value is all senator"
   ]
  },
  {
   "cell_type": "code",
   "execution_count": 105,
   "id": "220e8fcc-f2c0-423d-b160-710fee15be36",
   "metadata": {},
   "outputs": [],
   "source": [
    "senate.rename(columns = {'senator':'name'}, inplace = True)\n",
    "senate['chamber'] = 'senate'"
   ]
  },
  {
   "cell_type": "code",
   "execution_count": 106,
   "id": "2b739bca-a19a-43b1-a40f-1945340cc93e",
   "metadata": {},
   "outputs": [
    {
     "data": {
      "text/html": [
       "<div>\n",
       "<style scoped>\n",
       "    .dataframe tbody tr th:only-of-type {\n",
       "        vertical-align: middle;\n",
       "    }\n",
       "\n",
       "    .dataframe tbody tr th {\n",
       "        vertical-align: top;\n",
       "    }\n",
       "\n",
       "    .dataframe thead th {\n",
       "        text-align: right;\n",
       "    }\n",
       "</style>\n",
       "<table border=\"1\" class=\"dataframe\">\n",
       "  <thead>\n",
       "    <tr style=\"text-align: right;\">\n",
       "      <th></th>\n",
       "      <th>transaction_date</th>\n",
       "      <th>ticker</th>\n",
       "      <th>asset_description</th>\n",
       "      <th>type</th>\n",
       "      <th>amount</th>\n",
       "      <th>name</th>\n",
       "      <th>disclosure_date</th>\n",
       "      <th>chamber</th>\n",
       "    </tr>\n",
       "  </thead>\n",
       "  <tbody>\n",
       "    <tr>\n",
       "      <th>3</th>\n",
       "      <td>2022-06-03</td>\n",
       "      <td>WFC</td>\n",
       "      <td>Wells Fargo Company</td>\n",
       "      <td>purchase</td>\n",
       "      <td>15000</td>\n",
       "      <td>A. Mitchell Mcconnell, Jr.</td>\n",
       "      <td>2022-06-13</td>\n",
       "      <td>senate</td>\n",
       "    </tr>\n",
       "    <tr>\n",
       "      <th>4</th>\n",
       "      <td>2022-05-31</td>\n",
       "      <td>X</td>\n",
       "      <td>United States Steel Corporation &lt;div class=\"text-muted\"&gt;Option Type: Put &lt;br&gt;&lt;em&gt;Strike price:&lt;/em&gt; $23.00 &lt;br&gt; &lt;em&gt;Expires:&lt;/em&gt; 01/20/2023 &lt;/div&gt;</td>\n",
       "      <td>sale_partial</td>\n",
       "      <td>50000</td>\n",
       "      <td>Thomas H Tuberville</td>\n",
       "      <td>2022-06-13</td>\n",
       "      <td>senate</td>\n",
       "    </tr>\n",
       "    <tr>\n",
       "      <th>5</th>\n",
       "      <td>2022-05-31</td>\n",
       "      <td>X</td>\n",
       "      <td>United States Steel Corporation &lt;div class=\"text-muted\"&gt;Option Type: Call &lt;br&gt;&lt;em&gt;Strike price:&lt;/em&gt; $30.00 &lt;br&gt; &lt;em&gt;Expires:&lt;/em&gt; 01/20/2023 &lt;/div&gt;</td>\n",
       "      <td>sale_full</td>\n",
       "      <td>50000</td>\n",
       "      <td>Thomas H Tuberville</td>\n",
       "      <td>2022-06-13</td>\n",
       "      <td>senate</td>\n",
       "    </tr>\n",
       "    <tr>\n",
       "      <th>6</th>\n",
       "      <td>2022-05-31</td>\n",
       "      <td>X</td>\n",
       "      <td>United States Steel Corporation</td>\n",
       "      <td>purchase</td>\n",
       "      <td>250000</td>\n",
       "      <td>Thomas H Tuberville</td>\n",
       "      <td>2022-06-13</td>\n",
       "      <td>senate</td>\n",
       "    </tr>\n",
       "    <tr>\n",
       "      <th>7</th>\n",
       "      <td>2022-05-20</td>\n",
       "      <td>PYPL</td>\n",
       "      <td>PayPal Holdings, Inc. -</td>\n",
       "      <td>purchase</td>\n",
       "      <td>100000</td>\n",
       "      <td>Thomas H Tuberville</td>\n",
       "      <td>2022-06-13</td>\n",
       "      <td>senate</td>\n",
       "    </tr>\n",
       "  </tbody>\n",
       "</table>\n",
       "</div>"
      ],
      "text/plain": [
       "  transaction_date ticker  \\\n",
       "3       2022-06-03    WFC   \n",
       "4       2022-05-31      X   \n",
       "5       2022-05-31      X   \n",
       "6       2022-05-31      X   \n",
       "7       2022-05-20   PYPL   \n",
       "\n",
       "                                                                                                                                      asset_description  \\\n",
       "3                                                                                                                                   Wells Fargo Company   \n",
       "4   United States Steel Corporation <div class=\"text-muted\">Option Type: Put <br><em>Strike price:</em> $23.00 <br> <em>Expires:</em> 01/20/2023 </div>   \n",
       "5  United States Steel Corporation <div class=\"text-muted\">Option Type: Call <br><em>Strike price:</em> $30.00 <br> <em>Expires:</em> 01/20/2023 </div>   \n",
       "6                                                                                                                       United States Steel Corporation   \n",
       "7                                                                                                                               PayPal Holdings, Inc. -   \n",
       "\n",
       "           type  amount                        name disclosure_date chamber  \n",
       "3      purchase   15000  A. Mitchell Mcconnell, Jr.      2022-06-13  senate  \n",
       "4  sale_partial   50000         Thomas H Tuberville      2022-06-13  senate  \n",
       "5     sale_full   50000         Thomas H Tuberville      2022-06-13  senate  \n",
       "6      purchase  250000         Thomas H Tuberville      2022-06-13  senate  \n",
       "7      purchase  100000         Thomas H Tuberville      2022-06-13  senate  "
      ]
     },
     "execution_count": 106,
     "metadata": {},
     "output_type": "execute_result"
    }
   ],
   "source": [
    "senate.head()"
   ]
  },
  {
   "cell_type": "markdown",
   "id": "4d676186-f21c-4414-9ec9-8528b70a69b8",
   "metadata": {},
   "source": [
    "# State, Birthday, Gender\n",
    "Because of the changes in the dataframe, the dictionary is missing some people. I'm going to see if the House workflow works. "
   ]
  },
  {
   "cell_type": "code",
   "execution_count": 107,
   "id": "7878d7c1-035f-424e-9b79-850cdbb65018",
   "metadata": {},
   "outputs": [
    {
     "data": {
      "text/html": [
       "<div>\n",
       "<style scoped>\n",
       "    .dataframe tbody tr th:only-of-type {\n",
       "        vertical-align: middle;\n",
       "    }\n",
       "\n",
       "    .dataframe tbody tr th {\n",
       "        vertical-align: top;\n",
       "    }\n",
       "\n",
       "    .dataframe thead th {\n",
       "        text-align: right;\n",
       "    }\n",
       "</style>\n",
       "<table border=\"1\" class=\"dataframe\">\n",
       "  <thead>\n",
       "    <tr style=\"text-align: right;\">\n",
       "      <th></th>\n",
       "      <th>last_name</th>\n",
       "      <th>first_name</th>\n",
       "      <th>middle_name</th>\n",
       "      <th>suffix</th>\n",
       "      <th>full_name</th>\n",
       "      <th>birthday</th>\n",
       "      <th>gender</th>\n",
       "      <th>type</th>\n",
       "      <th>state</th>\n",
       "      <th>party</th>\n",
       "      <th>district</th>\n",
       "    </tr>\n",
       "  </thead>\n",
       "  <tbody>\n",
       "    <tr>\n",
       "      <th>0</th>\n",
       "      <td>Brown</td>\n",
       "      <td>Sherrod</td>\n",
       "      <td>NaN</td>\n",
       "      <td>NaN</td>\n",
       "      <td>Sherrod Brown</td>\n",
       "      <td>1952-11-09</td>\n",
       "      <td>M</td>\n",
       "      <td>sen</td>\n",
       "      <td>OH</td>\n",
       "      <td>Democrat</td>\n",
       "      <td>NaN</td>\n",
       "    </tr>\n",
       "    <tr>\n",
       "      <th>1</th>\n",
       "      <td>Cantwell</td>\n",
       "      <td>Maria</td>\n",
       "      <td>NaN</td>\n",
       "      <td>NaN</td>\n",
       "      <td>Maria Cantwell</td>\n",
       "      <td>1958-10-13</td>\n",
       "      <td>F</td>\n",
       "      <td>sen</td>\n",
       "      <td>WA</td>\n",
       "      <td>Democrat</td>\n",
       "      <td>NaN</td>\n",
       "    </tr>\n",
       "    <tr>\n",
       "      <th>2</th>\n",
       "      <td>Cardin</td>\n",
       "      <td>Benjamin</td>\n",
       "      <td>L.</td>\n",
       "      <td>NaN</td>\n",
       "      <td>Benjamin L. Cardin</td>\n",
       "      <td>1943-10-05</td>\n",
       "      <td>M</td>\n",
       "      <td>sen</td>\n",
       "      <td>MD</td>\n",
       "      <td>Democrat</td>\n",
       "      <td>NaN</td>\n",
       "    </tr>\n",
       "    <tr>\n",
       "      <th>3</th>\n",
       "      <td>Carper</td>\n",
       "      <td>Thomas</td>\n",
       "      <td>Richard</td>\n",
       "      <td>NaN</td>\n",
       "      <td>Thomas R. Carper</td>\n",
       "      <td>1947-01-23</td>\n",
       "      <td>M</td>\n",
       "      <td>sen</td>\n",
       "      <td>DE</td>\n",
       "      <td>Democrat</td>\n",
       "      <td>NaN</td>\n",
       "    </tr>\n",
       "    <tr>\n",
       "      <th>4</th>\n",
       "      <td>Casey</td>\n",
       "      <td>Robert</td>\n",
       "      <td>P.</td>\n",
       "      <td>Jr.</td>\n",
       "      <td>Robert P. Casey, Jr.</td>\n",
       "      <td>1960-04-13</td>\n",
       "      <td>M</td>\n",
       "      <td>sen</td>\n",
       "      <td>PA</td>\n",
       "      <td>Democrat</td>\n",
       "      <td>NaN</td>\n",
       "    </tr>\n",
       "  </tbody>\n",
       "</table>\n",
       "</div>"
      ],
      "text/plain": [
       "  last_name first_name middle_name suffix             full_name   birthday  \\\n",
       "0     Brown    Sherrod         NaN    NaN         Sherrod Brown 1952-11-09   \n",
       "1  Cantwell      Maria         NaN    NaN        Maria Cantwell 1958-10-13   \n",
       "2    Cardin   Benjamin          L.    NaN    Benjamin L. Cardin 1943-10-05   \n",
       "3    Carper     Thomas     Richard    NaN      Thomas R. Carper 1947-01-23   \n",
       "4     Casey     Robert          P.    Jr.  Robert P. Casey, Jr. 1960-04-13   \n",
       "\n",
       "  gender type state     party  district  \n",
       "0      M  sen    OH  Democrat       NaN  \n",
       "1      F  sen    WA  Democrat       NaN  \n",
       "2      M  sen    MD  Democrat       NaN  \n",
       "3      M  sen    DE  Democrat       NaN  \n",
       "4      M  sen    PA  Democrat       NaN  "
      ]
     },
     "execution_count": 107,
     "metadata": {},
     "output_type": "execute_result"
    }
   ],
   "source": [
    "legislators.head()"
   ]
  },
  {
   "cell_type": "code",
   "execution_count": 108,
   "id": "df928d88-90ab-49bb-a4bd-82a2309cd543",
   "metadata": {},
   "outputs": [
    {
     "data": {
      "text/html": [
       "<div>\n",
       "<style scoped>\n",
       "    .dataframe tbody tr th:only-of-type {\n",
       "        vertical-align: middle;\n",
       "    }\n",
       "\n",
       "    .dataframe tbody tr th {\n",
       "        vertical-align: top;\n",
       "    }\n",
       "\n",
       "    .dataframe thead th {\n",
       "        text-align: right;\n",
       "    }\n",
       "</style>\n",
       "<table border=\"1\" class=\"dataframe\">\n",
       "  <thead>\n",
       "    <tr style=\"text-align: right;\">\n",
       "      <th></th>\n",
       "      <th>last_name</th>\n",
       "      <th>first_name</th>\n",
       "      <th>middle_name</th>\n",
       "      <th>suffix</th>\n",
       "      <th>full_name</th>\n",
       "      <th>birthday</th>\n",
       "      <th>gender</th>\n",
       "      <th>type</th>\n",
       "      <th>state</th>\n",
       "      <th>party</th>\n",
       "      <th>district</th>\n",
       "    </tr>\n",
       "  </thead>\n",
       "  <tbody>\n",
       "  </tbody>\n",
       "</table>\n",
       "</div>"
      ],
      "text/plain": [
       "Empty DataFrame\n",
       "Columns: [last_name, first_name, middle_name, suffix, full_name, birthday, gender, type, state, party, district]\n",
       "Index: []"
      ]
     },
     "execution_count": 108,
     "metadata": {},
     "output_type": "execute_result"
    }
   ],
   "source": [
    "legislators[legislators['full_name'] == 'Thomas H Tuberville']"
   ]
  },
  {
   "cell_type": "code",
   "execution_count": 109,
   "id": "4f5df9ca-db65-498c-a887-10e4a7fa08b0",
   "metadata": {},
   "outputs": [
    {
     "data": {
      "text/html": [
       "<div>\n",
       "<style scoped>\n",
       "    .dataframe tbody tr th:only-of-type {\n",
       "        vertical-align: middle;\n",
       "    }\n",
       "\n",
       "    .dataframe tbody tr th {\n",
       "        vertical-align: top;\n",
       "    }\n",
       "\n",
       "    .dataframe thead th {\n",
       "        text-align: right;\n",
       "    }\n",
       "</style>\n",
       "<table border=\"1\" class=\"dataframe\">\n",
       "  <thead>\n",
       "    <tr style=\"text-align: right;\">\n",
       "      <th></th>\n",
       "      <th>last_name</th>\n",
       "      <th>first_name</th>\n",
       "      <th>middle_name</th>\n",
       "      <th>suffix</th>\n",
       "      <th>full_name</th>\n",
       "      <th>birthday</th>\n",
       "      <th>gender</th>\n",
       "      <th>type</th>\n",
       "      <th>state</th>\n",
       "      <th>party</th>\n",
       "      <th>district</th>\n",
       "    </tr>\n",
       "  </thead>\n",
       "  <tbody>\n",
       "  </tbody>\n",
       "</table>\n",
       "</div>"
      ],
      "text/plain": [
       "Empty DataFrame\n",
       "Columns: [last_name, first_name, middle_name, suffix, full_name, birthday, gender, type, state, party, district]\n",
       "Index: []"
      ]
     },
     "execution_count": 109,
     "metadata": {},
     "output_type": "execute_result"
    }
   ],
   "source": [
    "legislators[legislators['full_name'] == 'A. Mitchell Mcconnell, Jr.']"
   ]
  },
  {
   "cell_type": "code",
   "execution_count": 110,
   "id": "4194222e-5288-4ad2-bcc3-7bd31adce7e2",
   "metadata": {},
   "outputs": [
    {
     "data": {
      "text/html": [
       "<div>\n",
       "<style scoped>\n",
       "    .dataframe tbody tr th:only-of-type {\n",
       "        vertical-align: middle;\n",
       "    }\n",
       "\n",
       "    .dataframe tbody tr th {\n",
       "        vertical-align: top;\n",
       "    }\n",
       "\n",
       "    .dataframe thead th {\n",
       "        text-align: right;\n",
       "    }\n",
       "</style>\n",
       "<table border=\"1\" class=\"dataframe\">\n",
       "  <thead>\n",
       "    <tr style=\"text-align: right;\">\n",
       "      <th></th>\n",
       "      <th>last_name</th>\n",
       "      <th>first_name</th>\n",
       "      <th>middle_name</th>\n",
       "      <th>suffix</th>\n",
       "      <th>full_name</th>\n",
       "      <th>birthday</th>\n",
       "      <th>gender</th>\n",
       "      <th>type</th>\n",
       "      <th>state</th>\n",
       "      <th>party</th>\n",
       "      <th>district</th>\n",
       "    </tr>\n",
       "  </thead>\n",
       "  <tbody>\n",
       "    <tr>\n",
       "      <th>463</th>\n",
       "      <td>Tuberville</td>\n",
       "      <td>Tommy</td>\n",
       "      <td>Hawley</td>\n",
       "      <td>NaN</td>\n",
       "      <td>Tommy Tuberville</td>\n",
       "      <td>1954-09-18</td>\n",
       "      <td>M</td>\n",
       "      <td>sen</td>\n",
       "      <td>AL</td>\n",
       "      <td>Republican</td>\n",
       "      <td>NaN</td>\n",
       "    </tr>\n",
       "  </tbody>\n",
       "</table>\n",
       "</div>"
      ],
      "text/plain": [
       "      last_name first_name middle_name suffix         full_name   birthday  \\\n",
       "463  Tuberville      Tommy      Hawley    NaN  Tommy Tuberville 1954-09-18   \n",
       "\n",
       "    gender type state       party  district  \n",
       "463      M  sen    AL  Republican       NaN  "
      ]
     },
     "execution_count": 110,
     "metadata": {},
     "output_type": "execute_result"
    }
   ],
   "source": [
    "legislators[legislators['last_name'] == 'Tuberville']"
   ]
  },
  {
   "cell_type": "code",
   "execution_count": 111,
   "id": "0ac3ef43-9d77-4b15-b212-5783e99f6037",
   "metadata": {},
   "outputs": [
    {
     "data": {
      "text/html": [
       "<div>\n",
       "<style scoped>\n",
       "    .dataframe tbody tr th:only-of-type {\n",
       "        vertical-align: middle;\n",
       "    }\n",
       "\n",
       "    .dataframe tbody tr th {\n",
       "        vertical-align: top;\n",
       "    }\n",
       "\n",
       "    .dataframe thead th {\n",
       "        text-align: right;\n",
       "    }\n",
       "</style>\n",
       "<table border=\"1\" class=\"dataframe\">\n",
       "  <thead>\n",
       "    <tr style=\"text-align: right;\">\n",
       "      <th></th>\n",
       "      <th>last_name</th>\n",
       "      <th>first_name</th>\n",
       "      <th>middle_name</th>\n",
       "      <th>suffix</th>\n",
       "      <th>full_name</th>\n",
       "      <th>birthday</th>\n",
       "      <th>gender</th>\n",
       "      <th>type</th>\n",
       "      <th>state</th>\n",
       "      <th>party</th>\n",
       "      <th>district</th>\n",
       "    </tr>\n",
       "  </thead>\n",
       "  <tbody>\n",
       "    <tr>\n",
       "      <th>19</th>\n",
       "      <td>McConnell</td>\n",
       "      <td>Mitch</td>\n",
       "      <td>NaN</td>\n",
       "      <td>NaN</td>\n",
       "      <td>Mitch McConnell</td>\n",
       "      <td>1942-02-20</td>\n",
       "      <td>M</td>\n",
       "      <td>sen</td>\n",
       "      <td>KY</td>\n",
       "      <td>Republican</td>\n",
       "      <td>NaN</td>\n",
       "    </tr>\n",
       "  </tbody>\n",
       "</table>\n",
       "</div>"
      ],
      "text/plain": [
       "    last_name first_name middle_name suffix        full_name   birthday  \\\n",
       "19  McConnell      Mitch         NaN    NaN  Mitch McConnell 1942-02-20   \n",
       "\n",
       "   gender type state       party  district  \n",
       "19      M  sen    KY  Republican       NaN  "
      ]
     },
     "execution_count": 111,
     "metadata": {},
     "output_type": "execute_result"
    }
   ],
   "source": [
    "legislators[legislators['last_name'] == 'McConnell']"
   ]
  },
  {
   "cell_type": "code",
   "execution_count": 112,
   "id": "4eed351b-e83a-4cca-988b-612050c5afd2",
   "metadata": {},
   "outputs": [],
   "source": [
    "senate['name'] = senate['name'].map(lambda x: x.replace(', Jr.', ''))\n",
    "senate['name'] = senate['name'].map(lambda x: x.replace(', Jr', ''))\n",
    "senate['name'] = senate['name'].map(lambda x: x.replace(', Iv', ''))\n",
    "senate['name'] = senate['name'].map(lambda x: x.replace(', Iii', ''))\n",
    "senate['name'] = senate['name'].map(lambda x: x.replace('Jerry Moran,', 'Jerry Moran'))"
   ]
  },
  {
   "cell_type": "code",
   "execution_count": 113,
   "id": "26aaf086-2bbe-4ece-8fe7-9535c89fce7b",
   "metadata": {},
   "outputs": [],
   "source": [
    "senate['first_name'] = senate['name'].map(lambda x: x.split()[0])\n",
    "senate['last_name'] = senate['name'].map(lambda x: x.split()[-1])\n",
    "senate.loc[senate['first_name']== 'A.', 'first_name'] = 'Mitchell'\n",
    "senate.loc[senate['last_name']== 'Mcconnell', 'last_name'] = 'McConnell'\n",
    "senate.loc[senate['last_name']== 'Hollen', 'last_name'] = 'Van Hollen'"
   ]
  },
  {
   "cell_type": "code",
   "execution_count": 114,
   "id": "b95cdd2b-c59a-4de9-a385-ac36a64b312a",
   "metadata": {},
   "outputs": [
    {
     "data": {
      "text/html": [
       "<div>\n",
       "<style scoped>\n",
       "    .dataframe tbody tr th:only-of-type {\n",
       "        vertical-align: middle;\n",
       "    }\n",
       "\n",
       "    .dataframe tbody tr th {\n",
       "        vertical-align: top;\n",
       "    }\n",
       "\n",
       "    .dataframe thead th {\n",
       "        text-align: right;\n",
       "    }\n",
       "</style>\n",
       "<table border=\"1\" class=\"dataframe\">\n",
       "  <thead>\n",
       "    <tr style=\"text-align: right;\">\n",
       "      <th></th>\n",
       "      <th>transaction_date</th>\n",
       "      <th>ticker</th>\n",
       "      <th>asset_description</th>\n",
       "      <th>type</th>\n",
       "      <th>amount</th>\n",
       "      <th>name</th>\n",
       "      <th>disclosure_date</th>\n",
       "      <th>chamber</th>\n",
       "      <th>first_name</th>\n",
       "      <th>last_name</th>\n",
       "    </tr>\n",
       "  </thead>\n",
       "  <tbody>\n",
       "    <tr>\n",
       "      <th>3</th>\n",
       "      <td>2022-06-03</td>\n",
       "      <td>WFC</td>\n",
       "      <td>Wells Fargo Company</td>\n",
       "      <td>purchase</td>\n",
       "      <td>15000</td>\n",
       "      <td>A. Mitchell Mcconnell</td>\n",
       "      <td>2022-06-13</td>\n",
       "      <td>senate</td>\n",
       "      <td>Mitchell</td>\n",
       "      <td>McConnell</td>\n",
       "    </tr>\n",
       "    <tr>\n",
       "      <th>4</th>\n",
       "      <td>2022-05-31</td>\n",
       "      <td>X</td>\n",
       "      <td>United States Steel Corporation &lt;div class=\"text-muted\"&gt;Option Type: Put &lt;br&gt;&lt;em&gt;Strike price:&lt;/em&gt; $23.00 &lt;br&gt; &lt;em&gt;Expires:&lt;/em&gt; 01/20/2023 &lt;/div&gt;</td>\n",
       "      <td>sale_partial</td>\n",
       "      <td>50000</td>\n",
       "      <td>Thomas H Tuberville</td>\n",
       "      <td>2022-06-13</td>\n",
       "      <td>senate</td>\n",
       "      <td>Thomas</td>\n",
       "      <td>Tuberville</td>\n",
       "    </tr>\n",
       "    <tr>\n",
       "      <th>5</th>\n",
       "      <td>2022-05-31</td>\n",
       "      <td>X</td>\n",
       "      <td>United States Steel Corporation &lt;div class=\"text-muted\"&gt;Option Type: Call &lt;br&gt;&lt;em&gt;Strike price:&lt;/em&gt; $30.00 &lt;br&gt; &lt;em&gt;Expires:&lt;/em&gt; 01/20/2023 &lt;/div&gt;</td>\n",
       "      <td>sale_full</td>\n",
       "      <td>50000</td>\n",
       "      <td>Thomas H Tuberville</td>\n",
       "      <td>2022-06-13</td>\n",
       "      <td>senate</td>\n",
       "      <td>Thomas</td>\n",
       "      <td>Tuberville</td>\n",
       "    </tr>\n",
       "    <tr>\n",
       "      <th>6</th>\n",
       "      <td>2022-05-31</td>\n",
       "      <td>X</td>\n",
       "      <td>United States Steel Corporation</td>\n",
       "      <td>purchase</td>\n",
       "      <td>250000</td>\n",
       "      <td>Thomas H Tuberville</td>\n",
       "      <td>2022-06-13</td>\n",
       "      <td>senate</td>\n",
       "      <td>Thomas</td>\n",
       "      <td>Tuberville</td>\n",
       "    </tr>\n",
       "    <tr>\n",
       "      <th>7</th>\n",
       "      <td>2022-05-20</td>\n",
       "      <td>PYPL</td>\n",
       "      <td>PayPal Holdings, Inc. -</td>\n",
       "      <td>purchase</td>\n",
       "      <td>100000</td>\n",
       "      <td>Thomas H Tuberville</td>\n",
       "      <td>2022-06-13</td>\n",
       "      <td>senate</td>\n",
       "      <td>Thomas</td>\n",
       "      <td>Tuberville</td>\n",
       "    </tr>\n",
       "  </tbody>\n",
       "</table>\n",
       "</div>"
      ],
      "text/plain": [
       "  transaction_date ticker  \\\n",
       "3       2022-06-03    WFC   \n",
       "4       2022-05-31      X   \n",
       "5       2022-05-31      X   \n",
       "6       2022-05-31      X   \n",
       "7       2022-05-20   PYPL   \n",
       "\n",
       "                                                                                                                                      asset_description  \\\n",
       "3                                                                                                                                   Wells Fargo Company   \n",
       "4   United States Steel Corporation <div class=\"text-muted\">Option Type: Put <br><em>Strike price:</em> $23.00 <br> <em>Expires:</em> 01/20/2023 </div>   \n",
       "5  United States Steel Corporation <div class=\"text-muted\">Option Type: Call <br><em>Strike price:</em> $30.00 <br> <em>Expires:</em> 01/20/2023 </div>   \n",
       "6                                                                                                                       United States Steel Corporation   \n",
       "7                                                                                                                               PayPal Holdings, Inc. -   \n",
       "\n",
       "           type  amount                   name disclosure_date chamber  \\\n",
       "3      purchase   15000  A. Mitchell Mcconnell      2022-06-13  senate   \n",
       "4  sale_partial   50000    Thomas H Tuberville      2022-06-13  senate   \n",
       "5     sale_full   50000    Thomas H Tuberville      2022-06-13  senate   \n",
       "6      purchase  250000    Thomas H Tuberville      2022-06-13  senate   \n",
       "7      purchase  100000    Thomas H Tuberville      2022-06-13  senate   \n",
       "\n",
       "  first_name   last_name  \n",
       "3   Mitchell   McConnell  \n",
       "4     Thomas  Tuberville  \n",
       "5     Thomas  Tuberville  \n",
       "6     Thomas  Tuberville  \n",
       "7     Thomas  Tuberville  "
      ]
     },
     "execution_count": 114,
     "metadata": {},
     "output_type": "execute_result"
    }
   ],
   "source": [
    "senate.head()"
   ]
  },
  {
   "cell_type": "code",
   "execution_count": 115,
   "id": "bfeb2968-f025-4408-b709-beee3866e8ab",
   "metadata": {
    "tags": []
   },
   "outputs": [
    {
     "data": {
      "text/html": [
       "<div>\n",
       "<style scoped>\n",
       "    .dataframe tbody tr th:only-of-type {\n",
       "        vertical-align: middle;\n",
       "    }\n",
       "\n",
       "    .dataframe tbody tr th {\n",
       "        vertical-align: top;\n",
       "    }\n",
       "\n",
       "    .dataframe thead th {\n",
       "        text-align: right;\n",
       "    }\n",
       "</style>\n",
       "<table border=\"1\" class=\"dataframe\">\n",
       "  <thead>\n",
       "    <tr style=\"text-align: right;\">\n",
       "      <th></th>\n",
       "      <th>transaction_date</th>\n",
       "      <th>ticker</th>\n",
       "      <th>asset_description</th>\n",
       "      <th>type</th>\n",
       "      <th>amount</th>\n",
       "      <th>name</th>\n",
       "      <th>disclosure_date</th>\n",
       "      <th>chamber</th>\n",
       "      <th>first_name</th>\n",
       "      <th>last_name</th>\n",
       "    </tr>\n",
       "  </thead>\n",
       "  <tbody>\n",
       "  </tbody>\n",
       "</table>\n",
       "</div>"
      ],
      "text/plain": [
       "Empty DataFrame\n",
       "Columns: [transaction_date, ticker, asset_description, type, amount, name, disclosure_date, chamber, first_name, last_name]\n",
       "Index: []"
      ]
     },
     "execution_count": 115,
     "metadata": {},
     "output_type": "execute_result"
    }
   ],
   "source": [
    "senate[senate['first_name'] == 'A.']"
   ]
  },
  {
   "cell_type": "code",
   "execution_count": 116,
   "id": "88b78475-fd98-4f23-9614-d624df5f1935",
   "metadata": {
    "tags": []
   },
   "outputs": [
    {
     "data": {
      "text/html": [
       "<div>\n",
       "<style scoped>\n",
       "    .dataframe tbody tr th:only-of-type {\n",
       "        vertical-align: middle;\n",
       "    }\n",
       "\n",
       "    .dataframe tbody tr th {\n",
       "        vertical-align: top;\n",
       "    }\n",
       "\n",
       "    .dataframe thead th {\n",
       "        text-align: right;\n",
       "    }\n",
       "</style>\n",
       "<table border=\"1\" class=\"dataframe\">\n",
       "  <thead>\n",
       "    <tr style=\"text-align: right;\">\n",
       "      <th></th>\n",
       "      <th>transaction_date</th>\n",
       "      <th>ticker</th>\n",
       "      <th>asset_description</th>\n",
       "      <th>type</th>\n",
       "      <th>amount</th>\n",
       "      <th>name</th>\n",
       "      <th>disclosure_date</th>\n",
       "      <th>chamber</th>\n",
       "      <th>first_name</th>\n",
       "      <th>last_name</th>\n",
       "    </tr>\n",
       "  </thead>\n",
       "  <tbody>\n",
       "  </tbody>\n",
       "</table>\n",
       "</div>"
      ],
      "text/plain": [
       "Empty DataFrame\n",
       "Columns: [transaction_date, ticker, asset_description, type, amount, name, disclosure_date, chamber, first_name, last_name]\n",
       "Index: []"
      ]
     },
     "execution_count": 116,
     "metadata": {},
     "output_type": "execute_result"
    }
   ],
   "source": [
    "senate[senate['last_name'] == 'Jr.']"
   ]
  },
  {
   "cell_type": "code",
   "execution_count": 117,
   "id": "1068f245-cd21-4594-adf4-d7b9ebb7da0b",
   "metadata": {
    "tags": []
   },
   "outputs": [
    {
     "data": {
      "text/html": [
       "<div>\n",
       "<style scoped>\n",
       "    .dataframe tbody tr th:only-of-type {\n",
       "        vertical-align: middle;\n",
       "    }\n",
       "\n",
       "    .dataframe tbody tr th {\n",
       "        vertical-align: top;\n",
       "    }\n",
       "\n",
       "    .dataframe thead th {\n",
       "        text-align: right;\n",
       "    }\n",
       "</style>\n",
       "<table border=\"1\" class=\"dataframe\">\n",
       "  <thead>\n",
       "    <tr style=\"text-align: right;\">\n",
       "      <th></th>\n",
       "      <th>transaction_date</th>\n",
       "      <th>ticker</th>\n",
       "      <th>asset_description</th>\n",
       "      <th>type</th>\n",
       "      <th>amount</th>\n",
       "      <th>name</th>\n",
       "      <th>disclosure_date</th>\n",
       "      <th>chamber</th>\n",
       "      <th>first_name</th>\n",
       "      <th>last_name</th>\n",
       "    </tr>\n",
       "  </thead>\n",
       "  <tbody>\n",
       "  </tbody>\n",
       "</table>\n",
       "</div>"
      ],
      "text/plain": [
       "Empty DataFrame\n",
       "Columns: [transaction_date, ticker, asset_description, type, amount, name, disclosure_date, chamber, first_name, last_name]\n",
       "Index: []"
      ]
     },
     "execution_count": 117,
     "metadata": {},
     "output_type": "execute_result"
    }
   ],
   "source": [
    "senate[senate['last_name'] == 'Manchin,']"
   ]
  },
  {
   "cell_type": "code",
   "execution_count": 118,
   "id": "32ff435f-44c6-410d-9323-eb0572afa282",
   "metadata": {},
   "outputs": [
    {
     "data": {
      "text/plain": [
       "48"
      ]
     },
     "execution_count": 118,
     "metadata": {},
     "output_type": "execute_result"
    }
   ],
   "source": [
    "len(senate['last_name'].value_counts().keys())"
   ]
  },
  {
   "cell_type": "code",
   "execution_count": 119,
   "id": "3f9bf2e6-0430-471d-9ed5-620bddcbee38",
   "metadata": {},
   "outputs": [
    {
     "data": {
      "text/plain": [
       "38"
      ]
     },
     "execution_count": 119,
     "metadata": {},
     "output_type": "execute_result"
    }
   ],
   "source": [
    "len(senate['first_name'].value_counts().keys())"
   ]
  },
  {
   "cell_type": "code",
   "execution_count": 120,
   "id": "483df329-9e91-4c4e-996d-22e4e8a3e37e",
   "metadata": {},
   "outputs": [
    {
     "name": "stdout",
     "output_type": "stream",
     "text": [
      "0\n"
     ]
    }
   ],
   "source": [
    "senate['party'] = ''\n",
    "senate['birthday'] = ''\n",
    "senate['gender'] = ''\n",
    "senate['represents'] = ''\n",
    "\n",
    "count = 0\n",
    "name = set()\n",
    "for i in senate.index:\n",
    "\n",
    "    last_name = senate.loc[i, 'last_name']\n",
    "    party = legislators[(legislators['last_name'] == last_name)]['party'].values #(legislators['first_name'] == first_name) & \n",
    "    birthday = legislators[(legislators['last_name'] == last_name)]['birthday'].values #(legislators['first_name'] == first_name) & \n",
    "    gender = legislators[(legislators['last_name'] == last_name)]['gender'].values #(legislators['first_name'] == first_name) &\n",
    "    state = legislators[(legislators['last_name'] == last_name)]['state'].values #(legislators['first_name'] == first_name) &\n",
    "    if len(party) == 0:\n",
    "        name.add(str(first_name) + ' ' + str(last_name))\n",
    "    count += 1\n",
    "    senate.loc[i, 'party'] = party[0]\n",
    "    senate.loc[i, 'birthday'] = birthday[0]\n",
    "    senate.loc[i, 'gender'] = gender[0]\n",
    "    senate.loc[i, 'represents'] = state[0]\n",
    "\n",
    "print(len(name))  "
   ]
  },
  {
   "cell_type": "code",
   "execution_count": 121,
   "id": "cbeeb242-4957-498b-ab89-fb165d3999c8",
   "metadata": {},
   "outputs": [
    {
     "data": {
      "text/plain": [
       "7436"
      ]
     },
     "execution_count": 121,
     "metadata": {},
     "output_type": "execute_result"
    }
   ],
   "source": [
    "count"
   ]
  },
  {
   "cell_type": "code",
   "execution_count": 122,
   "id": "e25687f0-9d16-4288-95af-8cadfe0189b6",
   "metadata": {},
   "outputs": [
    {
     "data": {
      "text/plain": [
       "set()"
      ]
     },
     "execution_count": 122,
     "metadata": {},
     "output_type": "execute_result"
    }
   ],
   "source": [
    "name"
   ]
  },
  {
   "cell_type": "code",
   "execution_count": 123,
   "id": "711d35cf-181c-4abb-9cac-4db1434b3922",
   "metadata": {},
   "outputs": [
    {
     "data": {
      "text/plain": [
       "array(['Democrat', 'Republican'], dtype=object)"
      ]
     },
     "execution_count": 123,
     "metadata": {},
     "output_type": "execute_result"
    }
   ],
   "source": [
    "party"
   ]
  },
  {
   "cell_type": "code",
   "execution_count": 124,
   "id": "34cb6c92-d368-46c3-b5c9-e4cb5b882dc5",
   "metadata": {},
   "outputs": [
    {
     "data": {
      "text/plain": [
       "'Reed'"
      ]
     },
     "execution_count": 124,
     "metadata": {},
     "output_type": "execute_result"
    }
   ],
   "source": [
    "last_name"
   ]
  },
  {
   "cell_type": "code",
   "execution_count": 125,
   "id": "dbd85197-a2ba-45b6-8fd8-ed4d82aa062c",
   "metadata": {},
   "outputs": [
    {
     "data": {
      "text/html": [
       "<div>\n",
       "<style scoped>\n",
       "    .dataframe tbody tr th:only-of-type {\n",
       "        vertical-align: middle;\n",
       "    }\n",
       "\n",
       "    .dataframe tbody tr th {\n",
       "        vertical-align: top;\n",
       "    }\n",
       "\n",
       "    .dataframe thead th {\n",
       "        text-align: right;\n",
       "    }\n",
       "</style>\n",
       "<table border=\"1\" class=\"dataframe\">\n",
       "  <thead>\n",
       "    <tr style=\"text-align: right;\">\n",
       "      <th></th>\n",
       "      <th>last_name</th>\n",
       "      <th>first_name</th>\n",
       "      <th>middle_name</th>\n",
       "      <th>suffix</th>\n",
       "      <th>full_name</th>\n",
       "      <th>birthday</th>\n",
       "      <th>gender</th>\n",
       "      <th>type</th>\n",
       "      <th>state</th>\n",
       "      <th>party</th>\n",
       "      <th>district</th>\n",
       "    </tr>\n",
       "  </thead>\n",
       "  <tbody>\n",
       "    <tr>\n",
       "      <th>198</th>\n",
       "      <td>Van Hollen</td>\n",
       "      <td>Chris</td>\n",
       "      <td>NaN</td>\n",
       "      <td>NaN</td>\n",
       "      <td>Chris Van Hollen</td>\n",
       "      <td>1959-01-10</td>\n",
       "      <td>M</td>\n",
       "      <td>sen</td>\n",
       "      <td>MD</td>\n",
       "      <td>Democrat</td>\n",
       "      <td>NaN</td>\n",
       "    </tr>\n",
       "  </tbody>\n",
       "</table>\n",
       "</div>"
      ],
      "text/plain": [
       "      last_name first_name middle_name suffix         full_name   birthday  \\\n",
       "198  Van Hollen      Chris         NaN    NaN  Chris Van Hollen 1959-01-10   \n",
       "\n",
       "    gender type state     party  district  \n",
       "198      M  sen    MD  Democrat       NaN  "
      ]
     },
     "execution_count": 125,
     "metadata": {},
     "output_type": "execute_result"
    }
   ],
   "source": [
    "legislators[legislators['last_name'] == 'Van Hollen']"
   ]
  },
  {
   "cell_type": "code",
   "execution_count": 126,
   "id": "692be043-9528-41ba-b663-8deae82ab90c",
   "metadata": {
    "tags": []
   },
   "outputs": [
    {
     "data": {
      "text/html": [
       "<div>\n",
       "<style scoped>\n",
       "    .dataframe tbody tr th:only-of-type {\n",
       "        vertical-align: middle;\n",
       "    }\n",
       "\n",
       "    .dataframe tbody tr th {\n",
       "        vertical-align: top;\n",
       "    }\n",
       "\n",
       "    .dataframe thead th {\n",
       "        text-align: right;\n",
       "    }\n",
       "</style>\n",
       "<table border=\"1\" class=\"dataframe\">\n",
       "  <thead>\n",
       "    <tr style=\"text-align: right;\">\n",
       "      <th></th>\n",
       "      <th>transaction_date</th>\n",
       "      <th>ticker</th>\n",
       "      <th>asset_description</th>\n",
       "      <th>type</th>\n",
       "      <th>amount</th>\n",
       "      <th>name</th>\n",
       "      <th>disclosure_date</th>\n",
       "      <th>chamber</th>\n",
       "      <th>first_name</th>\n",
       "      <th>last_name</th>\n",
       "      <th>party</th>\n",
       "      <th>birthday</th>\n",
       "      <th>gender</th>\n",
       "      <th>represents</th>\n",
       "    </tr>\n",
       "  </thead>\n",
       "  <tbody>\n",
       "    <tr>\n",
       "      <th>3418</th>\n",
       "      <td>2019-02-28</td>\n",
       "      <td>XLNX</td>\n",
       "      <td>Xilinx, Inc.</td>\n",
       "      <td>sale_full</td>\n",
       "      <td>50000</td>\n",
       "      <td>John F Reed</td>\n",
       "      <td>2019-03-18</td>\n",
       "      <td>senate</td>\n",
       "      <td>John</td>\n",
       "      <td>Reed</td>\n",
       "      <td>Democrat</td>\n",
       "      <td>1949-11-12T00:00:00.000000000</td>\n",
       "      <td>M</td>\n",
       "      <td>RI</td>\n",
       "    </tr>\n",
       "    <tr>\n",
       "      <th>3419</th>\n",
       "      <td>2019-02-28</td>\n",
       "      <td>TMO</td>\n",
       "      <td>Thermo Fisher Scientific Inc.</td>\n",
       "      <td>sale_full</td>\n",
       "      <td>15000</td>\n",
       "      <td>John F Reed</td>\n",
       "      <td>2019-03-18</td>\n",
       "      <td>senate</td>\n",
       "      <td>John</td>\n",
       "      <td>Reed</td>\n",
       "      <td>Democrat</td>\n",
       "      <td>1949-11-12T00:00:00.000000000</td>\n",
       "      <td>M</td>\n",
       "      <td>RI</td>\n",
       "    </tr>\n",
       "    <tr>\n",
       "      <th>3420</th>\n",
       "      <td>2019-02-28</td>\n",
       "      <td>SYK</td>\n",
       "      <td>Stryker Corporation</td>\n",
       "      <td>sale_full</td>\n",
       "      <td>50000</td>\n",
       "      <td>John F Reed</td>\n",
       "      <td>2019-03-18</td>\n",
       "      <td>senate</td>\n",
       "      <td>John</td>\n",
       "      <td>Reed</td>\n",
       "      <td>Democrat</td>\n",
       "      <td>1949-11-12T00:00:00.000000000</td>\n",
       "      <td>M</td>\n",
       "      <td>RI</td>\n",
       "    </tr>\n",
       "    <tr>\n",
       "      <th>3421</th>\n",
       "      <td>2019-02-28</td>\n",
       "      <td>SLB</td>\n",
       "      <td>Schlumberger Limited</td>\n",
       "      <td>sale_full</td>\n",
       "      <td>15000</td>\n",
       "      <td>John F Reed</td>\n",
       "      <td>2019-03-18</td>\n",
       "      <td>senate</td>\n",
       "      <td>John</td>\n",
       "      <td>Reed</td>\n",
       "      <td>Democrat</td>\n",
       "      <td>1949-11-12T00:00:00.000000000</td>\n",
       "      <td>M</td>\n",
       "      <td>RI</td>\n",
       "    </tr>\n",
       "    <tr>\n",
       "      <th>3422</th>\n",
       "      <td>2019-02-28</td>\n",
       "      <td>QCOM</td>\n",
       "      <td>QUALCOMM Incorporated</td>\n",
       "      <td>sale_full</td>\n",
       "      <td>50000</td>\n",
       "      <td>John F Reed</td>\n",
       "      <td>2019-03-18</td>\n",
       "      <td>senate</td>\n",
       "      <td>John</td>\n",
       "      <td>Reed</td>\n",
       "      <td>Democrat</td>\n",
       "      <td>1949-11-12T00:00:00.000000000</td>\n",
       "      <td>M</td>\n",
       "      <td>RI</td>\n",
       "    </tr>\n",
       "    <tr>\n",
       "      <th>...</th>\n",
       "      <td>...</td>\n",
       "      <td>...</td>\n",
       "      <td>...</td>\n",
       "      <td>...</td>\n",
       "      <td>...</td>\n",
       "      <td>...</td>\n",
       "      <td>...</td>\n",
       "      <td>...</td>\n",
       "      <td>...</td>\n",
       "      <td>...</td>\n",
       "      <td>...</td>\n",
       "      <td>...</td>\n",
       "      <td>...</td>\n",
       "      <td>...</td>\n",
       "    </tr>\n",
       "    <tr>\n",
       "      <th>9053</th>\n",
       "      <td>2014-03-17</td>\n",
       "      <td>ZMH</td>\n",
       "      <td>Zimmer Holdings, Inc. (NYSE)</td>\n",
       "      <td>purchase</td>\n",
       "      <td>15000</td>\n",
       "      <td>John F Reed</td>\n",
       "      <td>2014-03-27</td>\n",
       "      <td>senate</td>\n",
       "      <td>John</td>\n",
       "      <td>Reed</td>\n",
       "      <td>Democrat</td>\n",
       "      <td>1949-11-12T00:00:00.000000000</td>\n",
       "      <td>M</td>\n",
       "      <td>RI</td>\n",
       "    </tr>\n",
       "    <tr>\n",
       "      <th>9100</th>\n",
       "      <td>2014-02-21</td>\n",
       "      <td>VOD</td>\n",
       "      <td>Vodafone Group Public Limited Company (NASDAQ)</td>\n",
       "      <td>sale_full</td>\n",
       "      <td>15000</td>\n",
       "      <td>John F Reed</td>\n",
       "      <td>2014-03-05</td>\n",
       "      <td>senate</td>\n",
       "      <td>John</td>\n",
       "      <td>Reed</td>\n",
       "      <td>Democrat</td>\n",
       "      <td>1949-11-12T00:00:00.000000000</td>\n",
       "      <td>M</td>\n",
       "      <td>RI</td>\n",
       "    </tr>\n",
       "    <tr>\n",
       "      <th>9127</th>\n",
       "      <td>2014-02-03</td>\n",
       "      <td>ZMH</td>\n",
       "      <td>Zimmer Holdings, Inc.</td>\n",
       "      <td>purchase</td>\n",
       "      <td>15000</td>\n",
       "      <td>John F Reed</td>\n",
       "      <td>2014-02-12</td>\n",
       "      <td>senate</td>\n",
       "      <td>John</td>\n",
       "      <td>Reed</td>\n",
       "      <td>Democrat</td>\n",
       "      <td>1949-11-12T00:00:00.000000000</td>\n",
       "      <td>M</td>\n",
       "      <td>RI</td>\n",
       "    </tr>\n",
       "    <tr>\n",
       "      <th>9169</th>\n",
       "      <td>2014-01-21</td>\n",
       "      <td>CVS</td>\n",
       "      <td>CVS Caremark Corporation</td>\n",
       "      <td>purchase</td>\n",
       "      <td>15000</td>\n",
       "      <td>John F Reed</td>\n",
       "      <td>2014-01-29</td>\n",
       "      <td>senate</td>\n",
       "      <td>John</td>\n",
       "      <td>Reed</td>\n",
       "      <td>Democrat</td>\n",
       "      <td>1949-11-12T00:00:00.000000000</td>\n",
       "      <td>M</td>\n",
       "      <td>RI</td>\n",
       "    </tr>\n",
       "    <tr>\n",
       "      <th>9170</th>\n",
       "      <td>2014-01-21</td>\n",
       "      <td>CVS</td>\n",
       "      <td>CVS Caremark Corporation</td>\n",
       "      <td>purchase</td>\n",
       "      <td>15000</td>\n",
       "      <td>John F Reed</td>\n",
       "      <td>2014-01-29</td>\n",
       "      <td>senate</td>\n",
       "      <td>John</td>\n",
       "      <td>Reed</td>\n",
       "      <td>Democrat</td>\n",
       "      <td>1949-11-12T00:00:00.000000000</td>\n",
       "      <td>M</td>\n",
       "      <td>RI</td>\n",
       "    </tr>\n",
       "  </tbody>\n",
       "</table>\n",
       "<p>221 rows × 14 columns</p>\n",
       "</div>"
      ],
      "text/plain": [
       "     transaction_date ticker                               asset_description  \\\n",
       "3418       2019-02-28   XLNX                                    Xilinx, Inc.   \n",
       "3419       2019-02-28    TMO                   Thermo Fisher Scientific Inc.   \n",
       "3420       2019-02-28    SYK                             Stryker Corporation   \n",
       "3421       2019-02-28    SLB                            Schlumberger Limited   \n",
       "3422       2019-02-28   QCOM                           QUALCOMM Incorporated   \n",
       "...               ...    ...                                             ...   \n",
       "9053       2014-03-17    ZMH                    Zimmer Holdings, Inc. (NYSE)   \n",
       "9100       2014-02-21    VOD  Vodafone Group Public Limited Company (NASDAQ)   \n",
       "9127       2014-02-03    ZMH                           Zimmer Holdings, Inc.   \n",
       "9169       2014-01-21    CVS                        CVS Caremark Corporation   \n",
       "9170       2014-01-21    CVS                        CVS Caremark Corporation   \n",
       "\n",
       "           type  amount         name disclosure_date chamber first_name  \\\n",
       "3418  sale_full   50000  John F Reed      2019-03-18  senate       John   \n",
       "3419  sale_full   15000  John F Reed      2019-03-18  senate       John   \n",
       "3420  sale_full   50000  John F Reed      2019-03-18  senate       John   \n",
       "3421  sale_full   15000  John F Reed      2019-03-18  senate       John   \n",
       "3422  sale_full   50000  John F Reed      2019-03-18  senate       John   \n",
       "...         ...     ...          ...             ...     ...        ...   \n",
       "9053   purchase   15000  John F Reed      2014-03-27  senate       John   \n",
       "9100  sale_full   15000  John F Reed      2014-03-05  senate       John   \n",
       "9127   purchase   15000  John F Reed      2014-02-12  senate       John   \n",
       "9169   purchase   15000  John F Reed      2014-01-29  senate       John   \n",
       "9170   purchase   15000  John F Reed      2014-01-29  senate       John   \n",
       "\n",
       "     last_name     party                       birthday gender represents  \n",
       "3418      Reed  Democrat  1949-11-12T00:00:00.000000000      M         RI  \n",
       "3419      Reed  Democrat  1949-11-12T00:00:00.000000000      M         RI  \n",
       "3420      Reed  Democrat  1949-11-12T00:00:00.000000000      M         RI  \n",
       "3421      Reed  Democrat  1949-11-12T00:00:00.000000000      M         RI  \n",
       "3422      Reed  Democrat  1949-11-12T00:00:00.000000000      M         RI  \n",
       "...        ...       ...                            ...    ...        ...  \n",
       "9053      Reed  Democrat  1949-11-12T00:00:00.000000000      M         RI  \n",
       "9100      Reed  Democrat  1949-11-12T00:00:00.000000000      M         RI  \n",
       "9127      Reed  Democrat  1949-11-12T00:00:00.000000000      M         RI  \n",
       "9169      Reed  Democrat  1949-11-12T00:00:00.000000000      M         RI  \n",
       "9170      Reed  Democrat  1949-11-12T00:00:00.000000000      M         RI  \n",
       "\n",
       "[221 rows x 14 columns]"
      ]
     },
     "execution_count": 126,
     "metadata": {},
     "output_type": "execute_result"
    }
   ],
   "source": [
    "senate[senate['last_name'] == 'Reed']"
   ]
  },
  {
   "cell_type": "code",
   "execution_count": 127,
   "id": "f6a31763-24be-45b8-9a33-a9aea473ff5d",
   "metadata": {},
   "outputs": [
    {
     "name": "stdout",
     "output_type": "stream",
     "text": [
      "<class 'pandas.core.frame.DataFrame'>\n",
      "Int64Index: 7436 entries, 3 to 9170\n",
      "Data columns (total 14 columns):\n",
      " #   Column             Non-Null Count  Dtype         \n",
      "---  ------             --------------  -----         \n",
      " 0   transaction_date   7436 non-null   datetime64[ns]\n",
      " 1   ticker             7436 non-null   object        \n",
      " 2   asset_description  7436 non-null   object        \n",
      " 3   type               7436 non-null   object        \n",
      " 4   amount             7436 non-null   int64         \n",
      " 5   name               7436 non-null   object        \n",
      " 6   disclosure_date    7436 non-null   datetime64[ns]\n",
      " 7   chamber            7436 non-null   object        \n",
      " 8   first_name         7436 non-null   object        \n",
      " 9   last_name          7436 non-null   object        \n",
      " 10  party              7436 non-null   object        \n",
      " 11  birthday           7436 non-null   datetime64[ns]\n",
      " 12  gender             7436 non-null   object        \n",
      " 13  represents         7436 non-null   object        \n",
      "dtypes: datetime64[ns](3), int64(1), object(10)\n",
      "memory usage: 1.1+ MB\n"
     ]
    }
   ],
   "source": [
    "senate['birthday'] = pd.to_datetime(senate['birthday'], format = '%Y-%m-%d')\n",
    "senate.info()"
   ]
  },
  {
   "cell_type": "code",
   "execution_count": 128,
   "id": "39b65ded-ad10-46b7-8511-6456b11a77ff",
   "metadata": {},
   "outputs": [
    {
     "data": {
      "text/plain": [
       "Index(['transaction_date', 'ticker', 'asset_description', 'type', 'amount',\n",
       "       'name', 'disclosure_date', 'chamber', 'first_name', 'last_name',\n",
       "       'party', 'birthday', 'gender', 'represents'],\n",
       "      dtype='object')"
      ]
     },
     "execution_count": 128,
     "metadata": {},
     "output_type": "execute_result"
    }
   ],
   "source": [
    "senate.columns"
   ]
  },
  {
   "cell_type": "code",
   "execution_count": 129,
   "id": "11adccdd-0ec2-4ee5-8e6f-bcdf2d5cd5be",
   "metadata": {
    "tags": []
   },
   "outputs": [
    {
     "data": {
      "text/html": [
       "<div>\n",
       "<style scoped>\n",
       "    .dataframe tbody tr th:only-of-type {\n",
       "        vertical-align: middle;\n",
       "    }\n",
       "\n",
       "    .dataframe tbody tr th {\n",
       "        vertical-align: top;\n",
       "    }\n",
       "\n",
       "    .dataframe thead th {\n",
       "        text-align: right;\n",
       "    }\n",
       "</style>\n",
       "<table border=\"1\" class=\"dataframe\">\n",
       "  <thead>\n",
       "    <tr style=\"text-align: right;\">\n",
       "      <th></th>\n",
       "      <th>transaction_date</th>\n",
       "      <th>ticker</th>\n",
       "      <th>asset_description</th>\n",
       "      <th>type</th>\n",
       "      <th>amount</th>\n",
       "      <th>name</th>\n",
       "      <th>disclosure_date</th>\n",
       "      <th>chamber</th>\n",
       "      <th>first_name</th>\n",
       "      <th>last_name</th>\n",
       "      <th>party</th>\n",
       "      <th>birthday</th>\n",
       "      <th>gender</th>\n",
       "      <th>represents</th>\n",
       "    </tr>\n",
       "  </thead>\n",
       "  <tbody>\n",
       "    <tr>\n",
       "      <th>3</th>\n",
       "      <td>2022-06-03</td>\n",
       "      <td>WFC</td>\n",
       "      <td>Wells Fargo Company</td>\n",
       "      <td>purchase</td>\n",
       "      <td>15000</td>\n",
       "      <td>A. Mitchell Mcconnell</td>\n",
       "      <td>2022-06-13</td>\n",
       "      <td>senate</td>\n",
       "      <td>Mitchell</td>\n",
       "      <td>McConnell</td>\n",
       "      <td>Republican</td>\n",
       "      <td>1942-02-20</td>\n",
       "      <td>M</td>\n",
       "      <td>KY</td>\n",
       "    </tr>\n",
       "    <tr>\n",
       "      <th>4</th>\n",
       "      <td>2022-05-31</td>\n",
       "      <td>X</td>\n",
       "      <td>United States Steel Corporation &lt;div class=\"text-muted\"&gt;Option Type: Put &lt;br&gt;&lt;em&gt;Strike price:&lt;/em&gt; $23.00 &lt;br&gt; &lt;em&gt;Expires:&lt;/em&gt; 01/20/2023 &lt;/div&gt;</td>\n",
       "      <td>sale_partial</td>\n",
       "      <td>50000</td>\n",
       "      <td>Thomas H Tuberville</td>\n",
       "      <td>2022-06-13</td>\n",
       "      <td>senate</td>\n",
       "      <td>Thomas</td>\n",
       "      <td>Tuberville</td>\n",
       "      <td>Republican</td>\n",
       "      <td>1954-09-18</td>\n",
       "      <td>M</td>\n",
       "      <td>AL</td>\n",
       "    </tr>\n",
       "    <tr>\n",
       "      <th>5</th>\n",
       "      <td>2022-05-31</td>\n",
       "      <td>X</td>\n",
       "      <td>United States Steel Corporation &lt;div class=\"text-muted\"&gt;Option Type: Call &lt;br&gt;&lt;em&gt;Strike price:&lt;/em&gt; $30.00 &lt;br&gt; &lt;em&gt;Expires:&lt;/em&gt; 01/20/2023 &lt;/div&gt;</td>\n",
       "      <td>sale_full</td>\n",
       "      <td>50000</td>\n",
       "      <td>Thomas H Tuberville</td>\n",
       "      <td>2022-06-13</td>\n",
       "      <td>senate</td>\n",
       "      <td>Thomas</td>\n",
       "      <td>Tuberville</td>\n",
       "      <td>Republican</td>\n",
       "      <td>1954-09-18</td>\n",
       "      <td>M</td>\n",
       "      <td>AL</td>\n",
       "    </tr>\n",
       "    <tr>\n",
       "      <th>6</th>\n",
       "      <td>2022-05-31</td>\n",
       "      <td>X</td>\n",
       "      <td>United States Steel Corporation</td>\n",
       "      <td>purchase</td>\n",
       "      <td>250000</td>\n",
       "      <td>Thomas H Tuberville</td>\n",
       "      <td>2022-06-13</td>\n",
       "      <td>senate</td>\n",
       "      <td>Thomas</td>\n",
       "      <td>Tuberville</td>\n",
       "      <td>Republican</td>\n",
       "      <td>1954-09-18</td>\n",
       "      <td>M</td>\n",
       "      <td>AL</td>\n",
       "    </tr>\n",
       "    <tr>\n",
       "      <th>7</th>\n",
       "      <td>2022-05-20</td>\n",
       "      <td>PYPL</td>\n",
       "      <td>PayPal Holdings, Inc. -</td>\n",
       "      <td>purchase</td>\n",
       "      <td>100000</td>\n",
       "      <td>Thomas H Tuberville</td>\n",
       "      <td>2022-06-13</td>\n",
       "      <td>senate</td>\n",
       "      <td>Thomas</td>\n",
       "      <td>Tuberville</td>\n",
       "      <td>Republican</td>\n",
       "      <td>1954-09-18</td>\n",
       "      <td>M</td>\n",
       "      <td>AL</td>\n",
       "    </tr>\n",
       "  </tbody>\n",
       "</table>\n",
       "</div>"
      ],
      "text/plain": [
       "  transaction_date ticker  \\\n",
       "3       2022-06-03    WFC   \n",
       "4       2022-05-31      X   \n",
       "5       2022-05-31      X   \n",
       "6       2022-05-31      X   \n",
       "7       2022-05-20   PYPL   \n",
       "\n",
       "                                                                                                                                      asset_description  \\\n",
       "3                                                                                                                                   Wells Fargo Company   \n",
       "4   United States Steel Corporation <div class=\"text-muted\">Option Type: Put <br><em>Strike price:</em> $23.00 <br> <em>Expires:</em> 01/20/2023 </div>   \n",
       "5  United States Steel Corporation <div class=\"text-muted\">Option Type: Call <br><em>Strike price:</em> $30.00 <br> <em>Expires:</em> 01/20/2023 </div>   \n",
       "6                                                                                                                       United States Steel Corporation   \n",
       "7                                                                                                                               PayPal Holdings, Inc. -   \n",
       "\n",
       "           type  amount                   name disclosure_date chamber  \\\n",
       "3      purchase   15000  A. Mitchell Mcconnell      2022-06-13  senate   \n",
       "4  sale_partial   50000    Thomas H Tuberville      2022-06-13  senate   \n",
       "5     sale_full   50000    Thomas H Tuberville      2022-06-13  senate   \n",
       "6      purchase  250000    Thomas H Tuberville      2022-06-13  senate   \n",
       "7      purchase  100000    Thomas H Tuberville      2022-06-13  senate   \n",
       "\n",
       "  first_name   last_name       party   birthday gender represents  \n",
       "3   Mitchell   McConnell  Republican 1942-02-20      M         KY  \n",
       "4     Thomas  Tuberville  Republican 1954-09-18      M         AL  \n",
       "5     Thomas  Tuberville  Republican 1954-09-18      M         AL  \n",
       "6     Thomas  Tuberville  Republican 1954-09-18      M         AL  \n",
       "7     Thomas  Tuberville  Republican 1954-09-18      M         AL  "
      ]
     },
     "execution_count": 129,
     "metadata": {},
     "output_type": "execute_result"
    }
   ],
   "source": [
    "senate.head()"
   ]
  },
  {
   "cell_type": "markdown",
   "id": "7079f7ca-9c8a-4793-b4f3-1cc5049a4f02",
   "metadata": {},
   "source": [
    "Finally, we will export the cleaned csv file."
   ]
  },
  {
   "cell_type": "code",
   "execution_count": 130,
   "id": "7c63a36f-4708-491d-a551-7b5b285f21c2",
   "metadata": {},
   "outputs": [],
   "source": [
    "all_reps = pd.concat([senate, house], axis = 0)"
   ]
  },
  {
   "cell_type": "code",
   "execution_count": 131,
   "id": "1bfe2450-bbc3-441c-aed0-e5585a8a52c5",
   "metadata": {},
   "outputs": [],
   "source": [
    "all_reps['transaction_date'] = pd.to_datetime(all_reps['transaction_date'], format = '%Y-%m-%d')\n",
    "all_reps['disclosure_date'] = pd.to_datetime(all_reps['disclosure_date'], format = '%Y-%m-%d')\n",
    "all_reps['birthday'] = pd.to_datetime(all_reps['birthday'], format = '%Y-%m-%d')"
   ]
  },
  {
   "cell_type": "code",
   "execution_count": 132,
   "id": "dace6f12-3d4c-415d-9760-9b2c2ee7bb66",
   "metadata": {},
   "outputs": [
    {
     "data": {
      "text/html": [
       "<div>\n",
       "<style scoped>\n",
       "    .dataframe tbody tr th:only-of-type {\n",
       "        vertical-align: middle;\n",
       "    }\n",
       "\n",
       "    .dataframe tbody tr th {\n",
       "        vertical-align: top;\n",
       "    }\n",
       "\n",
       "    .dataframe thead th {\n",
       "        text-align: right;\n",
       "    }\n",
       "</style>\n",
       "<table border=\"1\" class=\"dataframe\">\n",
       "  <thead>\n",
       "    <tr style=\"text-align: right;\">\n",
       "      <th></th>\n",
       "      <th>transaction_date</th>\n",
       "      <th>ticker</th>\n",
       "      <th>asset_description</th>\n",
       "      <th>type</th>\n",
       "      <th>amount</th>\n",
       "      <th>name</th>\n",
       "      <th>disclosure_date</th>\n",
       "      <th>chamber</th>\n",
       "      <th>first_name</th>\n",
       "      <th>last_name</th>\n",
       "      <th>party</th>\n",
       "      <th>birthday</th>\n",
       "      <th>gender</th>\n",
       "      <th>represents</th>\n",
       "    </tr>\n",
       "  </thead>\n",
       "  <tbody>\n",
       "    <tr>\n",
       "      <th>3</th>\n",
       "      <td>2022-06-03</td>\n",
       "      <td>WFC</td>\n",
       "      <td>Wells Fargo Company</td>\n",
       "      <td>purchase</td>\n",
       "      <td>15000</td>\n",
       "      <td>A. Mitchell Mcconnell</td>\n",
       "      <td>2022-06-13</td>\n",
       "      <td>senate</td>\n",
       "      <td>Mitchell</td>\n",
       "      <td>McConnell</td>\n",
       "      <td>Republican</td>\n",
       "      <td>1942-02-20</td>\n",
       "      <td>M</td>\n",
       "      <td>KY</td>\n",
       "    </tr>\n",
       "    <tr>\n",
       "      <th>4</th>\n",
       "      <td>2022-05-31</td>\n",
       "      <td>X</td>\n",
       "      <td>United States Steel Corporation &lt;div class=\"text-muted\"&gt;Option Type: Put &lt;br&gt;&lt;em&gt;Strike price:&lt;/em&gt; $23.00 &lt;br&gt; &lt;em&gt;Expires:&lt;/em&gt; 01/20/2023 &lt;/div&gt;</td>\n",
       "      <td>sale_partial</td>\n",
       "      <td>50000</td>\n",
       "      <td>Thomas H Tuberville</td>\n",
       "      <td>2022-06-13</td>\n",
       "      <td>senate</td>\n",
       "      <td>Thomas</td>\n",
       "      <td>Tuberville</td>\n",
       "      <td>Republican</td>\n",
       "      <td>1954-09-18</td>\n",
       "      <td>M</td>\n",
       "      <td>AL</td>\n",
       "    </tr>\n",
       "    <tr>\n",
       "      <th>5</th>\n",
       "      <td>2022-05-31</td>\n",
       "      <td>X</td>\n",
       "      <td>United States Steel Corporation &lt;div class=\"text-muted\"&gt;Option Type: Call &lt;br&gt;&lt;em&gt;Strike price:&lt;/em&gt; $30.00 &lt;br&gt; &lt;em&gt;Expires:&lt;/em&gt; 01/20/2023 &lt;/div&gt;</td>\n",
       "      <td>sale_full</td>\n",
       "      <td>50000</td>\n",
       "      <td>Thomas H Tuberville</td>\n",
       "      <td>2022-06-13</td>\n",
       "      <td>senate</td>\n",
       "      <td>Thomas</td>\n",
       "      <td>Tuberville</td>\n",
       "      <td>Republican</td>\n",
       "      <td>1954-09-18</td>\n",
       "      <td>M</td>\n",
       "      <td>AL</td>\n",
       "    </tr>\n",
       "    <tr>\n",
       "      <th>6</th>\n",
       "      <td>2022-05-31</td>\n",
       "      <td>X</td>\n",
       "      <td>United States Steel Corporation</td>\n",
       "      <td>purchase</td>\n",
       "      <td>250000</td>\n",
       "      <td>Thomas H Tuberville</td>\n",
       "      <td>2022-06-13</td>\n",
       "      <td>senate</td>\n",
       "      <td>Thomas</td>\n",
       "      <td>Tuberville</td>\n",
       "      <td>Republican</td>\n",
       "      <td>1954-09-18</td>\n",
       "      <td>M</td>\n",
       "      <td>AL</td>\n",
       "    </tr>\n",
       "    <tr>\n",
       "      <th>7</th>\n",
       "      <td>2022-05-20</td>\n",
       "      <td>PYPL</td>\n",
       "      <td>PayPal Holdings, Inc. -</td>\n",
       "      <td>purchase</td>\n",
       "      <td>100000</td>\n",
       "      <td>Thomas H Tuberville</td>\n",
       "      <td>2022-06-13</td>\n",
       "      <td>senate</td>\n",
       "      <td>Thomas</td>\n",
       "      <td>Tuberville</td>\n",
       "      <td>Republican</td>\n",
       "      <td>1954-09-18</td>\n",
       "      <td>M</td>\n",
       "      <td>AL</td>\n",
       "    </tr>\n",
       "  </tbody>\n",
       "</table>\n",
       "</div>"
      ],
      "text/plain": [
       "  transaction_date ticker  \\\n",
       "3       2022-06-03    WFC   \n",
       "4       2022-05-31      X   \n",
       "5       2022-05-31      X   \n",
       "6       2022-05-31      X   \n",
       "7       2022-05-20   PYPL   \n",
       "\n",
       "                                                                                                                                      asset_description  \\\n",
       "3                                                                                                                                   Wells Fargo Company   \n",
       "4   United States Steel Corporation <div class=\"text-muted\">Option Type: Put <br><em>Strike price:</em> $23.00 <br> <em>Expires:</em> 01/20/2023 </div>   \n",
       "5  United States Steel Corporation <div class=\"text-muted\">Option Type: Call <br><em>Strike price:</em> $30.00 <br> <em>Expires:</em> 01/20/2023 </div>   \n",
       "6                                                                                                                       United States Steel Corporation   \n",
       "7                                                                                                                               PayPal Holdings, Inc. -   \n",
       "\n",
       "           type  amount                   name disclosure_date chamber  \\\n",
       "3      purchase   15000  A. Mitchell Mcconnell      2022-06-13  senate   \n",
       "4  sale_partial   50000    Thomas H Tuberville      2022-06-13  senate   \n",
       "5     sale_full   50000    Thomas H Tuberville      2022-06-13  senate   \n",
       "6      purchase  250000    Thomas H Tuberville      2022-06-13  senate   \n",
       "7      purchase  100000    Thomas H Tuberville      2022-06-13  senate   \n",
       "\n",
       "  first_name   last_name       party   birthday gender represents  \n",
       "3   Mitchell   McConnell  Republican 1942-02-20      M         KY  \n",
       "4     Thomas  Tuberville  Republican 1954-09-18      M         AL  \n",
       "5     Thomas  Tuberville  Republican 1954-09-18      M         AL  \n",
       "6     Thomas  Tuberville  Republican 1954-09-18      M         AL  \n",
       "7     Thomas  Tuberville  Republican 1954-09-18      M         AL  "
      ]
     },
     "execution_count": 132,
     "metadata": {},
     "output_type": "execute_result"
    }
   ],
   "source": [
    "all_reps.head()"
   ]
  },
  {
   "cell_type": "code",
   "execution_count": 133,
   "id": "b3b24630-6c22-4f5e-8c52-f5320f0601e6",
   "metadata": {},
   "outputs": [
    {
     "data": {
      "text/html": [
       "<div>\n",
       "<style scoped>\n",
       "    .dataframe tbody tr th:only-of-type {\n",
       "        vertical-align: middle;\n",
       "    }\n",
       "\n",
       "    .dataframe tbody tr th {\n",
       "        vertical-align: top;\n",
       "    }\n",
       "\n",
       "    .dataframe thead th {\n",
       "        text-align: right;\n",
       "    }\n",
       "</style>\n",
       "<table border=\"1\" class=\"dataframe\">\n",
       "  <thead>\n",
       "    <tr style=\"text-align: right;\">\n",
       "      <th></th>\n",
       "      <th>transaction_date</th>\n",
       "      <th>ticker</th>\n",
       "      <th>asset_description</th>\n",
       "      <th>type</th>\n",
       "      <th>amount</th>\n",
       "      <th>name</th>\n",
       "      <th>disclosure_date</th>\n",
       "      <th>chamber</th>\n",
       "      <th>first_name</th>\n",
       "      <th>last_name</th>\n",
       "      <th>party</th>\n",
       "      <th>birthday</th>\n",
       "      <th>gender</th>\n",
       "      <th>represents</th>\n",
       "    </tr>\n",
       "  </thead>\n",
       "  <tbody>\n",
       "    <tr>\n",
       "      <th>14850</th>\n",
       "      <td>2020-04-09</td>\n",
       "      <td>SWK</td>\n",
       "      <td>Stanley Black &amp; Decker, Inc.</td>\n",
       "      <td>sale_partial</td>\n",
       "      <td>15000</td>\n",
       "      <td>Ed Perlmutter</td>\n",
       "      <td>2020-06-10</td>\n",
       "      <td>house</td>\n",
       "      <td>Ed</td>\n",
       "      <td>Perlmutter</td>\n",
       "      <td>Democrat</td>\n",
       "      <td>1953-05-01</td>\n",
       "      <td>M</td>\n",
       "      <td>CO07</td>\n",
       "    </tr>\n",
       "    <tr>\n",
       "      <th>14851</th>\n",
       "      <td>2020-04-09</td>\n",
       "      <td>USB</td>\n",
       "      <td>U.S. Bancorp</td>\n",
       "      <td>sale_partial</td>\n",
       "      <td>15000</td>\n",
       "      <td>Ed Perlmutter</td>\n",
       "      <td>2020-06-10</td>\n",
       "      <td>house</td>\n",
       "      <td>Ed</td>\n",
       "      <td>Perlmutter</td>\n",
       "      <td>Democrat</td>\n",
       "      <td>1953-05-01</td>\n",
       "      <td>M</td>\n",
       "      <td>CO07</td>\n",
       "    </tr>\n",
       "    <tr>\n",
       "      <th>14852</th>\n",
       "      <td>2020-03-13</td>\n",
       "      <td>BMY</td>\n",
       "      <td>Bristol-Myers Squibb Company</td>\n",
       "      <td>sale_full</td>\n",
       "      <td>250000</td>\n",
       "      <td>Nicholas Van Taylor</td>\n",
       "      <td>2020-06-10</td>\n",
       "      <td>house</td>\n",
       "      <td>Nicholas</td>\n",
       "      <td>Taylor</td>\n",
       "      <td>Republican</td>\n",
       "      <td>1972-08-01</td>\n",
       "      <td>M</td>\n",
       "      <td>TX03</td>\n",
       "    </tr>\n",
       "    <tr>\n",
       "      <th>14853</th>\n",
       "      <td>2020-03-13</td>\n",
       "      <td>LLY</td>\n",
       "      <td>Eli Lilly and Company</td>\n",
       "      <td>sale_full</td>\n",
       "      <td>1000000</td>\n",
       "      <td>Nicholas Van Taylor</td>\n",
       "      <td>2020-06-10</td>\n",
       "      <td>house</td>\n",
       "      <td>Nicholas</td>\n",
       "      <td>Taylor</td>\n",
       "      <td>Republican</td>\n",
       "      <td>1972-08-01</td>\n",
       "      <td>M</td>\n",
       "      <td>TX03</td>\n",
       "    </tr>\n",
       "    <tr>\n",
       "      <th>14854</th>\n",
       "      <td>2020-03-13</td>\n",
       "      <td>DIS</td>\n",
       "      <td>Walt Disney Company</td>\n",
       "      <td>sale_full</td>\n",
       "      <td>500000</td>\n",
       "      <td>Nicholas Van Taylor</td>\n",
       "      <td>2020-06-10</td>\n",
       "      <td>house</td>\n",
       "      <td>Nicholas</td>\n",
       "      <td>Taylor</td>\n",
       "      <td>Republican</td>\n",
       "      <td>1972-08-01</td>\n",
       "      <td>M</td>\n",
       "      <td>TX03</td>\n",
       "    </tr>\n",
       "  </tbody>\n",
       "</table>\n",
       "</div>"
      ],
      "text/plain": [
       "      transaction_date ticker             asset_description          type  \\\n",
       "14850       2020-04-09    SWK  Stanley Black & Decker, Inc.  sale_partial   \n",
       "14851       2020-04-09    USB                  U.S. Bancorp  sale_partial   \n",
       "14852       2020-03-13    BMY  Bristol-Myers Squibb Company     sale_full   \n",
       "14853       2020-03-13    LLY         Eli Lilly and Company     sale_full   \n",
       "14854       2020-03-13    DIS           Walt Disney Company     sale_full   \n",
       "\n",
       "        amount                 name disclosure_date chamber first_name  \\\n",
       "14850    15000        Ed Perlmutter      2020-06-10   house         Ed   \n",
       "14851    15000        Ed Perlmutter      2020-06-10   house         Ed   \n",
       "14852   250000  Nicholas Van Taylor      2020-06-10   house   Nicholas   \n",
       "14853  1000000  Nicholas Van Taylor      2020-06-10   house   Nicholas   \n",
       "14854   500000  Nicholas Van Taylor      2020-06-10   house   Nicholas   \n",
       "\n",
       "        last_name       party   birthday gender represents  \n",
       "14850  Perlmutter    Democrat 1953-05-01      M       CO07  \n",
       "14851  Perlmutter    Democrat 1953-05-01      M       CO07  \n",
       "14852      Taylor  Republican 1972-08-01      M       TX03  \n",
       "14853      Taylor  Republican 1972-08-01      M       TX03  \n",
       "14854      Taylor  Republican 1972-08-01      M       TX03  "
      ]
     },
     "execution_count": 133,
     "metadata": {},
     "output_type": "execute_result"
    }
   ],
   "source": [
    "all_reps.tail()"
   ]
  },
  {
   "cell_type": "code",
   "execution_count": 134,
   "id": "bbc5b042-8007-4f5a-854c-dfe66f263a93",
   "metadata": {},
   "outputs": [
    {
     "data": {
      "text/html": [
       "<div>\n",
       "<style scoped>\n",
       "    .dataframe tbody tr th:only-of-type {\n",
       "        vertical-align: middle;\n",
       "    }\n",
       "\n",
       "    .dataframe tbody tr th {\n",
       "        vertical-align: top;\n",
       "    }\n",
       "\n",
       "    .dataframe thead th {\n",
       "        text-align: right;\n",
       "    }\n",
       "</style>\n",
       "<table border=\"1\" class=\"dataframe\">\n",
       "  <thead>\n",
       "    <tr style=\"text-align: right;\">\n",
       "      <th></th>\n",
       "      <th>transaction_date</th>\n",
       "      <th>ticker</th>\n",
       "      <th>asset_description</th>\n",
       "      <th>type</th>\n",
       "      <th>amount</th>\n",
       "      <th>name</th>\n",
       "      <th>disclosure_date</th>\n",
       "      <th>chamber</th>\n",
       "      <th>first_name</th>\n",
       "      <th>last_name</th>\n",
       "      <th>party</th>\n",
       "      <th>birthday</th>\n",
       "      <th>gender</th>\n",
       "      <th>represents</th>\n",
       "    </tr>\n",
       "  </thead>\n",
       "  <tbody>\n",
       "    <tr>\n",
       "      <th>0</th>\n",
       "      <td>2022-06-03</td>\n",
       "      <td>WFC</td>\n",
       "      <td>Wells Fargo Company</td>\n",
       "      <td>purchase</td>\n",
       "      <td>15000</td>\n",
       "      <td>A. Mitchell Mcconnell</td>\n",
       "      <td>2022-06-13</td>\n",
       "      <td>senate</td>\n",
       "      <td>Mitchell</td>\n",
       "      <td>McConnell</td>\n",
       "      <td>Republican</td>\n",
       "      <td>1942-02-20</td>\n",
       "      <td>M</td>\n",
       "      <td>KY</td>\n",
       "    </tr>\n",
       "    <tr>\n",
       "      <th>1</th>\n",
       "      <td>2022-05-31</td>\n",
       "      <td>X</td>\n",
       "      <td>United States Steel Corporation &lt;div class=\"text-muted\"&gt;Option Type: Put &lt;br&gt;&lt;em&gt;Strike price:&lt;/em&gt; $23.00 &lt;br&gt; &lt;em&gt;Expires:&lt;/em&gt; 01/20/2023 &lt;/div&gt;</td>\n",
       "      <td>sale_partial</td>\n",
       "      <td>50000</td>\n",
       "      <td>Thomas H Tuberville</td>\n",
       "      <td>2022-06-13</td>\n",
       "      <td>senate</td>\n",
       "      <td>Thomas</td>\n",
       "      <td>Tuberville</td>\n",
       "      <td>Republican</td>\n",
       "      <td>1954-09-18</td>\n",
       "      <td>M</td>\n",
       "      <td>AL</td>\n",
       "    </tr>\n",
       "    <tr>\n",
       "      <th>2</th>\n",
       "      <td>2022-05-31</td>\n",
       "      <td>X</td>\n",
       "      <td>United States Steel Corporation &lt;div class=\"text-muted\"&gt;Option Type: Call &lt;br&gt;&lt;em&gt;Strike price:&lt;/em&gt; $30.00 &lt;br&gt; &lt;em&gt;Expires:&lt;/em&gt; 01/20/2023 &lt;/div&gt;</td>\n",
       "      <td>sale_full</td>\n",
       "      <td>50000</td>\n",
       "      <td>Thomas H Tuberville</td>\n",
       "      <td>2022-06-13</td>\n",
       "      <td>senate</td>\n",
       "      <td>Thomas</td>\n",
       "      <td>Tuberville</td>\n",
       "      <td>Republican</td>\n",
       "      <td>1954-09-18</td>\n",
       "      <td>M</td>\n",
       "      <td>AL</td>\n",
       "    </tr>\n",
       "    <tr>\n",
       "      <th>3</th>\n",
       "      <td>2022-05-31</td>\n",
       "      <td>X</td>\n",
       "      <td>United States Steel Corporation</td>\n",
       "      <td>purchase</td>\n",
       "      <td>250000</td>\n",
       "      <td>Thomas H Tuberville</td>\n",
       "      <td>2022-06-13</td>\n",
       "      <td>senate</td>\n",
       "      <td>Thomas</td>\n",
       "      <td>Tuberville</td>\n",
       "      <td>Republican</td>\n",
       "      <td>1954-09-18</td>\n",
       "      <td>M</td>\n",
       "      <td>AL</td>\n",
       "    </tr>\n",
       "    <tr>\n",
       "      <th>4</th>\n",
       "      <td>2022-05-20</td>\n",
       "      <td>PYPL</td>\n",
       "      <td>PayPal Holdings, Inc. -</td>\n",
       "      <td>purchase</td>\n",
       "      <td>100000</td>\n",
       "      <td>Thomas H Tuberville</td>\n",
       "      <td>2022-06-13</td>\n",
       "      <td>senate</td>\n",
       "      <td>Thomas</td>\n",
       "      <td>Tuberville</td>\n",
       "      <td>Republican</td>\n",
       "      <td>1954-09-18</td>\n",
       "      <td>M</td>\n",
       "      <td>AL</td>\n",
       "    </tr>\n",
       "  </tbody>\n",
       "</table>\n",
       "</div>"
      ],
      "text/plain": [
       "  transaction_date ticker  \\\n",
       "0       2022-06-03    WFC   \n",
       "1       2022-05-31      X   \n",
       "2       2022-05-31      X   \n",
       "3       2022-05-31      X   \n",
       "4       2022-05-20   PYPL   \n",
       "\n",
       "                                                                                                                                      asset_description  \\\n",
       "0                                                                                                                                   Wells Fargo Company   \n",
       "1   United States Steel Corporation <div class=\"text-muted\">Option Type: Put <br><em>Strike price:</em> $23.00 <br> <em>Expires:</em> 01/20/2023 </div>   \n",
       "2  United States Steel Corporation <div class=\"text-muted\">Option Type: Call <br><em>Strike price:</em> $30.00 <br> <em>Expires:</em> 01/20/2023 </div>   \n",
       "3                                                                                                                       United States Steel Corporation   \n",
       "4                                                                                                                               PayPal Holdings, Inc. -   \n",
       "\n",
       "           type  amount                   name disclosure_date chamber  \\\n",
       "0      purchase   15000  A. Mitchell Mcconnell      2022-06-13  senate   \n",
       "1  sale_partial   50000    Thomas H Tuberville      2022-06-13  senate   \n",
       "2     sale_full   50000    Thomas H Tuberville      2022-06-13  senate   \n",
       "3      purchase  250000    Thomas H Tuberville      2022-06-13  senate   \n",
       "4      purchase  100000    Thomas H Tuberville      2022-06-13  senate   \n",
       "\n",
       "  first_name   last_name       party   birthday gender represents  \n",
       "0   Mitchell   McConnell  Republican 1942-02-20      M         KY  \n",
       "1     Thomas  Tuberville  Republican 1954-09-18      M         AL  \n",
       "2     Thomas  Tuberville  Republican 1954-09-18      M         AL  \n",
       "3     Thomas  Tuberville  Republican 1954-09-18      M         AL  \n",
       "4     Thomas  Tuberville  Republican 1954-09-18      M         AL  "
      ]
     },
     "execution_count": 134,
     "metadata": {},
     "output_type": "execute_result"
    }
   ],
   "source": [
    "all_reps.reset_index(drop = True, inplace = True)\n",
    "all_reps.head()"
   ]
  },
  {
   "cell_type": "code",
   "execution_count": 135,
   "id": "d677cb53-82d8-488f-b154-2247a5506a16",
   "metadata": {},
   "outputs": [
    {
     "data": {
      "text/plain": [
       "(21047, 14)"
      ]
     },
     "execution_count": 135,
     "metadata": {},
     "output_type": "execute_result"
    }
   ],
   "source": [
    "all_reps.shape"
   ]
  },
  {
   "cell_type": "code",
   "execution_count": 136,
   "id": "4fb4a89f-2cdd-492d-9342-f325f7c2ec62",
   "metadata": {},
   "outputs": [
    {
     "data": {
      "text/plain": [
       "transaction_date     datetime64[ns]\n",
       "ticker                       object\n",
       "asset_description            object\n",
       "type                         object\n",
       "amount                        int64\n",
       "name                         object\n",
       "disclosure_date      datetime64[ns]\n",
       "chamber                      object\n",
       "first_name                   object\n",
       "last_name                    object\n",
       "party                        object\n",
       "birthday             datetime64[ns]\n",
       "gender                       object\n",
       "represents                   object\n",
       "dtype: object"
      ]
     },
     "execution_count": 136,
     "metadata": {},
     "output_type": "execute_result"
    }
   ],
   "source": [
    "all_reps.dtypes"
   ]
  },
  {
   "cell_type": "code",
   "execution_count": 137,
   "id": "ebc65221-f315-4670-b13d-981dbe8a8e01",
   "metadata": {},
   "outputs": [],
   "source": [
    "all_reps.to_csv('data/cleaned_complete_congress_data.csv', index = False)"
   ]
  },
  {
   "cell_type": "code",
   "execution_count": 138,
   "id": "c30648fb-2d9c-439e-b9db-a51e9b6bff0c",
   "metadata": {},
   "outputs": [],
   "source": [
    "tickers.to_csv('data/ticker_symbols.csv', index = False)"
   ]
  },
  {
   "cell_type": "code",
   "execution_count": 139,
   "id": "84247124-2065-4d58-9b28-dd5e9f38aba2",
   "metadata": {},
   "outputs": [],
   "source": [
    "legislators.to_csv('data/relevant_legislators.csv', index = False)"
   ]
  }
 ],
 "metadata": {
  "kernelspec": {
   "display_name": "Python 3 (ipykernel)",
   "language": "python",
   "name": "python3"
  },
  "language_info": {
   "codemirror_mode": {
    "name": "ipython",
    "version": 3
   },
   "file_extension": ".py",
   "mimetype": "text/x-python",
   "name": "python",
   "nbconvert_exporter": "python",
   "pygments_lexer": "ipython3",
   "version": "3.9.12"
  },
  "vscode": {
   "interpreter": {
    "hash": "31f2aee4e71d21fbe5cf8b01ff0e069b9275f58929596ceb00d14d90e3e16cd6"
   }
  }
 },
 "nbformat": 4,
 "nbformat_minor": 5
}
