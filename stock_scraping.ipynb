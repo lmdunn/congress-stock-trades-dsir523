{
 "cells": [
  {
   "cell_type": "code",
   "execution_count": 110,
   "id": "a0f623a5-7d39-4c97-871a-af5c753738d2",
   "metadata": {},
   "outputs": [],
   "source": [
    "import pandas as pd\n",
    "import requests as req\n",
    "import sys\n",
    "import time\n",
    "sys.path.insert(0, '../../../../../ga/')\n",
    "from api_keys import av_api_key"
   ]
  },
  {
   "cell_type": "code",
   "execution_count": 111,
   "id": "83d9ba4c-10b2-4d9a-9a6c-5cb21d7aa376",
   "metadata": {},
   "outputs": [],
   "source": [
    "#h_data = pd.read_csv('insert house data rel. path')\n",
    "#s_data = pd.read_csv('insert senate data rel. path')\n",
    "\n",
    "def pull_all_stocks(df):\n",
    "    stock_dict = {}\n",
    "    for ticker in list(df['ticker'].unique()):\n",
    "        json = req.get(url = \"https://www.alphavantage.co/query\",\n",
    "                  params = {\n",
    "                      'function': 'TIME_SERIES_DAILY',\n",
    "                      'outputsize': 'full',\n",
    "                      'symbol': ticker,\n",
    "                      'apikey':av_api_key\n",
    "                  }).json()\n",
    "        ticker_df = pd.DataFrame(json['Time Series (Daily)']).T\n",
    "        ticker_df.rename(columns = {'1. open': 'open',\n",
    "                                 '2. high': 'high',\n",
    "                                 '3. low': 'low',\n",
    "                                 '4. close': 'close',\n",
    "                                 '5. volume': 'volume'}, inplace = True)\n",
    "        if ticker_df.shape[0] > 2500:\n",
    "            ticker_df = ticker_df.iloc[range(2500)] #Data beyond 2012 is unnecessary, this helps reduce file size\n",
    "        stock_dict[f'{ticker}'] = ticker_df\n",
    "        time.sleep(2) #Might need to be changed for long list of tickers\n",
    "    return stock_dict\n",
    "\n",
    "#h_stocks = pull_all_stocks(h_data)\n",
    "#s_stocks = pull_all_stocks(s_data)"
   ]
  },
  {
   "cell_type": "code",
   "execution_count": null,
   "id": "b51e224f-cb07-494e-855f-f65bb9cae458",
   "metadata": {},
   "outputs": [],
   "source": []
  }
 ],
 "metadata": {
  "kernelspec": {
   "display_name": "Python [conda env:dsi] *",
   "language": "python",
   "name": "conda-env-dsi-py"
  },
  "language_info": {
   "codemirror_mode": {
    "name": "ipython",
    "version": 3
   },
   "file_extension": ".py",
   "mimetype": "text/x-python",
   "name": "python",
   "nbconvert_exporter": "python",
   "pygments_lexer": "ipython3",
   "version": "3.9.12"
  }
 },
 "nbformat": 4,
 "nbformat_minor": 5
}
