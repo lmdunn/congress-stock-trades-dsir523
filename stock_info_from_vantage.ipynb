{
 "cells": [
  {
   "cell_type": "code",
   "execution_count": 1,
   "id": "a0f623a5-7d39-4c97-871a-af5c753738d2",
   "metadata": {},
   "outputs": [],
   "source": [
    "import pandas as pd\n",
    "import requests\n",
    "import sys\n",
    "sys.path.insert(0, '../../API_Keys/')\n",
    "from vantage_api import alpha_vantage_key"
   ]
  },
  {
   "cell_type": "markdown",
   "id": "320e88f5-3305-4130-9e43-0c3b63b9ddb6",
   "metadata": {},
   "source": [
    "Used [this site](https://www.geeksforgeeks.org/python-import-module-from-different-directory/) to understand how to import a file from another folder to get API keys.\n",
    "\n",
    "We referenced Lesson 5.01 APIs to help with the following."
   ]
  },
  {
   "cell_type": "code",
   "execution_count": 6,
   "id": "e0a115c0-8c73-4075-b9ef-53d6f7b38745",
   "metadata": {},
   "outputs": [
    {
     "name": "stdout",
     "output_type": "stream",
     "text": [
      "200\n"
     ]
    },
    {
     "data": {
      "text/html": [
       "<div>\n",
       "<style scoped>\n",
       "    .dataframe tbody tr th:only-of-type {\n",
       "        vertical-align: middle;\n",
       "    }\n",
       "\n",
       "    .dataframe tbody tr th {\n",
       "        vertical-align: top;\n",
       "    }\n",
       "\n",
       "    .dataframe thead th {\n",
       "        text-align: right;\n",
       "    }\n",
       "</style>\n",
       "<table border=\"1\" class=\"dataframe\">\n",
       "  <thead>\n",
       "    <tr style=\"text-align: right;\">\n",
       "      <th></th>\n",
       "      <th>1. Information</th>\n",
       "      <th>2. Symbol</th>\n",
       "      <th>3. Last Refreshed</th>\n",
       "      <th>4. Output Size</th>\n",
       "      <th>5. Time Zone</th>\n",
       "      <th>2022-07-12</th>\n",
       "      <th>2022-07-11</th>\n",
       "      <th>2022-07-08</th>\n",
       "      <th>2022-07-07</th>\n",
       "      <th>2022-07-06</th>\n",
       "      <th>...</th>\n",
       "      <th>1999-11-12</th>\n",
       "      <th>1999-11-11</th>\n",
       "      <th>1999-11-10</th>\n",
       "      <th>1999-11-09</th>\n",
       "      <th>1999-11-08</th>\n",
       "      <th>1999-11-05</th>\n",
       "      <th>1999-11-04</th>\n",
       "      <th>1999-11-03</th>\n",
       "      <th>1999-11-02</th>\n",
       "      <th>1999-11-01</th>\n",
       "    </tr>\n",
       "  </thead>\n",
       "  <tbody>\n",
       "    <tr>\n",
       "      <th>Meta Data</th>\n",
       "      <td>Daily Prices (open, high, low, close) and Volumes</td>\n",
       "      <td>BP</td>\n",
       "      <td>2022-07-12 16:00:01</td>\n",
       "      <td>Full size</td>\n",
       "      <td>US/Eastern</td>\n",
       "      <td>NaN</td>\n",
       "      <td>NaN</td>\n",
       "      <td>NaN</td>\n",
       "      <td>NaN</td>\n",
       "      <td>NaN</td>\n",
       "      <td>...</td>\n",
       "      <td>NaN</td>\n",
       "      <td>NaN</td>\n",
       "      <td>NaN</td>\n",
       "      <td>NaN</td>\n",
       "      <td>NaN</td>\n",
       "      <td>NaN</td>\n",
       "      <td>NaN</td>\n",
       "      <td>NaN</td>\n",
       "      <td>NaN</td>\n",
       "      <td>NaN</td>\n",
       "    </tr>\n",
       "    <tr>\n",
       "      <th>Time Series (Daily)</th>\n",
       "      <td>NaN</td>\n",
       "      <td>NaN</td>\n",
       "      <td>NaN</td>\n",
       "      <td>NaN</td>\n",
       "      <td>NaN</td>\n",
       "      <td>{'1. open': '26.7100', '2. high': '27.0200', '...</td>\n",
       "      <td>{'1. open': '27.4500', '2. high': '27.5900', '...</td>\n",
       "      <td>{'1. open': '28.3500', '2. high': '28.4600', '...</td>\n",
       "      <td>{'1. open': '27.9400', '2. high': '28.0900', '...</td>\n",
       "      <td>{'1. open': '26.8700', '2. high': '27.1800', '...</td>\n",
       "      <td>...</td>\n",
       "      <td>{'1. open': '58.6200', '2. high': '59.8800', '...</td>\n",
       "      <td>{'1. open': '59.4400', '2. high': '60.1900', '...</td>\n",
       "      <td>{'1. open': '58.5000', '2. high': '59.2500', '...</td>\n",
       "      <td>{'1. open': '57.6200', '2. high': '58.4400', '...</td>\n",
       "      <td>{'1. open': '54.6200', '2. high': '55.8800', '...</td>\n",
       "      <td>{'1. open': '53.8100', '2. high': '53.9400', '...</td>\n",
       "      <td>{'1. open': '55.2500', '2. high': '55.3100', '...</td>\n",
       "      <td>{'1. open': '55.2500', '2. high': '55.3100', '...</td>\n",
       "      <td>{'1. open': '56.4400', '2. high': '56.6200', '...</td>\n",
       "      <td>{'1. open': '57.5000', '2. high': '57.6200', '...</td>\n",
       "    </tr>\n",
       "  </tbody>\n",
       "</table>\n",
       "<p>2 rows × 5715 columns</p>\n",
       "</div>"
      ],
      "text/plain": [
       "                                                        1. Information  \\\n",
       "Meta Data            Daily Prices (open, high, low, close) and Volumes   \n",
       "Time Series (Daily)                                                NaN   \n",
       "\n",
       "                    2. Symbol    3. Last Refreshed 4. Output Size  \\\n",
       "Meta Data                  BP  2022-07-12 16:00:01      Full size   \n",
       "Time Series (Daily)       NaN                  NaN            NaN   \n",
       "\n",
       "                    5. Time Zone  \\\n",
       "Meta Data             US/Eastern   \n",
       "Time Series (Daily)          NaN   \n",
       "\n",
       "                                                            2022-07-12  \\\n",
       "Meta Data                                                          NaN   \n",
       "Time Series (Daily)  {'1. open': '26.7100', '2. high': '27.0200', '...   \n",
       "\n",
       "                                                            2022-07-11  \\\n",
       "Meta Data                                                          NaN   \n",
       "Time Series (Daily)  {'1. open': '27.4500', '2. high': '27.5900', '...   \n",
       "\n",
       "                                                            2022-07-08  \\\n",
       "Meta Data                                                          NaN   \n",
       "Time Series (Daily)  {'1. open': '28.3500', '2. high': '28.4600', '...   \n",
       "\n",
       "                                                            2022-07-07  \\\n",
       "Meta Data                                                          NaN   \n",
       "Time Series (Daily)  {'1. open': '27.9400', '2. high': '28.0900', '...   \n",
       "\n",
       "                                                            2022-07-06  ...  \\\n",
       "Meta Data                                                          NaN  ...   \n",
       "Time Series (Daily)  {'1. open': '26.8700', '2. high': '27.1800', '...  ...   \n",
       "\n",
       "                                                            1999-11-12  \\\n",
       "Meta Data                                                          NaN   \n",
       "Time Series (Daily)  {'1. open': '58.6200', '2. high': '59.8800', '...   \n",
       "\n",
       "                                                            1999-11-11  \\\n",
       "Meta Data                                                          NaN   \n",
       "Time Series (Daily)  {'1. open': '59.4400', '2. high': '60.1900', '...   \n",
       "\n",
       "                                                            1999-11-10  \\\n",
       "Meta Data                                                          NaN   \n",
       "Time Series (Daily)  {'1. open': '58.5000', '2. high': '59.2500', '...   \n",
       "\n",
       "                                                            1999-11-09  \\\n",
       "Meta Data                                                          NaN   \n",
       "Time Series (Daily)  {'1. open': '57.6200', '2. high': '58.4400', '...   \n",
       "\n",
       "                                                            1999-11-08  \\\n",
       "Meta Data                                                          NaN   \n",
       "Time Series (Daily)  {'1. open': '54.6200', '2. high': '55.8800', '...   \n",
       "\n",
       "                                                            1999-11-05  \\\n",
       "Meta Data                                                          NaN   \n",
       "Time Series (Daily)  {'1. open': '53.8100', '2. high': '53.9400', '...   \n",
       "\n",
       "                                                            1999-11-04  \\\n",
       "Meta Data                                                          NaN   \n",
       "Time Series (Daily)  {'1. open': '55.2500', '2. high': '55.3100', '...   \n",
       "\n",
       "                                                            1999-11-03  \\\n",
       "Meta Data                                                          NaN   \n",
       "Time Series (Daily)  {'1. open': '55.2500', '2. high': '55.3100', '...   \n",
       "\n",
       "                                                            1999-11-02  \\\n",
       "Meta Data                                                          NaN   \n",
       "Time Series (Daily)  {'1. open': '56.4400', '2. high': '56.6200', '...   \n",
       "\n",
       "                                                            1999-11-01  \n",
       "Meta Data                                                          NaN  \n",
       "Time Series (Daily)  {'1. open': '57.5000', '2. high': '57.6200', '...  \n",
       "\n",
       "[2 rows x 5715 columns]"
      ]
     },
     "execution_count": 6,
     "metadata": {},
     "output_type": "execute_result"
    }
   ],
   "source": [
    "base_url = \"https://www.alphavantage.co/query\"\n",
    "\n",
    "res = requests.get(url = base_url,\n",
    "                  params = {\n",
    "                      'function': 'TIME_SERIES_DAILY',\n",
    "                      'outputsize': 'full',\n",
    "                      'symbol': 'BP',\n",
    "                      'apikey':alpha_vantage_key\n",
    "                  })\n",
    "\n",
    "print(res.status_code)\n",
    "\n",
    "json = res.json()\n",
    "\n",
    "bp = pd.DataFrame(json).T\n",
    "\n",
    "bp.head()"
   ]
  },
  {
   "cell_type": "code",
   "execution_count": 13,
   "id": "a00c6788-096d-49fb-919c-4231de795e7f",
   "metadata": {},
   "outputs": [
    {
     "data": {
      "text/html": [
       "<div>\n",
       "<style scoped>\n",
       "    .dataframe tbody tr th:only-of-type {\n",
       "        vertical-align: middle;\n",
       "    }\n",
       "\n",
       "    .dataframe tbody tr th {\n",
       "        vertical-align: top;\n",
       "    }\n",
       "\n",
       "    .dataframe thead th {\n",
       "        text-align: right;\n",
       "    }\n",
       "</style>\n",
       "<table border=\"1\" class=\"dataframe\">\n",
       "  <thead>\n",
       "    <tr style=\"text-align: right;\">\n",
       "      <th></th>\n",
       "      <th>1. open</th>\n",
       "      <th>2. high</th>\n",
       "      <th>3. low</th>\n",
       "      <th>4. close</th>\n",
       "      <th>5. volume</th>\n",
       "    </tr>\n",
       "  </thead>\n",
       "  <tbody>\n",
       "    <tr>\n",
       "      <th>2022-07-12</th>\n",
       "      <td>26.7100</td>\n",
       "      <td>27.0200</td>\n",
       "      <td>26.5600</td>\n",
       "      <td>26.8800</td>\n",
       "      <td>12328331</td>\n",
       "    </tr>\n",
       "    <tr>\n",
       "      <th>2022-07-11</th>\n",
       "      <td>27.4500</td>\n",
       "      <td>27.5900</td>\n",
       "      <td>27.0900</td>\n",
       "      <td>27.4600</td>\n",
       "      <td>10141434</td>\n",
       "    </tr>\n",
       "    <tr>\n",
       "      <th>2022-07-08</th>\n",
       "      <td>28.3500</td>\n",
       "      <td>28.4600</td>\n",
       "      <td>27.6350</td>\n",
       "      <td>27.8400</td>\n",
       "      <td>11371988</td>\n",
       "    </tr>\n",
       "    <tr>\n",
       "      <th>2022-07-07</th>\n",
       "      <td>27.9400</td>\n",
       "      <td>28.0900</td>\n",
       "      <td>27.6100</td>\n",
       "      <td>27.7800</td>\n",
       "      <td>16520525</td>\n",
       "    </tr>\n",
       "    <tr>\n",
       "      <th>2022-07-06</th>\n",
       "      <td>26.8700</td>\n",
       "      <td>27.1800</td>\n",
       "      <td>26.0300</td>\n",
       "      <td>26.7200</td>\n",
       "      <td>13916874</td>\n",
       "    </tr>\n",
       "  </tbody>\n",
       "</table>\n",
       "</div>"
      ],
      "text/plain": [
       "            1. open  2. high   3. low 4. close 5. volume\n",
       "2022-07-12  26.7100  27.0200  26.5600  26.8800  12328331\n",
       "2022-07-11  27.4500  27.5900  27.0900  27.4600  10141434\n",
       "2022-07-08  28.3500  28.4600  27.6350  27.8400  11371988\n",
       "2022-07-07  27.9400  28.0900  27.6100  27.7800  16520525\n",
       "2022-07-06  26.8700  27.1800  26.0300  26.7200  13916874"
      ]
     },
     "execution_count": 13,
     "metadata": {},
     "output_type": "execute_result"
    }
   ],
   "source": [
    "bp_time_series = pd.DataFrame(json['Time Series (Daily)']).T\n",
    "bp_time_series.head()"
   ]
  },
  {
   "cell_type": "code",
   "execution_count": 8,
   "id": "05260e98-a3a0-482d-80c5-a4cfac74507d",
   "metadata": {},
   "outputs": [
    {
     "data": {
      "text/plain": [
       "dict"
      ]
     },
     "execution_count": 8,
     "metadata": {},
     "output_type": "execute_result"
    }
   ],
   "source": [
    "type(json)"
   ]
  },
  {
   "cell_type": "code",
   "execution_count": 45,
   "id": "4b1e23a9-934d-48e6-b525-b2ed750f93a2",
   "metadata": {},
   "outputs": [
    {
     "data": {
      "text/html": [
       "<div>\n",
       "<style scoped>\n",
       "    .dataframe tbody tr th:only-of-type {\n",
       "        vertical-align: middle;\n",
       "    }\n",
       "\n",
       "    .dataframe tbody tr th {\n",
       "        vertical-align: top;\n",
       "    }\n",
       "\n",
       "    .dataframe thead th {\n",
       "        text-align: right;\n",
       "    }\n",
       "</style>\n",
       "<table border=\"1\" class=\"dataframe\">\n",
       "  <thead>\n",
       "    <tr style=\"text-align: right;\">\n",
       "      <th></th>\n",
       "      <th>ticker</th>\n",
       "      <th>daily_time_series</th>\n",
       "    </tr>\n",
       "  </thead>\n",
       "  <tbody>\n",
       "  </tbody>\n",
       "</table>\n",
       "</div>"
      ],
      "text/plain": [
       "Empty DataFrame\n",
       "Columns: [ticker, daily_time_series]\n",
       "Index: []"
      ]
     },
     "execution_count": 45,
     "metadata": {},
     "output_type": "execute_result"
    }
   ],
   "source": [
    "time_series_df = pd.DataFrame(columns = ['ticker','daily_time_series'])\n",
    "time_series_df.head()"
   ]
  },
  {
   "cell_type": "code",
   "execution_count": 46,
   "id": "c7ebe0e1-1f84-4d0d-b6dd-876cbc794ae1",
   "metadata": {},
   "outputs": [],
   "source": [
    "time_series_df.set_index('ticker', inplace = True)"
   ]
  },
  {
   "cell_type": "markdown",
   "id": "1c87aaf6-807a-4f69-8850-a34157e5f78a",
   "metadata": {},
   "source": [
    "[This stack overflow answer](https://stackoverflow.com/a/46621777) helped us figure out how to start fleshing out the dataframe with the data we want."
   ]
  },
  {
   "cell_type": "code",
   "execution_count": 47,
   "id": "3d469b06-f01c-4243-8ea8-1fb8bacec3fb",
   "metadata": {},
   "outputs": [
    {
     "data": {
      "text/html": [
       "<div>\n",
       "<style scoped>\n",
       "    .dataframe tbody tr th:only-of-type {\n",
       "        vertical-align: middle;\n",
       "    }\n",
       "\n",
       "    .dataframe tbody tr th {\n",
       "        vertical-align: top;\n",
       "    }\n",
       "\n",
       "    .dataframe thead th {\n",
       "        text-align: right;\n",
       "    }\n",
       "</style>\n",
       "<table border=\"1\" class=\"dataframe\">\n",
       "  <thead>\n",
       "    <tr style=\"text-align: right;\">\n",
       "      <th></th>\n",
       "      <th>daily_time_series</th>\n",
       "    </tr>\n",
       "    <tr>\n",
       "      <th>ticker</th>\n",
       "      <th></th>\n",
       "    </tr>\n",
       "  </thead>\n",
       "  <tbody>\n",
       "    <tr>\n",
       "      <th>bp</th>\n",
       "      <td>{'2022-07-12': {'1. open': '26.7100', '2. high...</td>\n",
       "    </tr>\n",
       "  </tbody>\n",
       "</table>\n",
       "</div>"
      ],
      "text/plain": [
       "                                        daily_time_series\n",
       "ticker                                                   \n",
       "bp      {'2022-07-12': {'1. open': '26.7100', '2. high..."
      ]
     },
     "execution_count": 47,
     "metadata": {},
     "output_type": "execute_result"
    }
   ],
   "source": [
    "time_series_df.loc['bp', ['daily_time_series']] = [json['Time Series (Daily)']]\n",
    "time_series_df.head()"
   ]
  }
 ],
 "metadata": {
  "kernelspec": {
   "display_name": "Python [conda env:dsi]",
   "language": "python",
   "name": "conda-env-dsi-py"
  },
  "language_info": {
   "codemirror_mode": {
    "name": "ipython",
    "version": 3
   },
   "file_extension": ".py",
   "mimetype": "text/x-python",
   "name": "python",
   "nbconvert_exporter": "python",
   "pygments_lexer": "ipython3",
   "version": "3.9.12"
  }
 },
 "nbformat": 4,
 "nbformat_minor": 5
}
