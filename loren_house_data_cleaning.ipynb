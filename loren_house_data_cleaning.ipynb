{
 "cells": [
  {
   "cell_type": "code",
   "execution_count": 1,
   "id": "8b500dc3-9d63-4396-94d7-63a1d5a013d6",
   "metadata": {},
   "outputs": [],
   "source": [
    "import pandas as pd"
   ]
  },
  {
   "cell_type": "code",
   "execution_count": 340,
   "id": "38b2b329-75ea-4583-ac30-a81aae6ccb39",
   "metadata": {},
   "outputs": [
    {
     "data": {
      "text/html": [
       "<div>\n",
       "<style scoped>\n",
       "    .dataframe tbody tr th:only-of-type {\n",
       "        vertical-align: middle;\n",
       "    }\n",
       "\n",
       "    .dataframe tbody tr th {\n",
       "        vertical-align: top;\n",
       "    }\n",
       "\n",
       "    .dataframe thead th {\n",
       "        text-align: right;\n",
       "    }\n",
       "</style>\n",
       "<table border=\"1\" class=\"dataframe\">\n",
       "  <thead>\n",
       "    <tr style=\"text-align: right;\">\n",
       "      <th></th>\n",
       "      <th>disclosure_year</th>\n",
       "      <th>disclosure_date</th>\n",
       "      <th>transaction_date</th>\n",
       "      <th>owner</th>\n",
       "      <th>ticker</th>\n",
       "      <th>asset_description</th>\n",
       "      <th>type</th>\n",
       "      <th>amount</th>\n",
       "      <th>representative</th>\n",
       "      <th>district</th>\n",
       "      <th>ptr_link</th>\n",
       "      <th>cap_gains_over_200_usd</th>\n",
       "    </tr>\n",
       "  </thead>\n",
       "  <tbody>\n",
       "    <tr>\n",
       "      <th>0</th>\n",
       "      <td>2021</td>\n",
       "      <td>10/04/2021</td>\n",
       "      <td>2021-09-27</td>\n",
       "      <td>joint</td>\n",
       "      <td>BP</td>\n",
       "      <td>BP plc</td>\n",
       "      <td>purchase</td>\n",
       "      <td>$1,001 - $15,000</td>\n",
       "      <td>Hon. Virginia Foxx</td>\n",
       "      <td>NC05</td>\n",
       "      <td>https://disclosures-clerk.house.gov/public_dis...</td>\n",
       "      <td>False</td>\n",
       "    </tr>\n",
       "    <tr>\n",
       "      <th>1</th>\n",
       "      <td>2021</td>\n",
       "      <td>10/04/2021</td>\n",
       "      <td>2021-09-13</td>\n",
       "      <td>joint</td>\n",
       "      <td>XOM</td>\n",
       "      <td>Exxon Mobil Corporation</td>\n",
       "      <td>purchase</td>\n",
       "      <td>$1,001 - $15,000</td>\n",
       "      <td>Hon. Virginia Foxx</td>\n",
       "      <td>NC05</td>\n",
       "      <td>https://disclosures-clerk.house.gov/public_dis...</td>\n",
       "      <td>False</td>\n",
       "    </tr>\n",
       "    <tr>\n",
       "      <th>2</th>\n",
       "      <td>2021</td>\n",
       "      <td>10/04/2021</td>\n",
       "      <td>2021-09-10</td>\n",
       "      <td>joint</td>\n",
       "      <td>ILPT</td>\n",
       "      <td>Industrial Logistics Properties Trust - Common...</td>\n",
       "      <td>purchase</td>\n",
       "      <td>$15,001 - $50,000</td>\n",
       "      <td>Hon. Virginia Foxx</td>\n",
       "      <td>NC05</td>\n",
       "      <td>https://disclosures-clerk.house.gov/public_dis...</td>\n",
       "      <td>False</td>\n",
       "    </tr>\n",
       "    <tr>\n",
       "      <th>3</th>\n",
       "      <td>2021</td>\n",
       "      <td>10/04/2021</td>\n",
       "      <td>2021-09-28</td>\n",
       "      <td>joint</td>\n",
       "      <td>PM</td>\n",
       "      <td>Phillip Morris International Inc</td>\n",
       "      <td>purchase</td>\n",
       "      <td>$15,001 - $50,000</td>\n",
       "      <td>Hon. Virginia Foxx</td>\n",
       "      <td>NC05</td>\n",
       "      <td>https://disclosures-clerk.house.gov/public_dis...</td>\n",
       "      <td>False</td>\n",
       "    </tr>\n",
       "    <tr>\n",
       "      <th>4</th>\n",
       "      <td>2021</td>\n",
       "      <td>10/04/2021</td>\n",
       "      <td>2021-09-17</td>\n",
       "      <td>self</td>\n",
       "      <td>BLK</td>\n",
       "      <td>BlackRock Inc</td>\n",
       "      <td>sale_partial</td>\n",
       "      <td>$1,001 - $15,000</td>\n",
       "      <td>Hon. Alan S. Lowenthal</td>\n",
       "      <td>CA47</td>\n",
       "      <td>https://disclosures-clerk.house.gov/public_dis...</td>\n",
       "      <td>False</td>\n",
       "    </tr>\n",
       "  </tbody>\n",
       "</table>\n",
       "</div>"
      ],
      "text/plain": [
       "   disclosure_year disclosure_date transaction_date  owner ticker  \\\n",
       "0             2021      10/04/2021       2021-09-27  joint     BP   \n",
       "1             2021      10/04/2021       2021-09-13  joint    XOM   \n",
       "2             2021      10/04/2021       2021-09-10  joint   ILPT   \n",
       "3             2021      10/04/2021       2021-09-28  joint     PM   \n",
       "4             2021      10/04/2021       2021-09-17   self    BLK   \n",
       "\n",
       "                                   asset_description          type  \\\n",
       "0                                             BP plc      purchase   \n",
       "1                            Exxon Mobil Corporation      purchase   \n",
       "2  Industrial Logistics Properties Trust - Common...      purchase   \n",
       "3                   Phillip Morris International Inc      purchase   \n",
       "4                                      BlackRock Inc  sale_partial   \n",
       "\n",
       "              amount          representative district  \\\n",
       "0   $1,001 - $15,000      Hon. Virginia Foxx     NC05   \n",
       "1   $1,001 - $15,000      Hon. Virginia Foxx     NC05   \n",
       "2  $15,001 - $50,000      Hon. Virginia Foxx     NC05   \n",
       "3  $15,001 - $50,000      Hon. Virginia Foxx     NC05   \n",
       "4   $1,001 - $15,000  Hon. Alan S. Lowenthal     CA47   \n",
       "\n",
       "                                            ptr_link  cap_gains_over_200_usd  \n",
       "0  https://disclosures-clerk.house.gov/public_dis...                   False  \n",
       "1  https://disclosures-clerk.house.gov/public_dis...                   False  \n",
       "2  https://disclosures-clerk.house.gov/public_dis...                   False  \n",
       "3  https://disclosures-clerk.house.gov/public_dis...                   False  \n",
       "4  https://disclosures-clerk.house.gov/public_dis...                   False  "
      ]
     },
     "execution_count": 340,
     "metadata": {},
     "output_type": "execute_result"
    }
   ],
   "source": [
    "house = pd.read_csv(\"./loren_data/house_2022-07-15.csv\")\n",
    "house.head()"
   ]
  },
  {
   "cell_type": "code",
   "execution_count": 341,
   "id": "43dcb615-9e8c-4c6a-85fa-edbd2b159ac1",
   "metadata": {},
   "outputs": [
    {
     "data": {
      "text/plain": [
       "disclosure_year            int64\n",
       "disclosure_date           object\n",
       "transaction_date          object\n",
       "owner                     object\n",
       "ticker                    object\n",
       "asset_description         object\n",
       "type                      object\n",
       "amount                    object\n",
       "representative            object\n",
       "district                  object\n",
       "ptr_link                  object\n",
       "cap_gains_over_200_usd      bool\n",
       "dtype: object"
      ]
     },
     "execution_count": 341,
     "metadata": {},
     "output_type": "execute_result"
    }
   ],
   "source": [
    "house.dtypes"
   ]
  },
  {
   "cell_type": "code",
   "execution_count": 342,
   "id": "07891735-90b1-4a31-9a47-78b0a9e0abaf",
   "metadata": {},
   "outputs": [
    {
     "data": {
      "text/plain": [
       "disclosure_year              0\n",
       "disclosure_date              0\n",
       "transaction_date             0\n",
       "owner                     5614\n",
       "ticker                       0\n",
       "asset_description            4\n",
       "type                         0\n",
       "amount                       0\n",
       "representative               0\n",
       "district                     0\n",
       "ptr_link                     0\n",
       "cap_gains_over_200_usd       0\n",
       "dtype: int64"
      ]
     },
     "execution_count": 342,
     "metadata": {},
     "output_type": "execute_result"
    }
   ],
   "source": [
    "house.isnull().sum()"
   ]
  },
  {
   "cell_type": "code",
   "execution_count": 343,
   "id": "a01c12bc-d2f4-4285-ab0c-220a3d8947d6",
   "metadata": {},
   "outputs": [
    {
     "data": {
      "text/html": [
       "<div>\n",
       "<style scoped>\n",
       "    .dataframe tbody tr th:only-of-type {\n",
       "        vertical-align: middle;\n",
       "    }\n",
       "\n",
       "    .dataframe tbody tr th {\n",
       "        vertical-align: top;\n",
       "    }\n",
       "\n",
       "    .dataframe thead th {\n",
       "        text-align: right;\n",
       "    }\n",
       "</style>\n",
       "<table border=\"1\" class=\"dataframe\">\n",
       "  <thead>\n",
       "    <tr style=\"text-align: right;\">\n",
       "      <th></th>\n",
       "      <th>disclosure_year</th>\n",
       "      <th>disclosure_date</th>\n",
       "      <th>transaction_date</th>\n",
       "      <th>owner</th>\n",
       "      <th>ticker</th>\n",
       "      <th>asset_description</th>\n",
       "      <th>type</th>\n",
       "      <th>amount</th>\n",
       "      <th>representative</th>\n",
       "      <th>district</th>\n",
       "      <th>ptr_link</th>\n",
       "      <th>cap_gains_over_200_usd</th>\n",
       "    </tr>\n",
       "  </thead>\n",
       "  <tbody>\n",
       "    <tr>\n",
       "      <th>6</th>\n",
       "      <td>2021</td>\n",
       "      <td>12/01/2021</td>\n",
       "      <td>2021-11-30</td>\n",
       "      <td>NaN</td>\n",
       "      <td>KPLTW</td>\n",
       "      <td>Katapult Holdings Inc - Warrant</td>\n",
       "      <td>purchase</td>\n",
       "      <td>$1,001 - $15,000</td>\n",
       "      <td>Hon. Austin Scott</td>\n",
       "      <td>GA08</td>\n",
       "      <td>https://disclosures-clerk.house.gov/public_dis...</td>\n",
       "      <td>False</td>\n",
       "    </tr>\n",
       "    <tr>\n",
       "      <th>7</th>\n",
       "      <td>2021</td>\n",
       "      <td>12/01/2021</td>\n",
       "      <td>2021-11-18</td>\n",
       "      <td>NaN</td>\n",
       "      <td>AMD</td>\n",
       "      <td>Advanced Micro Devices Inc</td>\n",
       "      <td>sale_full</td>\n",
       "      <td>$50,001 - $100,000</td>\n",
       "      <td>Hon. Thomas Suozzi</td>\n",
       "      <td>NY03</td>\n",
       "      <td>https://disclosures-clerk.house.gov/public_dis...</td>\n",
       "      <td>False</td>\n",
       "    </tr>\n",
       "    <tr>\n",
       "      <th>8</th>\n",
       "      <td>2021</td>\n",
       "      <td>12/01/2021</td>\n",
       "      <td>2021-11-18</td>\n",
       "      <td>NaN</td>\n",
       "      <td>AAPL</td>\n",
       "      <td>Apple Inc</td>\n",
       "      <td>sale_full</td>\n",
       "      <td>$50,001 - $100,000</td>\n",
       "      <td>Hon. Thomas Suozzi</td>\n",
       "      <td>NY03</td>\n",
       "      <td>https://disclosures-clerk.house.gov/public_dis...</td>\n",
       "      <td>False</td>\n",
       "    </tr>\n",
       "    <tr>\n",
       "      <th>9</th>\n",
       "      <td>2021</td>\n",
       "      <td>12/01/2021</td>\n",
       "      <td>2021-11-24</td>\n",
       "      <td>NaN</td>\n",
       "      <td>MSFT</td>\n",
       "      <td>Microsoft Corporation</td>\n",
       "      <td>purchase</td>\n",
       "      <td>$50,001 - $100,000</td>\n",
       "      <td>Hon. Thomas Suozzi</td>\n",
       "      <td>NY03</td>\n",
       "      <td>https://disclosures-clerk.house.gov/public_dis...</td>\n",
       "      <td>False</td>\n",
       "    </tr>\n",
       "    <tr>\n",
       "      <th>10</th>\n",
       "      <td>2021</td>\n",
       "      <td>12/01/2021</td>\n",
       "      <td>2021-11-24</td>\n",
       "      <td>NaN</td>\n",
       "      <td>MS</td>\n",
       "      <td>Morgan Stanley</td>\n",
       "      <td>purchase</td>\n",
       "      <td>$100,001 - $250,000</td>\n",
       "      <td>Hon. Thomas Suozzi</td>\n",
       "      <td>NY03</td>\n",
       "      <td>https://disclosures-clerk.house.gov/public_dis...</td>\n",
       "      <td>False</td>\n",
       "    </tr>\n",
       "  </tbody>\n",
       "</table>\n",
       "</div>"
      ],
      "text/plain": [
       "    disclosure_year disclosure_date transaction_date owner ticker  \\\n",
       "6              2021      12/01/2021       2021-11-30   NaN  KPLTW   \n",
       "7              2021      12/01/2021       2021-11-18   NaN    AMD   \n",
       "8              2021      12/01/2021       2021-11-18   NaN   AAPL   \n",
       "9              2021      12/01/2021       2021-11-24   NaN   MSFT   \n",
       "10             2021      12/01/2021       2021-11-24   NaN     MS   \n",
       "\n",
       "                  asset_description       type               amount  \\\n",
       "6   Katapult Holdings Inc - Warrant   purchase     $1,001 - $15,000   \n",
       "7        Advanced Micro Devices Inc  sale_full   $50,001 - $100,000   \n",
       "8                         Apple Inc  sale_full   $50,001 - $100,000   \n",
       "9             Microsoft Corporation   purchase   $50,001 - $100,000   \n",
       "10                   Morgan Stanley   purchase  $100,001 - $250,000   \n",
       "\n",
       "        representative district  \\\n",
       "6    Hon. Austin Scott     GA08   \n",
       "7   Hon. Thomas Suozzi     NY03   \n",
       "8   Hon. Thomas Suozzi     NY03   \n",
       "9   Hon. Thomas Suozzi     NY03   \n",
       "10  Hon. Thomas Suozzi     NY03   \n",
       "\n",
       "                                             ptr_link  cap_gains_over_200_usd  \n",
       "6   https://disclosures-clerk.house.gov/public_dis...                   False  \n",
       "7   https://disclosures-clerk.house.gov/public_dis...                   False  \n",
       "8   https://disclosures-clerk.house.gov/public_dis...                   False  \n",
       "9   https://disclosures-clerk.house.gov/public_dis...                   False  \n",
       "10  https://disclosures-clerk.house.gov/public_dis...                   False  "
      ]
     },
     "execution_count": 343,
     "metadata": {},
     "output_type": "execute_result"
    }
   ],
   "source": [
    "house[house['owner'].isnull()].head()"
   ]
  },
  {
   "cell_type": "code",
   "execution_count": 344,
   "id": "13411617-bdfe-4677-a1d9-cfb8ef358f46",
   "metadata": {},
   "outputs": [
    {
     "data": {
      "text/plain": [
       "0.3779198922921575"
      ]
     },
     "execution_count": 344,
     "metadata": {},
     "output_type": "execute_result"
    }
   ],
   "source": [
    "percent_null = house.owner.isnull().sum()/len(house)\n",
    "percent_null"
   ]
  },
  {
   "cell_type": "code",
   "execution_count": 345,
   "id": "ef1ded55-b6fe-4887-a1ec-28a7d7e149a3",
   "metadata": {},
   "outputs": [
    {
     "data": {
      "text/plain": [
       "NaN          5614\n",
       "joint        4635\n",
       "self         2897\n",
       "--           1315\n",
       "dependent     394\n",
       "Name: owner, dtype: int64"
      ]
     },
     "execution_count": 345,
     "metadata": {},
     "output_type": "execute_result"
    }
   ],
   "source": [
    "house['owner'].value_counts(dropna = False)"
   ]
  },
  {
   "cell_type": "markdown",
   "id": "6774bc83-9357-4503-94dc-44d4eae19af9",
   "metadata": {},
   "source": [
    "We decided to drop the `'owner'` column because there were so many nulls and '--'. For our purposes, to see if congresspeople are taking advantage of insider trading, the distinction of who in the congressperson's family technically owns the equity is unimportant. It would be interesting to explore ownership, but there's just too many nulls."
   ]
  },
  {
   "cell_type": "code",
   "execution_count": 346,
   "id": "955137c1-5a95-462f-83f7-69130f06df07",
   "metadata": {},
   "outputs": [],
   "source": [
    "house.drop(columns = ['owner'], inplace = True)"
   ]
  },
  {
   "cell_type": "code",
   "execution_count": 347,
   "id": "ffc06285-e5a3-4a34-b2d2-a0472dbe28a5",
   "metadata": {},
   "outputs": [],
   "source": [
    "house['disclosure_date'] = pd.to_datetime(house['disclosure_date'], yearfirst=True)"
   ]
  },
  {
   "cell_type": "markdown",
   "id": "2fb47003-11c5-44bb-83fa-8410ad4cf35b",
   "metadata": {},
   "source": [
    "We discovered some wonky years in the transaction dates. Fortunately, it was highly likely the disclosure year was the year of the transaction, so we substituted that for the year"
   ]
  },
  {
   "cell_type": "markdown",
   "id": "f16401d1-9b3f-4c80-ba53-451a303cb5f3",
   "metadata": {},
   "source": [
    "This [stackoverflow answer](https://stackoverflow.com/a/56968849) helped to understand how to pull the first item from within the list."
   ]
  },
  {
   "cell_type": "code",
   "execution_count": 348,
   "id": "a64d494a-66a6-43c7-b4aa-51036c04a0ed",
   "metadata": {},
   "outputs": [],
   "source": [
    "house['transaction_date'] = house['transaction_date'].str.split('-')\n",
    "\n",
    "weird_years = house[(house['transaction_date'].str[0] != '2017') &\n",
    "      (house['transaction_date'].str[0] != '2018') &\n",
    "      (house['transaction_date'].str[0] != '2019') &\n",
    "      (house['transaction_date'].str[0] != '2020') &\n",
    "      (house['transaction_date'].str[0] != '2021') &\n",
    "      (house['transaction_date'].str[0] != '2022')]\n",
    "\n",
    "for i in weird_years.index:\n",
    "    house.loc[i, 'transaction_date'][0] = str(house.loc[i, 'disclosure_year'])"
   ]
  },
  {
   "cell_type": "code",
   "execution_count": 349,
   "id": "ba08ca24-3015-4413-9a5b-f1dbeec85b80",
   "metadata": {},
   "outputs": [
    {
     "data": {
      "text/html": [
       "<div>\n",
       "<style scoped>\n",
       "    .dataframe tbody tr th:only-of-type {\n",
       "        vertical-align: middle;\n",
       "    }\n",
       "\n",
       "    .dataframe tbody tr th {\n",
       "        vertical-align: top;\n",
       "    }\n",
       "\n",
       "    .dataframe thead th {\n",
       "        text-align: right;\n",
       "    }\n",
       "</style>\n",
       "<table border=\"1\" class=\"dataframe\">\n",
       "  <thead>\n",
       "    <tr style=\"text-align: right;\">\n",
       "      <th></th>\n",
       "      <th>disclosure_year</th>\n",
       "      <th>disclosure_date</th>\n",
       "      <th>transaction_date</th>\n",
       "      <th>ticker</th>\n",
       "      <th>asset_description</th>\n",
       "      <th>type</th>\n",
       "      <th>amount</th>\n",
       "      <th>representative</th>\n",
       "      <th>district</th>\n",
       "      <th>ptr_link</th>\n",
       "      <th>cap_gains_over_200_usd</th>\n",
       "    </tr>\n",
       "  </thead>\n",
       "  <tbody>\n",
       "  </tbody>\n",
       "</table>\n",
       "</div>"
      ],
      "text/plain": [
       "Empty DataFrame\n",
       "Columns: [disclosure_year, disclosure_date, transaction_date, ticker, asset_description, type, amount, representative, district, ptr_link, cap_gains_over_200_usd]\n",
       "Index: []"
      ]
     },
     "execution_count": 349,
     "metadata": {},
     "output_type": "execute_result"
    }
   ],
   "source": [
    "#verifying the years have been fixed\n",
    "house[(house['transaction_date'].str[0] != '2017') &\n",
    "      (house['transaction_date'].str[0] != '2018') &\n",
    "      (house['transaction_date'].str[0] != '2019') &\n",
    "      (house['transaction_date'].str[0] != '2020') &\n",
    "      (house['transaction_date'].str[0] != '2021') &\n",
    "      (house['transaction_date'].str[0] != '2022')]"
   ]
  },
  {
   "cell_type": "code",
   "execution_count": 350,
   "id": "ef471957-3be2-4713-a5c1-4368e52cb90a",
   "metadata": {},
   "outputs": [
    {
     "data": {
      "text/plain": [
       "disclosure_year                    int64\n",
       "disclosure_date           datetime64[ns]\n",
       "transaction_date          datetime64[ns]\n",
       "ticker                            object\n",
       "asset_description                 object\n",
       "type                              object\n",
       "amount                            object\n",
       "representative                    object\n",
       "district                          object\n",
       "ptr_link                          object\n",
       "cap_gains_over_200_usd              bool\n",
       "dtype: object"
      ]
     },
     "execution_count": 350,
     "metadata": {},
     "output_type": "execute_result"
    }
   ],
   "source": [
    "house['transaction_date'] = house['transaction_date'].str.join('-')\n",
    "house['transaction_date'] = pd.to_datetime(house['transaction_date'])\n",
    "house.dtypes"
   ]
  },
  {
   "cell_type": "code",
   "execution_count": 351,
   "id": "c6e1813d-3ee7-4877-9491-e67c48df51f1",
   "metadata": {},
   "outputs": [
    {
     "data": {
      "text/plain": [
       "count                            14855\n",
       "mean     2020-11-29 17:24:47.256815616\n",
       "min                2017-09-05 00:00:00\n",
       "25%                2020-04-22 00:00:00\n",
       "50%                2020-11-19 00:00:00\n",
       "75%                2021-06-08 00:00:00\n",
       "max                2022-12-31 00:00:00\n",
       "Name: transaction_date, dtype: object"
      ]
     },
     "execution_count": 351,
     "metadata": {},
     "output_type": "execute_result"
    }
   ],
   "source": [
    "#verifying the range of dates is what we expect\n",
    "house['transaction_date'].describe(datetime_is_numeric=True)"
   ]
  },
  {
   "cell_type": "code",
   "execution_count": 167,
   "id": "10397ad7-57b5-4555-bde5-00b55f492b5a",
   "metadata": {},
   "outputs": [
    {
     "data": {
      "text/plain": [
       "$1,001 - $15,000            10447\n",
       "$15,001 - $50,000            2362\n",
       "$50,001 - $100,000            750\n",
       "$100,001 - $250,000           572\n",
       "$250,001 - $500,000           243\n",
       "$1,001 -                      242\n",
       "$500,001 - $1,000,000         150\n",
       "$1,000,001 - $5,000,000        41\n",
       "$1,000,000 +                   30\n",
       "$5,000,001 - $25,000,000        9\n",
       "$1,000 - $15,000                4\n",
       "$15,000 - $50,000               3\n",
       "$50,000,000 +                   1\n",
       "$1,000,000 - $5,000,000         1\n",
       "Name: amount, dtype: int64"
      ]
     },
     "execution_count": 167,
     "metadata": {},
     "output_type": "execute_result"
    }
   ],
   "source": [
    "house['amount'].value_counts()"
   ]
  },
  {
   "cell_type": "markdown",
   "id": "5929a366-ee80-439a-8259-e2f6eda9694a",
   "metadata": {},
   "source": [
    "Review of .replace() from [here](https://www.symbiosisacademy.org/tutorial-index/pandas-search-replace-values-columns/)"
   ]
  },
  {
   "cell_type": "code",
   "execution_count": 352,
   "id": "7c8a312b-06da-4efa-809d-7e5fcd8026e0",
   "metadata": {},
   "outputs": [
    {
     "data": {
      "text/plain": [
       "$1,001 - $15,000            10693\n",
       "$15,001 - $50,000            2365\n",
       "$50,001 - $100,000            750\n",
       "$100,001 - $250,000           572\n",
       "$250,001 - $500,000           243\n",
       "$500,001 - $1,000,000         150\n",
       "$1,000,001 - $5,000,000        72\n",
       "$5,000,001 - $25,000,000        9\n",
       "$50,000,000 +                   1\n",
       "Name: amount, dtype: int64"
      ]
     },
     "execution_count": 352,
     "metadata": {},
     "output_type": "execute_result"
    }
   ],
   "source": [
    "house = house.replace(to_replace={'amount':['$1,001 -', '$1,000 - $15,000']}, value= '$1,001 - $15,000')\n",
    "house = house.replace(to_replace={'amount':['$1,000,000 +', '$1,000,000 - $5,000,000']}, value= '$1,000,001 - $5,000,000')\n",
    "house = house.replace(to_replace={'amount':['$15,000 - $50,000']}, value= '$15,001 - $50,000')\n",
    "house['amount'].value_counts()"
   ]
  },
  {
   "cell_type": "code",
   "execution_count": 353,
   "id": "5dd8d043-60fe-45e6-801b-97474600279b",
   "metadata": {},
   "outputs": [
    {
     "data": {
      "text/plain": [
       "15000       10693\n",
       "50000        2365\n",
       "100000        750\n",
       "250000        572\n",
       "500000        243\n",
       "1000000       150\n",
       "5000000        72\n",
       "25000000        9\n",
       "50000000        1\n",
       "Name: amount, dtype: int64"
      ]
     },
     "execution_count": 353,
     "metadata": {},
     "output_type": "execute_result"
    }
   ],
   "source": [
    "house['amount'] = house['amount'].str.split(' ') \n",
    "\n",
    "for i in range(0, len(house)):\n",
    "    if len(house.loc[i, 'amount']) == 3:\n",
    "        house.loc[i, 'amount'] = house.loc[i, 'amount'][2]\n",
    "    else:\n",
    "        house.loc[i, 'amount'] = house.loc[i, 'amount'][0]\n",
    "        \n",
    "house['amount'] = house['amount'].map(lambda x: x.replace('$', '').replace(',', ''))\n",
    "house['amount'] = house['amount'].astype(int)\n",
    "house['amount'].value_counts()"
   ]
  },
  {
   "cell_type": "code",
   "execution_count": 354,
   "id": "9035f082-af54-4339-9823-c2a5f38bcaa0",
   "metadata": {},
   "outputs": [
    {
     "data": {
      "text/plain": [
       "disclosure_year                    int64\n",
       "disclosure_date           datetime64[ns]\n",
       "transaction_date          datetime64[ns]\n",
       "ticker                            object\n",
       "asset_description                 object\n",
       "type                              object\n",
       "amount                             int64\n",
       "representative                    object\n",
       "district                          object\n",
       "ptr_link                          object\n",
       "cap_gains_over_200_usd              bool\n",
       "dtype: object"
      ]
     },
     "execution_count": 354,
     "metadata": {},
     "output_type": "execute_result"
    }
   ],
   "source": [
    "house.dtypes"
   ]
  },
  {
   "cell_type": "code",
   "execution_count": 175,
   "id": "afb12a8b-b2b7-49b6-93f4-3af022eeeda8",
   "metadata": {},
   "outputs": [
    {
     "data": {
      "text/plain": [
       "--       1208\n",
       "MSFT      244\n",
       "AAPL      181\n",
       "NTAP      130\n",
       "TDDXX     122\n",
       "         ... \n",
       "MSTR        1\n",
       "MC          1\n",
       "MPWR        1\n",
       "HEI         1\n",
       "FLCB        1\n",
       "Name: ticker, Length: 2123, dtype: int64"
      ]
     },
     "execution_count": 355,
     "metadata": {},
     "output_type": "execute_result"
    }
   ],
   "source": [
    "house['ticker'].value_counts()"
   ]
  },
  {
   "cell_type": "code",
   "execution_count": 356,
   "id": "7093d24f-453a-4ab8-8505-4a06a14508f2",
   "metadata": {},
   "outputs": [
    {
     "data": {
      "text/plain": [
       "0.08131942107034669"
      ]
     },
     "execution_count": 356,
     "metadata": {},
     "output_type": "execute_result"
    }
   ],
   "source": [
    "house['ticker'].value_counts().values[0]/len(house)"
   ]
  },
  {
   "cell_type": "code",
   "execution_count": 357,
   "id": "86600684-51b6-448a-9a72-0a02d102a6a9",
   "metadata": {},
   "outputs": [
    {
     "data": {
      "text/html": [
       "<div>\n",
       "<style scoped>\n",
       "    .dataframe tbody tr th:only-of-type {\n",
       "        vertical-align: middle;\n",
       "    }\n",
       "\n",
       "    .dataframe tbody tr th {\n",
       "        vertical-align: top;\n",
       "    }\n",
       "\n",
       "    .dataframe thead th {\n",
       "        text-align: right;\n",
       "    }\n",
       "</style>\n",
       "<table border=\"1\" class=\"dataframe\">\n",
       "  <thead>\n",
       "    <tr style=\"text-align: right;\">\n",
       "      <th></th>\n",
       "      <th>disclosure_year</th>\n",
       "      <th>disclosure_date</th>\n",
       "      <th>transaction_date</th>\n",
       "      <th>ticker</th>\n",
       "      <th>asset_description</th>\n",
       "      <th>type</th>\n",
       "      <th>amount</th>\n",
       "      <th>representative</th>\n",
       "      <th>district</th>\n",
       "      <th>ptr_link</th>\n",
       "      <th>cap_gains_over_200_usd</th>\n",
       "    </tr>\n",
       "  </thead>\n",
       "  <tbody>\n",
       "    <tr>\n",
       "      <th>56</th>\n",
       "      <td>2020</td>\n",
       "      <td>2020-09-22</td>\n",
       "      <td>2020-08-17</td>\n",
       "      <td>--</td>\n",
       "      <td>Metallic Minerals Corp.</td>\n",
       "      <td>sale_partial</td>\n",
       "      <td>250000</td>\n",
       "      <td>Mr. TJ John (Tj) Cox</td>\n",
       "      <td>CA21</td>\n",
       "      <td>https://disclosures-clerk.house.gov/public_dis...</td>\n",
       "      <td>True</td>\n",
       "    </tr>\n",
       "    <tr>\n",
       "      <th>57</th>\n",
       "      <td>2021</td>\n",
       "      <td>2021-03-23</td>\n",
       "      <td>2021-01-27</td>\n",
       "      <td>--</td>\n",
       "      <td>Zimmer Biomet Holdings</td>\n",
       "      <td>sale_partial</td>\n",
       "      <td>15000</td>\n",
       "      <td>Hon. Alan S. Lowenthal</td>\n",
       "      <td>CA47</td>\n",
       "      <td>https://disclosures-clerk.house.gov/public_dis...</td>\n",
       "      <td>False</td>\n",
       "    </tr>\n",
       "    <tr>\n",
       "      <th>58</th>\n",
       "      <td>2021</td>\n",
       "      <td>2021-03-23</td>\n",
       "      <td>2021-02-08</td>\n",
       "      <td>--</td>\n",
       "      <td>Zimmer Biomet Holdings</td>\n",
       "      <td>sale_full</td>\n",
       "      <td>15000</td>\n",
       "      <td>Hon. Alan S. Lowenthal</td>\n",
       "      <td>CA47</td>\n",
       "      <td>https://disclosures-clerk.house.gov/public_dis...</td>\n",
       "      <td>False</td>\n",
       "    </tr>\n",
       "    <tr>\n",
       "      <th>59</th>\n",
       "      <td>2021</td>\n",
       "      <td>2021-03-23</td>\n",
       "      <td>2021-02-08</td>\n",
       "      <td>--</td>\n",
       "      <td>Zimmer Biomet Holdings</td>\n",
       "      <td>purchase</td>\n",
       "      <td>15000</td>\n",
       "      <td>Hon. Alan S. Lowenthal</td>\n",
       "      <td>CA47</td>\n",
       "      <td>https://disclosures-clerk.house.gov/public_dis...</td>\n",
       "      <td>False</td>\n",
       "    </tr>\n",
       "    <tr>\n",
       "      <th>61</th>\n",
       "      <td>2021</td>\n",
       "      <td>2021-03-23</td>\n",
       "      <td>2021-02-19</td>\n",
       "      <td>--</td>\n",
       "      <td>Celegene Corp</td>\n",
       "      <td>sale_full</td>\n",
       "      <td>50000</td>\n",
       "      <td>Hon. Alan S. Lowenthal</td>\n",
       "      <td>CA47</td>\n",
       "      <td>https://disclosures-clerk.house.gov/public_dis...</td>\n",
       "      <td>False</td>\n",
       "    </tr>\n",
       "  </tbody>\n",
       "</table>\n",
       "</div>"
      ],
      "text/plain": [
       "    disclosure_year disclosure_date transaction_date ticker  \\\n",
       "56             2020      2020-09-22       2020-08-17     --   \n",
       "57             2021      2021-03-23       2021-01-27     --   \n",
       "58             2021      2021-03-23       2021-02-08     --   \n",
       "59             2021      2021-03-23       2021-02-08     --   \n",
       "61             2021      2021-03-23       2021-02-19     --   \n",
       "\n",
       "          asset_description          type  amount          representative  \\\n",
       "56  Metallic Minerals Corp.  sale_partial  250000    Mr. TJ John (Tj) Cox   \n",
       "57   Zimmer Biomet Holdings  sale_partial   15000  Hon. Alan S. Lowenthal   \n",
       "58   Zimmer Biomet Holdings     sale_full   15000  Hon. Alan S. Lowenthal   \n",
       "59   Zimmer Biomet Holdings      purchase   15000  Hon. Alan S. Lowenthal   \n",
       "61            Celegene Corp     sale_full   50000  Hon. Alan S. Lowenthal   \n",
       "\n",
       "   district                                           ptr_link  \\\n",
       "56     CA21  https://disclosures-clerk.house.gov/public_dis...   \n",
       "57     CA47  https://disclosures-clerk.house.gov/public_dis...   \n",
       "58     CA47  https://disclosures-clerk.house.gov/public_dis...   \n",
       "59     CA47  https://disclosures-clerk.house.gov/public_dis...   \n",
       "61     CA47  https://disclosures-clerk.house.gov/public_dis...   \n",
       "\n",
       "    cap_gains_over_200_usd  \n",
       "56                    True  \n",
       "57                   False  \n",
       "58                   False  \n",
       "59                   False  \n",
       "61                   False  "
      ]
     },
     "execution_count": 357,
     "metadata": {},
     "output_type": "execute_result"
    }
   ],
   "source": [
    "house[house['ticker'] == '--'].head()"
   ]
  },
  {
   "cell_type": "code",
   "execution_count": 358,
   "id": "b68133cf-709c-4f05-a4c9-3d629e2fc30f",
   "metadata": {},
   "outputs": [
    {
     "data": {
      "text/html": [
       "<div>\n",
       "<style scoped>\n",
       "    .dataframe tbody tr th:only-of-type {\n",
       "        vertical-align: middle;\n",
       "    }\n",
       "\n",
       "    .dataframe tbody tr th {\n",
       "        vertical-align: top;\n",
       "    }\n",
       "\n",
       "    .dataframe thead th {\n",
       "        text-align: right;\n",
       "    }\n",
       "</style>\n",
       "<table border=\"1\" class=\"dataframe\">\n",
       "  <thead>\n",
       "    <tr style=\"text-align: right;\">\n",
       "      <th></th>\n",
       "      <th>symbol</th>\n",
       "      <th>name</th>\n",
       "    </tr>\n",
       "  </thead>\n",
       "  <tbody>\n",
       "    <tr>\n",
       "      <th>0</th>\n",
       "      <td>AAPL</td>\n",
       "      <td>Apple Inc.</td>\n",
       "    </tr>\n",
       "    <tr>\n",
       "      <th>1</th>\n",
       "      <td>XOM</td>\n",
       "      <td>Exxon Mobil Corporation</td>\n",
       "    </tr>\n",
       "    <tr>\n",
       "      <th>2</th>\n",
       "      <td>MSFT</td>\n",
       "      <td>Microsoft Corporation</td>\n",
       "    </tr>\n",
       "    <tr>\n",
       "      <th>3</th>\n",
       "      <td>BAC^I</td>\n",
       "      <td>Bank of America Corporation</td>\n",
       "    </tr>\n",
       "    <tr>\n",
       "      <th>4</th>\n",
       "      <td>IBM</td>\n",
       "      <td>International Business Machines Corporation</td>\n",
       "    </tr>\n",
       "  </tbody>\n",
       "</table>\n",
       "</div>"
      ],
      "text/plain": [
       "  symbol                                         name\n",
       "0   AAPL                                   Apple Inc.\n",
       "1    XOM                      Exxon Mobil Corporation\n",
       "2   MSFT                        Microsoft Corporation\n",
       "3  BAC^I                  Bank of America Corporation\n",
       "4    IBM  International Business Machines Corporation"
      ]
     },
     "execution_count": 358,
     "metadata": {},
     "output_type": "execute_result"
    }
   ],
   "source": [
    "tickers = pd.read_excel('./loren_data/US-Stock-Symbols.xlsx')\n",
    "tickers = tickers[['Symbol', 'Name']]\n",
    "tickers.columns = tickers.columns.map(lambda x: x.lower())\n",
    "\n",
    "tickers.head()"
   ]
  },
  {
   "cell_type": "code",
   "execution_count": 359,
   "id": "8a2c9f4e-4a27-4800-9f88-f3f44df0b6b3",
   "metadata": {},
   "outputs": [],
   "source": [
    "for i in house.loc[house.ticker == '--']['asset_description']:\n",
    "    symbol = tickers.loc[tickers.name == i, 'symbol']\n",
    "    house.loc[house.asset_description == i, 'ticker'] = symbol"
   ]
  },
  {
   "cell_type": "code",
   "execution_count": 360,
   "id": "6f8790f6-54ee-42f9-bd75-cbcc278d7c26",
   "metadata": {},
   "outputs": [
    {
     "data": {
      "text/plain": [
       "MSFT     244\n",
       "AAPL     181\n",
       "NTAP     130\n",
       "TDDXX    122\n",
       "FB       115\n",
       "        ... \n",
       "MGPI       1\n",
       "MSTR       1\n",
       "MC         1\n",
       "MPWR       1\n",
       "FLCB       1\n",
       "Name: ticker, Length: 2117, dtype: int64"
      ]
     },
     "execution_count": 360,
     "metadata": {},
     "output_type": "execute_result"
    }
   ],
   "source": [
    "house.ticker.value_counts()"
   ]
  },
  {
   "cell_type": "code",
   "execution_count": 361,
   "id": "3d6ed046-6d23-43dd-912f-e66662a01013",
   "metadata": {},
   "outputs": [
    {
     "data": {
      "text/html": [
       "<div>\n",
       "<style scoped>\n",
       "    .dataframe tbody tr th:only-of-type {\n",
       "        vertical-align: middle;\n",
       "    }\n",
       "\n",
       "    .dataframe tbody tr th {\n",
       "        vertical-align: top;\n",
       "    }\n",
       "\n",
       "    .dataframe thead th {\n",
       "        text-align: right;\n",
       "    }\n",
       "</style>\n",
       "<table border=\"1\" class=\"dataframe\">\n",
       "  <thead>\n",
       "    <tr style=\"text-align: right;\">\n",
       "      <th></th>\n",
       "      <th>disclosure_year</th>\n",
       "      <th>disclosure_date</th>\n",
       "      <th>transaction_date</th>\n",
       "      <th>ticker</th>\n",
       "      <th>asset_description</th>\n",
       "      <th>type</th>\n",
       "      <th>amount</th>\n",
       "      <th>representative</th>\n",
       "      <th>district</th>\n",
       "      <th>ptr_link</th>\n",
       "      <th>cap_gains_over_200_usd</th>\n",
       "    </tr>\n",
       "  </thead>\n",
       "  <tbody>\n",
       "  </tbody>\n",
       "</table>\n",
       "</div>"
      ],
      "text/plain": [
       "Empty DataFrame\n",
       "Columns: [disclosure_year, disclosure_date, transaction_date, ticker, asset_description, type, amount, representative, district, ptr_link, cap_gains_over_200_usd]\n",
       "Index: []"
      ]
     },
     "execution_count": 361,
     "metadata": {},
     "output_type": "execute_result"
    }
   ],
   "source": [
    "house[house['ticker'] == '--']"
   ]
  },
  {
   "cell_type": "code",
   "execution_count": 362,
   "id": "c1458565-3012-43fe-8133-d66541173cd5",
   "metadata": {},
   "outputs": [
    {
     "data": {
      "text/html": [
       "<div>\n",
       "<style scoped>\n",
       "    .dataframe tbody tr th:only-of-type {\n",
       "        vertical-align: middle;\n",
       "    }\n",
       "\n",
       "    .dataframe tbody tr th {\n",
       "        vertical-align: top;\n",
       "    }\n",
       "\n",
       "    .dataframe thead th {\n",
       "        text-align: right;\n",
       "    }\n",
       "</style>\n",
       "<table border=\"1\" class=\"dataframe\">\n",
       "  <thead>\n",
       "    <tr style=\"text-align: right;\">\n",
       "      <th></th>\n",
       "      <th>disclosure_year</th>\n",
       "      <th>amount</th>\n",
       "    </tr>\n",
       "  </thead>\n",
       "  <tbody>\n",
       "    <tr>\n",
       "      <th>count</th>\n",
       "      <td>14855.000000</td>\n",
       "      <td>1.485500e+04</td>\n",
       "    </tr>\n",
       "    <tr>\n",
       "      <th>mean</th>\n",
       "      <td>2020.634938</td>\n",
       "      <td>9.445608e+04</td>\n",
       "    </tr>\n",
       "    <tr>\n",
       "      <th>std</th>\n",
       "      <td>0.703684</td>\n",
       "      <td>8.227438e+05</td>\n",
       "    </tr>\n",
       "    <tr>\n",
       "      <th>min</th>\n",
       "      <td>2020.000000</td>\n",
       "      <td>1.500000e+04</td>\n",
       "    </tr>\n",
       "    <tr>\n",
       "      <th>25%</th>\n",
       "      <td>2020.000000</td>\n",
       "      <td>1.500000e+04</td>\n",
       "    </tr>\n",
       "    <tr>\n",
       "      <th>50%</th>\n",
       "      <td>2021.000000</td>\n",
       "      <td>1.500000e+04</td>\n",
       "    </tr>\n",
       "    <tr>\n",
       "      <th>75%</th>\n",
       "      <td>2021.000000</td>\n",
       "      <td>5.000000e+04</td>\n",
       "    </tr>\n",
       "    <tr>\n",
       "      <th>max</th>\n",
       "      <td>2022.000000</td>\n",
       "      <td>5.000000e+07</td>\n",
       "    </tr>\n",
       "  </tbody>\n",
       "</table>\n",
       "</div>"
      ],
      "text/plain": [
       "       disclosure_year        amount\n",
       "count     14855.000000  1.485500e+04\n",
       "mean       2020.634938  9.445608e+04\n",
       "std           0.703684  8.227438e+05\n",
       "min        2020.000000  1.500000e+04\n",
       "25%        2020.000000  1.500000e+04\n",
       "50%        2021.000000  1.500000e+04\n",
       "75%        2021.000000  5.000000e+04\n",
       "max        2022.000000  5.000000e+07"
      ]
     },
     "execution_count": 362,
     "metadata": {},
     "output_type": "execute_result"
    }
   ],
   "source": [
    "house.describe()"
   ]
  },
  {
   "cell_type": "markdown",
   "id": "ff41067b-e299-4180-9b0b-b506e50385c8",
   "metadata": {},
   "source": [
    "We need our columns to agree with the Senate dataframe columns, so we made the following changes. While we erred on the side of keeping information for now, we dropped the 'ptr_link' because we don't anticipate doing any analysis on it. If we need it, we'll come back and reference it from the csv or from prior to this point.\n",
    "\n",
    "This [stackoverflow answer](https://stackoverflow.com/a/54195568) helped us to find the differences between the lists of columns "
   ]
  },
  {
   "cell_type": "code",
   "execution_count": 363,
   "id": "d7898236-1e9d-4e7c-a60f-649d143c5b76",
   "metadata": {},
   "outputs": [
    {
     "name": "stdout",
     "output_type": "stream",
     "text": [
      "In House, not in Senate: ['disclosure_year', 'representative', 'district', 'cap_gains_over_200_usd']\n",
      "In Senate, not in House: ['senator', 'year', 'comment', 'asset_type', 'owner']\n"
     ]
    }
   ],
   "source": [
    "house_cols = list(house.columns)\n",
    "\n",
    "senate_cols = ['transaction_date', 'owner', 'ticker', 'asset_description',\n",
    "       'asset_type', 'type', 'amount', 'comment', 'senator', 'ptr_link',\n",
    "       'disclosure_date', 'year'] \n",
    "\n",
    "house_different_cols = list(set(house_cols).difference(senate_cols))\n",
    "print(f'In House, not in Senate: {house_different_cols}')\n",
    "\n",
    "senate_different_cols = list(set(senate_cols).difference(house_cols))\n",
    "print(f'In Senate, not in House: {senate_different_cols}')"
   ]
  },
  {
   "cell_type": "code",
   "execution_count": 364,
   "id": "47d98d88-6d4b-47fd-84fb-19580b4f2f97",
   "metadata": {},
   "outputs": [],
   "source": [
    "house['chamber'] = 'house'\n",
    "house.drop(columns = ['ptr_link', 'cap_gains_over_200_usd', 'disclosure_year'], inplace = True)\n",
    "house.rename(columns = {'representative': 'name', 'district': 'represents'}, inplace = True)"
   ]
  },
  {
   "cell_type": "code",
   "execution_count": 365,
   "id": "f680d890-d644-4174-9530-f62b7991ae94",
   "metadata": {},
   "outputs": [
    {
     "name": "stdout",
     "output_type": "stream",
     "text": [
      "In House, not in Senate: ['name', 'chamber', 'represents']\n",
      "In Senate, not in House: ['senator', 'ptr_link', 'year', 'comment', 'asset_type', 'owner']\n"
     ]
    }
   ],
   "source": [
    "house_cols = list(house.columns)\n",
    "\n",
    "senate_cols = ['transaction_date', 'owner', 'ticker', 'asset_description',\n",
    "       'asset_type', 'type', 'amount', 'comment', 'senator', 'ptr_link',\n",
    "       'disclosure_date', 'year'] \n",
    "\n",
    "house_different_cols = list(set(house_cols).difference(senate_cols))\n",
    "print(f'In House, not in Senate: {house_different_cols}')\n",
    "\n",
    "senate_different_cols = list(set(senate_cols).difference(house_cols))\n",
    "print(f'In Senate, not in House: {senate_different_cols}')"
   ]
  },
  {
   "cell_type": "code",
   "execution_count": 366,
   "id": "67c1d82a-5b79-46de-827a-975d8c31af5a",
   "metadata": {},
   "outputs": [],
   "source": [
    "house.to_csv('./loren_data/clean_house_2022-07-15.csv')"
   ]
  }
 ],
 "metadata": {
  "kernelspec": {
   "display_name": "Python [conda env:dsi]",
   "language": "python",
   "name": "conda-env-dsi-py"
  },
  "language_info": {
   "codemirror_mode": {
    "name": "ipython",
    "version": 3
   },
   "file_extension": ".py",
   "mimetype": "text/x-python",
   "name": "python",
   "nbconvert_exporter": "python",
   "pygments_lexer": "ipython3",
   "version": "3.9.12"
  }
 },
 "nbformat": 4,
 "nbformat_minor": 5
}
