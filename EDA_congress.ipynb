{
 "cells": [
  {
   "cell_type": "code",
   "execution_count": null,
   "id": "2fd9e04a-401b-4742-b1ba-b8f26565e973",
   "metadata": {},
   "outputs": [],
   "source": [
    "import numpy as np\n",
    "import pandas as pd\n",
    "import pandas_datareader as pdr\n",
    "import matplotlib.pyplot as plt\n",
    "import seaborn as sns\n",
    "import requests as req\n",
    "import sys\n",
    "import time\n",
    "sys.path.insert(0, '../../../API_keys/')\n",
    "from vantage_api import premium_key\n",
    "import json"
   ]
  },
  {
   "cell_type": "markdown",
   "id": "b62b4631-9d15-4eea-bedb-8160bd9c3308",
   "metadata": {},
   "source": [
    "This file is too large to upload entirely to GitHub and most inputs are commented out. To run, upload the filled_reps_Data.csv from https://drive.google.com/drive/folders/1LG5bKuLBJXHF2HL9jAuEtyCQbmk8m3lS to the datasets folder. Then, run each line of code. We have the images of our EDA already saved and can be seen in the pics folder."
   ]
  },
  {
   "cell_type": "code",
   "execution_count": null,
   "id": "63e7161f-3302-4780-8db5-24790c3fcaa6",
   "metadata": {},
   "outputs": [],
   "source": [
    "pd.set_option('display.max_columns', None)"
   ]
  },
  {
   "cell_type": "code",
   "execution_count": null,
   "id": "9d9c64b2-71d2-4954-9d63-be2da59314ec",
   "metadata": {},
   "outputs": [],
   "source": [
    "#uncomment this line\n",
    "#df = pd.read_csv('datasets/filled_reps_Data.csv') #Too large to push to GitHub if run"
   ]
  },
  {
   "cell_type": "code",
   "execution_count": null,
   "id": "64ac7333-0c61-42e9-b2b7-5c4d057157a6",
   "metadata": {},
   "outputs": [],
   "source": [
    "df.head()"
   ]
  },
  {
   "cell_type": "code",
   "execution_count": null,
   "id": "ab8230de-7cb6-483c-a7a7-925c1a0091be",
   "metadata": {},
   "outputs": [],
   "source": [
    "df.drop(columns='Unnamed: 0',inplace=True)\n",
    "df.columns"
   ]
  },
  {
   "cell_type": "markdown",
   "id": "d9265791-e3f6-473c-9680-dd0ff4630895",
   "metadata": {},
   "source": [
    "The '7/15/2022' is at the last column in the dataframe and is the value of the trade"
   ]
  },
  {
   "cell_type": "code",
   "execution_count": null,
   "id": "322053c3-403a-46d0-8219-409376cb9d5c",
   "metadata": {},
   "outputs": [],
   "source": [
    "val_dict = {}\n",
    "for i in df.name.unique():\n",
    "    val = 0\n",
    "    for j in df.index:\n",
    "        if df['name'][j] == i:\n",
    "            val += df['7/15/2022'][j]\n",
    "    val_dict.update({i:val})\n",
    "df['values'] = df['name'].map(lambda x: val_dict[x])\n",
    "df.head()"
   ]
  },
  {
   "cell_type": "markdown",
   "id": "b869b0bb-dca4-43bc-9a52-c7f27ecfab28",
   "metadata": {},
   "source": [
    "Now that we have the final values, let's do some EDA"
   ]
  },
  {
   "cell_type": "code",
   "execution_count": null,
   "id": "87c548a3-95d7-4db8-9ef4-6fceb3d78d55",
   "metadata": {},
   "outputs": [],
   "source": [
    "millions_list = [n for n in val_dict if val_dict[n] >= 1000000]\n",
    "millions_list"
   ]
  },
  {
   "cell_type": "markdown",
   "id": "2856e30b-5d5f-47f9-94d5-e93c8d61cf48",
   "metadata": {},
   "source": [
    "We have 2 Senators/Representatives that made over a million dollars in trades. Let's examin them."
   ]
  },
  {
   "cell_type": "code",
   "execution_count": null,
   "id": "f4a82756-ccba-4e8f-852a-b6e6e2fbf0f8",
   "metadata": {},
   "outputs": [],
   "source": [
    "look_at = ['name', 'chamber', 'party', 'birthday', 'gender', 'represents', 'values']\n",
    "df[df['name'] == 'Michael T. McCaul'][look_at].head(1)"
   ]
  },
  {
   "cell_type": "code",
   "execution_count": null,
   "id": "6808aeca-0a67-4bb9-b29a-864277818fbb",
   "metadata": {},
   "outputs": [],
   "source": [
    "df[df['name'] == 'Greg Gianforte'][look_at].head(1)"
   ]
  },
  {
   "cell_type": "markdown",
   "id": "ca76cbb8-43dd-480c-9039-6a2ab08aa4eb",
   "metadata": {},
   "source": [
    "Let's look at the data as a whole to see if there are any indicators to see who benifits in Congress."
   ]
  },
  {
   "cell_type": "code",
   "execution_count": null,
   "id": "f82771da-a8a1-4abf-94a7-a620a09e70b4",
   "metadata": {},
   "outputs": [],
   "source": [
    "sns.boxplot(data=df, x='party', y='values')"
   ]
  },
  {
   "cell_type": "markdown",
   "id": "3e432477-b2aa-4b25-bd16-21df5e664f87",
   "metadata": {},
   "source": [
    "This shows that the Republicans tend to make more in stock trades than the Democrats"
   ]
  },
  {
   "cell_type": "code",
   "execution_count": null,
   "id": "ee7620a6-3b4b-465e-8067-84987b8e3104",
   "metadata": {},
   "outputs": [],
   "source": [
    "sns.boxplot(data=df, x='gender', y='values')"
   ]
  },
  {
   "cell_type": "markdown",
   "id": "1eb93646-e129-4e42-9198-dba43bde5a68",
   "metadata": {},
   "source": [
    "Males in Congress seem to make more than females."
   ]
  },
  {
   "cell_type": "code",
   "execution_count": null,
   "id": "8a960f38-4b0c-47dd-9a89-a81877544c7f",
   "metadata": {},
   "outputs": [],
   "source": [
    "sns.boxplot(data=df, x='chamber', y='values')"
   ]
  },
  {
   "cell_type": "markdown",
   "id": "6040ef48-0bcb-4389-b3ea-75a5300dada5",
   "metadata": {},
   "source": [
    "Senators seem to make more than the House members"
   ]
  },
  {
   "cell_type": "code",
   "execution_count": null,
   "id": "4bcbbf03-14b7-40f6-84df-ad0fb29e14ab",
   "metadata": {},
   "outputs": [],
   "source": [
    "df.head()"
   ]
  },
  {
   "cell_type": "markdown",
   "id": "d8405eb4-6a32-4d82-9525-c051e1771293",
   "metadata": {},
   "source": [
    "Let's make the columns more usable. "
   ]
  },
  {
   "cell_type": "code",
   "execution_count": null,
   "id": "4d1671aa-2616-4864-8aa5-35e49f768cc8",
   "metadata": {},
   "outputs": [],
   "source": [
    "df['senate'] = df['chamber'].map(lambda x: 1 if x == 'senate' else 0)\n",
    "df['republican'] = df['party'].map(lambda x: 1 if x == 'Republican' else 0)\n",
    "df['male'] = df['gender'].map(lambda x: 1 if x == 'M' else 0)\n",
    "df['age'] = df['birthday'].map(lambda x: 2022 - int(x[-4::]))"
   ]
  },
  {
   "cell_type": "code",
   "execution_count": null,
   "id": "3e6fa918-1f39-48de-b13b-ad93b8f0de79",
   "metadata": {},
   "outputs": [],
   "source": [
    "df_heat = df[['senate', 'republican', 'male', 'age', 'values']]"
   ]
  },
  {
   "cell_type": "code",
   "execution_count": null,
   "id": "54ae6113-45e6-4abf-b996-5229e5361eae",
   "metadata": {},
   "outputs": [],
   "source": [
    "plt.figure(figsize=(10,8))\n",
    "sns.heatmap(df_heat.corr()[['values']].sort_values(by='values',ascending=False),\n",
    "            annot = True,\n",
    "            vmin = -1,\n",
    "            vmax = 1,\n",
    "            cmap = 'coolwarm');"
   ]
  },
  {
   "cell_type": "markdown",
   "id": "b56dad4b-c38e-4d44-8205-669fa2e9eb06",
   "metadata": {},
   "source": [
    "It seems like the best predictor of the returns rate is whether or not the trader was male. Males make more than females in the Congress. However, it isn't too strongly correlated."
   ]
  },
  {
   "cell_type": "code",
   "execution_count": null,
   "id": "1a8928a0-8667-4a4a-9a86-6014889581a9",
   "metadata": {},
   "outputs": [],
   "source": [
    "sns.scatterplot(data=df_heat,x='age',y='values')"
   ]
  },
  {
   "cell_type": "markdown",
   "id": "ea85d030-e73b-48cc-b53f-9fa65ca11366",
   "metadata": {},
   "source": [
    "This shows the distrabution of earnings by age."
   ]
  },
  {
   "cell_type": "markdown",
   "id": "5db110c4-b589-4a81-8960-fdc48f7f0585",
   "metadata": {},
   "source": [
    "Finally, let's see what percent actually make money on the market, as opposed to loosing"
   ]
  },
  {
   "cell_type": "code",
   "execution_count": null,
   "id": "a2f2d0f2-662e-4dd3-b78d-7636aa8eb08e",
   "metadata": {},
   "outputs": [],
   "source": [
    "names_len = len(df['name'].unique())\n",
    "names_len"
   ]
  },
  {
   "cell_type": "code",
   "execution_count": null,
   "id": "00257fbf-4cd1-4b77-a857-43b91355f3eb",
   "metadata": {},
   "outputs": [],
   "source": [
    "ratio = 0\n",
    "for i in df['name'].unique():\n",
    "    if val_dict[i] > 0:\n",
    "        ratio += 1\n",
    "ratio /= names_len\n",
    "ratio"
   ]
  },
  {
   "cell_type": "markdown",
   "id": "ba720b56-7074-4e8c-905d-28c84474cd6e",
   "metadata": {},
   "source": [
    "Only 27.72% of Congress humans actually make a profit on the stock market."
   ]
  },
  {
   "cell_type": "code",
   "execution_count": null,
   "id": "c644cb24-dee1-47c0-bf21-fd8e96adc1e3",
   "metadata": {},
   "outputs": [],
   "source": []
  }
 ],
 "metadata": {
  "kernelspec": {
   "display_name": "Python 3 (ipykernel)",
   "language": "python",
   "name": "python3"
  },
  "language_info": {
   "codemirror_mode": {
    "name": "ipython",
    "version": 3
   },
   "file_extension": ".py",
   "mimetype": "text/x-python",
   "name": "python",
   "nbconvert_exporter": "python",
   "pygments_lexer": "ipython3",
   "version": "3.9.7"
  }
 },
 "nbformat": 4,
 "nbformat_minor": 5
}
