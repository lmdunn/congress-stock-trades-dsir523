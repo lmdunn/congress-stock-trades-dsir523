{
 "cells": [
  {
   "cell_type": "code",
   "execution_count": 6,
   "id": "047bac92-ae18-43b7-a678-463b1bd2528a",
   "metadata": {},
   "outputs": [],
   "source": [
    "import numpy as np\n",
    "import pandas as pd\n",
    "import matplotlib.pyplot as plt"
   ]
  },
  {
   "cell_type": "code",
   "execution_count": 2,
   "id": "84d77efe-38ba-4000-8fdd-0b7cc57a72ad",
   "metadata": {},
   "outputs": [
    {
     "name": "stdout",
     "output_type": "stream",
     "text": [
      "Collecting yfinance\n",
      "  Downloading yfinance-0.1.74-py2.py3-none-any.whl (27 kB)\n",
      "Requirement already satisfied: numpy>=1.15 in /Users/lorendunn/opt/anaconda3/lib/python3.9/site-packages (from yfinance) (1.21.5)\n",
      "Collecting multitasking>=0.0.7\n",
      "  Downloading multitasking-0.0.11-py3-none-any.whl (8.5 kB)\n",
      "Requirement already satisfied: requests>=2.26 in /Users/lorendunn/opt/anaconda3/lib/python3.9/site-packages (from yfinance) (2.27.1)\n",
      "Requirement already satisfied: lxml>=4.5.1 in /Users/lorendunn/opt/anaconda3/lib/python3.9/site-packages (from yfinance) (4.8.0)\n",
      "Requirement already satisfied: pandas>=0.24.0 in /Users/lorendunn/opt/anaconda3/lib/python3.9/site-packages (from yfinance) (1.4.2)\n",
      "Requirement already satisfied: python-dateutil>=2.8.1 in /Users/lorendunn/opt/anaconda3/lib/python3.9/site-packages (from pandas>=0.24.0->yfinance) (2.8.2)\n",
      "Requirement already satisfied: pytz>=2020.1 in /Users/lorendunn/opt/anaconda3/lib/python3.9/site-packages (from pandas>=0.24.0->yfinance) (2021.3)\n",
      "Requirement already satisfied: six>=1.5 in /Users/lorendunn/opt/anaconda3/lib/python3.9/site-packages (from python-dateutil>=2.8.1->pandas>=0.24.0->yfinance) (1.16.0)\n",
      "Requirement already satisfied: charset-normalizer~=2.0.0 in /Users/lorendunn/opt/anaconda3/lib/python3.9/site-packages (from requests>=2.26->yfinance) (2.0.4)\n",
      "Requirement already satisfied: idna<4,>=2.5 in /Users/lorendunn/opt/anaconda3/lib/python3.9/site-packages (from requests>=2.26->yfinance) (3.3)\n",
      "Requirement already satisfied: certifi>=2017.4.17 in /Users/lorendunn/opt/anaconda3/lib/python3.9/site-packages (from requests>=2.26->yfinance) (2021.10.8)\n",
      "Requirement already satisfied: urllib3<1.27,>=1.21.1 in /Users/lorendunn/opt/anaconda3/lib/python3.9/site-packages (from requests>=2.26->yfinance) (1.26.9)\n",
      "Installing collected packages: multitasking, yfinance\n",
      "Successfully installed multitasking-0.0.11 yfinance-0.1.74\n",
      "Note: you may need to restart the kernel to use updated packages.\n"
     ]
    }
   ],
   "source": [
    "# please install yfinance if you don't have it already\n",
    "#pip install yfinance"
   ]
  },
  {
   "cell_type": "code",
   "execution_count": 2,
   "id": "fe637126-68bc-482d-9464-c3696c30b882",
   "metadata": {},
   "outputs": [],
   "source": [
    "import yfinance as yf"
   ]
  },
  {
   "cell_type": "code",
   "execution_count": 3,
   "id": "bac6f301-5132-4657-aa7d-5c51c006833e",
   "metadata": {},
   "outputs": [],
   "source": [
    "snp = yf.Ticker(\"^GSPC\").history(period='9y')"
   ]
  },
  {
   "cell_type": "code",
   "execution_count": 4,
   "id": "8cfe5456-d771-499e-84be-994df6197145",
   "metadata": {},
   "outputs": [
    {
     "data": {
      "text/html": [
       "<div>\n",
       "<style scoped>\n",
       "    .dataframe tbody tr th:only-of-type {\n",
       "        vertical-align: middle;\n",
       "    }\n",
       "\n",
       "    .dataframe tbody tr th {\n",
       "        vertical-align: top;\n",
       "    }\n",
       "\n",
       "    .dataframe thead th {\n",
       "        text-align: right;\n",
       "    }\n",
       "</style>\n",
       "<table border=\"1\" class=\"dataframe\">\n",
       "  <thead>\n",
       "    <tr style=\"text-align: right;\">\n",
       "      <th></th>\n",
       "      <th>Open</th>\n",
       "      <th>High</th>\n",
       "      <th>Low</th>\n",
       "      <th>Close</th>\n",
       "      <th>Volume</th>\n",
       "      <th>Dividends</th>\n",
       "      <th>Stock Splits</th>\n",
       "    </tr>\n",
       "    <tr>\n",
       "      <th>Date</th>\n",
       "      <th></th>\n",
       "      <th></th>\n",
       "      <th></th>\n",
       "      <th></th>\n",
       "      <th></th>\n",
       "      <th></th>\n",
       "      <th></th>\n",
       "    </tr>\n",
       "  </thead>\n",
       "  <tbody>\n",
       "    <tr>\n",
       "      <th>2013-07-29</th>\n",
       "      <td>1690.319946</td>\n",
       "      <td>1690.920044</td>\n",
       "      <td>1681.859985</td>\n",
       "      <td>1685.329956</td>\n",
       "      <td>2840520000</td>\n",
       "      <td>0</td>\n",
       "      <td>0</td>\n",
       "    </tr>\n",
       "    <tr>\n",
       "      <th>2013-07-30</th>\n",
       "      <td>1687.920044</td>\n",
       "      <td>1693.189941</td>\n",
       "      <td>1682.420044</td>\n",
       "      <td>1685.959961</td>\n",
       "      <td>3320530000</td>\n",
       "      <td>0</td>\n",
       "      <td>0</td>\n",
       "    </tr>\n",
       "    <tr>\n",
       "      <th>2013-07-31</th>\n",
       "      <td>1687.760010</td>\n",
       "      <td>1698.430054</td>\n",
       "      <td>1684.939941</td>\n",
       "      <td>1685.729980</td>\n",
       "      <td>3847390000</td>\n",
       "      <td>0</td>\n",
       "      <td>0</td>\n",
       "    </tr>\n",
       "    <tr>\n",
       "      <th>2013-08-01</th>\n",
       "      <td>1689.420044</td>\n",
       "      <td>1707.849976</td>\n",
       "      <td>1689.420044</td>\n",
       "      <td>1706.869995</td>\n",
       "      <td>3775170000</td>\n",
       "      <td>0</td>\n",
       "      <td>0</td>\n",
       "    </tr>\n",
       "    <tr>\n",
       "      <th>2013-08-02</th>\n",
       "      <td>1706.099976</td>\n",
       "      <td>1709.670044</td>\n",
       "      <td>1700.680054</td>\n",
       "      <td>1709.670044</td>\n",
       "      <td>3136630000</td>\n",
       "      <td>0</td>\n",
       "      <td>0</td>\n",
       "    </tr>\n",
       "  </tbody>\n",
       "</table>\n",
       "</div>"
      ],
      "text/plain": [
       "                   Open         High          Low        Close      Volume  \\\n",
       "Date                                                                         \n",
       "2013-07-29  1690.319946  1690.920044  1681.859985  1685.329956  2840520000   \n",
       "2013-07-30  1687.920044  1693.189941  1682.420044  1685.959961  3320530000   \n",
       "2013-07-31  1687.760010  1698.430054  1684.939941  1685.729980  3847390000   \n",
       "2013-08-01  1689.420044  1707.849976  1689.420044  1706.869995  3775170000   \n",
       "2013-08-02  1706.099976  1709.670044  1700.680054  1709.670044  3136630000   \n",
       "\n",
       "            Dividends  Stock Splits  \n",
       "Date                                 \n",
       "2013-07-29          0             0  \n",
       "2013-07-30          0             0  \n",
       "2013-07-31          0             0  \n",
       "2013-08-01          0             0  \n",
       "2013-08-02          0             0  "
      ]
     },
     "execution_count": 4,
     "metadata": {},
     "output_type": "execute_result"
    }
   ],
   "source": [
    "snp.head()"
   ]
  },
  {
   "cell_type": "code",
   "execution_count": 7,
   "id": "b312df75-4fef-4002-85fe-a10607311f8e",
   "metadata": {},
   "outputs": [
    {
     "data": {
      "text/plain": [
       "1.0684125720796878"
      ]
     },
     "execution_count": 7,
     "metadata": {},
     "output_type": "execute_result"
    }
   ],
   "source": [
    "(float(snp[snp.index == '2022-07-15']['Open']) - float(snp[snp.index == '2014-01-02']['Open']))/float(snp[snp.index == '2014-01-02']['Open'])"
   ]
  },
  {
   "cell_type": "markdown",
   "id": "e539c7e4-9cb1-48ed-8d6f-0b9f54dfdef3",
   "metadata": {},
   "source": [
    "The S&P500 grew 106% from Jan 2014 to Jul 2022"
   ]
  },
  {
   "cell_type": "code",
   "execution_count": null,
   "id": "03cf8166-2776-48bc-b9f1-75747cb601a2",
   "metadata": {},
   "outputs": [],
   "source": []
  }
 ],
 "metadata": {
  "kernelspec": {
   "display_name": "Python 3 (ipykernel)",
   "language": "python",
   "name": "python3"
  },
  "language_info": {
   "codemirror_mode": {
    "name": "ipython",
    "version": 3
   },
   "file_extension": ".py",
   "mimetype": "text/x-python",
   "name": "python",
   "nbconvert_exporter": "python",
   "pygments_lexer": "ipython3",
   "version": "3.9.12"
  }
 },
 "nbformat": 4,
 "nbformat_minor": 5
}
