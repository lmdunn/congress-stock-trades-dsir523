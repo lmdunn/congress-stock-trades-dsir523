{
 "cells": [
  {
   "cell_type": "code",
   "execution_count": 1,
   "id": "1c6dd916-2891-4ffd-b635-bad43a745027",
   "metadata": {},
   "outputs": [],
   "source": [
    "import pandas as pd"
   ]
  },
  {
   "cell_type": "code",
   "execution_count": 7,
   "id": "834ff21c-d8ed-4a9f-90fc-91517e45d53a",
   "metadata": {},
   "outputs": [],
   "source": [
    "house_2022 = pd.read_csv('data/2022FD.txt', delimiter= '\\t')"
   ]
  },
  {
   "cell_type": "code",
   "execution_count": 8,
   "id": "60904949-ebb8-404d-920b-42114bff689e",
   "metadata": {},
   "outputs": [
    {
     "data": {
      "text/html": [
       "<div>\n",
       "<style scoped>\n",
       "    .dataframe tbody tr th:only-of-type {\n",
       "        vertical-align: middle;\n",
       "    }\n",
       "\n",
       "    .dataframe tbody tr th {\n",
       "        vertical-align: top;\n",
       "    }\n",
       "\n",
       "    .dataframe thead th {\n",
       "        text-align: right;\n",
       "    }\n",
       "</style>\n",
       "<table border=\"1\" class=\"dataframe\">\n",
       "  <thead>\n",
       "    <tr style=\"text-align: right;\">\n",
       "      <th></th>\n",
       "      <th>Prefix</th>\n",
       "      <th>Last</th>\n",
       "      <th>First</th>\n",
       "      <th>Suffix</th>\n",
       "      <th>FilingType</th>\n",
       "      <th>StateDst</th>\n",
       "      <th>Year</th>\n",
       "      <th>FilingDate</th>\n",
       "      <th>DocID</th>\n",
       "    </tr>\n",
       "  </thead>\n",
       "  <tbody>\n",
       "    <tr>\n",
       "      <th>0</th>\n",
       "      <td>Mr.</td>\n",
       "      <td>Hollier</td>\n",
       "      <td>Adam Jacques Chester Lafayette</td>\n",
       "      <td>NaN</td>\n",
       "      <td>C</td>\n",
       "      <td>MI13</td>\n",
       "      <td>2022</td>\n",
       "      <td>5/14/2022</td>\n",
       "      <td>10048102</td>\n",
       "    </tr>\n",
       "    <tr>\n",
       "      <th>1</th>\n",
       "      <td>NaN</td>\n",
       "      <td>Aadland</td>\n",
       "      <td>Erik</td>\n",
       "      <td>NaN</td>\n",
       "      <td>C</td>\n",
       "      <td>CO07</td>\n",
       "      <td>2022</td>\n",
       "      <td>1/17/2022</td>\n",
       "      <td>10044401</td>\n",
       "    </tr>\n",
       "    <tr>\n",
       "      <th>2</th>\n",
       "      <td>NaN</td>\n",
       "      <td>Acevedo-Arreguin</td>\n",
       "      <td>Luis Antonio</td>\n",
       "      <td>NaN</td>\n",
       "      <td>C</td>\n",
       "      <td>CA18</td>\n",
       "      <td>2022</td>\n",
       "      <td>4/23/2022</td>\n",
       "      <td>10046717</td>\n",
       "    </tr>\n",
       "    <tr>\n",
       "      <th>3</th>\n",
       "      <td>NaN</td>\n",
       "      <td>Achenbach</td>\n",
       "      <td>Jack Joseph</td>\n",
       "      <td>NaN</td>\n",
       "      <td>C</td>\n",
       "      <td>FL10</td>\n",
       "      <td>2022</td>\n",
       "      <td>5/15/2022</td>\n",
       "      <td>10048864</td>\n",
       "    </tr>\n",
       "    <tr>\n",
       "      <th>4</th>\n",
       "      <td>NaN</td>\n",
       "      <td>Adeimy</td>\n",
       "      <td>Deborah</td>\n",
       "      <td>NaN</td>\n",
       "      <td>X</td>\n",
       "      <td>FL21</td>\n",
       "      <td>2022</td>\n",
       "      <td>5/17/2022</td>\n",
       "      <td>30016710</td>\n",
       "    </tr>\n",
       "  </tbody>\n",
       "</table>\n",
       "</div>"
      ],
      "text/plain": [
       "  Prefix              Last                           First Suffix FilingType  \\\n",
       "0    Mr.           Hollier  Adam Jacques Chester Lafayette    NaN          C   \n",
       "1    NaN           Aadland                            Erik    NaN          C   \n",
       "2    NaN  Acevedo-Arreguin                    Luis Antonio    NaN          C   \n",
       "3    NaN         Achenbach                     Jack Joseph    NaN          C   \n",
       "4    NaN            Adeimy                         Deborah    NaN          X   \n",
       "\n",
       "  StateDst  Year FilingDate     DocID  \n",
       "0     MI13  2022  5/14/2022  10048102  \n",
       "1     CO07  2022  1/17/2022  10044401  \n",
       "2     CA18  2022  4/23/2022  10046717  \n",
       "3     FL10  2022  5/15/2022  10048864  \n",
       "4     FL21  2022  5/17/2022  30016710  "
      ]
     },
     "execution_count": 8,
     "metadata": {},
     "output_type": "execute_result"
    }
   ],
   "source": [
    "house_2022.head()"
   ]
  },
  {
   "cell_type": "code",
   "execution_count": 20,
   "id": "f5244c13-957e-4f70-8ab0-4b65b578630e",
   "metadata": {},
   "outputs": [
    {
     "data": {
      "text/plain": [
       "Last\n",
       "Lowenthal     48\n",
       "DelBene       11\n",
       "Blumenauer     9\n",
       "Schrader       8\n",
       "Burgess        8\n",
       "Green          8\n",
       "Rogers         7\n",
       "Sessions       6\n",
       "Beyer          6\n",
       "Foxx           6\n",
       "dtype: int64"
      ]
     },
     "execution_count": 20,
     "metadata": {},
     "output_type": "execute_result"
    }
   ],
   "source": [
    "house_2022[house_2022.duplicated(['Last', 'First'])].value_counts('Last')[:10]"
   ]
  },
  {
   "cell_type": "code",
   "execution_count": 22,
   "id": "26b280d8-f8c1-4340-b215-3a21c2807045",
   "metadata": {},
   "outputs": [
    {
     "data": {
      "text/html": [
       "<div>\n",
       "<style scoped>\n",
       "    .dataframe tbody tr th:only-of-type {\n",
       "        vertical-align: middle;\n",
       "    }\n",
       "\n",
       "    .dataframe tbody tr th {\n",
       "        vertical-align: top;\n",
       "    }\n",
       "\n",
       "    .dataframe thead th {\n",
       "        text-align: right;\n",
       "    }\n",
       "</style>\n",
       "<table border=\"1\" class=\"dataframe\">\n",
       "  <thead>\n",
       "    <tr style=\"text-align: right;\">\n",
       "      <th></th>\n",
       "      <th>Prefix</th>\n",
       "      <th>Last</th>\n",
       "      <th>First</th>\n",
       "      <th>Suffix</th>\n",
       "      <th>FilingType</th>\n",
       "      <th>StateDst</th>\n",
       "      <th>Year</th>\n",
       "      <th>FilingDate</th>\n",
       "      <th>DocID</th>\n",
       "    </tr>\n",
       "  </thead>\n",
       "  <tbody>\n",
       "    <tr>\n",
       "      <th>41</th>\n",
       "      <td>Hon.</td>\n",
       "      <td>Axne</td>\n",
       "      <td>Cindy</td>\n",
       "      <td>NaN</td>\n",
       "      <td>P</td>\n",
       "      <td>IA03</td>\n",
       "      <td>2022</td>\n",
       "      <td>2/8/2022</td>\n",
       "      <td>20020367</td>\n",
       "    </tr>\n",
       "    <tr>\n",
       "      <th>42</th>\n",
       "      <td>Hon.</td>\n",
       "      <td>Axne</td>\n",
       "      <td>Cindy</td>\n",
       "      <td>NaN</td>\n",
       "      <td>P</td>\n",
       "      <td>IA03</td>\n",
       "      <td>2022</td>\n",
       "      <td>3/7/2022</td>\n",
       "      <td>20020474</td>\n",
       "    </tr>\n",
       "    <tr>\n",
       "      <th>43</th>\n",
       "      <td>Hon.</td>\n",
       "      <td>Axne</td>\n",
       "      <td>Cindy</td>\n",
       "      <td>NaN</td>\n",
       "      <td>P</td>\n",
       "      <td>IA03</td>\n",
       "      <td>2022</td>\n",
       "      <td>6/3/2022</td>\n",
       "      <td>20021134</td>\n",
       "    </tr>\n",
       "    <tr>\n",
       "      <th>44</th>\n",
       "      <td>Hon.</td>\n",
       "      <td>Axne</td>\n",
       "      <td>Cindy</td>\n",
       "      <td>NaN</td>\n",
       "      <td>P</td>\n",
       "      <td>IA03</td>\n",
       "      <td>2022</td>\n",
       "      <td>7/2/2022</td>\n",
       "      <td>20021236</td>\n",
       "    </tr>\n",
       "  </tbody>\n",
       "</table>\n",
       "</div>"
      ],
      "text/plain": [
       "   Prefix  Last  First Suffix FilingType StateDst  Year FilingDate     DocID\n",
       "41   Hon.  Axne  Cindy    NaN          P     IA03  2022   2/8/2022  20020367\n",
       "42   Hon.  Axne  Cindy    NaN          P     IA03  2022   3/7/2022  20020474\n",
       "43   Hon.  Axne  Cindy    NaN          P     IA03  2022   6/3/2022  20021134\n",
       "44   Hon.  Axne  Cindy    NaN          P     IA03  2022   7/2/2022  20021236"
      ]
     },
     "execution_count": 22,
     "metadata": {},
     "output_type": "execute_result"
    }
   ],
   "source": [
    "house_2022[house_2022['Last'] == 'Axne']"
   ]
  },
  {
   "cell_type": "markdown",
   "id": "7a75de32-22fd-45fd-a477-d51022b3ca82",
   "metadata": {},
   "source": [
    "Based on research from the website, it appears P = Periodic Transaction Report. By searching the online database by last name, those reports are available. It doesn't appaear that the \"C\" reports are available."
   ]
  },
  {
   "cell_type": "code",
   "execution_count": 23,
   "id": "829bbb3b-80bd-4638-80e6-ddf972f9caef",
   "metadata": {},
   "outputs": [
    {
     "data": {
      "text/plain": [
       "FilingType\n",
       "C    668\n",
       "P    341\n",
       "X    175\n",
       "W     49\n",
       "D     39\n",
       "A     35\n",
       "B      3\n",
       "T      3\n",
       "G      1\n",
       "O      1\n",
       "dtype: int64"
      ]
     },
     "execution_count": 23,
     "metadata": {},
     "output_type": "execute_result"
    }
   ],
   "source": [
    "house_2022.value_counts('FilingType')"
   ]
  },
  {
   "cell_type": "code",
   "execution_count": 30,
   "id": "7b6d398e-57bc-451c-a226-0883a8532f86",
   "metadata": {},
   "outputs": [
    {
     "data": {
      "text/html": [
       "<div>\n",
       "<style scoped>\n",
       "    .dataframe tbody tr th:only-of-type {\n",
       "        vertical-align: middle;\n",
       "    }\n",
       "\n",
       "    .dataframe tbody tr th {\n",
       "        vertical-align: top;\n",
       "    }\n",
       "\n",
       "    .dataframe thead th {\n",
       "        text-align: right;\n",
       "    }\n",
       "</style>\n",
       "<table border=\"1\" class=\"dataframe\">\n",
       "  <thead>\n",
       "    <tr style=\"text-align: right;\">\n",
       "      <th></th>\n",
       "      <th>Prefix</th>\n",
       "      <th>Last</th>\n",
       "      <th>First</th>\n",
       "      <th>Suffix</th>\n",
       "      <th>FilingType</th>\n",
       "      <th>StateDst</th>\n",
       "      <th>Year</th>\n",
       "      <th>FilingDate</th>\n",
       "      <th>DocID</th>\n",
       "    </tr>\n",
       "  </thead>\n",
       "  <tbody>\n",
       "    <tr>\n",
       "      <th>47</th>\n",
       "      <td>NaN</td>\n",
       "      <td>Badhasso</td>\n",
       "      <td>Amane</td>\n",
       "      <td>NaN</td>\n",
       "      <td>O</td>\n",
       "      <td>MN04</td>\n",
       "      <td>2022</td>\n",
       "      <td>5/24/2022</td>\n",
       "      <td>8218784</td>\n",
       "    </tr>\n",
       "  </tbody>\n",
       "</table>\n",
       "</div>"
      ],
      "text/plain": [
       "   Prefix      Last  First Suffix FilingType StateDst  Year FilingDate  \\\n",
       "47    NaN  Badhasso  Amane    NaN          O     MN04  2022  5/24/2022   \n",
       "\n",
       "      DocID  \n",
       "47  8218784  "
      ]
     },
     "execution_count": 30,
     "metadata": {},
     "output_type": "execute_result"
    }
   ],
   "source": [
    "house_2022[house_2022['FilingType'] == 'O']"
   ]
  },
  {
   "cell_type": "markdown",
   "id": "f615c141-d6d1-4441-ad9b-e1e000ce7a76",
   "metadata": {},
   "source": [
    "Going through the different types, most aren't available through the online search portal. In addition to 'P': 'B' is available and appears to be the disclosure of a blind trust; 'T' is available and appears to be 'termination' report; and 'G' is available and is a 'gift waiver' (one member requested one in 2022 for a wedding/engagement);"
   ]
  },
  {
   "cell_type": "code",
   "execution_count": null,
   "id": "b314dc06-5a97-421e-9a57-12c09b5ba957",
   "metadata": {},
   "outputs": [],
   "source": []
  }
 ],
 "metadata": {
  "kernelspec": {
   "display_name": "Python [conda env:dsi]",
   "language": "python",
   "name": "conda-env-dsi-py"
  },
  "language_info": {
   "codemirror_mode": {
    "name": "ipython",
    "version": 3
   },
   "file_extension": ".py",
   "mimetype": "text/x-python",
   "name": "python",
   "nbconvert_exporter": "python",
   "pygments_lexer": "ipython3",
   "version": "3.9.12"
  }
 },
 "nbformat": 4,
 "nbformat_minor": 5
}
